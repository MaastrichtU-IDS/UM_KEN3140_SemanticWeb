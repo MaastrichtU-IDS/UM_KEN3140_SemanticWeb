{
 "cells": [
  {
   "cell_type": "markdown",
   "metadata": {
    "slideshow": {
     "slide_type": "slide"
    }
   },
   "source": [
    "# KEN 3140 Semantic Web: Lab 5 🧪\n",
    "### Writing and executing \"complex\" SPARQL queries on RDF graphs\n",
    "\n",
    "**Reference specifications: https://www.w3.org/TR/sparql11-query/**\n",
    "\n",
    "We will use the **DBpedia SPARQL endpoint**: \n",
    "\n",
    ">**https://dbpedia.org/sparql**\n",
    "\n",
    "And **SPARQL query editor YASGUI**:\n",
    "\n",
    "> **https://yasgui.triply.cc**"
   ]
  },
  {
   "cell_type": "markdown",
   "metadata": {
    "slideshow": {
     "slide_type": "subslide"
    }
   },
   "source": [
    "# Install the SPARQL kernel\n",
    "\n",
    "This notebook uses the SPARQL Kernel to define and **execute SPARQL queries in the notebook** codeblocks.\n",
    "To **install the SPARQL Kernel** in your JupyterLab installation:\n",
    "\n",
    "```shell\n",
    "pip install sparqlkernel --user\n",
    "jupyter sparqlkernel install --user\n",
    "```\n",
    "\n",
    "To start running SPARQL query in this notebook, we need to define the **SPARQL kernel parameters**:"
   ]
  },
  {
   "cell_type": "code",
   "execution_count": 1,
   "metadata": {
    "slideshow": {
     "slide_type": "fragment"
    }
   },
   "outputs": [
    {
     "data": {
      "text/html": [
       "<div class=\"krn-spql\"><div class=\"magic\">Endpoint set to: http://dbpedia.org/sparql</div><div class=\"magic\">Logging set to DEBUG</div></div>"
      ],
      "text/plain": [
       "Endpoint set to: http://dbpedia.org/sparql\n",
       "Logging set to DEBUG\n"
      ]
     },
     "metadata": {},
     "output_type": "display_data"
    }
   ],
   "source": [
    "# Define the SPARQL endpoint to query\n",
    "%endpoint http://dbpedia.org/sparql\n",
    "\n",
    "# This is optional, it would increase the log level\n",
    "%log debug\n",
    "\n",
    "# Uncomment the next line to return label in english and avoid duplicates\n",
    "# %lang en"
   ]
  },
  {
   "cell_type": "markdown",
   "metadata": {
    "slideshow": {
     "slide_type": "slide"
    }
   },
   "source": [
    "# Perform an arithmetic operation\n",
    "\n",
    "Calculate the GDP per capita of countries from `dbp:gdpNominal` and `dbo:populationTotal`\n",
    "\n",
    "Starting from this query:\n",
    "\n",
    "```sparql\n",
    "PREFIX dbo: <http://dbpedia.org/ontology/>\n",
    "PREFIX dbp: <http://dbpedia.org/property/>\n",
    "SELECT ?country ?gdpValue ?population\n",
    "WHERE {\n",
    "    ?country dbp:gdpNominal ?gdpValue ;\n",
    "             dbo:populationTotal ?population .\n",
    "} LIMIT 10\n",
    "```"
   ]
  },
  {
   "cell_type": "markdown",
   "metadata": {
    "slideshow": {
     "slide_type": "subslide"
    }
   },
   "source": [
    "**Impossible due to different datatypes** 🚫\n",
    "\n",
    "The GDP is in `http://dbpedia.org/datatype/usDollar`, and the population is a `xsd:nonNegativeInteger`:"
   ]
  },
  {
   "cell_type": "code",
   "execution_count": 2,
   "metadata": {
    "slideshow": {
     "slide_type": "fragment"
    }
   },
   "outputs": [
    {
     "data": {
      "text/html": [
       "<div class=\"krn-spql\"><table><tr class=hdr><th>country</th>\n",
       "<th>gdpValue</th>\n",
       "<th>gdpType</th>\n",
       "<th>population</th>\n",
       "<th>populationType</th>\n",
       "<th>gdpPerCapita</th></tr><tr class=odd><td class=val><a href=\"http://dbpedia.org/resource/Arab_League\" target=\"_other\">http://dbpedia.org/resource/Arab_League</a></td>\n",
       "<td class=val>3.526E12</td>\n",
       "<td class=val><a href=\"http://dbpedia.org/datatype/usDollar\" target=\"_other\">http://dbpedia.org/datatype/usDollar</a></td>\n",
       "<td class=val>423000000</td>\n",
       "<td class=val><a href=\"http://www.w3.org/2001/XMLSchema#nonNegativeInteger\" target=\"_other\">http://www.w3.org/2001/XMLSchema#nonNegativeInteger</a></td>\n",
       "<td class=val>0</td></tr><tr class=even><td class=val><a href=\"http://dbpedia.org/resource/Syria\" target=\"_other\">http://dbpedia.org/resource/Syria</a></td>\n",
       "<td class=val>5.9957E10</td>\n",
       "<td class=val><a href=\"http://dbpedia.org/datatype/usDollar\" target=\"_other\">http://dbpedia.org/datatype/usDollar</a></td>\n",
       "<td class=val>17064854</td>\n",
       "<td class=val><a href=\"http://www.w3.org/2001/XMLSchema#nonNegativeInteger\" target=\"_other\">http://www.w3.org/2001/XMLSchema#nonNegativeInteger</a></td>\n",
       "<td class=val>0</td></tr><tr class=odd><td class=val><a href=\"http://dbpedia.org/resource/Economic_Cooperation_Organization\" target=\"_other\">http://dbpedia.org/resource/Economic_Cooperation_Organization</a></td>\n",
       "<td class=val>US $1.9 trillion</td>\n",
       "<td class=val><a href=\"http://www.w3.org/1999/02/22-rdf-syntax-ns#langString\" target=\"_other\">http://www.w3.org/1999/02/22-rdf-syntax-ns#langString</a></td>\n",
       "<td class=val>416046863</td>\n",
       "<td class=val><a href=\"http://www.w3.org/2001/XMLSchema#nonNegativeInteger\" target=\"_other\">http://www.w3.org/2001/XMLSchema#nonNegativeInteger</a></td>\n",
       "<td class=val>0</td></tr><tr class=even><td class=val><a href=\"http://dbpedia.org/resource/Egypt\" target=\"_other\">http://dbpedia.org/resource/Egypt</a></td>\n",
       "<td class=val>3.30765E11</td>\n",
       "<td class=val><a href=\"http://dbpedia.org/datatype/usDollar\" target=\"_other\">http://dbpedia.org/datatype/usDollar</a></td>\n",
       "<td class=val>85783</td>\n",
       "<td class=val><a href=\"http://www.w3.org/2001/XMLSchema#nonNegativeInteger\" target=\"_other\">http://www.w3.org/2001/XMLSchema#nonNegativeInteger</a></td>\n",
       "<td class=val>0</td></tr><tr class=odd><td class=val><a href=\"http://dbpedia.org/resource/United_States\" target=\"_other\">http://dbpedia.org/resource/United_States</a></td>\n",
       "<td class=val>1.8558E13</td>\n",
       "<td class=val><a href=\"http://dbpedia.org/datatype/usDollar\" target=\"_other\">http://dbpedia.org/datatype/usDollar</a></td>\n",
       "<td class=val>324720797</td>\n",
       "<td class=val><a href=\"http://www.w3.org/2001/XMLSchema#nonNegativeInteger\" target=\"_other\">http://www.w3.org/2001/XMLSchema#nonNegativeInteger</a></td>\n",
       "<td class=val>0</td></tr><tr class=even><td class=val><a href=\"http://dbpedia.org/resource/Afghanistan\" target=\"_other\">http://dbpedia.org/resource/Afghanistan</a></td>\n",
       "<td class=val>1.9654E10</td>\n",
       "<td class=val><a href=\"http://dbpedia.org/datatype/usDollar\" target=\"_other\">http://dbpedia.org/datatype/usDollar</a></td>\n",
       "<td class=val>32564342</td>\n",
       "<td class=val><a href=\"http://www.w3.org/2001/XMLSchema#nonNegativeInteger\" target=\"_other\">http://www.w3.org/2001/XMLSchema#nonNegativeInteger</a></td>\n",
       "<td class=val>0</td></tr><tr class=odd><td class=val><a href=\"http://dbpedia.org/resource/Albania\" target=\"_other\">http://dbpedia.org/resource/Albania</a></td>\n",
       "<td class=val>1.2204E10</td>\n",
       "<td class=val><a href=\"http://dbpedia.org/datatype/usDollar\" target=\"_other\">http://dbpedia.org/datatype/usDollar</a></td>\n",
       "<td class=val>2886026</td>\n",
       "<td class=val><a href=\"http://www.w3.org/2001/XMLSchema#nonNegativeInteger\" target=\"_other\">http://www.w3.org/2001/XMLSchema#nonNegativeInteger</a></td>\n",
       "<td class=val>0</td></tr><tr class=even><td class=val><a href=\"http://dbpedia.org/resource/Algeria\" target=\"_other\">http://dbpedia.org/resource/Algeria</a></td>\n",
       "<td class=val>1.8171E11</td>\n",
       "<td class=val><a href=\"http://dbpedia.org/datatype/usDollar\" target=\"_other\">http://dbpedia.org/datatype/usDollar</a></td>\n",
       "<td class=val>40400000</td>\n",
       "<td class=val><a href=\"http://www.w3.org/2001/XMLSchema#nonNegativeInteger\" target=\"_other\">http://www.w3.org/2001/XMLSchema#nonNegativeInteger</a></td>\n",
       "<td class=val>0</td></tr><tr class=odd><td class=val><a href=\"http://dbpedia.org/resource/Andorra\" target=\"_other\">http://dbpedia.org/resource/Andorra</a></td>\n",
       "<td class=val>4.51E9</td>\n",
       "<td class=val><a href=\"http://dbpedia.org/datatype/usDollar\" target=\"_other\">http://dbpedia.org/datatype/usDollar</a></td>\n",
       "<td class=val>85470</td>\n",
       "<td class=val><a href=\"http://www.w3.org/2001/XMLSchema#nonNegativeInteger\" target=\"_other\">http://www.w3.org/2001/XMLSchema#nonNegativeInteger</a></td>\n",
       "<td class=val>0</td></tr><tr class=even><td class=val><a href=\"http://dbpedia.org/resource/Antigua_and_Barbuda\" target=\"_other\">http://dbpedia.org/resource/Antigua_and_Barbuda</a></td>\n",
       "<td class=val>1.332E9</td>\n",
       "<td class=val><a href=\"http://dbpedia.org/datatype/usDollar\" target=\"_other\">http://dbpedia.org/datatype/usDollar</a></td>\n",
       "<td class=val>91295</td>\n",
       "<td class=val><a href=\"http://www.w3.org/2001/XMLSchema#nonNegativeInteger\" target=\"_other\">http://www.w3.org/2001/XMLSchema#nonNegativeInteger</a></td>\n",
       "<td class=val>0</td></tr></table><div class=\"tinfo\">Total: 10, Shown: 10</div></div>"
      ]
     },
     "metadata": {},
     "output_type": "display_data"
    }
   ],
   "source": [
    "PREFIX xsd: <http://www.w3.org/2001/XMLSchema#>\n",
    "PREFIX dbo: <http://dbpedia.org/ontology/>\n",
    "PREFIX dbp: <http://dbpedia.org/property/>\n",
    "PREFIX rdf: <http://www.w3.org/1999/02/22-rdf-syntax-ns#>\n",
    "SELECT ?country ?gdpValue datatype(?gdpValue) AS ?gdpType ?population datatype(?population) AS ?populationType (?gdpValue / ?population AS ?gdpPerCapita)\n",
    "WHERE {\n",
    "    ?country dbp:gdpNominal ?gdpValue ;\n",
    "             dbo:populationTotal ?population .\n",
    "} LIMIT 10"
   ]
  },
  {
   "cell_type": "markdown",
   "metadata": {
    "slideshow": {
     "slide_type": "subslide"
    }
   },
   "source": [
    "# Cast a variable to a specific datatype\n",
    "\n",
    "Especially useful when **comparing or performing an arithmetical operations on 2 variables**. Use the `xsd:` prefix for standard datatypes\n",
    "\n",
    "Here we divide a value in `usDollar` by a `nonNegativeInteger` casting the 2 to `xsd:integer` to calculate the GDP per capita of each country 💶"
   ]
  },
  {
   "cell_type": "code",
   "execution_count": 3,
   "metadata": {
    "slideshow": {
     "slide_type": "fragment"
    }
   },
   "outputs": [
    {
     "data": {
      "text/html": [
       "<div class=\"krn-spql\"><table><tr class=hdr><th>country</th>\n",
       "<th>gdpValue</th>\n",
       "<th>population</th>\n",
       "<th>gdpPerCapita</th></tr><tr class=odd><td class=val><a href=\"http://dbpedia.org/resource/Arab_League\" target=\"_other\">http://dbpedia.org/resource/Arab_League</a></td>\n",
       "<td class=val>3.526E12</td>\n",
       "<td class=val>423000000</td>\n",
       "<td class=val>8335</td></tr><tr class=even><td class=val><a href=\"http://dbpedia.org/resource/Syria\" target=\"_other\">http://dbpedia.org/resource/Syria</a></td>\n",
       "<td class=val>5.9957E10</td>\n",
       "<td class=val>17064854</td>\n",
       "<td class=val>3513</td></tr><tr class=odd><td class=val><a href=\"http://dbpedia.org/resource/Economic_Cooperation_Organization\" target=\"_other\">http://dbpedia.org/resource/Economic_Cooperation_Organization</a></td>\n",
       "<td class=val>US $1.9 trillion</td>\n",
       "<td class=val>416046863</td>\n",
       "<td class=val></td></tr><tr class=even><td class=val><a href=\"http://dbpedia.org/resource/Egypt\" target=\"_other\">http://dbpedia.org/resource/Egypt</a></td>\n",
       "<td class=val>3.30765E11</td>\n",
       "<td class=val>85783</td>\n",
       "<td class=val>3855833</td></tr><tr class=odd><td class=val><a href=\"http://dbpedia.org/resource/United_States\" target=\"_other\">http://dbpedia.org/resource/United_States</a></td>\n",
       "<td class=val>1.8558E13</td>\n",
       "<td class=val>324720797</td>\n",
       "<td class=val>57150</td></tr><tr class=even><td class=val><a href=\"http://dbpedia.org/resource/Afghanistan\" target=\"_other\">http://dbpedia.org/resource/Afghanistan</a></td>\n",
       "<td class=val>1.9654E10</td>\n",
       "<td class=val>32564342</td>\n",
       "<td class=val>603</td></tr><tr class=odd><td class=val><a href=\"http://dbpedia.org/resource/Albania\" target=\"_other\">http://dbpedia.org/resource/Albania</a></td>\n",
       "<td class=val>1.2204E10</td>\n",
       "<td class=val>2886026</td>\n",
       "<td class=val>4228</td></tr><tr class=even><td class=val><a href=\"http://dbpedia.org/resource/Algeria\" target=\"_other\">http://dbpedia.org/resource/Algeria</a></td>\n",
       "<td class=val>1.8171E11</td>\n",
       "<td class=val>40400000</td>\n",
       "<td class=val>4497</td></tr><tr class=odd><td class=val><a href=\"http://dbpedia.org/resource/Andorra\" target=\"_other\">http://dbpedia.org/resource/Andorra</a></td>\n",
       "<td class=val>4.51E9</td>\n",
       "<td class=val>85470</td>\n",
       "<td class=val>52767</td></tr><tr class=even><td class=val><a href=\"http://dbpedia.org/resource/Antigua_and_Barbuda\" target=\"_other\">http://dbpedia.org/resource/Antigua_and_Barbuda</a></td>\n",
       "<td class=val>1.332E9</td>\n",
       "<td class=val>91295</td>\n",
       "<td class=val>14590</td></tr></table><div class=\"tinfo\">Total: 10, Shown: 10</div></div>"
      ]
     },
     "metadata": {},
     "output_type": "display_data"
    }
   ],
   "source": [
    "PREFIX xsd: <http://www.w3.org/2001/XMLSchema#>\n",
    "PREFIX dbo: <http://dbpedia.org/ontology/>\n",
    "PREFIX dbp: <http://dbpedia.org/property/>\n",
    "SELECT ?country ?gdpValue ?population (xsd:integer(?gdpValue) / xsd:integer(?population) AS ?gdpPerCapita)\n",
    "WHERE {\n",
    "    ?country dbp:gdpNominal ?gdpValue ;\n",
    "             dbo:populationTotal ?population .\n",
    "} LIMIT 10"
   ]
  },
  {
   "cell_type": "markdown",
   "metadata": {
    "slideshow": {
     "slide_type": "slide"
    }
   },
   "source": [
    "# Bind a new variable\n",
    "\n",
    "* Use the `concat()` function to add \"http://country.org/\" at the start of a country ISO code.\n",
    "* Use `BIND` to bind the produced string to a variable\n",
    "* Make this string an URI using the `uri()` function\n",
    "\n",
    "Start from this query:\n",
    "\n",
    "```sparql\n",
    "SELECT *\n",
    "WHERE {\n",
    "    ?country a dbo:Country ;\n",
    "        dbp:iso31661Alpha ?isoCode .\n",
    "}\n",
    "```"
   ]
  },
  {
   "cell_type": "code",
   "execution_count": 4,
   "metadata": {
    "slideshow": {
     "slide_type": "subslide"
    }
   },
   "outputs": [
    {
     "data": {
      "text/html": [
       "<div class=\"krn-spql\"><table><tr class=hdr><th>country</th>\n",
       "<th>isoCode</th>\n",
       "<th>isoUri</th></tr><tr class=odd><td class=val><a href=\"http://dbpedia.org/resource/Bosnia_and_Herzegovina\" target=\"_other\">http://dbpedia.org/resource/Bosnia_and_Herzegovina</a></td>\n",
       "<td class=val>BIH</td>\n",
       "<td class=val><a href=\"http://country.org/BIH\" target=\"_other\">http://country.org/BIH</a></td></tr><tr class=even><td class=val><a href=\"http://dbpedia.org/resource/Bosnia_and_Herzegovina\" target=\"_other\">http://dbpedia.org/resource/Bosnia_and_Herzegovina</a></td>\n",
       "<td class=val>BA</td>\n",
       "<td class=val><a href=\"http://country.org/BA\" target=\"_other\">http://country.org/BA</a></td></tr><tr class=odd><td class=val><a href=\"http://dbpedia.org/resource/Croatia\" target=\"_other\">http://dbpedia.org/resource/Croatia</a></td>\n",
       "<td class=val>HR</td>\n",
       "<td class=val><a href=\"http://country.org/HR\" target=\"_other\">http://country.org/HR</a></td></tr><tr class=even><td class=val><a href=\"http://dbpedia.org/resource/Croatia\" target=\"_other\">http://dbpedia.org/resource/Croatia</a></td>\n",
       "<td class=val>CRO</td>\n",
       "<td class=val><a href=\"http://country.org/CRO\" target=\"_other\">http://country.org/CRO</a></td></tr><tr class=odd><td class=val><a href=\"http://dbpedia.org/resource/Hungary\" target=\"_other\">http://dbpedia.org/resource/Hungary</a></td>\n",
       "<td class=val>HUN</td>\n",
       "<td class=val><a href=\"http://country.org/HUN\" target=\"_other\">http://country.org/HUN</a></td></tr><tr class=even><td class=val><a href=\"http://dbpedia.org/resource/Hungary\" target=\"_other\">http://dbpedia.org/resource/Hungary</a></td>\n",
       "<td class=val>HU</td>\n",
       "<td class=val><a href=\"http://country.org/HU\" target=\"_other\">http://country.org/HU</a></td></tr><tr class=odd><td class=val><a href=\"http://dbpedia.org/resource/Montenegro\" target=\"_other\">http://dbpedia.org/resource/Montenegro</a></td>\n",
       "<td class=val>ME</td>\n",
       "<td class=val><a href=\"http://country.org/ME\" target=\"_other\">http://country.org/ME</a></td></tr><tr class=even><td class=val><a href=\"http://dbpedia.org/resource/Montenegro\" target=\"_other\">http://dbpedia.org/resource/Montenegro</a></td>\n",
       "<td class=val>MNE</td>\n",
       "<td class=val><a href=\"http://country.org/MNE\" target=\"_other\">http://country.org/MNE</a></td></tr><tr class=odd><td class=val><a href=\"http://dbpedia.org/resource/Slovenia\" target=\"_other\">http://dbpedia.org/resource/Slovenia</a></td>\n",
       "<td class=val>SI</td>\n",
       "<td class=val><a href=\"http://country.org/SI\" target=\"_other\">http://country.org/SI</a></td></tr><tr class=even><td class=val><a href=\"http://dbpedia.org/resource/Slovenia\" target=\"_other\">http://dbpedia.org/resource/Slovenia</a></td>\n",
       "<td class=val>SVN</td>\n",
       "<td class=val><a href=\"http://country.org/SVN\" target=\"_other\">http://country.org/SVN</a></td></tr></table><div class=\"tinfo\">Total: 10, Shown: 10</div></div>"
      ]
     },
     "metadata": {},
     "output_type": "display_data"
    }
   ],
   "source": [
    "PREFIX dbo: <http://dbpedia.org/ontology/>\n",
    "PREFIX dbp: <http://dbpedia.org/property/>\n",
    "SELECT *\n",
    "WHERE {\n",
    "    ?country a dbo:Country ;\n",
    "        dbp:iso31661Alpha ?isoCode\n",
    "    BIND(uri(concat(\"http://country.org/\", ?isoCode)) AS ?isoUri)\n",
    "} LIMIT 10"
   ]
  },
  {
   "cell_type": "markdown",
   "metadata": {
    "slideshow": {
     "slide_type": "slide"
    }
   },
   "source": [
    "# Count aggregated results\n",
    "\n",
    "Count the number of books for each author 📚\n",
    "\n",
    "Start from this query:\n",
    "\n",
    "```sparql\n",
    "PREFIX dbo:<http://dbpedia.org/ontology/>\n",
    "SELECT ?author\n",
    "WHERE {\n",
    "    ?book a dbo:Book ;\n",
    "        dbo:author ?author .\n",
    "} LIMIT 10\n",
    "```"
   ]
  },
  {
   "cell_type": "code",
   "execution_count": 5,
   "metadata": {
    "slideshow": {
     "slide_type": "subslide"
    }
   },
   "outputs": [
    {
     "data": {
      "text/html": [
       "<div class=\"krn-spql\"><table><tr class=hdr><th>author</th>\n",
       "<th>book_count</th></tr><tr class=odd><td class=val><a href=\"http://dbpedia.org/resource/Robert_Nathan\" target=\"_other\">http://dbpedia.org/resource/Robert_Nathan</a></td>\n",
       "<td class=val>1</td></tr><tr class=even><td class=val><a href=\"http://dbpedia.org/resource/J._P._Martin\" target=\"_other\">http://dbpedia.org/resource/J._P._Martin</a></td>\n",
       "<td class=val>6</td></tr><tr class=odd><td class=val><a href=\"http://dbpedia.org/resource/Anthony_Everitt\" target=\"_other\">http://dbpedia.org/resource/Anthony_Everitt</a></td>\n",
       "<td class=val>1</td></tr><tr class=even><td class=val><a href=\"http://dbpedia.org/resource/Arthur_R.G._Solmssen\" target=\"_other\">http://dbpedia.org/resource/Arthur_R.G._Solmssen</a></td>\n",
       "<td class=val>1</td></tr><tr class=odd><td class=val><a href=\"http://dbpedia.org/resource/Christine_Dzidrums\" target=\"_other\">http://dbpedia.org/resource/Christine_Dzidrums</a></td>\n",
       "<td class=val>1</td></tr><tr class=even><td class=val><a href=\"http://dbpedia.org/resource/Markos_Kounalakis\" target=\"_other\">http://dbpedia.org/resource/Markos_Kounalakis</a></td>\n",
       "<td class=val>1</td></tr><tr class=odd><td class=val><a href=\"http://dbpedia.org/resource/James_Robert_Smith_(author)\" target=\"_other\">http://dbpedia.org/resource/James_Robert_Smith_(author)</a></td>\n",
       "<td class=val>2</td></tr><tr class=even><td class=val><a href=\"http://dbpedia.org/resource/Elizabeth_Stuart_Phelps_Ward\" target=\"_other\">http://dbpedia.org/resource/Elizabeth_Stuart_Phelps_Ward</a></td>\n",
       "<td class=val>2</td></tr><tr class=odd><td class=val><a href=\"http://dbpedia.org/resource/Samrat_Upadhyay\" target=\"_other\">http://dbpedia.org/resource/Samrat_Upadhyay</a></td>\n",
       "<td class=val>1</td></tr><tr class=even><td class=val><a href=\"http://dbpedia.org/resource/Pamela_Moore_(author)\" target=\"_other\">http://dbpedia.org/resource/Pamela_Moore_(author)</a></td>\n",
       "<td class=val>1</td></tr></table><div class=\"tinfo\">Total: 10, Shown: 10</div></div>"
      ]
     },
     "metadata": {},
     "output_type": "display_data"
    }
   ],
   "source": [
    "PREFIX dbo:<http://dbpedia.org/ontology/>\n",
    "SELECT ?author (count(?book) as ?book_count)\n",
    "WHERE {\n",
    "    ?book a dbo:Book ;\n",
    "        dbo:author ?author .\n",
    "} LIMIT 10"
   ]
  },
  {
   "cell_type": "markdown",
   "metadata": {
    "slideshow": {
     "slide_type": "subslide"
    }
   },
   "source": [
    "# Count depend on the aggregated results of a row\n",
    "\n",
    "Here we select also the book, hence getting a count of 1 book for each row 📘"
   ]
  },
  {
   "cell_type": "code",
   "execution_count": 6,
   "metadata": {
    "slideshow": {
     "slide_type": "fragment"
    }
   },
   "outputs": [
    {
     "data": {
      "text/html": [
       "<div class=\"krn-spql\"><table><tr class=hdr><th>book</th>\n",
       "<th>author</th>\n",
       "<th>book_count</th></tr><tr class=odd><td class=val><a href=\"http://dbpedia.org/resource/The_Aunt's_Story\" target=\"_other\">http://dbpedia.org/resource/The_Aunt's_Story</a></td>\n",
       "<td class=val><a href=\"http://dbpedia.org/resource/Patrick_White\" target=\"_other\">http://dbpedia.org/resource/Patrick_White</a></td>\n",
       "<td class=val>1</td></tr><tr class=even><td class=val><a href=\"http://dbpedia.org/resource/The_Circus_of_Dr._Lao_and_Other_Improbable_Stories\" target=\"_other\">http://dbpedia.org/resource/The_Circus_of_Dr._Lao_and_Other_Improbable_Stories</a></td>\n",
       "<td class=val><a href=\"http://dbpedia.org/resource/Ray_Bradbury\" target=\"_other\">http://dbpedia.org/resource/Ray_Bradbury</a></td>\n",
       "<td class=val>1</td></tr><tr class=odd><td class=val><a href=\"http://dbpedia.org/resource/The_Four_False_Weapons\" target=\"_other\">http://dbpedia.org/resource/The_Four_False_Weapons</a></td>\n",
       "<td class=val><a href=\"http://dbpedia.org/resource/John_Dickson_Carr\" target=\"_other\">http://dbpedia.org/resource/John_Dickson_Carr</a></td>\n",
       "<td class=val>1</td></tr><tr class=even><td class=val><a href=\"http://dbpedia.org/resource/The_Smack_Man\" target=\"_other\">http://dbpedia.org/resource/The_Smack_Man</a></td>\n",
       "<td class=val><a href=\"http://dbpedia.org/resource/Nelson_DeMille\" target=\"_other\">http://dbpedia.org/resource/Nelson_DeMille</a></td>\n",
       "<td class=val>1</td></tr><tr class=odd><td class=val><a href=\"http://dbpedia.org/resource/The_Surprising_Archaea\" target=\"_other\">http://dbpedia.org/resource/The_Surprising_Archaea</a></td>\n",
       "<td class=val><a href=\"http://dbpedia.org/resource/John_L._Howland\" target=\"_other\">http://dbpedia.org/resource/John_L._Howland</a></td>\n",
       "<td class=val>1</td></tr><tr class=even><td class=val><a href=\"http://dbpedia.org/resource/Trapped_in_the_USSR\" target=\"_other\">http://dbpedia.org/resource/Trapped_in_the_USSR</a></td>\n",
       "<td class=val><a href=\"http://dbpedia.org/resource/J._J._Fortune\" target=\"_other\">http://dbpedia.org/resource/J._J._Fortune</a></td>\n",
       "<td class=val>1</td></tr><tr class=odd><td class=val><a href=\"http://dbpedia.org/resource/A_Gent_from_Bear_Creek\" target=\"_other\">http://dbpedia.org/resource/A_Gent_from_Bear_Creek</a></td>\n",
       "<td class=val><a href=\"http://dbpedia.org/resource/Robert_E._Howard\" target=\"_other\">http://dbpedia.org/resource/Robert_E._Howard</a></td>\n",
       "<td class=val>1</td></tr><tr class=even><td class=val><a href=\"http://dbpedia.org/resource/A_Golden_Anniversary_Bibliography_of_Edgar_Rice_Burroughs\" target=\"_other\">http://dbpedia.org/resource/A_Golden_Anniversary_Bibliography_of_Edgar_Rice_Burroughs</a></td>\n",
       "<td class=val><a href=\"http://dbpedia.org/resource/Henry_Hardy_Heins\" target=\"_other\">http://dbpedia.org/resource/Henry_Hardy_Heins</a></td>\n",
       "<td class=val>1</td></tr><tr class=odd><td class=val><a href=\"http://dbpedia.org/resource/Act_of_Providence\" target=\"_other\">http://dbpedia.org/resource/Act_of_Providence</a></td>\n",
       "<td class=val><a href=\"http://dbpedia.org/resource/Joseph_Payne_Brennan\" target=\"_other\">http://dbpedia.org/resource/Joseph_Payne_Brennan</a></td>\n",
       "<td class=val>1</td></tr><tr class=even><td class=val><a href=\"http://dbpedia.org/resource/Atlas_of_the_British_Flora\" target=\"_other\">http://dbpedia.org/resource/Atlas_of_the_British_Flora</a></td>\n",
       "<td class=val><a href=\"http://dbpedia.org/resource/Franklyn_Perring\" target=\"_other\">http://dbpedia.org/resource/Franklyn_Perring</a></td>\n",
       "<td class=val>1</td></tr></table><div class=\"tinfo\">Total: 10, Shown: 10</div></div>"
      ]
     },
     "metadata": {},
     "output_type": "display_data"
    }
   ],
   "source": [
    "PREFIX dbo:<http://dbpedia.org/ontology/>\n",
    "SELECT ?book ?author (count(?book) as ?book_count)\n",
    "WHERE {\n",
    "    ?book a dbo:Book ;\n",
    "        dbo:author ?author .\n",
    "} LIMIT 10"
   ]
  },
  {
   "cell_type": "markdown",
   "metadata": {},
   "source": [
    "# Group by\n",
    "\n",
    "Group solutions by variable value.\n",
    "\n",
    "Get the average GDP for all countries grouped by the currency they use. Start from:\n",
    "\n",
    "```sparql\n",
    "PREFIX xsd: <http://www.w3.org/2001/XMLSchema#>\n",
    "PREFIX dbp: <http://dbpedia.org/property/>\n",
    "PREFIX dbo: <http://dbpedia.org/ontology/>\n",
    "SELECT ?currency\n",
    "WHERE {\n",
    "  ?country dbo:currency ?currency ;\n",
    "     dbp:gdpPppPerCapita ?gdp .\n",
    "}\n",
    "```"
   ]
  },
  {
   "cell_type": "markdown",
   "metadata": {
    "slideshow": {
     "slide_type": "subslide"
    }
   },
   "source": [
    "# Group by solution\n",
    "\n",
    "Use the `AVG()` function to calculate the average of the GDPs grouped by currency:"
   ]
  },
  {
   "cell_type": "code",
   "execution_count": 7,
   "metadata": {
    "slideshow": {
     "slide_type": "fragment"
    }
   },
   "outputs": [
    {
     "data": {
      "text/html": [
       "<div class=\"krn-spql\"><table><tr class=hdr><th>currency</th>\n",
       "<th>avgGdp</th></tr><tr class=odd><td class=val><a href=\"http://dbpedia.org/resource/Qatari_riyal\" target=\"_other\">http://dbpedia.org/resource/Qatari_riyal</a></td>\n",
       "<td class=val>145894</td></tr><tr class=even><td class=val><a href=\"http://dbpedia.org/resource/Macanese_pataca\" target=\"_other\">http://dbpedia.org/resource/Macanese_pataca</a></td>\n",
       "<td class=val>142599</td></tr><tr class=odd><td class=val><a href=\"http://dbpedia.org/resource/Bermudian_dollar\" target=\"_other\">http://dbpedia.org/resource/Bermudian_dollar</a></td>\n",
       "<td class=val>84381</td></tr><tr class=even><td class=val><a href=\"http://dbpedia.org/resource/Singapore_dollar\" target=\"_other\">http://dbpedia.org/resource/Singapore_dollar</a></td>\n",
       "<td class=val>82762</td></tr><tr class=odd><td class=val><a href=\"http://dbpedia.org/resource/Kuwaiti_dinar\" target=\"_other\">http://dbpedia.org/resource/Kuwaiti_dinar</a></td>\n",
       "<td class=val>71318</td></tr><tr class=even><td class=val><a href=\"http://dbpedia.org/resource/United_Arab_Emirates_dirham\" target=\"_other\">http://dbpedia.org/resource/United_Arab_Emirates_dirham</a></td>\n",
       "<td class=val>67616</td></tr><tr class=odd><td class=val><a href=\"http://dbpedia.org/resource/Swiss_franc\" target=\"_other\">http://dbpedia.org/resource/Swiss_franc</a></td>\n",
       "<td class=val>67470</td></tr><tr class=even><td class=val><a href=\"http://dbpedia.org/resource/Norwegian_krone\" target=\"_other\">http://dbpedia.org/resource/Norwegian_krone</a></td>\n",
       "<td class=val>57447</td></tr><tr class=odd><td class=val><a href=\"http://dbpedia.org/resource/Hong_Kong_dollar\" target=\"_other\">http://dbpedia.org/resource/Hong_Kong_dollar</a></td>\n",
       "<td class=val>56428</td></tr><tr class=even><td class=val><a href=\"http://dbpedia.org/resource/Falklands_pound\" target=\"_other\">http://dbpedia.org/resource/Falklands_pound</a></td>\n",
       "<td class=val>55400</td></tr><tr class=odd><td class=val><a href=\"http://dbpedia.org/resource/Brunei_dollar\" target=\"_other\">http://dbpedia.org/resource/Brunei_dollar</a></td>\n",
       "<td class=val>54537</td></tr><tr class=even><td class=val><a href=\"http://dbpedia.org/resource/Manx_pound\" target=\"_other\">http://dbpedia.org/resource/Manx_pound</a></td>\n",
       "<td class=val>53800</td></tr><tr class=odd><td class=val><a href=\"http://dbpedia.org/resource/Saudi_riyal\" target=\"_other\">http://dbpedia.org/resource/Saudi_riyal</a></td>\n",
       "<td class=val>53624</td></tr><tr class=even><td class=val><a href=\"http://dbpedia.org/resource/Pound_sterling\" target=\"_other\">http://dbpedia.org/resource/Pound_sterling</a></td>\n",
       "<td class=val>51403</td></tr><tr class=odd><td class=val><a href=\"http://dbpedia.org/resource/Gibraltar_pound\" target=\"_other\">http://dbpedia.org/resource/Gibraltar_pound</a></td>\n",
       "<td class=val>50941</td></tr></table><div class=\"tinfo\">Total: 15, Shown: 15</div></div>"
      ]
     },
     "metadata": {},
     "output_type": "display_data"
    }
   ],
   "source": [
    "PREFIX xsd: <http://www.w3.org/2001/XMLSchema#>\n",
    "PREFIX dbp: <http://dbpedia.org/property/>\n",
    "PREFIX dbo: <http://dbpedia.org/ontology/>\n",
    "SELECT ?currency (AVG(xsd:integer(?gdp)) AS ?avgGdp)\n",
    "WHERE {\n",
    "  ?country dbo:currency ?currency ;\n",
    "     dbp:gdpPppPerCapita ?gdp .\n",
    "}\n",
    "GROUP BY ?currency \n",
    "ORDER BY DESC(?avgGdp)\n",
    "LIMIT 15"
   ]
  },
  {
   "cell_type": "markdown",
   "metadata": {
    "slideshow": {
     "slide_type": "slide"
    }
   },
   "source": [
    "# Make a pattern optional\n",
    "\n",
    "We can define optional patterns that will be retrieved when available.\n",
    "\n",
    "Put a statement in a `OPTIONAL { }` block to make it optional (it will not used to filter the statements returned)\n",
    "\n",
    "With this query we get all the books, and their authors. **Change it to define the author property as optional**, so we retrieve books even if no author is defined.\n",
    "\n",
    "```sparql\n",
    "PREFIX dbo: <http://dbpedia.org/ontology/>\n",
    "SELECT *\n",
    "WHERE {\n",
    "    ?book a dbo:Book ;\n",
    "        dbo:author ?author .\n",
    "}\n",
    "```"
   ]
  },
  {
   "cell_type": "code",
   "execution_count": 10,
   "metadata": {
    "slideshow": {
     "slide_type": "subslide"
    }
   },
   "outputs": [
    {
     "data": {
      "text/html": [
       "<div class=\"krn-spql\"><table><tr class=hdr><th>book</th>\n",
       "<th>author</th></tr><tr class=odd><td class=val><a href=\"http://dbpedia.org/resource/Havana_Storm\" target=\"_other\">http://dbpedia.org/resource/Havana_Storm</a></td>\n",
       "<td class=val>Havana Storm</td></tr><tr class=even><td class=val><a href=\"http://dbpedia.org/resource/Havana_Storm\" target=\"_other\">http://dbpedia.org/resource/Havana_Storm</a></td>\n",
       "<td class=val>Havana Storm</td></tr><tr class=odd><td class=val><a href=\"http://dbpedia.org/resource/The_Awful_German_Language\" target=\"_other\">http://dbpedia.org/resource/The_Awful_German_Language</a></td>\n",
       "<td class=val>The Awful German Language</td></tr><tr class=even><td class=val><a href=\"http://dbpedia.org/resource/The_Awful_German_Language\" target=\"_other\">http://dbpedia.org/resource/The_Awful_German_Language</a></td>\n",
       "<td class=val>The Awful German Language</td></tr><tr class=odd><td class=val><a href=\"http://dbpedia.org/resource/Urmonotheismus\" target=\"_other\">http://dbpedia.org/resource/Urmonotheismus</a></td>\n",
       "<td class=val>Urmonotheismus</td></tr><tr class=even><td class=val><a href=\"http://dbpedia.org/resource/Urmonotheismus\" target=\"_other\">http://dbpedia.org/resource/Urmonotheismus</a></td>\n",
       "<td class=val>Urmonotheismus</td></tr><tr class=odd><td class=val><a href=\"http://dbpedia.org/resource/Urmonotheismus\" target=\"_other\">http://dbpedia.org/resource/Urmonotheismus</a></td>\n",
       "<td class=val>原始一神教説</td></tr><tr class=even><td class=val><a href=\"http://dbpedia.org/resource/Urmonotheismus\" target=\"_other\">http://dbpedia.org/resource/Urmonotheismus</a></td>\n",
       "<td class=val>Pramonoteizm</td></tr><tr class=odd><td class=val><a href=\"http://dbpedia.org/resource/Urmonotheismus\" target=\"_other\">http://dbpedia.org/resource/Urmonotheismus</a></td>\n",
       "<td class=val>Прамонотеизм</td></tr><tr class=even><td class=val><a href=\"http://dbpedia.org/resource/1066_and_All_That\" target=\"_other\">http://dbpedia.org/resource/1066_and_All_That</a></td>\n",
       "<td class=val>1066 and All That</td></tr><tr class=odd><td class=val><a href=\"http://dbpedia.org/resource/1066_and_All_That\" target=\"_other\">http://dbpedia.org/resource/1066_and_All_That</a></td>\n",
       "<td class=val>1066 and All That</td></tr><tr class=even><td class=val><a href=\"http://dbpedia.org/resource/1066_and_All_That\" target=\"_other\">http://dbpedia.org/resource/1066_and_All_That</a></td>\n",
       "<td class=val>1066 and All That</td></tr><tr class=odd><td class=val><a href=\"http://dbpedia.org/resource/2010:_Odyssey_Two\" target=\"_other\">http://dbpedia.org/resource/2010:_Odyssey_Two</a></td>\n",
       "<td class=val>2010: Odyssey Two</td></tr><tr class=even><td class=val><a href=\"http://dbpedia.org/resource/2010:_Odyssey_Two\" target=\"_other\">http://dbpedia.org/resource/2010:_Odyssey_Two</a></td>\n",
       "<td class=val>Odyssee 2010 – Das Jahr, in dem wir Kontakt aufnehmen</td></tr><tr class=odd><td class=val><a href=\"http://dbpedia.org/resource/2010:_Odyssey_Two\" target=\"_other\">http://dbpedia.org/resource/2010:_Odyssey_Two</a></td>\n",
       "<td class=val>2010: Odisea dos</td></tr><tr class=even><td class=val><a href=\"http://dbpedia.org/resource/2010:_Odyssey_Two\" target=\"_other\">http://dbpedia.org/resource/2010:_Odyssey_Two</a></td>\n",
       "<td class=val>2010 : Odyssée deux</td></tr><tr class=odd><td class=val><a href=\"http://dbpedia.org/resource/2010:_Odyssey_Two\" target=\"_other\">http://dbpedia.org/resource/2010:_Odyssey_Two</a></td>\n",
       "<td class=val>2010: Odissea due</td></tr><tr class=even><td class=val><a href=\"http://dbpedia.org/resource/2010:_Odyssey_Two\" target=\"_other\">http://dbpedia.org/resource/2010:_Odyssey_Two</a></td>\n",
       "<td class=val>2010年宇宙の旅</td></tr><tr class=odd><td class=val><a href=\"http://dbpedia.org/resource/2010:_Odyssey_Two\" target=\"_other\">http://dbpedia.org/resource/2010:_Odyssey_Two</a></td>\n",
       "<td class=val>2010: Odyssey Two</td></tr><tr class=even><td class=val><a href=\"http://dbpedia.org/resource/2010:_Odyssey_Two\" target=\"_other\">http://dbpedia.org/resource/2010:_Odyssey_Two</a></td>\n",
       "<td class=val>2010: Odyseja kosmiczna (powieść)</td></tr></table><div class=\"tinfo\">Total: 10000, Shown: 20</div></div>"
      ]
     },
     "metadata": {},
     "output_type": "display_data"
    }
   ],
   "source": [
    "PREFIX dbo: <http://dbpedia.org/ontology/>\n",
    "SELECT *\n",
    "WHERE {\n",
    "    ?book a dbo:Book .\n",
    "    OPTIONAL {\n",
    "        ?book rdfs:label ?author .\n",
    "    }\n",
    "}"
   ]
  },
  {
   "cell_type": "markdown",
   "metadata": {
    "slideshow": {
     "slide_type": "slide"
    }
   },
   "source": [
    "# Get the graph\n",
    "\n",
    "Most triplestores supports graphs todays which enable to add a 4th object to the triple (usually to classify it in a larger graph of triples).\n",
    "\n",
    "```turtle\n",
    "<http://subject> <http://predicate> <http://object> <http://graph> .\n",
    "```\n",
    "\n",
    "Also known as: context"
   ]
  },
  {
   "cell_type": "code",
   "execution_count": 11,
   "metadata": {
    "slideshow": {
     "slide_type": "fragment"
    }
   },
   "outputs": [
    {
     "data": {
      "text/html": [
       "<div class=\"krn-spql\"><table><tr class=hdr><th>author</th>\n",
       "<th>graph</th></tr><tr class=odd><td class=val><a href=\"http://dbpedia.org/resource/R._J._Yeatman\" target=\"_other\">http://dbpedia.org/resource/R._J._Yeatman</a></td>\n",
       "<td class=val><a href=\"http://dbpedia.org\" target=\"_other\">http://dbpedia.org</a></td></tr><tr class=even><td class=val><a href=\"http://dbpedia.org/resource/W._C._Sellar\" target=\"_other\">http://dbpedia.org/resource/W._C._Sellar</a></td>\n",
       "<td class=val><a href=\"http://dbpedia.org\" target=\"_other\">http://dbpedia.org</a></td></tr><tr class=odd><td class=val><a href=\"http://dbpedia.org/resource/Arthur_C._Clarke\" target=\"_other\">http://dbpedia.org/resource/Arthur_C._Clarke</a></td>\n",
       "<td class=val><a href=\"http://dbpedia.org\" target=\"_other\">http://dbpedia.org</a></td></tr><tr class=even><td class=val><a href=\"http://dbpedia.org/resource/Robert_Jordan\" target=\"_other\">http://dbpedia.org/resource/Robert_Jordan</a></td>\n",
       "<td class=val><a href=\"http://dbpedia.org\" target=\"_other\">http://dbpedia.org</a></td></tr><tr class=odd><td class=val><a href=\"http://dbpedia.org/resource/Samuel_Johnson\" target=\"_other\">http://dbpedia.org/resource/Samuel_Johnson</a></td>\n",
       "<td class=val><a href=\"http://dbpedia.org\" target=\"_other\">http://dbpedia.org</a></td></tr><tr class=even><td class=val><a href=\"http://dbpedia.org/resource/Lewis_Carroll\" target=\"_other\">http://dbpedia.org/resource/Lewis_Carroll</a></td>\n",
       "<td class=val><a href=\"http://dbpedia.org\" target=\"_other\">http://dbpedia.org</a></td></tr><tr class=odd><td class=val><a href=\"http://dbpedia.org/resource/Lucy_Maud_Montgomery\" target=\"_other\">http://dbpedia.org/resource/Lucy_Maud_Montgomery</a></td>\n",
       "<td class=val><a href=\"http://dbpedia.org\" target=\"_other\">http://dbpedia.org</a></td></tr><tr class=even><td class=val><a href=\"http://dbpedia.org/resource/Jules_Verne\" target=\"_other\">http://dbpedia.org/resource/Jules_Verne</a></td>\n",
       "<td class=val><a href=\"http://dbpedia.org\" target=\"_other\">http://dbpedia.org</a></td></tr><tr class=odd><td class=val><a href=\"http://dbpedia.org/resource/Robert_A._Heinlein\" target=\"_other\">http://dbpedia.org/resource/Robert_A._Heinlein</a></td>\n",
       "<td class=val><a href=\"http://dbpedia.org\" target=\"_other\">http://dbpedia.org</a></td></tr><tr class=even><td class=val><a href=\"http://dbpedia.org/resource/Robert_A._Heinlein\" target=\"_other\">http://dbpedia.org/resource/Robert_A._Heinlein</a></td>\n",
       "<td class=val><a href=\"http://dbpedia.org\" target=\"_other\">http://dbpedia.org</a></td></tr></table><div class=\"tinfo\">Total: 10, Shown: 10</div></div>"
      ]
     },
     "metadata": {},
     "output_type": "display_data"
    }
   ],
   "source": [
    "PREFIX dbo:<http://dbpedia.org/ontology/>\n",
    "SELECT ?author ?graph\n",
    "WHERE {\n",
    "    GRAPH ?graph {\n",
    "        ?book a dbo:Book ;\n",
    "            dbo:author ?author .\n",
    "    }\n",
    "} LIMIT 10"
   ]
  },
  {
   "cell_type": "markdown",
   "metadata": {
    "slideshow": {
     "slide_type": "subslide"
    }
   },
   "source": [
    "We can also query the triples `FROM` a specific graph:"
   ]
  },
  {
   "cell_type": "code",
   "execution_count": 12,
   "metadata": {
    "slideshow": {
     "slide_type": "fragment"
    }
   },
   "outputs": [
    {
     "data": {
      "text/html": [
       "<div class=\"krn-spql\"><table><tr class=hdr><th>author</th>\n",
       "<th>graph</th></tr><tr class=odd><td class=val><a href=\"http://dbpedia.org/resource/R._J._Yeatman\" target=\"_other\">http://dbpedia.org/resource/R._J._Yeatman</a></td>\n",
       "<td class=val><a href=\"http://dbpedia.org\" target=\"_other\">http://dbpedia.org</a></td></tr><tr class=even><td class=val><a href=\"http://dbpedia.org/resource/W._C._Sellar\" target=\"_other\">http://dbpedia.org/resource/W._C._Sellar</a></td>\n",
       "<td class=val><a href=\"http://dbpedia.org\" target=\"_other\">http://dbpedia.org</a></td></tr><tr class=odd><td class=val><a href=\"http://dbpedia.org/resource/Arthur_C._Clarke\" target=\"_other\">http://dbpedia.org/resource/Arthur_C._Clarke</a></td>\n",
       "<td class=val><a href=\"http://dbpedia.org\" target=\"_other\">http://dbpedia.org</a></td></tr><tr class=even><td class=val><a href=\"http://dbpedia.org/resource/Robert_Jordan\" target=\"_other\">http://dbpedia.org/resource/Robert_Jordan</a></td>\n",
       "<td class=val><a href=\"http://dbpedia.org\" target=\"_other\">http://dbpedia.org</a></td></tr><tr class=odd><td class=val><a href=\"http://dbpedia.org/resource/Samuel_Johnson\" target=\"_other\">http://dbpedia.org/resource/Samuel_Johnson</a></td>\n",
       "<td class=val><a href=\"http://dbpedia.org\" target=\"_other\">http://dbpedia.org</a></td></tr><tr class=even><td class=val><a href=\"http://dbpedia.org/resource/Lewis_Carroll\" target=\"_other\">http://dbpedia.org/resource/Lewis_Carroll</a></td>\n",
       "<td class=val><a href=\"http://dbpedia.org\" target=\"_other\">http://dbpedia.org</a></td></tr><tr class=odd><td class=val><a href=\"http://dbpedia.org/resource/Lucy_Maud_Montgomery\" target=\"_other\">http://dbpedia.org/resource/Lucy_Maud_Montgomery</a></td>\n",
       "<td class=val><a href=\"http://dbpedia.org\" target=\"_other\">http://dbpedia.org</a></td></tr><tr class=even><td class=val><a href=\"http://dbpedia.org/resource/Jules_Verne\" target=\"_other\">http://dbpedia.org/resource/Jules_Verne</a></td>\n",
       "<td class=val><a href=\"http://dbpedia.org\" target=\"_other\">http://dbpedia.org</a></td></tr><tr class=odd><td class=val><a href=\"http://dbpedia.org/resource/Robert_A._Heinlein\" target=\"_other\">http://dbpedia.org/resource/Robert_A._Heinlein</a></td>\n",
       "<td class=val><a href=\"http://dbpedia.org\" target=\"_other\">http://dbpedia.org</a></td></tr><tr class=even><td class=val><a href=\"http://dbpedia.org/resource/Robert_A._Heinlein\" target=\"_other\">http://dbpedia.org/resource/Robert_A._Heinlein</a></td>\n",
       "<td class=val><a href=\"http://dbpedia.org\" target=\"_other\">http://dbpedia.org</a></td></tr></table><div class=\"tinfo\">Total: 10, Shown: 10</div></div>"
      ]
     },
     "metadata": {},
     "output_type": "display_data"
    }
   ],
   "source": [
    "PREFIX dbo:<http://dbpedia.org/ontology/>\n",
    "SELECT ?author ?graph\n",
    "FROM <http://dbpedia.org>\n",
    "WHERE {\n",
    "    GRAPH ?graph {\n",
    "        ?book a dbo:Book ;\n",
    "            dbo:author ?author .\n",
    "    }\n",
    "} LIMIT 10"
   ]
  },
  {
   "cell_type": "markdown",
   "metadata": {
    "slideshow": {
     "slide_type": "subslide"
    }
   },
   "source": [
    "# Or get all graphs\n",
    "\n",
    "This query takes time in big datasets, but is usually cached in Virtuoso triplestores."
   ]
  },
  {
   "cell_type": "code",
   "execution_count": 13,
   "metadata": {
    "slideshow": {
     "slide_type": "fragment"
    }
   },
   "outputs": [
    {
     "data": {
      "text/html": [
       "<div class=\"krn-spql\"><table><tr class=hdr><th>g</th></tr><tr class=odd><td class=val><a href=\"http://www.openlinksw.com/schemas/virtrdf#\" target=\"_other\">http://www.openlinksw.com/schemas/virtrdf#</a></td></tr><tr class=even><td class=val><a href=\"http://www.openlinksw.com/schemas/virtrdf#\" target=\"_other\">http://www.openlinksw.com/schemas/virtrdf#</a></td></tr><tr class=odd><td class=val><a href=\"http://www.openlinksw.com/schemas/virtrdf#\" target=\"_other\">http://www.openlinksw.com/schemas/virtrdf#</a></td></tr><tr class=even><td class=val><a href=\"http://www.openlinksw.com/schemas/virtrdf#\" target=\"_other\">http://www.openlinksw.com/schemas/virtrdf#</a></td></tr><tr class=odd><td class=val><a href=\"http://www.openlinksw.com/schemas/virtrdf#\" target=\"_other\">http://www.openlinksw.com/schemas/virtrdf#</a></td></tr><tr class=even><td class=val><a href=\"http://www.openlinksw.com/schemas/virtrdf#\" target=\"_other\">http://www.openlinksw.com/schemas/virtrdf#</a></td></tr><tr class=odd><td class=val><a href=\"http://www.openlinksw.com/schemas/virtrdf#\" target=\"_other\">http://www.openlinksw.com/schemas/virtrdf#</a></td></tr><tr class=even><td class=val><a href=\"http://www.openlinksw.com/schemas/virtrdf#\" target=\"_other\">http://www.openlinksw.com/schemas/virtrdf#</a></td></tr><tr class=odd><td class=val><a href=\"http://www.openlinksw.com/schemas/virtrdf#\" target=\"_other\">http://www.openlinksw.com/schemas/virtrdf#</a></td></tr><tr class=even><td class=val><a href=\"http://www.openlinksw.com/schemas/virtrdf#\" target=\"_other\">http://www.openlinksw.com/schemas/virtrdf#</a></td></tr><tr class=odd><td class=val><a href=\"http://www.openlinksw.com/schemas/virtrdf#\" target=\"_other\">http://www.openlinksw.com/schemas/virtrdf#</a></td></tr><tr class=even><td class=val><a href=\"http://www.openlinksw.com/schemas/virtrdf#\" target=\"_other\">http://www.openlinksw.com/schemas/virtrdf#</a></td></tr><tr class=odd><td class=val><a href=\"http://www.openlinksw.com/schemas/virtrdf#\" target=\"_other\">http://www.openlinksw.com/schemas/virtrdf#</a></td></tr><tr class=even><td class=val><a href=\"http://www.openlinksw.com/schemas/virtrdf#\" target=\"_other\">http://www.openlinksw.com/schemas/virtrdf#</a></td></tr><tr class=odd><td class=val><a href=\"http://www.openlinksw.com/schemas/virtrdf#\" target=\"_other\">http://www.openlinksw.com/schemas/virtrdf#</a></td></tr><tr class=even><td class=val><a href=\"http://www.openlinksw.com/schemas/virtrdf#\" target=\"_other\">http://www.openlinksw.com/schemas/virtrdf#</a></td></tr><tr class=odd><td class=val><a href=\"http://www.openlinksw.com/schemas/virtrdf#\" target=\"_other\">http://www.openlinksw.com/schemas/virtrdf#</a></td></tr><tr class=even><td class=val><a href=\"http://www.openlinksw.com/schemas/virtrdf#\" target=\"_other\">http://www.openlinksw.com/schemas/virtrdf#</a></td></tr><tr class=odd><td class=val><a href=\"http://www.openlinksw.com/schemas/virtrdf#\" target=\"_other\">http://www.openlinksw.com/schemas/virtrdf#</a></td></tr><tr class=even><td class=val><a href=\"http://www.openlinksw.com/schemas/virtrdf#\" target=\"_other\">http://www.openlinksw.com/schemas/virtrdf#</a></td></tr></table><div class=\"tinfo\">Total: 10000, Shown: 20</div></div>"
      ]
     },
     "metadata": {},
     "output_type": "display_data"
    }
   ],
   "source": [
    "SELECT ?g\n",
    "WHERE {\n",
    "    GRAPH ?g {\n",
    "        ?s ?p ?o .\n",
    "    }\n",
    "}"
   ]
  },
  {
   "cell_type": "markdown",
   "metadata": {
    "slideshow": {
     "slide_type": "slide"
    }
   },
   "source": [
    "# Subqueries\n",
    "\n",
    "A query inside a query 🤯\n",
    "\n",
    "Resolve: order the first 10 countries to have been dissolved by date of creation.\n",
    "* Select all countries that have been dissolved\n",
    "* Order them by dissolution date (oldest to newest)\n",
    "* Limit to 10\n",
    "* Finally, order the results (countries) from the most recently created to the oldest created\n"
   ]
  },
  {
   "cell_type": "markdown",
   "metadata": {
    "slideshow": {
     "slide_type": "subslide"
    }
   },
   "source": [
    "* Order countries by dissolution date and keep the 10 first\n",
    "* Order them from the most recently created to the oldest created"
   ]
  },
  {
   "cell_type": "code",
   "execution_count": 14,
   "metadata": {
    "slideshow": {
     "slide_type": "fragment"
    }
   },
   "outputs": [
    {
     "data": {
      "text/html": [
       "<div class=\"krn-spql\"><table><tr class=hdr><th>country</th>\n",
       "<th>dissolutionDate</th>\n",
       "<th>foundingYear</th></tr><tr class=odd><td class=val><a href=\"http://dbpedia.org/resource/Northern_Yan\" target=\"_other\">http://dbpedia.org/resource/Northern_Yan</a></td>\n",
       "<td class=val>0436-06-04</td>\n",
       "<td class=val>0407</td></tr><tr class=even><td class=val><a href=\"http://dbpedia.org/resource/Huan_Xuan\" target=\"_other\">http://dbpedia.org/resource/Huan_Xuan</a></td>\n",
       "<td class=val>0404-06-25</td>\n",
       "<td class=val>0403</td></tr><tr class=odd><td class=val><a href=\"http://dbpedia.org/resource/Later_Yan\" target=\"_other\">http://dbpedia.org/resource/Later_Yan</a></td>\n",
       "<td class=val>0409-11-06</td>\n",
       "<td class=val>0384</td></tr><tr class=even><td class=val><a href=\"http://dbpedia.org/resource/Later_Qin\" target=\"_other\">http://dbpedia.org/resource/Later_Qin</a></td>\n",
       "<td class=val>0417-09-20</td>\n",
       "<td class=val>0384</td></tr><tr class=odd><td class=val><a href=\"http://dbpedia.org/resource/Ran_Min__魏__1\" target=\"_other\">http://dbpedia.org/resource/Ran_Min__魏__1</a></td>\n",
       "<td class=val>0352-09-08</td>\n",
       "<td class=val>0350</td></tr><tr class=even><td class=val><a href=\"http://dbpedia.org/resource/Former_Liang\" target=\"_other\">http://dbpedia.org/resource/Former_Liang</a></td>\n",
       "<td class=val>0376-09-26</td>\n",
       "<td class=val>0320</td></tr><tr class=odd><td class=val><a href=\"http://dbpedia.org/resource/Western_Roman_Empire\" target=\"_other\">http://dbpedia.org/resource/Western_Roman_Empire</a></td>\n",
       "<td class=val>0476-09-04</td>\n",
       "<td class=val>0285</td></tr><tr class=even><td class=val><a href=\"http://dbpedia.org/resource/Eastern_Wu\" target=\"_other\">http://dbpedia.org/resource/Eastern_Wu</a></td>\n",
       "<td class=val>0280-05-31</td>\n",
       "<td class=val>0222</td></tr><tr class=odd><td class=val><a href=\"http://dbpedia.org/resource/Cao_Wei\" target=\"_other\">http://dbpedia.org/resource/Cao_Wei</a></td>\n",
       "<td class=val>0265-02-04</td>\n",
       "<td class=val>0220</td></tr><tr class=even><td class=val><a href=\"http://dbpedia.org/resource/Xin_dynasty\" target=\"_other\">http://dbpedia.org/resource/Xin_dynasty</a></td>\n",
       "<td class=val>0023-10-05</td>\n",
       "<td class=val>0009</td></tr></table><div class=\"tinfo\">Total: 10, Shown: 10</div></div>"
      ]
     },
     "metadata": {},
     "output_type": "display_data"
    }
   ],
   "source": [
    "SELECT *\n",
    "WHERE {\n",
    "  {\n",
    "    SELECT ?country ?dissolutionDate\n",
    "    WHERE {\n",
    "      ?country a dbo:Country ;\n",
    "            dbo:dissolutionDate ?dissolutionDate .\n",
    "    } order by ?dissolutionDate limit 10\n",
    "  }\n",
    "  ?country dbo:foundingYear ?foundingYear .\n",
    "} order by desc(?foundingYear)"
   ]
  },
  {
   "cell_type": "markdown",
   "metadata": {
    "slideshow": {
     "slide_type": "slide"
    }
   },
   "source": [
    "# Federated query\n",
    "\n",
    "Same as a subquery, a federated query enable to query another SPARQL endpoint directly\n",
    "\n",
    "Change the YASGUI SPARQL endpoint to **https://bio2rdf.org/sparql** (dbpedia blocks federated queries)"
   ]
  },
  {
   "cell_type": "code",
   "execution_count": 16,
   "metadata": {
    "slideshow": {
     "slide_type": "fragment"
    }
   },
   "outputs": [
    {
     "data": {
      "text/html": [
       "<div class=\"krn-spql\"><div class=\"krn-error\"><span class=\"title\">Error:</span> SPARQL error: EndPointInternalError: endpoint returned code 500 and response. <br/><br/>Response:<br/>b'Virtuoso 42000 Error SQ070:SECURITY: Must have select privileges on view DB.DBA.SPARQL_SINV_2\\n\\nSPARQL query:\\nPREFIX wdt: &lt;http://www.wikidata.org/prop/direct/&gt;\\nSELECT * WHERE {\\n  SERVICE &lt;https://query.wikidata.org/sparql&gt; {\\n      ?geneUri wdt:P688 ?encodedProtein .\\n      ?encodedProtein wdt:P352 ?uniprotId .\\n  } \\n} LIMIT 3\\n'</div></div>"
      ],
      "text/plain": [
       "Error: SPARQL error: EndPointInternalError: endpoint returned code 500 and response. \n",
       "\n",
       "Response:\n",
       "b'Virtuoso 42000 Error SQ070:SECURITY: Must have select privileges on view DB.DBA.SPARQL_SINV_2\\n\\nSPARQL query:\\nPREFIX wdt: <http://www.wikidata.org/prop/direct/>\\nSELECT * WHERE {\\n  SERVICE <https://query.wikidata.org/sparql> {\\n      ?geneUri wdt:P688 ?encodedProtein .\\n      ?encodedProtein wdt:P352 ?uniprotId .\\n  } \\n} LIMIT 3\\n'"
      ]
     },
     "metadata": {},
     "output_type": "display_data"
    }
   ],
   "source": [
    "PREFIX wdt: <http://www.wikidata.org/prop/direct/>\n",
    "SELECT * WHERE {\n",
    "  SERVICE <https://query.wikidata.org/sparql> {\n",
    "      ?geneUri wdt:P688 ?encodedProtein .\n",
    "      ?encodedProtein wdt:P352 ?uniprotId .\n",
    "  } \n",
    "} LIMIT 3\n"
   ]
  },
  {
   "cell_type": "markdown",
   "metadata": {
    "slideshow": {
     "slide_type": "slide"
    }
   },
   "source": [
    "# Construct 🧱\n",
    "\n",
    "On https://query.wikidata.org/  \n",
    "Return a graph specified by a template (build triples)\n",
    "\n",
    "Generate `rdfs:label` statements for 10 genes and the proteins they encode from Wikidata"
   ]
  },
  {
   "cell_type": "code",
   "execution_count": null,
   "metadata": {
    "slideshow": {
     "slide_type": "subslide"
    }
   },
   "outputs": [],
   "source": [
    "CONSTRUCT {\n",
    "  ?gene rdfs:label ?geneLabel .\n",
    "  ?encodedProtein rdfs:label ?encodedProteinLabel .\n",
    "}\n",
    "WHERE {\n",
    "  SERVICE wikibase:label { bd:serviceParam wikibase:language \"en\". }\n",
    "  ?gene wdt:P688 ?encodedProtein .\n",
    "} LIMIT 10"
   ]
  },
  {
   "cell_type": "markdown",
   "metadata": {
    "slideshow": {
     "slide_type": "slide"
    }
   },
   "source": [
    "# Insert 📝\n",
    "\n",
    "Same as a `construct` but directly insert triples into your triplestore"
   ]
  },
  {
   "cell_type": "code",
   "execution_count": null,
   "metadata": {
    "slideshow": {
     "slide_type": "fragment"
    }
   },
   "outputs": [],
   "source": [
    "INSERT {\n",
    "  GRAPH <http://graph> {\n",
    "    ?geneUri rdfs:label ?geneLabel .\n",
    "  } } \n",
    "WHERE {\n",
    "  SERVICE <https://query.wikidata.org/sparql> {\n",
    "    SELECT * WHERE {\n",
    "      ?geneUri wdt:P688 ?encodedProtein .\n",
    "      ?encodedProtein wdt:P352 ?uniprotId .\n",
    "      SERVICE wikibase:label { bd:serviceParam wikibase:language \"en\".\n",
    "        ?geneUri rdfs:label ?geneLabel . } } LIMIT 3\n",
    "  } \n",
    "}"
   ]
  },
  {
   "cell_type": "markdown",
   "metadata": {
    "slideshow": {
     "slide_type": "subslide"
    }
   },
   "source": [
    "# Insert data\n",
    "\n",
    "Use SPARQL to insert data into your triplestore (not possible on public endpoints)"
   ]
  },
  {
   "cell_type": "code",
   "execution_count": null,
   "metadata": {
    "slideshow": {
     "slide_type": "fragment"
    }
   },
   "outputs": [],
   "source": [
    "PREFIX rdfs: <http://www.w3.org/2000/01/rdf-schema#>\n",
    "INSERT DATA {\n",
    "  GRAPH <http://my-graph> {\n",
    "      <my-subject> rdfs:label \"inserted object\" .\n",
    "  } \n",
    "}"
   ]
  },
  {
   "cell_type": "markdown",
   "metadata": {
    "slideshow": {
     "slide_type": "slide"
    }
   },
   "source": [
    "# Delete ❌\n",
    "\n",
    "To delete particular statements retrieved from a pattern using `WHERE` \n",
    "\n",
    "Here we delete the `bl:name` statements for the genes we just created:"
   ]
  },
  {
   "cell_type": "code",
   "execution_count": null,
   "metadata": {
    "slideshow": {
     "slide_type": "fragment"
    }
   },
   "outputs": [],
   "source": [
    "DELETE {\n",
    "  GRAPH <http://graph> {\n",
    "    ?geneUri bl:name ?geneLabel.\n",
    "  } } \n",
    "WHERE {\n",
    "  ?geneUri a bl:Gene .\n",
    "  ?geneUri bl:name ?geneLabel .\n",
    "}"
   ]
  },
  {
   "cell_type": "markdown",
   "metadata": {
    "slideshow": {
     "slide_type": "subslide"
    }
   },
   "source": [
    "# Delete data\n",
    "\n",
    "Directly provide the statements to delete"
   ]
  },
  {
   "cell_type": "code",
   "execution_count": 11,
   "metadata": {
    "slideshow": {
     "slide_type": "fragment"
    }
   },
   "outputs": [
    {
     "data": {
      "text/html": [
       "<div class=\"krn-spql\"><div class=\"krn-error\"><span class=\"title\">Error:</span> Query processing error: &lt;urlopen error [Errno -3] Temporary failure in name resolution&gt;</div></div>"
      ],
      "text/plain": [
       "Error: Query processing error: <urlopen error [Errno -3] Temporary failure in name resolution>"
      ]
     },
     "metadata": {},
     "output_type": "display_data"
    }
   ],
   "source": [
    "PREFIX rdfs: <http://www.w3.org/2000/01/rdf-schema#>\n",
    "DELETE DATA {\n",
    "  GRAPH <http://my-graph> {\n",
    "      <http://my-subject> rdfs:label \"inserted object\" .\n",
    "  } \n",
    "} "
   ]
  },
  {
   "cell_type": "markdown",
   "metadata": {
    "slideshow": {
     "slide_type": "slide"
    }
   },
   "source": [
    "# Search on DBpedia 🔎\n",
    "\n",
    "Use **[https://yasgui.triply.cc](https://yasgui.triply.cc)** to write and run SPARQL query on DBpedia\n",
    "\n",
    "1. Calculate countries density. Density = `dbo:populationTotal` / `dbo:PopulatedPlace/areaTotal`\n",
    "\n",
    "2. The capital ([dbo:capital](http://dbpedia.org/ontology/capital)) of the country in which authors of books are born ([dbo:birthPlace](http://dbpedia.org/ontology/birthPlace)), limit to 10\n",
    "\n",
    "3. All books with a name in english starting with \"http\" ignoring case"
   ]
  },
  {
   "cell_type": "markdown",
   "metadata": {
    "slideshow": {
     "slide_type": "subslide"
    }
   },
   "source": [
    "## 1. Calculate countries density"
   ]
  },
  {
   "cell_type": "code",
   "execution_count": 17,
   "metadata": {
    "slideshow": {
     "slide_type": "fragment"
    }
   },
   "outputs": [
    {
     "data": {
      "text/html": [
       "<div class=\"krn-spql\"><table><tr class=hdr><th>country</th>\n",
       "<th>area</th>\n",
       "<th>population</th>\n",
       "<th>density</th></tr><tr class=odd><td class=val><a href=\"http://dbpedia.org/resource/Arab_League\" target=\"_other\">http://dbpedia.org/resource/Arab_League</a></td>\n",
       "<td class=val>1.3132327E7</td>\n",
       "<td class=val>423000000</td>\n",
       "<td class=val>32.2106</td></tr><tr class=even><td class=val><a href=\"http://dbpedia.org/resource/Arab_League\" target=\"_other\">http://dbpedia.org/resource/Arab_League</a></td>\n",
       "<td class=val>1.313232751440986E7</td>\n",
       "<td class=val>423000000</td>\n",
       "<td class=val>32.2106</td></tr><tr class=odd><td class=val><a href=\"http://dbpedia.org/resource/United_States_Minor_Outlying_Islands\" target=\"_other\">http://dbpedia.org/resource/United_States_Minor_Outlying_Islands</a></td>\n",
       "<td class=val>34.2</td>\n",
       "<td class=val>300</td>\n",
       "<td class=val>8.77193</td></tr><tr class=even><td class=val><a href=\"http://dbpedia.org/resource/United_States_Minor_Outlying_Islands\" target=\"_other\">http://dbpedia.org/resource/United_States_Minor_Outlying_Islands</a></td>\n",
       "<td class=val>34.1878430564352</td>\n",
       "<td class=val>300</td>\n",
       "<td class=val>8.77505</td></tr><tr class=odd><td class=val><a href=\"http://dbpedia.org/resource/Transnistria_autonomous_territorial_unit_with_special_legal_status\" target=\"_other\">http://dbpedia.org/resource/Transnistria_autonomous_territorial_unit_with_special_legal_status</a></td>\n",
       "<td class=val>4163.0</td>\n",
       "<td class=val>505153</td>\n",
       "<td class=val>121.344</td></tr><tr class=even><td class=val><a href=\"http://dbpedia.org/resource/Transnistria_autonomous_territorial_unit_with_special_legal_status\" target=\"_other\">http://dbpedia.org/resource/Transnistria_autonomous_territorial_unit_with_special_legal_status</a></td>\n",
       "<td class=val>4162.110893309952</td>\n",
       "<td class=val>505153</td>\n",
       "<td class=val>121.369</td></tr><tr class=odd><td class=val><a href=\"http://dbpedia.org/resource/Syria\" target=\"_other\">http://dbpedia.org/resource/Syria</a></td>\n",
       "<td class=val>185180.0</td>\n",
       "<td class=val>17064854</td>\n",
       "<td class=val>92.1528</td></tr><tr class=even><td class=val><a href=\"http://dbpedia.org/resource/Syria\" target=\"_other\">http://dbpedia.org/resource/Syria</a></td>\n",
       "<td class=val>185129.76013870694</td>\n",
       "<td class=val>17064854</td>\n",
       "<td class=val>92.1778</td></tr><tr class=odd><td class=val><a href=\"http://dbpedia.org/resource/Åland_Islands\" target=\"_other\">http://dbpedia.org/resource/Åland_Islands</a></td>\n",
       "<td class=val>1579.89274730496</td>\n",
       "<td class=val>29013</td>\n",
       "<td class=val>18.3639</td></tr><tr class=even><td class=val><a href=\"http://dbpedia.org/resource/Åland_Islands\" target=\"_other\">http://dbpedia.org/resource/Åland_Islands</a></td>\n",
       "<td class=val>1580.0</td>\n",
       "<td class=val>29013</td>\n",
       "<td class=val>18.3627</td></tr><tr class=odd><td class=val><a href=\"http://dbpedia.org/resource/Republic_of_Vevčani\" target=\"_other\">http://dbpedia.org/resource/Republic_of_Vevčani</a></td>\n",
       "<td class=val>22.8</td>\n",
       "<td class=val>3656</td>\n",
       "<td class=val>160.351</td></tr><tr class=even><td class=val><a href=\"http://dbpedia.org/resource/Republic_of_Molossia\" target=\"_other\">http://dbpedia.org/resource/Republic_of_Molossia</a></td>\n",
       "<td class=val>0.005179976220672</td>\n",
       "<td class=val>6</td>\n",
       "<td class=val>1158.31</td></tr><tr class=odd><td class=val><a href=\"http://dbpedia.org/resource/Republic_of_Molossia\" target=\"_other\">http://dbpedia.org/resource/Republic_of_Molossia</a></td>\n",
       "<td class=val>0.0053</td>\n",
       "<td class=val>6</td>\n",
       "<td class=val>1132.08</td></tr><tr class=even><td class=val><a href=\"http://dbpedia.org/resource/Bureau_of_Ghana_Languages\" target=\"_other\">http://dbpedia.org/resource/Bureau_of_Ghana_Languages</a></td>\n",
       "<td class=val>238535.0</td>\n",
       "<td class=val>27000000</td>\n",
       "<td class=val>113.191</td></tr><tr class=odd><td class=val><a href=\"http://dbpedia.org/resource/Ascension_Island\" target=\"_other\">http://dbpedia.org/resource/Ascension_Island</a></td>\n",
       "<td class=val>88.0</td>\n",
       "<td class=val>880</td>\n",
       "<td class=val>10.0</td></tr><tr class=even><td class=val><a href=\"http://dbpedia.org/resource/British_Indian_Ocean_Territory\" target=\"_other\">http://dbpedia.org/resource/British_Indian_Ocean_Territory</a></td>\n",
       "<td class=val>54400.110269497345</td>\n",
       "<td class=val>3000</td>\n",
       "<td class=val>0.0551469</td></tr><tr class=odd><td class=val><a href=\"http://dbpedia.org/resource/British_Indian_Ocean_Territory\" target=\"_other\">http://dbpedia.org/resource/British_Indian_Ocean_Territory</a></td>\n",
       "<td class=val>54400.0</td>\n",
       "<td class=val>3000</td>\n",
       "<td class=val>0.0551471</td></tr><tr class=even><td class=val><a href=\"http://dbpedia.org/resource/Economic_Cooperation_Organization\" target=\"_other\">http://dbpedia.org/resource/Economic_Cooperation_Organization</a></td>\n",
       "<td class=val>7937197.014305475</td>\n",
       "<td class=val>416046863</td>\n",
       "<td class=val>52.4174</td></tr><tr class=odd><td class=val><a href=\"http://dbpedia.org/resource/Economic_Cooperation_Organization\" target=\"_other\">http://dbpedia.org/resource/Economic_Cooperation_Organization</a></td>\n",
       "<td class=val>7937197.0</td>\n",
       "<td class=val>416046863</td>\n",
       "<td class=val>52.4174</td></tr><tr class=even><td class=val><a href=\"http://dbpedia.org/resource/Egypt\" target=\"_other\">http://dbpedia.org/resource/Egypt</a></td>\n",
       "<td class=val>1010407.87</td>\n",
       "<td class=val>85783</td>\n",
       "<td class=val>0.0848994</td></tr></table><div class=\"tinfo\">Total: 510, Shown: 20</div></div>"
      ]
     },
     "metadata": {},
     "output_type": "display_data"
    }
   ],
   "source": [
    "SELECT ?country ?area ?population \n",
    "  (xsd:float(?population)/xsd:float(?area) AS ?density)\n",
    "WHERE {\n",
    "  ?country a dbo:Country ;  \n",
    "      dbo:populationTotal ?population ;\n",
    "      <http://dbpedia.org/ontology/PopulatedPlace/areaTotal> ?area .\n",
    "      FILTER(?area != 0)\n",
    "}"
   ]
  },
  {
   "cell_type": "markdown",
   "metadata": {
    "slideshow": {
     "slide_type": "slide"
    }
   },
   "source": [
    "# Useful links 🔧\n",
    "\n",
    "* Use **[prefix.cc](http://prefix.cc/)** to resolve mysterious prefixes.\n",
    "* Search for functions in the specifications: **https://www.w3.org/TR/sparql11-query**\n",
    "* How do I find vocabulary to use in my SPARQL query from DBpedia? Search in **[DBpedia ontology classes](http://mappings.dbpedia.org/server/ontology/classes/)**, or on google, e.g., search for: \"**[dbpedia capital](https://www.google.com/search?&q=dbpedia+capital)**\"\n",
    "\n",
    "\n",
    "# Public SPARQL endpoints 🔗\n",
    "\n",
    "* Wikidata, facts powering Wikipedia infobox: https://query.wikidata.org/sparql\n",
    "* Bio2RDF, linked data for the life sciences: https://bio2rdf.org/sparql\n",
    "* Disgenet, gene-disease association: http://rdf.disgenet.org/sparql\n",
    "* PathwayCommons, resource for biological pathways analysis: http://rdf.pathwaycommons.org/sparql"
   ]
  }
 ],
 "metadata": {
  "kernelspec": {
   "display_name": "SPARQL",
   "language": "sparql",
   "name": "sparql"
  },
  "language_info": {
   "codemirror_mode": {
    "name": "sparql"
   },
   "mimetype": "application/sparql-query",
   "name": "sparql",
   "pygments_lexer": "sparql-nb"
  }
 },
 "nbformat": 4,
 "nbformat_minor": 4
}
