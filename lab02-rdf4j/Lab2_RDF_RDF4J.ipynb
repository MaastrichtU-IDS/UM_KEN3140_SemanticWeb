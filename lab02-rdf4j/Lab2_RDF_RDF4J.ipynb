{
 "cells": [
  {
   "cell_type": "markdown",
   "metadata": {},
   "source": [
    "### KEN 3140: Lab 2 (RDF basics)\n",
    "**Author:** Kody Moodley  \n",
    "**Date:** 2021-09-01  \n",
    "**License:** [https://creativecommons.org/licenses/by/4.0](https://creativecommons.org/licenses/by/4.0)\n",
    "\n",
    "In this lab we are going to:\n",
    "1. Create RDF triples by hand and validate them using [RDF4J](https://rdf4j.org/)\n",
    "2. Manipulate / edit RDF triples using [RDF4J](https://rdf4j.org/) and save these files into various RDF [serialisation](https://en.wikipedia.org/wiki/Serialization) syntaxes\n",
    "3. Verify the validity of a given list of IRIs\n",
    "4. Examine a given RDF graph and identify its components\n",
    "\n",
    "#### Learning objectives:\n",
    "1. How to verify whether a string represents a valid IRI or not\n",
    "2. How to construct entities, literals, predicates and triples in RDF\n",
    "3. How to identify and reuse relations and entities from external vocabularies when creating RDF representations\n",
    "4. How to construct and save RDF documents in different syntaxes and to convert between them (RDF/XML, Turtle, N-triples)\n",
    "5. How to identify and add appropriate XML datatypes for literals in an RDF graph \n",
    "6. How to assess if a particular RDF representation violates the RDF specification"
   ]
  },
  {
   "cell_type": "markdown",
   "metadata": {},
   "source": [
    "### Setup: import RDF4J and required classes\n",
    "This section sets up the environment required for you to complete this lab. You do not need to change any code in this section. Just read the information, run the cells and proceed to the next section. \n",
    "\n",
    "[RDF4J](https://rdf4j.org/) is a Java library for creating and manipulating [RDF](https://www.w3.org/TR/rdf11-concepts/) information. There is a documentation page [here](https://rdf4j.org/documentation/) to learn how to get started with RDF4J. To import this (and other) Java libraries in Jupyter notebooks, we can use one of two options:\n",
    "\n",
    "1. Using the [cell magics](https://ipython.readthedocs.io/en/stable/interactive/magics.html#cell-magics) command ``%%loadFromPOM``. This command allows us to import Java libraries using [Maven](https://maven.apache.org/) dependencies as you would in a [pom.xml](https://www.javatpoint.com/maven-pom-xml#:~:text=POM%20is%20an%20acronym%20for,file%2C%20then%20executes%20the%20goal.) **NB:** this code has to be executed within **one** cell and there should not be any other code in this cell. To find other maven dependencies for your desired libraries you can search for them on [Maven Repository](https://mvnrepository.com/) or [Maven Central](https://search.maven.org/).\n",
    "2. If you are having problems with getting the cell magics option to work, download the full .jar file for RDF4J [here](https://www.eclipse.org/downloads/download.php?file=/rdf4j/eclipse-rdf4j-3.4.0-onejar.jar&mirror_id=1190). The file is also included as a download with your lab materials on Canvas. **Place this .jar file in the same directory as this notebook.**\n",
    "\n",
    "We are going to use Option 2 in this notebook:"
   ]
  },
  {
   "cell_type": "code",
   "execution_count": 1,
   "metadata": {},
   "outputs": [],
   "source": [
    "%jars eclipse-rdf4j-3.4.0-onejar.jar"
   ]
  },
  {
   "cell_type": "code",
   "execution_count": 2,
   "metadata": {},
   "outputs": [],
   "source": [
    "%jars commons-io-2.11.0.jar"
   ]
  },
  {
   "cell_type": "markdown",
   "metadata": {},
   "source": [
    "This next block of code supresses any Java compiler warnings messages:"
   ]
  },
  {
   "cell_type": "code",
   "execution_count": 3,
   "metadata": {},
   "outputs": [],
   "source": [
    "%%loadFromPOM\n",
    "<dependency>\n",
    "  <groupId>org.slf4j</groupId>\n",
    "  <artifactId>slf4j-nop</artifactId>\n",
    "  <version>1.7.30</version>\n",
    "</dependency>"
   ]
  },
  {
   "cell_type": "markdown",
   "metadata": {},
   "source": [
    "And this one imports required classes for reading and writing RDF with RDF4J:"
   ]
  },
  {
   "cell_type": "code",
   "execution_count": 4,
   "metadata": {},
   "outputs": [],
   "source": [
    "// RDF4J\n",
    "import org.eclipse.rdf4j.model.*;\n",
    "import org.eclipse.rdf4j.model.impl.*;\n",
    "import org.eclipse.rdf4j.model.vocabulary.*;\n",
    "// Rio\n",
    "import org.eclipse.rdf4j.rio.*;\n",
    "import org.eclipse.rdf4j.rio.Rio.*;\n",
    "import org.eclipse.rdf4j.rio.helpers.*;\n",
    "// Java IO\n",
    "import java.io.*;"
   ]
  },
  {
   "cell_type": "markdown",
   "metadata": {},
   "source": [
    "### Creating a simple RDF graph with RDF4J\n",
    "For demonstration, we show here how to create a simple RDF graph in RDF4J with some entities, relations and literals. Again, this is not part of the lab tasks and you do not need to change any code in this section. However, this section serves as a reference that gives you code that you can reuse for Task 2 or other assignments and tasks in this course."
   ]
  },
  {
   "cell_type": "markdown",
   "metadata": {},
   "source": [
    "#### A. Initialise an RDF graph\n",
    "Here we will set up a namespace for the entities in our graph, and initialise an empty RDF graph in RDF4J which we can start building "
   ]
  },
  {
   "cell_type": "code",
   "execution_count": 5,
   "metadata": {},
   "outputs": [
    {
     "data": {
      "text/plain": [
       "schema :: http://schema.org/"
      ]
     },
     "execution_count": 5,
     "metadata": {},
     "output_type": "execute_result"
    }
   ],
   "source": [
    "// We need to get a hold of an instance of the ValueFactory class.\n",
    "// This class allows you to create IRIs, blank nodes, literals and\n",
    "// triples in RDF4J. RDF4J does not have a Triples class, rather, it \n",
    "// has a class called Statement. Why? Because not only can you make\n",
    "// statements with three components (triples) but also four! (called Quads)\n",
    "// Therefore, \"Statement\" is a more general term to capture either triples or quads.\n",
    "ValueFactory vf = SimpleValueFactory.getInstance();\n",
    "// Create a new, empty Model object (this instance represents our RDF graph - which is empty at the moment).\n",
    "Model model = new TreeModel();\n",
    "// Create namespaces for our resources\n",
    "String um = \"http://maastrichtuniversity.nl/\";\n",
    "String foaf = \"http://xmlns.com/foaf/0.1/\";\n",
    "String schemaorg = \"http://schema.org/\";\n",
    "model.setNamespace(\"um\", um);\n",
    "model.setNamespace(\"foaf\", foaf);\n",
    "model.setNamespace(\"schema\", schemaorg);"
   ]
  },
  {
   "cell_type": "markdown",
   "metadata": {},
   "source": [
    "#### B. Create IRIs\n",
    "Here we create some IRIs for resources that we want to describe"
   ]
  },
  {
   "cell_type": "code",
   "execution_count": 6,
   "metadata": {},
   "outputs": [],
   "source": [
    "// Create an IRI for an entity with resource name \"kody\"\n",
    "IRI kody = vf.createIRI(um, \"kody\");\n",
    "// Create an IRI for an entity with resource name \"Computer_Scientist\"\n",
    "IRI computerScientist = vf.createIRI(um, \"Computer_Scientist\");\n",
    "// Create an IRI for an entity with resource name \"ken3140\"\n",
    "IRI ken3140 = vf.createIRI(um, \"ken3140\");\n",
    "// Create an IRI for a relation with resource name \"instructor\"\n",
    "IRI instructor = vf.createIRI(schemaorg,\"instructor\");"
   ]
  },
  {
   "cell_type": "markdown",
   "metadata": {},
   "source": [
    "#### C. Create Triples\n",
    "Here we create some triples about the entities above and add them to our RDF graph. Notice that we are reusing existing defined relations RDF.TYPE, FOAF.FIRST_NAME and FOAF.LAST_NAME here. [FOAF](http://xmlns.com/foaf/spec/) is a community-maintained vocabulary about people and common relations and properties about them. Consult the [Javadoc](https://rdf4j.org/javadoc/latest/) to see what other built-in relations there might be. E.g. to see what other FOAF relations there are in RDF4J you can go [here](https://rdf4j.org/javadoc/latest/org/eclipse/rdf4j/model/vocabulary/FOAF.html) and for RDF [here](https://rdf4j.org/javadoc/latest/org/eclipse/rdf4j/model/vocabulary/RDF.html). Essentially, just replace the name of the .html file in the URL with whatever vocabularies (predefined in RDF4J) you want to view. To see a full list of these predefined vocabularies in RDF4J, see [here](https://rdf4j.org/javadoc/latest/org/eclipse/rdf4j/model/vocabulary/package-summary.html). **NB: you are not restricted to these vocabularies. These are just the ones predefined by default for convenience in RDF4J. You can also define your own or reuse some from external vocabularies such as Schema.org** In fact, we reuse the predicate [http://schema.org/instructor](http://schema.org/instructor) from Schema.org in this example:"
   ]
  },
  {
   "cell_type": "code",
   "execution_count": 7,
   "metadata": {},
   "outputs": [
    {
     "data": {
      "text/plain": [
       "true"
      ]
     },
     "execution_count": 7,
     "metadata": {},
     "output_type": "execute_result"
    }
   ],
   "source": [
    "// Add our first triple to the graph: kody is a Computer Scientist\n",
    "model.add(kody, RDF.TYPE, computerScientist);\n",
    "// Second triple: the entity http://maastrichtuniversity.nl/kody has first name \"Kody\".\n",
    "model.add(kody, FOAF.FIRST_NAME, vf.createLiteral(\"Kody\"));\n",
    "// Third triple: the entity http://maastrichtuniversity.nl/kody has last name \"Moodley\".\n",
    "model.add(kody, FOAF.LAST_NAME, vf.createLiteral(\"Moodley\"));\n",
    "// Fourth triple: http://maastrichtuniversity.nl/ken3140 has an instructor - Kody\n",
    "model.add(ken3140, instructor, kody);"
   ]
  },
  {
   "cell_type": "markdown",
   "metadata": {},
   "source": [
    "#### D. Print out the entities and triples in our graph"
   ]
  },
  {
   "cell_type": "code",
   "execution_count": 8,
   "metadata": {},
   "outputs": [
    {
     "name": "stdout",
     "output_type": "stream",
     "text": [
      "Entities in this graph:\n",
      "-----------------------\n",
      "Kody entity: http://maastrichtuniversity.nl/kody\n",
      "Computer Scientist entity: http://maastrichtuniversity.nl/Computer_Scientist\n",
      "\n",
      "Triples in this graph:\n",
      "----------------------\n",
      "1. (http://maastrichtuniversity.nl/ken3140, http://schema.org/instructor, http://maastrichtuniversity.nl/kody) [null]\n",
      "2. (http://maastrichtuniversity.nl/kody, http://www.w3.org/1999/02/22-rdf-syntax-ns#type, http://maastrichtuniversity.nl/Computer_Scientist) [null]\n",
      "3. (http://maastrichtuniversity.nl/kody, http://xmlns.com/foaf/0.1/firstName, \"Kody\") [null]\n",
      "4. (http://maastrichtuniversity.nl/kody, http://xmlns.com/foaf/0.1/lastName, \"Moodley\") [null]\n"
     ]
    }
   ],
   "source": [
    "System.out.println(\"Entities in this graph:\");\n",
    "System.out.println(\"-----------------------\");\n",
    "\n",
    "// Print the entities in our graph\n",
    "System.out.println(\"Kody entity: \" + kody);\n",
    "System.out.println(\"Computer Scientist entity: \" + computerScientist);\n",
    "\n",
    "System.out.println();\n",
    "\n",
    "System.out.println(\"Triples in this graph:\");\n",
    "System.out.println(\"----------------------\");\n",
    "\n",
    "int i = 1;\n",
    "// Print the triples as well\n",
    "for (Statement statement: model) {\n",
    "    System.out.println(i + \". \" + statement);\n",
    "    i++;\n",
    "}"
   ]
  },
  {
   "cell_type": "markdown",
   "metadata": {},
   "source": [
    "#### E. Serialisation into different RDF syntaxes\n",
    "How to save a graph into different RDF syntaxes. We are going to save our graph about entities related to the KEN3140 course in different RDF serialisation syntaxes. Here we demonstrate saving in RDF/XML, TURTLE amd NTRIPLES formats. However, there are others as well such as [TRIG](https://www.w3.org/TR/trig/)."
   ]
  },
  {
   "cell_type": "code",
   "execution_count": 9,
   "metadata": {},
   "outputs": [],
   "source": [
    "// RDF/XML syntax\n",
    "FileOutputStream out = new FileOutputStream(\"KEN3140_Lab2_example.rdf\");\n",
    "try {\n",
    "  Rio.write(model, out, RDFFormat.RDFXML);\n",
    "}\n",
    "finally {\n",
    "  out.close();\n",
    "}\n",
    "\n",
    "// Turtle syntax\n",
    "FileOutputStream out2 = new FileOutputStream(\"KEN3140_Lab2_example.ttl\");\n",
    "try {\n",
    "  Rio.write(model, out2, RDFFormat.TURTLE);\n",
    "}\n",
    "finally {\n",
    "  out2.close();\n",
    "}\n",
    "\n",
    "// N-triples syntax\n",
    "FileOutputStream out3 = new FileOutputStream(\"KEN3140_Lab2_example.nt\");\n",
    "try {\n",
    "  Rio.write(model, out3, RDFFormat.NTRIPLES);\n",
    "}\n",
    "finally {\n",
    "  out3.close();\n",
    "}"
   ]
  },
  {
   "cell_type": "markdown",
   "metadata": {},
   "source": [
    "Try to open these files here in Jupyter or in your file explorer using the text editor of your choice and **spot the differences** in the syntaxes for representing the same information. **Which syntax do you prefer? Which do you think are more human-readable?** If ever you want to convert an RDF document between syntaxes, you can use Rio for this (by loading and parsing the file into an RDF4J model - you can see an example in Task 1 below) and then saving it in another using similar code to the preceding cell. You can also use various online tools for smaller RDF files e.g. [EasyRDF](https://www.easyrdf.org/converter)"
   ]
  },
  {
   "cell_type": "markdown",
   "metadata": {},
   "source": [
    "### Lab Tasks"
   ]
  },
  {
   "cell_type": "markdown",
   "metadata": {},
   "source": [
    "#### Task 1: IRI validation\n",
    "\n",
    "In this task you are going to verify which of the following strings are valid IRIs or not. \n",
    "Verify them by copying and pasting them into the provided ``KEN3140_Lab2_task1.ttl`` document.\n",
    "Specifically replace the text ``//paste IRI here//`` with each of these IRIs and save the file. \n",
    "After each replace, run the cell just below the one titled **Task1: Validation code** and monitor the output to see which are valid or not.\n",
    "If you find some of these to be invalid IRIs, consult the [rfc3987](https://tools.ietf.org/html/rfc3987)\n",
    "IRI specification to put forward reasons why they are invalid. **For each valid IRI in the list, think about\n",
    "and discuss with your classmates to what extent they comply with the Linked Principles**\n",
    "\n",
    "1. ``myIRI``\n",
    "2. ``myIRI/``\n",
    "3. ``myIRI#``\n",
    "4. ``ftp:/myIRI``\n",
    "5. ``ftp://myIRI/``\n",
    "6. ``ftp://myIRI#``\n",
    "7. ``http://myIRI#``\n",
    "8. ``http:///myIRI/folder1/folder2/``\n",
    "9. ``http:///myIRI/folder1/folder2/my name``\n",
    "10. ``http:///myIRI/folder1/folder2/my_name``\n",
    "11. ``my_own_protocol:///myIRI/folder1/folder2/my_name``\n",
    "12. ``:///myIRI/folder1/folder2/my_name``\n",
    "13. ``https://myIRI/$/my_name``\n",
    "14. ``https://myIRI/#$#/my_name``\n",
    "15. ``https://136.292.181.23/#12/my_name``\n",
    "16. ``https://136.255.181.23/!210382/my_name``\n",
    "17. ``https://schema.org/parent``\n",
    "18. ``https://www.wikidata.org/wiki/Q937``\n",
    "19. ``https://en.wikipedia.org/wiki/Albert_Einstein``\n",
    "20. ``https://www.w3.org/Consortium/``\n",
    "    "
   ]
  },
  {
   "cell_type": "markdown",
   "metadata": {},
   "source": [
    "#### Task 1: Validation code\n",
    "\n",
    "Parses ``KEN3140_Lab2_task1.ttl`` to see if it complies with correct RDF syntax "
   ]
  },
  {
   "cell_type": "code",
   "execution_count": 11,
   "metadata": {},
   "outputs": [
    {
     "name": "stdout",
     "output_type": "stream",
     "text": [
      "Parse error: org.eclipse.rdf4j.rio.RDFParseException: Relative URI 'myIRI' cannot be resolved using the opaque base URI 'C:%5CUsers%5Ckody.moodley%5CDocuments%5CKEN3140%5CLab2%5CKEN3140_Lab2_task1.ttl' [line 1]\n"
     ]
    }
   ],
   "source": [
    "RDFParser rdfParser = Rio.createParser(RDFFormat.TURTLE);\n",
    "File initialFile = new File(\"KEN3140_Lab2_task1.ttl\");\n",
    "InputStream in = new FileInputStream(initialFile);\n",
    "Model model = new TreeModel();\n",
    "rdfParser.setRDFHandler(new StatementCollector(model));\n",
    "\n",
    "try {\n",
    "    rdfParser.parse(in, initialFile.getAbsolutePath());\n",
    "    System.out.println(\"Valid RDF document!\");\n",
    "}\n",
    "catch (IOException e) {\n",
    "    // handle IO problems (e.g. the file could not be read)\n",
    "    System.out.println(\"I/O error: \" + e);\n",
    "}\n",
    "catch (RDFParseException e) {\n",
    "    // handle unrecoverable parse error\n",
    "    System.out.println(\"Parse error: \" + e);\n",
    "}\n",
    "catch (RDFHandlerException e) {\n",
    "    // handle a problem encountered by the RDFHandler\n",
    "    System.out.println(\"Handler error: \" + e);\n",
    "}\n",
    "finally {\n",
    "  in.close();\n",
    "}"
   ]
  },
  {
   "cell_type": "markdown",
   "metadata": {},
   "source": [
    "#### Task 2: Formulating RDF triples\n",
    "\n",
    "Using a text editor of your choice (e.g. Notepad or Sublime text) **or** RDF4J, create RDF triples capturing as fully as possible the information in the following piece of text:\n",
    "\n",
    "“Vincent van Gogh was a Dutch artist born in Zundert, a city in the country of the Netherlands, on 30 March 1853. One of the most famous artworks created by him is ‘The Starry Night’ oil on canvas painting.”\n",
    "\n",
    "**Requirements:**\n",
    "1. Write down the triples in Turtle syntax and save the document as a .ttl file.\n",
    "2. Ensure that the triples are generated using valid RDF syntax and valid IRIs. **Hint:** RDF4J can validate your triples for you.\n",
    "3. Make sure to **reuse** existing vocabulary where possible\n",
    "\n",
    "For convenience, a conceptual diagram of the information in the above text is given below.\n",
    "\n",
    "![image.png](vangogh.png)"
   ]
  },
  {
   "cell_type": "markdown",
   "metadata": {},
   "source": [
    "#### Task 3: Identifying components of an RDF graph\n",
    "\n",
    "Study the following diagram:\n",
    "\n",
    "![image.png](task3.png)\n",
    "\n",
    "Now, list all the:\n",
    "\n",
    "1. object properties in the graph\n",
    "2. data properties in the graph\n",
    "3. instances in the graph\n",
    "4. data types in the graph\n",
    "5. prefix shorthands in the graph\n",
    "\n",
    "Discuss your answers with your classmates. You may write the answers down in a new markdown cell below this one if you wish."
   ]
  }
 ],
 "metadata": {
  "kernelspec": {
   "display_name": "Java",
   "language": "java",
   "name": "java"
  },
  "language_info": {
   "codemirror_mode": "java",
   "file_extension": ".jshell",
   "mimetype": "text/x-java-source",
   "name": "Java",
   "pygments_lexer": "java",
   "version": "11.0.6+8-b765.1"
  }
 },
 "nbformat": 4,
 "nbformat_minor": 4
}
