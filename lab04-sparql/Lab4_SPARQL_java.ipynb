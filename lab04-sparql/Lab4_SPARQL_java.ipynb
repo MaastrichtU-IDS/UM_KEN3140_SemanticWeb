{
 "cells": [
  {
   "cell_type": "markdown",
   "source": [
    "# Run SPARQL queries on a local RDF file\n",
    "\n",
    "We will use the Java RDF library [Apache Jena](https://jena.apache.org/). Follow these instructions to install the library:\n",
    "\n",
    "1. Copy the `apache-jena-3.16.0` folder from Lab3 to the same directory as the notebook, or download the [apache-jena-3.16.0.zip](http://apache.mirror.triple-it.nl/jena/binaries/apache-jena-3.16.0.zip) file and unzip it\n",
    "2. Run the next cell (it will import all jars in the `apache-jena-3.16.0/lib` folder)"
   ],
   "metadata": {}
  },
  {
   "cell_type": "code",
   "execution_count": 11,
   "source": [
    "%jars /opt/apache-jena-*/lib/*.jar"
   ],
   "outputs": [],
   "metadata": {}
  },
  {
   "cell_type": "code",
   "execution_count": 67,
   "source": [
    "import org.apache.jena.riot.RDFDataMgr;\n",
    "import org.apache.jena.rdf.model.*;\n",
    "import org.apache.jena.util.PrintUtil;\n",
    "import org.apache.jena.vocabulary.RDF;\n",
    "import org.apache.jena.query.Query;\n",
    "import org.apache.jena.query.QueryExecution;\n",
    "import org.apache.jena.query.QueryExecutionFactory;\n",
    "import org.apache.jena.query.QueryFactory;\n",
    "import org.apache.jena.query.QuerySolution;\n",
    "import org.apache.jena.query.ResultSetFormatter;\n",
    "import org.apache.jena.query.ResultSet;\n",
    "import java.io.File;\n",
    "import org.apache.commons.io.FileUtils;\n",
    "import java.nio.charset.StandardCharsets;"
   ],
   "outputs": [],
   "metadata": {}
  },
  {
   "cell_type": "markdown",
   "source": [
    "## Load the RDF file in a Jena Model\n",
    "\n",
    "Load the RDF file, and create `runSparqlQuery()` function to run SPARQL queries in a single call from a string or a file."
   ],
   "metadata": {}
  },
  {
   "cell_type": "code",
   "execution_count": 68,
   "source": [
    "Model model = RDFDataMgr.loadModel(\"family.ttl\");"
   ],
   "outputs": [],
   "metadata": {}
  },
  {
   "cell_type": "code",
   "execution_count": 69,
   "source": [
    "static void runSparqlQuery(String queryString, Model model) throws java.io.IOException {\n",
    "    if (queryString.endsWith(\".rq\")) {\n",
    "        queryString = FileUtils.readFileToString(new File(queryString), StandardCharsets.UTF_8);\n",
    "    }\n",
    "    System.out.println(queryString);\n",
    "    Query query = QueryFactory.create(queryString);\n",
    "    QueryExecution qexec = QueryExecutionFactory.create(query, model);\n",
    "    ResultSetFormatter.out(qexec.execSelect(), model);\n",
    "} "
   ],
   "outputs": [],
   "metadata": {}
  },
  {
   "cell_type": "markdown",
   "source": [
    "## SPARQL query from string\n",
    "\n",
    "Java does not support multiline strings."
   ],
   "metadata": {}
  },
  {
   "cell_type": "code",
   "execution_count": 70,
   "source": [
    "String queryString = \"PREFIX schema: <https://schema.org/> \\n\" +\n",
    "    \"SELECT * WHERE{ \\n\" + \n",
    "    \"?entity a ?type .\\n\" +\n",
    "    \"}\";"
   ],
   "outputs": [],
   "metadata": {}
  },
  {
   "cell_type": "code",
   "execution_count": 71,
   "source": [
    "runSparqlQuery(queryString, model)"
   ],
   "outputs": [
    {
     "output_type": "stream",
     "name": "stdout",
     "text": [
      "----------------------------------\n",
      "| entity         | type          |\n",
      "==================================\n",
      "| family:Miranda | schema:Person |\n",
      "| family:Pierre  | schema:Person |\n",
      "----------------------------------\n"
     ]
    }
   ],
   "metadata": {}
  },
  {
   "cell_type": "markdown",
   "source": [
    "## SPARQL query from a file\n",
    "\n",
    "Provide the SPARQL query in a file **with the extension `.rq`**"
   ],
   "metadata": {}
  },
  {
   "cell_type": "code",
   "execution_count": 72,
   "source": [
    "runSparqlQuery(\"query_get_type.rq\", model)"
   ],
   "outputs": [
    {
     "output_type": "stream",
     "name": "stdout",
     "text": [
      "PREFIX schema: <https://schema.org/>\n",
      "PREFIX family: <https://my-family.org/>\n",
      "SELECT * \n",
      "WHERE {\n",
      "#     ?entity a ?type .\n",
      "    ?entity a schema:Person ;\n",
      "              schema:parent ?mother .\n",
      "}\n",
      "-------------------\n",
      "| entity | mother |\n",
      "===================\n",
      "-------------------\n"
     ]
    }
   ],
   "metadata": {}
  },
  {
   "cell_type": "markdown",
   "source": [
    "# Use Inference Model"
   ],
   "metadata": {}
  },
  {
   "cell_type": "code",
   "execution_count": 73,
   "source": [
    "//InfModel rdfsModel = ModelFactory.createRDFSModel(RDFDataMgr.loadModel(\"Lab3_RDFS_graph.ttl\"));\n",
    "InfModel rdfsModel = ModelFactory.createRDFSModel(RDFDataMgr.loadModel(\"family.ttl\"));"
   ],
   "outputs": [],
   "metadata": {}
  },
  {
   "cell_type": "code",
   "execution_count": 74,
   "source": [
    "runSparqlQuery(\"query_get_type.rq\", rdfsModel)"
   ],
   "outputs": [
    {
     "output_type": "stream",
     "name": "stdout",
     "text": [
      "PREFIX schema: <https://schema.org/>\n",
      "PREFIX family: <https://my-family.org/>\n",
      "SELECT * \n",
      "WHERE {\n",
      "#     ?entity a ?type .\n",
      "    ?entity a schema:Person ;\n",
      "              schema:parent ?mother .\n",
      "}\n",
      "------------------------------------\n",
      "| entity         | mother          |\n",
      "====================================\n",
      "| family:Miranda | family:Mathilde |\n",
      "| family:Miranda | family:Pierre   |\n",
      "------------------------------------\n"
     ]
    }
   ],
   "metadata": {}
  },
  {
   "cell_type": "code",
   "execution_count": null,
   "source": [],
   "outputs": [],
   "metadata": {}
  },
  {
   "cell_type": "code",
   "execution_count": null,
   "source": [],
   "outputs": [],
   "metadata": {}
  }
 ],
 "metadata": {
  "kernelspec": {
   "display_name": "Java",
   "language": "java",
   "name": "java"
  },
  "language_info": {
   "name": ""
  }
 },
 "nbformat": 4,
 "nbformat_minor": 4
}