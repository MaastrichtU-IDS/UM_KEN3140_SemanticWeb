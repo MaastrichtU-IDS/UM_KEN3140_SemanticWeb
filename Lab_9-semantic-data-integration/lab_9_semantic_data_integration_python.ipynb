{
 "cells": [
  {
   "cell_type": "markdown",
   "metadata": {},
   "source": [
    "# KEN3140 (Semantic Web) Lab 9\n",
    "### Semantic Data Integration\n",
    "\n",
    "**Date:** 3 October 2022\n",
    "\n",
    "**Author:** Kody Moodley & Remzi Celebi & Ozge Erten\n",
    "\n",
    "**Affiliation:** Institute of Data Science, Maastricht University\n",
    "\n",
    "**License:** [GNU Affero General Public License v3.0](https://www.gnu.org/licenses/agpl-3.0.txt)\n",
    "\n",
    "**Notebook description:**\n",
    "\n",
    "As it was described in Lecture 9, different ontologies, vocabularies and knowledge graphs often define similar information and terms. When we examine the semantics (meaning) of terms across different vocabularies, sometimes we find that two terms with completely different IRIs actually share similar or equivalent meaning. \n",
    "\n",
    "In order to query integrated RDF data that is described using different terms with semantically related meaning, across different ontologies, we sometimes have to **map** (explicitly define the semantic relationships) between these terms. In this lab you will have complete exercises to practically execute this task on some example RDF data and vocabularies.\n",
    "\n",
    "We will use the rdflib library for this lab again."
   ]
  },
  {
   "source": [
    "# Setup rdflib and owlrl"
   ],
   "cell_type": "markdown",
   "metadata": {}
  },
  {
   "cell_type": "code",
   "execution_count": null,
   "metadata": {},
   "outputs": [],
   "source": [
    "%pip install rdflib owlrl"
   ]
  },
  {
   "cell_type": "code",
   "execution_count": null,
   "metadata": {},
   "outputs": [],
   "source": [
    "import rdflib as rdf\n",
    "import owlrl as owlrl"
   ]
  },
  {
   "cell_type": "code",
   "execution_count": null,
   "metadata": {},
   "outputs": [],
   "source": [
    "def runSparqlQuery(filename: str, schema: rdf.Graph):\n",
    "    with open(filename, 'r') as f:\n",
    "        query = f.read()\n",
    "    print(query)\n",
    "    for row in schema.query(query):\n",
    "        print(row)"
   ]
  },
  {
   "cell_type": "code",
   "execution_count": null,
   "metadata": {},
   "outputs": [],
   "source": [
    "model = rdf.Graph()\n",
    "model.parse(\"Lab9_OWL_familyrelations.ttl\", format = \"ttl\")"
   ]
  },
  {
   "cell_type": "code",
   "execution_count": null,
   "metadata": {},
   "outputs": [],
   "source": [
    "owlrl.DeductiveClosure(owlrl.OWLRL_Semantics).expand(model)"
   ]
  },
  {
   "source": [
    "# TASKS"
   ],
   "cell_type": "markdown",
   "metadata": {}
  },
  {
   "source": [
    "#### Task 1:\n",
    "\n",
    "Study the contents of the file \"Lab9_OWL_familyrelations.ttl\" carefully. Notice that there are two graphs about family members but both graphs use different terminology to describe the content."
   ],
   "cell_type": "markdown",
   "metadata": {}
  },
  {
   "source": [
    "#### Task 2: \n",
    "\n",
    "Write a SPARQL query in \"sparql-getSiblings.rq\" to retrieve all sibling pairs from the **combined** graph. Your query should only use vocabulary from **one** of the graphs.\n",
    "\n",
    "In order to complete the task, you need to add suitable mappings (statements) in the \"Lab9_OWL_familyrelations.ttl\" file. Please add these under \"Task 2\" in \"Lab9_OWL_familyrelations.ttl\".\n",
    "\n",
    "Run the cell below to observe the results you get back.\n",
    "\n"
   ],
   "cell_type": "markdown",
   "metadata": {}
  },
  {
   "cell_type": "code",
   "execution_count": null,
   "metadata": {},
   "outputs": [],
   "source": [
    "runSparqlQuery(\"sparql-getSiblings.rq\", model)"
   ]
  },
  {
   "source": [
    "#### Task 3: \n",
    "\n",
    "Write a SPARQL query in \"sparql-getAllMales.rq\" to retrieve all persons with the male gender from the **combined** graph. Your query should only use vocabulary from **one** of the graphs.\n",
    "\n",
    "In order to complete the task, you need to add suitable mappings (statements) in the \"Lab9_OWL_familyrelations.ttl\" file. Please add these under \"Task 3\" in \"Lab9_OWL_familyrelations.ttl\".\n",
    "\n",
    "Run the cell below to observe the results you get back."
   ],
   "cell_type": "markdown",
   "metadata": {}
  },
  {
   "cell_type": "code",
   "execution_count": null,
   "metadata": {},
   "outputs": [],
   "source": [
    "runSparqlQuery(\"sparql-getAllMales.rq\", model)"
   ]
  },
  {
   "source": [
    "#### Task 4: \n",
    "\n",
    "Write a SPARQL query in \"sparql-getParents.rq\" to retrieve all persons and their parents from the **combined** graph. Your query should only use vocabulary from **one** of the graphs.\n",
    "\n",
    "In order to complete the task, you need to add suitable mappings (statements) in the \"Lab9_OWL_familyrelations.ttl\" file. Please add these under \"Task 4\" in \"Lab9_OWL_familyrelations.ttl\".\n",
    "\n",
    "Run the cell below to observe the results you get back."
   ],
   "cell_type": "markdown",
   "metadata": {}
  },
  {
   "cell_type": "code",
   "execution_count": null,
   "metadata": {},
   "outputs": [],
   "source": [
    "runSparqlQuery(\"sparql-getParents.rq\", model)"
   ]
  },
  {
   "source": [
    "#### Task 5: \n",
    "\n",
    "Write a SPARQL query in \"sparql-getGivenAndFamilyNames.rq\" to retrieve all persons in the **combined** graph and display their first and last names. Your query should only use vocabulary from **one** of the graphs. **Human readable labels for all first and last names should be given for all persons**.\n",
    "\n",
    "In order to complete the task, you need to add suitable mappings (statements) in the \"Lab9_OWL_familyrelations.ttl\" file. Please add these under \"Task 5\" in \"Lab9_OWL_familyrelations.ttl\".\n",
    "\n",
    "Run the cell below to observe the results you get back."
   ],
   "cell_type": "markdown",
   "metadata": {}
  },
  {
   "cell_type": "code",
   "execution_count": null,
   "metadata": {},
   "outputs": [],
   "source": [
    "runSparqlQuery(\"sparql-getGivenAndFamilyNames.rq\", model)"
   ]
  }
 ],
 "metadata": {
  "kernelspec": {
   "name": "python3",
   "display_name": "Python 3.7.0 64-bit",
   "metadata": {
    "interpreter": {
     "hash": "e534e48711db4d1e1c48977d0d14ff85b1f16d41bcc4fdfd88268a329b3c9d66"
    }
   }
  },
  "language_info": {
   "codemirror_mode": {
    "name": "ipython",
    "version": 3
   },
   "file_extension": ".py",
   "mimetype": "text/x-python",
   "name": "python",
   "nbconvert_exporter": "python",
   "pygments_lexer": "ipython3",
   "version": "3.7.0-final"
  },
  "orig_nbformat": 4,
  "vscode": {
   "interpreter": {
    "hash": "f67778e30803453be050ac2ac1636b1f2384f1bf2d8cd0d10df28248e7d3e1e8"
   }
  }
 },
 "nbformat": 4,
 "nbformat_minor": 2
}