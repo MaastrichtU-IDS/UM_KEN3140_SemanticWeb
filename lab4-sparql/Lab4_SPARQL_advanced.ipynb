{
 "cells": [
  {
   "cell_type": "markdown",
   "metadata": {
    "slideshow": {
     "slide_type": "slide"
    }
   },
   "source": [
    "# KEN 3140 Semantic Web: Lab 5 🧪\n",
    "### Writing and executing complex SPARQL queries on RDF graphs\n",
    "\n",
    "**Reference specifications: https://www.w3.org/TR/sparql11-query/**\n",
    "\n",
    "We will use the **DBpedia SPARQL endpoint**: \n",
    "\n",
    ">**https://dbpedia.org/sparql**\n",
    "\n",
    "And **SPARQL query editor YASGUI**:\n",
    "\n",
    "> **https://yasgui.triply.cc**"
   ]
  },
  {
   "cell_type": "markdown",
   "metadata": {
    "slideshow": {
     "slide_type": "slide"
    }
   },
   "source": [
    "# SPARQL endpoint 🔗\n",
    "\n",
    "* Databases are not built to be publicly available, they usually live close to their applications\n",
    "* Triplestore can be fully queried through a publicly available SPARQL endpoint URL\n",
    "* Some solutions enable user management, but natively SPARQL endpoints are built to be open and give the same access to all their users\n",
    "\n",
    "We will use the **DBpedia SPARQL endpoint**: \n",
    "\n",
    ">**https://dbpedia.org/sparql**\n",
    "\n",
    "[DBpedia](https://wiki.dbpedia.org/) is a project to represent (parts of) Wikipedia as RDF, it has been used has a playground for the Semantic Web for years. The data is not controlled or curated, which lead to poor data quality (don't be surprised to find weird things)\n",
    "\n",
    "You can use a nicer query editor that can query any public SPARQL endpoint: \n",
    "\n",
    "> **https://yasgui.triply.cc**"
   ]
  },
  {
   "cell_type": "markdown",
   "metadata": {
    "slideshow": {
     "slide_type": "subslide"
    }
   },
   "source": [
    "# Install the SPARQL kernel\n",
    "\n",
    "This notebook uses the SPARQL Kernel to define and **execute SPARQL queries in the notebook** codeblocks.\n",
    "To **install the SPARQL Kernel** in your JupyterLab installation:\n",
    "\n",
    "```shell\n",
    "pip install sparqlkernel --user\n",
    "jupyter sparqlkernel install --user\n",
    "```\n",
    "\n",
    "To start running SPARQL query in this notebook, we need to define the **SPARQL kernel parameters**:"
   ]
  },
  {
   "cell_type": "code",
   "execution_count": 2,
   "metadata": {
    "slideshow": {
     "slide_type": "fragment"
    }
   },
   "outputs": [
    {
     "data": {
      "text/html": [
       "<div class=\"krn-spql\"><div class=\"magic\">Endpoint set to: http://dbpedia.org/sparql</div><div class=\"magic\">Logging set to DEBUG</div></div>"
      ],
      "text/plain": [
       "Endpoint set to: http://dbpedia.org/sparql\n",
       "Logging set to DEBUG\n"
      ]
     },
     "metadata": {},
     "output_type": "display_data"
    }
   ],
   "source": [
    "# Define the SPARQL endpoint to query\n",
    "%endpoint http://dbpedia.org/sparql\n",
    "\n",
    "# This is optional, it would increase the log level\n",
    "%log debug\n",
    "\n",
    "# Uncomment the next line to return label in english and avoid duplicates\n",
    "# %lang en"
   ]
  },
  {
   "cell_type": "markdown",
   "metadata": {
    "slideshow": {
     "slide_type": "slide"
    }
   },
   "source": [
    "# Perform an arithmetic operation\n",
    "\n",
    "Calculate the GDP per capita of countries from `dbp:gdpNominal` and `dbo:populationTotal`\n",
    "\n",
    "Starting from this query:\n",
    "\n",
    "```sparql\n",
    "PREFIX dbo: <http://dbpedia.org/ontology/>\n",
    "PREFIX dbp: <http://dbpedia.org/property/>\n",
    "SELECT ?country ?gdpValue ?population\n",
    "WHERE {\n",
    "    ?country dbp:gdpNominal ?gdpValue ;\n",
    "             dbo:populationTotal ?population .\n",
    "} LIMIT 10\n",
    "```"
   ]
  },
  {
   "cell_type": "markdown",
   "metadata": {
    "slideshow": {
     "slide_type": "subslide"
    }
   },
   "source": [
    "**Impossible due to different datatypes** 🚫\n",
    "\n",
    "The GDP is in `http://dbpedia.org/datatype/usDollar`, and the population is a `xsd:nonNegativeInteger`:"
   ]
  },
  {
   "cell_type": "code",
   "execution_count": 33,
   "metadata": {
    "slideshow": {
     "slide_type": "fragment"
    }
   },
   "outputs": [
    {
     "data": {
      "text/html": [
       "<div class=\"krn-spql\"><table><tr class=hdr><th>country</th>\n",
       "<th>gdpValue</th>\n",
       "<th>gdpType</th>\n",
       "<th>population</th>\n",
       "<th>populationType</th>\n",
       "<th>gdpPerCapita</th></tr><tr class=odd><td class=val><a href=\"http://dbpedia.org/resource/Arab_League\" target=\"_other\">http://dbpedia.org/resource/Arab_League</a></td>\n",
       "<td class=val>3.526E12</td>\n",
       "<td class=val><a href=\"http://dbpedia.org/datatype/usDollar\" target=\"_other\">http://dbpedia.org/datatype/usDollar</a></td>\n",
       "<td class=val>423000000</td>\n",
       "<td class=val><a href=\"http://www.w3.org/2001/XMLSchema#nonNegativeInteger\" target=\"_other\">http://www.w3.org/2001/XMLSchema#nonNegativeInteger</a></td>\n",
       "<td class=val>0</td></tr><tr class=even><td class=val><a href=\"http://dbpedia.org/resource/Syria\" target=\"_other\">http://dbpedia.org/resource/Syria</a></td>\n",
       "<td class=val>5.9957E10</td>\n",
       "<td class=val><a href=\"http://dbpedia.org/datatype/usDollar\" target=\"_other\">http://dbpedia.org/datatype/usDollar</a></td>\n",
       "<td class=val>17064854</td>\n",
       "<td class=val><a href=\"http://www.w3.org/2001/XMLSchema#nonNegativeInteger\" target=\"_other\">http://www.w3.org/2001/XMLSchema#nonNegativeInteger</a></td>\n",
       "<td class=val>0</td></tr><tr class=odd><td class=val><a href=\"http://dbpedia.org/resource/Economic_Cooperation_Organization\" target=\"_other\">http://dbpedia.org/resource/Economic_Cooperation_Organization</a></td>\n",
       "<td class=val>US $1.9 trillion</td>\n",
       "<td class=val><a href=\"http://www.w3.org/1999/02/22-rdf-syntax-ns#langString\" target=\"_other\">http://www.w3.org/1999/02/22-rdf-syntax-ns#langString</a></td>\n",
       "<td class=val>416046863</td>\n",
       "<td class=val><a href=\"http://www.w3.org/2001/XMLSchema#nonNegativeInteger\" target=\"_other\">http://www.w3.org/2001/XMLSchema#nonNegativeInteger</a></td>\n",
       "<td class=val>0</td></tr><tr class=even><td class=val><a href=\"http://dbpedia.org/resource/Egypt\" target=\"_other\">http://dbpedia.org/resource/Egypt</a></td>\n",
       "<td class=val>3.30765E11</td>\n",
       "<td class=val><a href=\"http://dbpedia.org/datatype/usDollar\" target=\"_other\">http://dbpedia.org/datatype/usDollar</a></td>\n",
       "<td class=val>85783</td>\n",
       "<td class=val><a href=\"http://www.w3.org/2001/XMLSchema#nonNegativeInteger\" target=\"_other\">http://www.w3.org/2001/XMLSchema#nonNegativeInteger</a></td>\n",
       "<td class=val>0</td></tr><tr class=odd><td class=val><a href=\"http://dbpedia.org/resource/United_States\" target=\"_other\">http://dbpedia.org/resource/United_States</a></td>\n",
       "<td class=val>1.8558E13</td>\n",
       "<td class=val><a href=\"http://dbpedia.org/datatype/usDollar\" target=\"_other\">http://dbpedia.org/datatype/usDollar</a></td>\n",
       "<td class=val>324720797</td>\n",
       "<td class=val><a href=\"http://www.w3.org/2001/XMLSchema#nonNegativeInteger\" target=\"_other\">http://www.w3.org/2001/XMLSchema#nonNegativeInteger</a></td>\n",
       "<td class=val>0</td></tr><tr class=even><td class=val><a href=\"http://dbpedia.org/resource/Afghanistan\" target=\"_other\">http://dbpedia.org/resource/Afghanistan</a></td>\n",
       "<td class=val>1.9654E10</td>\n",
       "<td class=val><a href=\"http://dbpedia.org/datatype/usDollar\" target=\"_other\">http://dbpedia.org/datatype/usDollar</a></td>\n",
       "<td class=val>32564342</td>\n",
       "<td class=val><a href=\"http://www.w3.org/2001/XMLSchema#nonNegativeInteger\" target=\"_other\">http://www.w3.org/2001/XMLSchema#nonNegativeInteger</a></td>\n",
       "<td class=val>0</td></tr><tr class=odd><td class=val><a href=\"http://dbpedia.org/resource/Albania\" target=\"_other\">http://dbpedia.org/resource/Albania</a></td>\n",
       "<td class=val>1.2204E10</td>\n",
       "<td class=val><a href=\"http://dbpedia.org/datatype/usDollar\" target=\"_other\">http://dbpedia.org/datatype/usDollar</a></td>\n",
       "<td class=val>2886026</td>\n",
       "<td class=val><a href=\"http://www.w3.org/2001/XMLSchema#nonNegativeInteger\" target=\"_other\">http://www.w3.org/2001/XMLSchema#nonNegativeInteger</a></td>\n",
       "<td class=val>0</td></tr><tr class=even><td class=val><a href=\"http://dbpedia.org/resource/Algeria\" target=\"_other\">http://dbpedia.org/resource/Algeria</a></td>\n",
       "<td class=val>1.8171E11</td>\n",
       "<td class=val><a href=\"http://dbpedia.org/datatype/usDollar\" target=\"_other\">http://dbpedia.org/datatype/usDollar</a></td>\n",
       "<td class=val>40400000</td>\n",
       "<td class=val><a href=\"http://www.w3.org/2001/XMLSchema#nonNegativeInteger\" target=\"_other\">http://www.w3.org/2001/XMLSchema#nonNegativeInteger</a></td>\n",
       "<td class=val>0</td></tr><tr class=odd><td class=val><a href=\"http://dbpedia.org/resource/Andorra\" target=\"_other\">http://dbpedia.org/resource/Andorra</a></td>\n",
       "<td class=val>4.51E9</td>\n",
       "<td class=val><a href=\"http://dbpedia.org/datatype/usDollar\" target=\"_other\">http://dbpedia.org/datatype/usDollar</a></td>\n",
       "<td class=val>85470</td>\n",
       "<td class=val><a href=\"http://www.w3.org/2001/XMLSchema#nonNegativeInteger\" target=\"_other\">http://www.w3.org/2001/XMLSchema#nonNegativeInteger</a></td>\n",
       "<td class=val>0</td></tr><tr class=even><td class=val><a href=\"http://dbpedia.org/resource/Antigua_and_Barbuda\" target=\"_other\">http://dbpedia.org/resource/Antigua_and_Barbuda</a></td>\n",
       "<td class=val>1.332E9</td>\n",
       "<td class=val><a href=\"http://dbpedia.org/datatype/usDollar\" target=\"_other\">http://dbpedia.org/datatype/usDollar</a></td>\n",
       "<td class=val>91295</td>\n",
       "<td class=val><a href=\"http://www.w3.org/2001/XMLSchema#nonNegativeInteger\" target=\"_other\">http://www.w3.org/2001/XMLSchema#nonNegativeInteger</a></td>\n",
       "<td class=val>0</td></tr></table><div class=\"tinfo\">Total: 10, Shown: 10</div></div>"
      ]
     },
     "metadata": {},
     "output_type": "display_data"
    }
   ],
   "source": [
    "PREFIX xsd: <http://www.w3.org/2001/XMLSchema#>\n",
    "PREFIX dbo: <http://dbpedia.org/ontology/>\n",
    "PREFIX dbp: <http://dbpedia.org/property/>\n",
    "PREFIX rdf: <http://www.w3.org/1999/02/22-rdf-syntax-ns#>\n",
    "SELECT ?country ?gdpValue datatype(?gdpValue) AS ?gdpType ?population datatype(?population) AS ?populationType (?gdpValue / ?population AS ?gdpPerCapita)\n",
    "WHERE {\n",
    "    ?country dbp:gdpNominal ?gdpValue ;\n",
    "             dbo:populationTotal ?population .\n",
    "} LIMIT 10"
   ]
  },
  {
   "cell_type": "markdown",
   "metadata": {
    "slideshow": {
     "slide_type": "subslide"
    }
   },
   "source": [
    "# Cast a variable to a specific datatype\n",
    "\n",
    "Especially useful when **comparing or performing an arithmetical operations on 2 variables**. Use the `xsd:` prefix for standard datatypes\n",
    "\n",
    "Here we divide a value in `usDollar` by a `nonNegativeInteger` casting the 2 to `xsd:integer` to calculate the GDP per capita of each country 💶"
   ]
  },
  {
   "cell_type": "code",
   "execution_count": 27,
   "metadata": {
    "slideshow": {
     "slide_type": "fragment"
    }
   },
   "outputs": [
    {
     "data": {
      "text/html": [
       "<div class=\"krn-spql\"><table><tr class=hdr><th>country</th>\n",
       "<th>gdpValue</th>\n",
       "<th>population</th>\n",
       "<th>gdpPerCapita</th></tr><tr class=odd><td class=val><a href=\"http://dbpedia.org/resource/Arab_League\" target=\"_other\">http://dbpedia.org/resource/Arab_League</a></td>\n",
       "<td class=val>3.526E12</td>\n",
       "<td class=val>423000000</td>\n",
       "<td class=val>8335</td></tr><tr class=even><td class=val><a href=\"http://dbpedia.org/resource/Syria\" target=\"_other\">http://dbpedia.org/resource/Syria</a></td>\n",
       "<td class=val>5.9957E10</td>\n",
       "<td class=val>17064854</td>\n",
       "<td class=val>3513</td></tr><tr class=odd><td class=val><a href=\"http://dbpedia.org/resource/Economic_Cooperation_Organization\" target=\"_other\">http://dbpedia.org/resource/Economic_Cooperation_Organization</a></td>\n",
       "<td class=val>US $1.9 trillion</td>\n",
       "<td class=val>416046863</td>\n",
       "<td class=val></td></tr><tr class=even><td class=val><a href=\"http://dbpedia.org/resource/Egypt\" target=\"_other\">http://dbpedia.org/resource/Egypt</a></td>\n",
       "<td class=val>3.30765E11</td>\n",
       "<td class=val>85783</td>\n",
       "<td class=val>3855833</td></tr><tr class=odd><td class=val><a href=\"http://dbpedia.org/resource/United_States\" target=\"_other\">http://dbpedia.org/resource/United_States</a></td>\n",
       "<td class=val>1.8558E13</td>\n",
       "<td class=val>324720797</td>\n",
       "<td class=val>57150</td></tr><tr class=even><td class=val><a href=\"http://dbpedia.org/resource/Afghanistan\" target=\"_other\">http://dbpedia.org/resource/Afghanistan</a></td>\n",
       "<td class=val>1.9654E10</td>\n",
       "<td class=val>32564342</td>\n",
       "<td class=val>603</td></tr><tr class=odd><td class=val><a href=\"http://dbpedia.org/resource/Albania\" target=\"_other\">http://dbpedia.org/resource/Albania</a></td>\n",
       "<td class=val>1.2204E10</td>\n",
       "<td class=val>2886026</td>\n",
       "<td class=val>4228</td></tr><tr class=even><td class=val><a href=\"http://dbpedia.org/resource/Algeria\" target=\"_other\">http://dbpedia.org/resource/Algeria</a></td>\n",
       "<td class=val>1.8171E11</td>\n",
       "<td class=val>40400000</td>\n",
       "<td class=val>4497</td></tr><tr class=odd><td class=val><a href=\"http://dbpedia.org/resource/Andorra\" target=\"_other\">http://dbpedia.org/resource/Andorra</a></td>\n",
       "<td class=val>4.51E9</td>\n",
       "<td class=val>85470</td>\n",
       "<td class=val>52767</td></tr><tr class=even><td class=val><a href=\"http://dbpedia.org/resource/Antigua_and_Barbuda\" target=\"_other\">http://dbpedia.org/resource/Antigua_and_Barbuda</a></td>\n",
       "<td class=val>1.332E9</td>\n",
       "<td class=val>91295</td>\n",
       "<td class=val>14590</td></tr></table><div class=\"tinfo\">Total: 10, Shown: 10</div></div>"
      ]
     },
     "metadata": {},
     "output_type": "display_data"
    }
   ],
   "source": [
    "PREFIX xsd: <http://www.w3.org/2001/XMLSchema#>\n",
    "PREFIX dbo: <http://dbpedia.org/ontology/>\n",
    "PREFIX dbp: <http://dbpedia.org/property/>\n",
    "SELECT ?country ?gdpValue ?population (xsd:integer(?gdpValue) / xsd:integer(?population) AS ?gdpPerCapita)\n",
    "WHERE {\n",
    "    ?country dbp:gdpNominal ?gdpValue ;\n",
    "             dbo:populationTotal ?population .\n",
    "} LIMIT 10"
   ]
  },
  {
   "cell_type": "markdown",
   "metadata": {
    "slideshow": {
     "slide_type": "slide"
    }
   },
   "source": [
    "# Bind a new variable\n",
    "\n",
    "* Use the `concat()` function to add \"http://country.org/\" at the start of a country ISO code.\n",
    "* Use `BIND` to bind the produced string to a variable\n",
    "* Make this string an URI using the `uri()` function\n",
    "\n",
    "```sparql\n",
    "SELECT *\n",
    "WHERE {\n",
    "    ?country a dbo:Country ;\n",
    "        dbp:iso31661Alpha ?isoCode .\n",
    "}\n",
    "```"
   ]
  },
  {
   "cell_type": "code",
   "execution_count": null,
   "metadata": {
    "slideshow": {
     "slide_type": "subslide"
    }
   },
   "outputs": [],
   "source": [
    "PREFIX dbo: <http://dbpedia.org/ontology/>\n",
    "PREFIX dbp: <http://dbpedia.org/property/>\n",
    "SELECT *\n",
    "WHERE {\n",
    "    ?country a dbo:Country ;\n",
    "        dbp:iso31661Alpha ?isoCode\n",
    "    BIND(uri(concat(\"http://country.org/\", ?isoCode)) AS ?isoUri)\n",
    "} LIMIT 10"
   ]
  },
  {
   "cell_type": "markdown",
   "metadata": {
    "slideshow": {
     "slide_type": "slide"
    }
   },
   "source": [
    "# Count aggregated results\n",
    "\n",
    "Count the number of books for each author 📚\n",
    "\n",
    "Starting from the query:\n",
    "\n",
    "```sparql\n",
    "PREFIX dbo:<http://dbpedia.org/ontology/>\n",
    "SELECT ?author\n",
    "WHERE {\n",
    "    ?book a dbo:Book ;\n",
    "        dbo:author ?author .\n",
    "} LIMIT 10\n",
    "```"
   ]
  },
  {
   "cell_type": "code",
   "execution_count": 13,
   "metadata": {
    "slideshow": {
     "slide_type": "subslide"
    }
   },
   "outputs": [
    {
     "data": {
      "text/html": [
       "<div class=\"krn-spql\"><table><tr class=hdr><th>author</th>\n",
       "<th>book_count</th></tr><tr class=odd><td class=val><a href=\"http://dbpedia.org/resource/Daniel_Carter_Beard\" target=\"_other\">http://dbpedia.org/resource/Daniel_Carter_Beard</a></td>\n",
       "<td class=val>1</td></tr><tr class=even><td class=val><a href=\"http://dbpedia.org/resource/Raymond_Smullyan\" target=\"_other\">http://dbpedia.org/resource/Raymond_Smullyan</a></td>\n",
       "<td class=val>1</td></tr><tr class=odd><td class=val><a href=\"http://dbpedia.org/resource/William_Donaldson\" target=\"_other\">http://dbpedia.org/resource/William_Donaldson</a></td>\n",
       "<td class=val>1</td></tr><tr class=even><td class=val><a href=\"http://dbpedia.org/resource/Joe_Conason\" target=\"_other\">http://dbpedia.org/resource/Joe_Conason</a></td>\n",
       "<td class=val>1</td></tr><tr class=odd><td class=val><a href=\"http://dbpedia.org/resource/John_Lennon\" target=\"_other\">http://dbpedia.org/resource/John_Lennon</a></td>\n",
       "<td class=val>3</td></tr><tr class=even><td class=val><a href=\"http://dbpedia.org/resource/Jürgen_Habermas\" target=\"_other\">http://dbpedia.org/resource/Jürgen_Habermas</a></td>\n",
       "<td class=val>8</td></tr><tr class=odd><td class=val><a href=\"http://dbpedia.org/resource/Robert_Nathan\" target=\"_other\">http://dbpedia.org/resource/Robert_Nathan</a></td>\n",
       "<td class=val>1</td></tr><tr class=even><td class=val><a href=\"http://dbpedia.org/resource/J._P._Martin\" target=\"_other\">http://dbpedia.org/resource/J._P._Martin</a></td>\n",
       "<td class=val>6</td></tr><tr class=odd><td class=val><a href=\"http://dbpedia.org/resource/Anthony_Everitt\" target=\"_other\">http://dbpedia.org/resource/Anthony_Everitt</a></td>\n",
       "<td class=val>1</td></tr><tr class=even><td class=val><a href=\"http://dbpedia.org/resource/Arthur_R.G._Solmssen\" target=\"_other\">http://dbpedia.org/resource/Arthur_R.G._Solmssen</a></td>\n",
       "<td class=val>1</td></tr></table><div class=\"tinfo\">Total: 10, Shown: 10</div></div>"
      ]
     },
     "metadata": {},
     "output_type": "display_data"
    }
   ],
   "source": [
    "PREFIX dbo:<http://dbpedia.org/ontology/>\n",
    "SELECT ?author (count(?book) as ?book_count)\n",
    "WHERE {\n",
    "    ?book a dbo:Book ;\n",
    "        dbo:author ?author .\n",
    "} LIMIT 10"
   ]
  },
  {
   "cell_type": "markdown",
   "metadata": {
    "slideshow": {
     "slide_type": "subslide"
    }
   },
   "source": [
    "# Count depend on the aggregated results of a row\n",
    "\n",
    "Here we select also the book, hence getting a count of 1 book for each row 📘"
   ]
  },
  {
   "cell_type": "code",
   "execution_count": 14,
   "metadata": {
    "slideshow": {
     "slide_type": "fragment"
    }
   },
   "outputs": [
    {
     "data": {
      "text/html": [
       "<div class=\"krn-spql\"><table><tr class=hdr><th>book</th>\n",
       "<th>author</th>\n",
       "<th>book_count</th></tr><tr class=odd><td class=val><a href=\"http://dbpedia.org/resource/The_Aunt's_Story\" target=\"_other\">http://dbpedia.org/resource/The_Aunt's_Story</a></td>\n",
       "<td class=val><a href=\"http://dbpedia.org/resource/Patrick_White\" target=\"_other\">http://dbpedia.org/resource/Patrick_White</a></td>\n",
       "<td class=val>1</td></tr><tr class=even><td class=val><a href=\"http://dbpedia.org/resource/The_Circus_of_Dr._Lao_and_Other_Improbable_Stories\" target=\"_other\">http://dbpedia.org/resource/The_Circus_of_Dr._Lao_and_Other_Improbable_Stories</a></td>\n",
       "<td class=val><a href=\"http://dbpedia.org/resource/Ray_Bradbury\" target=\"_other\">http://dbpedia.org/resource/Ray_Bradbury</a></td>\n",
       "<td class=val>1</td></tr><tr class=odd><td class=val><a href=\"http://dbpedia.org/resource/The_Four_False_Weapons\" target=\"_other\">http://dbpedia.org/resource/The_Four_False_Weapons</a></td>\n",
       "<td class=val><a href=\"http://dbpedia.org/resource/John_Dickson_Carr\" target=\"_other\">http://dbpedia.org/resource/John_Dickson_Carr</a></td>\n",
       "<td class=val>1</td></tr><tr class=even><td class=val><a href=\"http://dbpedia.org/resource/The_Smack_Man\" target=\"_other\">http://dbpedia.org/resource/The_Smack_Man</a></td>\n",
       "<td class=val><a href=\"http://dbpedia.org/resource/Nelson_DeMille\" target=\"_other\">http://dbpedia.org/resource/Nelson_DeMille</a></td>\n",
       "<td class=val>1</td></tr><tr class=odd><td class=val><a href=\"http://dbpedia.org/resource/The_Surprising_Archaea\" target=\"_other\">http://dbpedia.org/resource/The_Surprising_Archaea</a></td>\n",
       "<td class=val><a href=\"http://dbpedia.org/resource/John_L._Howland\" target=\"_other\">http://dbpedia.org/resource/John_L._Howland</a></td>\n",
       "<td class=val>1</td></tr><tr class=even><td class=val><a href=\"http://dbpedia.org/resource/Trapped_in_the_USSR\" target=\"_other\">http://dbpedia.org/resource/Trapped_in_the_USSR</a></td>\n",
       "<td class=val><a href=\"http://dbpedia.org/resource/J._J._Fortune\" target=\"_other\">http://dbpedia.org/resource/J._J._Fortune</a></td>\n",
       "<td class=val>1</td></tr><tr class=odd><td class=val><a href=\"http://dbpedia.org/resource/A_Gent_from_Bear_Creek\" target=\"_other\">http://dbpedia.org/resource/A_Gent_from_Bear_Creek</a></td>\n",
       "<td class=val><a href=\"http://dbpedia.org/resource/Robert_E._Howard\" target=\"_other\">http://dbpedia.org/resource/Robert_E._Howard</a></td>\n",
       "<td class=val>1</td></tr><tr class=even><td class=val><a href=\"http://dbpedia.org/resource/A_Golden_Anniversary_Bibliography_of_Edgar_Rice_Burroughs\" target=\"_other\">http://dbpedia.org/resource/A_Golden_Anniversary_Bibliography_of_Edgar_Rice_Burroughs</a></td>\n",
       "<td class=val><a href=\"http://dbpedia.org/resource/Henry_Hardy_Heins\" target=\"_other\">http://dbpedia.org/resource/Henry_Hardy_Heins</a></td>\n",
       "<td class=val>1</td></tr><tr class=odd><td class=val><a href=\"http://dbpedia.org/resource/Act_of_Providence\" target=\"_other\">http://dbpedia.org/resource/Act_of_Providence</a></td>\n",
       "<td class=val><a href=\"http://dbpedia.org/resource/Joseph_Payne_Brennan\" target=\"_other\">http://dbpedia.org/resource/Joseph_Payne_Brennan</a></td>\n",
       "<td class=val>1</td></tr><tr class=even><td class=val><a href=\"http://dbpedia.org/resource/Atlas_of_the_British_Flora\" target=\"_other\">http://dbpedia.org/resource/Atlas_of_the_British_Flora</a></td>\n",
       "<td class=val><a href=\"http://dbpedia.org/resource/Franklyn_Perring\" target=\"_other\">http://dbpedia.org/resource/Franklyn_Perring</a></td>\n",
       "<td class=val>1</td></tr></table><div class=\"tinfo\">Total: 10, Shown: 10</div></div>"
      ]
     },
     "metadata": {},
     "output_type": "display_data"
    }
   ],
   "source": [
    "PREFIX dbo:<http://dbpedia.org/ontology/>\n",
    "SELECT ?book ?author (count(?book) as ?book_count)\n",
    "WHERE {\n",
    "    ?book a dbo:Book ;\n",
    "        dbo:author ?author .\n",
    "} LIMIT 10"
   ]
  },
  {
   "cell_type": "markdown",
   "metadata": {},
   "source": [
    "# Group by\n",
    "\n",
    "Group solutions by variable value.\n",
    "\n",
    "Get the average GDP for all countries grouped by the currency they use, starting from:\n",
    "\n",
    "```sparql\n",
    "PREFIX xsd: <http://www.w3.org/2001/XMLSchema#>\n",
    "PREFIX dbp: <http://dbpedia.org/property/>\n",
    "PREFIX dbo: <http://dbpedia.org/ontology/>\n",
    "SELECT ?currency\n",
    "WHERE {\n",
    "  ?country dbo:currency ?currency ;\n",
    "     dbp:gdpPppPerCapita ?gdp .\n",
    "}\n",
    "```"
   ]
  },
  {
   "cell_type": "markdown",
   "metadata": {
    "slideshow": {
     "slide_type": "subslide"
    }
   },
   "source": [
    "Use the `AVG()` function to calculate the average of the GDPs grouped by currency:"
   ]
  },
  {
   "cell_type": "code",
   "execution_count": 5,
   "metadata": {
    "slideshow": {
     "slide_type": "fragment"
    }
   },
   "outputs": [
    {
     "data": {
      "text/html": [
       "<div class=\"krn-spql\"><div class=\"krn-error\"><span class=\"title\">Error:</span> Query processing error: &lt;urlopen error [Errno -3] Temporary failure in name resolution&gt;</div></div>"
      ],
      "text/plain": [
       "Error: Query processing error: <urlopen error [Errno -3] Temporary failure in name resolution>"
      ]
     },
     "metadata": {},
     "output_type": "display_data"
    }
   ],
   "source": [
    "PREFIX xsd: <http://www.w3.org/2001/XMLSchema#>\n",
    "PREFIX dbp: <http://dbpedia.org/property/>\n",
    "PREFIX dbo: <http://dbpedia.org/ontology/>\n",
    "SELECT ?currency (AVG(xsd:integer(?gdp)) AS ?avgGdp)\n",
    "WHERE {\n",
    "  ?country dbo:currency ?currency ;\n",
    "     dbp:gdpPppPerCapita ?gdp .\n",
    "}\n",
    "GROUP BY ?currency \n",
    "ORDER BY DESC(?avgGdp)\n",
    "LIMIT 15"
   ]
  },
  {
   "cell_type": "markdown",
   "metadata": {
    "slideshow": {
     "slide_type": "slide"
    }
   },
   "source": [
    "# Make a pattern optional\n",
    "\n",
    "We can define optional patterns that will be retrieved when available.\n",
    "\n",
    "Here we get all the books, and their authors when defined:"
   ]
  },
  {
   "cell_type": "code",
   "execution_count": null,
   "metadata": {
    "slideshow": {
     "slide_type": "fragment"
    }
   },
   "outputs": [],
   "source": [
    "PREFIX dbo: <http://dbpedia.org/ontology/>\n",
    "SELECT *\n",
    "WHERE {\n",
    "    ?book a dbo:Book .\n",
    "    OPTIONAL {\n",
    "        ?book dbo:author ?author .\n",
    "    }\n",
    "}"
   ]
  },
  {
   "cell_type": "markdown",
   "metadata": {},
   "source": [
    "# Retrieve the graph\n",
    "\n",
    "Most triplestores supports graphs todays which enable to add a 4th object to the triple (usually to classify it in a larger graph of triples).\n",
    "\n",
    "```turtle\n",
    "<http://subject> <http://predicate> <http://object> <http://graph> .\n",
    "```\n",
    "\n",
    "Also known as: context"
   ]
  },
  {
   "cell_type": "code",
   "execution_count": 10,
   "metadata": {},
   "outputs": [
    {
     "data": {
      "text/html": [
       "<div class=\"krn-spql\"><div class=\"krn-error\"><span class=\"title\">Error:</span> Query processing error: &lt;urlopen error [Errno -3] Temporary failure in name resolution&gt;</div></div>"
      ],
      "text/plain": [
       "Error: Query processing error: <urlopen error [Errno -3] Temporary failure in name resolution>"
      ]
     },
     "metadata": {},
     "output_type": "display_data"
    }
   ],
   "source": [
    "PREFIX dbo:<http://dbpedia.org/ontology/>\n",
    "SELECT ?author ?graph\n",
    "WHERE {\n",
    "    GRAPH ?graph {\n",
    "        ?book a dbo:Book ;\n",
    "            dbo:author ?author .\n",
    "    }\n",
    "} LIMIT 10"
   ]
  },
  {
   "cell_type": "markdown",
   "metadata": {
    "slideshow": {
     "slide_type": "subslide"
    }
   },
   "source": [
    "We can also query the triples `FROM` a specific graph:"
   ]
  },
  {
   "cell_type": "code",
   "execution_count": null,
   "metadata": {
    "slideshow": {
     "slide_type": "fragment"
    }
   },
   "outputs": [],
   "source": [
    "PREFIX dbo:<http://dbpedia.org/ontology/>\n",
    "SELECT ?author ?graph\n",
    "FROM <http://dbpedia.org>\n",
    "WHERE {\n",
    "    GRAPH ?graph {\n",
    "        ?book a dbo:Book ;\n",
    "            dbo:author ?author .\n",
    "    }\n",
    "} LIMIT 10"
   ]
  },
  {
   "cell_type": "markdown",
   "metadata": {
    "slideshow": {
     "slide_type": "subslide"
    }
   },
   "source": [
    "# Or get all graphs\n",
    "\n",
    "This query takes time in big datasets, but is usually cached in Virtuoso triplestores."
   ]
  },
  {
   "cell_type": "code",
   "execution_count": null,
   "metadata": {
    "slideshow": {
     "slide_type": "fragment"
    }
   },
   "outputs": [],
   "source": [
    "SELECT ?g\n",
    "WHERE {\n",
    "    GRAPH ?g {\n",
    "        ?s ?p ?o .\n",
    "    }\n",
    "}"
   ]
  },
  {
   "cell_type": "markdown",
   "metadata": {
    "slideshow": {
     "slide_type": "slide"
    }
   },
   "source": [
    "# Subqueries\n",
    "\n",
    "A query inside a query 🤯\n",
    "\n",
    "Resolve: order the first 10 countries to have been dissolved by date of creation.\n",
    "* Select all countries that have been dissolved\n",
    "* Order them by dissolution date (oldest to newest)\n",
    "* Limit to 10\n",
    "* Finally, order the results (countries) from the most recently created to the oldest created\n"
   ]
  },
  {
   "cell_type": "markdown",
   "metadata": {
    "slideshow": {
     "slide_type": "subslide"
    }
   },
   "source": [
    "* Order countries by dissolution date and keep the 10 first\n",
    "* Order them from the most recently created to the oldest created"
   ]
  },
  {
   "cell_type": "code",
   "execution_count": 9,
   "metadata": {
    "slideshow": {
     "slide_type": "fragment"
    }
   },
   "outputs": [
    {
     "data": {
      "text/html": [
       "<div class=\"krn-spql\"><div class=\"krn-error\"><span class=\"title\">Error:</span> Query processing error: &lt;urlopen error [Errno -3] Temporary failure in name resolution&gt;</div></div>"
      ],
      "text/plain": [
       "Error: Query processing error: <urlopen error [Errno -3] Temporary failure in name resolution>"
      ]
     },
     "metadata": {},
     "output_type": "display_data"
    }
   ],
   "source": [
    "SELECT *\n",
    "WHERE {\n",
    "  {\n",
    "    SELECT ?country ?dissolutionDate\n",
    "    WHERE {\n",
    "      ?country a dbo:Country ;\n",
    "            dbo:dissolutionDate ?dissolutionDate .\n",
    "    } order by ?dissolutionDate limit 10\n",
    "  }\n",
    "  ?country dbo:foundingYear ?foundingYear .\n",
    "} order by desc(?foundingYear)"
   ]
  },
  {
   "cell_type": "markdown",
   "metadata": {
    "slideshow": {
     "slide_type": "slide"
    }
   },
   "source": [
    "# Federated query\n",
    "\n",
    "Same as a subquery, a federated query enable to query another SPARQL endpoint directly\n",
    "\n",
    "Change the YASGUI SPARQL endpoint to **https://bio2rdf.org/sparql** (dbpedia blocks federated queries)"
   ]
  },
  {
   "cell_type": "code",
   "execution_count": null,
   "metadata": {
    "slideshow": {
     "slide_type": "fragment"
    }
   },
   "outputs": [],
   "source": [
    "SELECT * WHERE {\n",
    "  SERVICE <https://query.wikidata.org/sparql> {\n",
    "      ?geneUri wdt:P688 ?encodedProtein .\n",
    "      ?encodedProtein wdt:P352 ?uniprotId .\n",
    "  } \n",
    "} LIMIT 3\n"
   ]
  },
  {
   "cell_type": "markdown",
   "metadata": {
    "slideshow": {
     "slide_type": "slide"
    }
   },
   "source": [
    "# Construct 🧱\n",
    "\n",
    "On https://query.wikidata.org/  \n",
    "Return a graph specified by a template (build triples)\n",
    "\n",
    "Generate `rdfs:label` statements for 10 genes and the proteins they encode from Wikidata"
   ]
  },
  {
   "cell_type": "code",
   "execution_count": null,
   "metadata": {
    "slideshow": {
     "slide_type": "subslide"
    }
   },
   "outputs": [],
   "source": [
    "CONSTRUCT {\n",
    "  ?gene rdfs:label ?geneLabel .\n",
    "  ?encodedProtein rdfs:label ?encodedProteinLabel .\n",
    "}\n",
    "WHERE {\n",
    "  SERVICE wikibase:label { bd:serviceParam wikibase:language \"en\". }\n",
    "  ?gene wdt:P688 ?encodedProtein .\n",
    "} LIMIT 10"
   ]
  },
  {
   "cell_type": "markdown",
   "metadata": {
    "slideshow": {
     "slide_type": "slide"
    }
   },
   "source": [
    "# Insert 📝\n",
    "\n",
    "Same as a `construct` but directly insert triples into your triplestore"
   ]
  },
  {
   "cell_type": "code",
   "execution_count": null,
   "metadata": {
    "slideshow": {
     "slide_type": "fragment"
    }
   },
   "outputs": [],
   "source": [
    "INSERT {\n",
    "  GRAPH <http://graph> {\n",
    "    ?geneUri rdfs:label ?geneLabel .\n",
    "  } } \n",
    "WHERE {\n",
    "  SERVICE <https://query.wikidata.org/sparql> {\n",
    "    SELECT * WHERE {\n",
    "      ?geneUri wdt:P688 ?encodedProtein .\n",
    "      ?encodedProtein wdt:P352 ?uniprotId .\n",
    "      SERVICE wikibase:label { bd:serviceParam wikibase:language \"en\".\n",
    "        ?geneUri rdfs:label ?geneLabel . } } LIMIT 3\n",
    "  } \n",
    "}"
   ]
  },
  {
   "cell_type": "markdown",
   "metadata": {
    "slideshow": {
     "slide_type": "subslide"
    }
   },
   "source": [
    "# Insert data\n",
    "\n",
    "Use SPARQL to insert data into your triplestore (not possible on public endpoints)"
   ]
  },
  {
   "cell_type": "code",
   "execution_count": null,
   "metadata": {
    "slideshow": {
     "slide_type": "fragment"
    }
   },
   "outputs": [],
   "source": [
    "PREFIX rdfs: <http://www.w3.org/2000/01/rdf-schema#>\n",
    "INSERT DATA {\n",
    "  GRAPH <http://my-graph> {\n",
    "      <my-subject> rdfs:label \"inserted object\" .\n",
    "  } \n",
    "}"
   ]
  },
  {
   "cell_type": "markdown",
   "metadata": {
    "slideshow": {
     "slide_type": "slide"
    }
   },
   "source": [
    "# Delete ❌\n",
    "\n",
    "To delete particular statements retrieved from a pattern using `WHERE` \n",
    "\n",
    "Here we delete the `bl:name` statements for the genes we just created:"
   ]
  },
  {
   "cell_type": "code",
   "execution_count": null,
   "metadata": {
    "slideshow": {
     "slide_type": "fragment"
    }
   },
   "outputs": [],
   "source": [
    "DELETE {\n",
    "  GRAPH <http://graph> {\n",
    "    ?geneUri bl:name ?geneLabel.\n",
    "  } } \n",
    "WHERE {\n",
    "  ?geneUri a bl:Gene .\n",
    "  ?geneUri bl:name ?geneLabel .\n",
    "}"
   ]
  },
  {
   "cell_type": "markdown",
   "metadata": {
    "slideshow": {
     "slide_type": "subslide"
    }
   },
   "source": [
    "# Delete data\n",
    "\n",
    "Directly provide the statements to delete"
   ]
  },
  {
   "cell_type": "code",
   "execution_count": 11,
   "metadata": {
    "slideshow": {
     "slide_type": "fragment"
    }
   },
   "outputs": [
    {
     "data": {
      "text/html": [
       "<div class=\"krn-spql\"><div class=\"krn-error\"><span class=\"title\">Error:</span> Query processing error: &lt;urlopen error [Errno -3] Temporary failure in name resolution&gt;</div></div>"
      ],
      "text/plain": [
       "Error: Query processing error: <urlopen error [Errno -3] Temporary failure in name resolution>"
      ]
     },
     "metadata": {},
     "output_type": "display_data"
    }
   ],
   "source": [
    "PREFIX rdfs: <http://www.w3.org/2000/01/rdf-schema#>\n",
    "DELETE DATA {\n",
    "  GRAPH <http://my-graph> {\n",
    "      <http://my-subject> rdfs:label \"inserted object\" .\n",
    "  } \n",
    "} "
   ]
  },
  {
   "cell_type": "markdown",
   "metadata": {
    "slideshow": {
     "slide_type": "slide"
    }
   },
   "source": [
    "# SPARQL query breakdown 🧬\n",
    "\n",
    "<img src=\"sparql_query_breakdown.png\">"
   ]
  },
  {
   "cell_type": "markdown",
   "metadata": {
    "slideshow": {
     "slide_type": "slide"
    }
   },
   "source": [
    "# Search on DBpedia 🔎\n",
    "\n",
    "Use **[https://yasgui.triply.cc](https://yasgui.triply.cc)** to write and run SPARQL query on DBpedia\n",
    "\n",
    "> Find DBpedia classes and relations: search on google, e.g.: \"**[dbpedia capital](https://www.google.com/search?&q=dbpedia+capital)**\"\n",
    "\n",
    "1. Calculate countries density. Density = `dbo:populationTotal` / `dbo:PopulatedPlace/areaTotal`\n",
    "\n",
    "2. The capital ([dbo:capital](http://dbpedia.org/ontology/capital)) of the country in which authors of books are born ([dbo:birthPlace](http://dbpedia.org/ontology/birthPlace)), limit to 10\n",
    "\n",
    "3. All books with a name in english starting with \"http\" ignoring case\n",
    "\n",
    "> **Search for functions in the specifications: https://www.w3.org/TR/sparql11-query**\n"
   ]
  },
  {
   "cell_type": "markdown",
   "metadata": {
    "slideshow": {
     "slide_type": "subslide"
    }
   },
   "source": [
    "## 1. Compute countries density"
   ]
  },
  {
   "cell_type": "code",
   "execution_count": null,
   "metadata": {},
   "outputs": [],
   "source": [
    "SELECT ?country ?area ?population \n",
    "  (xsd:float(?population)/xsd:float(?area) AS ?density)\n",
    "WHERE {\n",
    "  ?country a dbo:Country ;  \n",
    "      dbo:populationTotal ?population ;\n",
    "      <http://dbpedia.org/ontology/PopulatedPlace/areaTotal> ?area .\n",
    "      FILTER(?area != 0)\n",
    "}"
   ]
  },
  {
   "cell_type": "markdown",
   "metadata": {
    "slideshow": {
     "slide_type": "slide"
    }
   },
   "source": [
    "# Public SPARQL endpoints 🔗\n",
    "\n",
    "* Wikidata, facts powering Wikipedia infobox: https://query.wikidata.org/sparql\n",
    "* Bio2RDF, linked data for the life sciences: https://bio2rdf.org/sparql\n",
    "* Disgenet, gene-disease association: http://rdf.disgenet.org/sparql\n",
    "* PathwayCommons, resource for biological pathways analysis: http://rdf.pathwaycommons.org/sparql\n",
    "\n",
    "# Going further\n",
    "\n",
    "* Wikidata SPARQL queries around the SARS-CoV-2 virus and pandemic: https://egonw.github.io/SARS-CoV-2-Queries\n",
    "* Use [prefix.cc](http://prefix.cc/) to resolve mysterious prefixes."
   ]
  }
 ],
 "metadata": {
  "kernelspec": {
   "display_name": "SPARQL",
   "language": "sparql",
   "name": "sparql"
  },
  "language_info": {
   "codemirror_mode": {
    "name": "sparql"
   },
   "mimetype": "application/sparql-query",
   "name": "sparql",
   "pygments_lexer": "sparql-nb"
  }
 },
 "nbformat": 4,
 "nbformat_minor": 4
}
