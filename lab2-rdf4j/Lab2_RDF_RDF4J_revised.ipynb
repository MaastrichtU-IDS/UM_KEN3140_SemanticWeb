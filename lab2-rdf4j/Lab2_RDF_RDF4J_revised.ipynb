{
 "cells": [
  {
   "cell_type": "markdown",
   "source": [
    "### KEN 3140: Lab 2 (RDF basics)\n",
    "#### Learning objectives:\n",
    "1. How to verify whether a string represents a valid IRI or not\n",
    "2. How to construct entities, literals, predicates and triples in RDF\n",
    "3. How to identify and reuse relations and entities from external vocabularies when creating RDF representations\n",
    "4. How to construct and save RDF documents in different syntaxes and to convert between them (RDF/XML, Turtle, N-triples)\n",
    "5. How to identify and add appropriate XML datatypes for literals in an RDF graph \n",
    "6. How to assess if a particular RDF representation violates the RDF specification"
   ],
   "metadata": {}
  },
  {
   "cell_type": "markdown",
   "source": [
    "### 1. Introduction & setup \n",
    "This section sets up the environment required for you to complete this lab. This information may be useful for your other assignments or future RDF projects that you would like to do in Java Jupyter notebooks."
   ],
   "metadata": {}
  },
  {
   "cell_type": "markdown",
   "source": [
    "#### A. Add RDF4J library to our notebook\n",
    "[RDF4J](https://rdf4j.org/) is a Java library for creating and manipulating [RDF](https://www.w3.org/TR/rdf11-concepts/) information. There is a documentation page [here](https://rdf4j.org/documentation/) to learn how to get started with RDF4J. To import this:\n",
    "\n",
    "1. Extract the ``rdf4j-full-3.4.0.zip`` archive to the same directory as the notebook.\n",
    "2. Run the command ``%jars rdf4j-full-3.4.0/*.jar`` in the next cell."
   ],
   "metadata": {}
  },
  {
   "cell_type": "code",
   "execution_count": null,
   "source": [
    "%jars /opt/eclipse-rdf4j-*.jar"
   ],
   "outputs": [],
   "metadata": {}
  },
  {
   "cell_type": "markdown",
   "source": [
    "#### B. Now import the main classes we will need in this notebook\n",
    "\n",
    "The [model](https://rdf4j.org/documentation/programming/model/) package is the core package for RDF4J which contains the main classes for creating and manipulating RDF. Within the model package there are three sub-packages:\n",
    "1. org.eclipse.rdf4j.model\n",
    "2. org.eclipse.rdf4j.model.impl\n",
    "3. org.eclipse.rdf4j.model.vocabulary\n",
    "\n",
    "[Rio](https://rdf4j.org/documentation/programming/rio/) packages the powerful writers and parsers for RDF4J. The main packages here are:\n",
    "1. org.eclipse.rdf4j.rio\n",
    "2. org.eclipse.rdf4j.rio.Rio\n",
    "3. import org.eclipse.rdf4j.rio.helpers"
   ],
   "metadata": {}
  },
  {
   "cell_type": "code",
   "execution_count": null,
   "source": [
    "// RDF4J\n",
    "import org.eclipse.rdf4j.model.*;\n",
    "import org.eclipse.rdf4j.model.impl.*;\n",
    "import org.eclipse.rdf4j.model.vocabulary.*;\n",
    "// Rio\n",
    "import org.eclipse.rdf4j.rio.*;\n",
    "import org.eclipse.rdf4j.rio.helpers.*;\n",
    "// Java IO\n",
    "import java.io.*;\n",
    "// Import package which contains Datatype and XMLGregorianCalendar classes\n",
    "import javax.xml.datatype.*;"
   ],
   "outputs": [],
   "metadata": {}
  },
  {
   "cell_type": "markdown",
   "source": [
    "### 2. Creating a simple RDF graph\n",
    "For demonstration, we show here how to create a simple RDF graph in RDF4J with two IRI entities and two literals"
   ],
   "metadata": {}
  },
  {
   "cell_type": "markdown",
   "source": [
    "#### A. Initialise RDF graph\n",
    "Here we will set up a namespace for the entities in our graph, and initialise an empty RDF graph in RDF4J which we can start building "
   ],
   "metadata": {}
  },
  {
   "cell_type": "code",
   "execution_count": null,
   "source": [
    "// We need to get a hold of an instance of the ValueFactory class.\n",
    "// This class allows you to create IRIs, blank nodes, literals and\n",
    "// triples in RDF4J. RDF4J does not have a Triples class, rather, it \n",
    "// has a class called Statement. Why? Because not only can you make\n",
    "// statements with three components (triples) but also four! (called Quads)\n",
    "// Therefore, \"Statement\" is a more general term to capture either triples or quads.\n",
    "ValueFactory vf = SimpleValueFactory.getInstance();\n",
    "// Create a namespace for our resources\n",
    "String um = \"http://maastrichtuniversity.nl/\";\n",
    "// Create a new, empty Model object (this instance represents our RDF graph - which will be empty at the moment).\n",
    "Model model = new TreeModel();\n",
    "// Defining a namespace in RDF4J (first parameter of SimpleNamespace constructor is the prefix i.e. abbreviation for the namespace. second parameter is the full IRI of the namespace)\n",
    "model.setNamespace(new SimpleNamespace(\"um\",um));"
   ],
   "outputs": [],
   "metadata": {}
  },
  {
   "cell_type": "markdown",
   "source": [
    "#### B. Create IRIs & Namespaces\n",
    "Here we create some IRIs for resources that we want to describe. Let's start with an instance and a type."
   ],
   "metadata": {}
  },
  {
   "cell_type": "code",
   "execution_count": null,
   "source": [
    "// Create an IRI for an entity with resource name \"kody\"\n",
    "IRI kody = vf.createIRI(um, \"kody\");\n",
    "// Create an IRI for an entity with resource name \"Computer_Scientist\" (this will be a type for kody)\n",
    "IRI computerScientist = vf.createIRI(um, \"Computer_Scientist\");\n",
    "// Create another namespace\n",
    "String an = \"http://anothernamespace.com/\";\n",
    "// define another namespace prefix (just to demonstrate that we can!)\n",
    "model.setNamespace(new SimpleNamespace(\"an\",an));"
   ],
   "outputs": [],
   "metadata": {}
  },
  {
   "cell_type": "markdown",
   "source": [
    "...and now some predicates. In this case we add two data properties:"
   ],
   "metadata": {}
  },
  {
   "cell_type": "code",
   "execution_count": null,
   "source": [
    "// Predicates Example 1\n",
    "// Create an IRI for a predicate with resource name \"likePets\"\n",
    "IRI likesPets = vf.createIRI(an, \"likesPets\");\n",
    "// Predicates  Example 2\n",
    "// Create an IRI for a predicate with resource name \"birthDate\"\n",
    "IRI birthDate = vf.createIRI(\"http://schema.org/\", \"birthDate\");\n",
    "// Define some more more namespaces that our entities make use of in the graph\n",
    "model.setNamespace(new SimpleNamespace(\"schema\",\"http://schema.org/\"));\n",
    "model.setNamespace(new SimpleNamespace(\"xsd\",\"http://www.w3.org/2001/XMLSchema#\"));\n",
    "// FOAF.NS is a built-in relation in RDF4J (https://rdf4j.org/javadoc/latest/org/eclipse/rdf4j/model/vocabulary/FOAF.html)\n",
    "model.setNamespace(FOAF.NS);"
   ],
   "outputs": [],
   "metadata": {}
  },
  {
   "cell_type": "markdown",
   "source": [
    "#### C. Data types\n",
    "Create some literal values and attach some data types to them."
   ],
   "metadata": {}
  },
  {
   "cell_type": "code",
   "execution_count": null,
   "source": [
    "// Literals with data types Example 1 (boolean values)\n",
    "// Create a boolean literal with value \"true\"\n",
    "boolean likesPetsValue = true;\n",
    "Literal booleanLiteralWithValueTrue = vf.createLiteral(true);\n",
    "// Literals with data types Example 2 (dates)\n",
    "XMLGregorianCalendar kodysBirthDate = DatatypeFactory.newInstance().newXMLGregorianCalendarDate(1986, 5, 14, 2);\n",
    "Literal dateLiteralWithValueKodysBirthDate = vf.createLiteral(kodysBirthDate);\n",
    "// More examples for other data types are available in the Javadocs for the \"ValueFactory\" class in RDF4J.\n",
    "// NB: look at the \"createLiteral\" methods on this page for more information!"
   ],
   "outputs": [],
   "metadata": {}
  },
  {
   "cell_type": "markdown",
   "source": [
    "#### D. Create Triples\n",
    "Here we create some triples about the entities above and add them to our RDF graph. Notice that we are reusing existing relations RDF.TYPE, FOAF.FIRST_NAME and FOAF.LAST_NAME here. [FOAF](http://xmlns.com/foaf/spec/) is a community-maintained vocabulary about people and common relations and properties about them. Consult the [Javadoc](https://rdf4j.org/javadoc/latest/) to see what other built-in relations there might be. E.g. to see what other FOAF relations there are in RDF4J you can go [here](https://rdf4j.org/javadoc/latest/org/eclipse/rdf4j/model/vocabulary/FOAF.html) and for RDF [here](https://rdf4j.org/javadoc/latest/org/eclipse/rdf4j/model/vocabulary/RDF.html). Essentially, just replace the name of the .html file in the URL with whatever vocabularies (predefined in RDF4J) you want to view. To see a full list of these predefined vocabularies in RDF4J, see [here](https://rdf4j.org/javadoc/latest/org/eclipse/rdf4j/model/vocabulary/package-summary.html). **NB: you are not restricted to these vocabularies. These are just the ones predefined by default for convenience in RDF4J so you don't have to define them yourself. You can also define your own!**"
   ],
   "metadata": {}
  },
  {
   "cell_type": "code",
   "execution_count": null,
   "source": [
    "// Add triples to the graph: kody is a Computer Scientist\n",
    "model.add(kody, RDF.TYPE, computerScientist);\n",
    "// the entity http://maastrichtuniversity.nl/kody has first name \"Kody\".\n",
    "model.add(kody, FOAF.FIRST_NAME, vf.createLiteral(\"Kody\"));\n",
    "// the entity http://maastrichtuniversity.nl/kody has last name \"Moodley\".\n",
    "model.add(kody, FOAF.LAST_NAME, vf.createLiteral(\"Moodley\"));\n",
    "// kody likes pets\n",
    "model.add(kody, likesPets, booleanLiteralWithValueTrue);\n",
    "// kody was born on 14-05-1986\n",
    "model.add(kody, birthDate, dateLiteralWithValueKodysBirthDate);"
   ],
   "outputs": [],
   "metadata": {}
  },
  {
   "cell_type": "markdown",
   "source": [
    "#### E. Print out the entities and triples in our graph"
   ],
   "metadata": {}
  },
  {
   "cell_type": "code",
   "execution_count": null,
   "source": [
    "System.out.println(\"Namespaces / prefixes used in this graph:\");\n",
    "System.out.println(\"-----------------------------------------\");\n",
    "for (Namespace n: model.getNamespaces()){\n",
    "        System.out.println(n);\n",
    "}\n",
    "\n",
    "System.out.println();\n",
    "\n",
    "System.out.println(\"Entities in this graph:\");\n",
    "System.out.println(\"-----------------------\");\n",
    "\n",
    "// Print the entities in our graph\n",
    "System.out.println(\"Kody entity: \" + kody);\n",
    "System.out.println(\"Computer Scientist entity: \" + computerScientist);\n",
    "\n",
    "System.out.println();\n",
    "\n",
    "System.out.println(\"Triples in this graph:\");\n",
    "System.out.println(\"----------------------\");\n",
    "\n",
    "int i = 1;\n",
    "// Print the triples as well\n",
    "for (Statement statement: model) {\n",
    "    System.out.println(i + \". \\n\" + statement);\n",
    "    i++;\n",
    "}"
   ],
   "outputs": [],
   "metadata": {}
  },
  {
   "cell_type": "markdown",
   "source": [
    "#### F. Serialisation into different RDF syntaxes\n",
    "How to save a graph into different RDF syntaxes"
   ],
   "metadata": {}
  },
  {
   "cell_type": "code",
   "execution_count": null,
   "source": [
    "// RDF/XML syntax\n",
    "FileOutputStream out = new FileOutputStream(\"KEN3140_Lab2_example.rdf\");\n",
    "try {\n",
    "  Rio.write(model, out, RDFFormat.RDFXML);\n",
    "}\n",
    "finally {\n",
    "  out.close();\n",
    "}\n",
    "\n",
    "// Turtle syntax\n",
    "FileOutputStream out2 = new FileOutputStream(\"KEN3140_Lab2_example.ttl\");\n",
    "try {\n",
    "  Rio.write(model, out2, RDFFormat.TURTLE);\n",
    "}\n",
    "finally {\n",
    "  out2.close();\n",
    "}\n",
    "\n",
    "// N-triples syntax\n",
    "FileOutputStream out3 = new FileOutputStream(\"KEN3140_Lab2_example.nt\");\n",
    "try {\n",
    "  Rio.write(model, out3, RDFFormat.NTRIPLES);\n",
    "}\n",
    "finally {\n",
    "  out3.close();\n",
    "}"
   ],
   "outputs": [],
   "metadata": {}
  },
  {
   "cell_type": "markdown",
   "source": [
    "Try to open these files here in Jupyter or in your file explorer using the text editor of your choice and **spot the differences** in the syntaxes for representing the same information. **Which syntax do you prefer? Which do you think are more human-readable?** If ever you want to convert an RDF document between syntaxes, you can use Rio for this (by loading and parsing the file into an RDF4J model - you can see an example in Task 1 below) and then saving it in another using similar code to the preceding cell. You can also use various online tools for smaller RDF files e.g. [EasyRDF](https://www.easyrdf.org/converter)"
   ],
   "metadata": {}
  },
  {
   "cell_type": "markdown",
   "source": [
    "### 3. Lab Tasks\n",
    "\n",
    "IRI validation"
   ],
   "metadata": {}
  },
  {
   "cell_type": "markdown",
   "source": [
    "#### Task 1: Instructions\n",
    "\n",
    "In this task you are going to verify which of the following strings are valid IRIs or not. \n",
    "Verify them by copying and pasting them into the provided ``KEN3140_Lab2_task1.ttl`` document.\n",
    "Specifically replace the text **//paste IRI here//** with each of these IRIs and save the file. \n",
    "After each replace, run the cell just below the one titled **Task1: IRI validation code** and monitor the output to see which are valid or not.\n",
    "If you find some of these to be invalid IRIs, consult the [rfc3987](https://tools.ietf.org/html/rfc3987)\n",
    "IRI specification to put forward reasons why they are invalid. **For each valid IRI in the list, think about\n",
    "and discuss with your classmates in the BlackBoard Collaborate chat, whether these comply with the Linked Principles or not**\n",
    "\n",
    "1. ``myIRI``\n",
    "2. ``myIRI/``\n",
    "3. ``myIRI#``\n",
    "4. ``ftp:/myIRI``\n",
    "5. ``ftp://myIRI/``\n",
    "6. ``ftp://myIRI#``\n",
    "7. ``http://myIRI#``\n",
    "8. ``http:///myIRI/folder1/folder2/``\n",
    "9. ``http:///myIRI/folder1/folder2/my name``\n",
    "10. ``http:///myIRI/folder1/folder2/my_name``\n",
    "11. ``my_own_protocol:///myIRI/folder1/folder2/my_name``\n",
    "12. ``:///myIRI/folder1/folder2/my_name``\n",
    "13. ``https://myIRI/$/my_name``\n",
    "14. ``https://myIRI/#$#/my_name``\n",
    "15. ``https://136.292.181.23/#12/my_name``\n",
    "16. ``https://136.255.181.23/!210382/my_name``\n",
    "17. ``https://schema.org/parent``\n",
    "18. ``https://www.wikidata.org/wiki/Q937``\n",
    "19. ``https://en.wikipedia.org/wiki/Albert_Einstein``\n",
    "20. ``https://www.w3.org/Consortium/``\n",
    "    "
   ],
   "metadata": {}
  },
  {
   "cell_type": "markdown",
   "source": [
    "#### Task 1: IRI Validation Code\n",
    "\n",
    "Parses ``KEN3140_Lab2_task1.ttl`` to see if it complies with correct RDF syntax "
   ],
   "metadata": {}
  },
  {
   "cell_type": "code",
   "execution_count": null,
   "source": [
    "RDFParser rdfParser = Rio.createParser(RDFFormat.TURTLE);\n",
    "InputStream in = new FileInputStream(\"KEN3140_Lab2_task1.ttl\");\n",
    "Model model = new TreeModel();\n",
    "rdfParser.setRDFHandler(new StatementCollector(model));\n",
    "\n",
    "try {\n",
    "    rdfParser.parse(in, \"\");\n",
    "    System.out.println(\"Valid RDF document!\");\n",
    "}\n",
    "catch (IOException e) {\n",
    "    // handle IO problems (e.g. the file could not be read)\n",
    "    System.out.println(\"I/O error: \" + e);\n",
    "}\n",
    "catch (RDFParseException e) {\n",
    "    // handle unrecoverable parse error\n",
    "    System.out.println(\"Parse error: \" + e);\n",
    "}\n",
    "catch (RDFHandlerException e) {\n",
    "    // handle a problem encountered by the RDFHandler\n",
    "    System.out.println(\"Handler error: \" + e);\n",
    "}\n",
    "finally {\n",
    "  in.close();\n",
    "}"
   ],
   "outputs": [],
   "metadata": {}
  },
  {
   "cell_type": "markdown",
   "source": [
    "#### Task 2: instructions\n",
    "\n",
    "Congratulations on completing Task 1! Now, your task is to create an RDF graph in Turtle syntax to desribe yourself and members of your **immediate** (not extended) family. You may create this graph manually by typing the triples out in a text editor and saving it with the extension ``.ttl`` **or** create it and save it using the RDF4J API in this notebook.\n",
    "\n",
    "Content requirements of the graph:\n",
    "\n",
    "1. Only describe properties about members of your immediate family (if you do not have at least three members in your immediate family, you may add two or three relatives from your extended family).\n",
    "2. You are only allowed to capture the following object properties in your graph - parent (e.g. x is a parent of y), child (e.g. x is a child of y), gender (e.g. x has gender female), sibling (e.g. x is a sibling of y) and marriedTo / partnerOf (e.g. x is married to y / x is partnerOf y). In all triples which involve these predicates, the object must be **an IRI** and not a Literal value.\n",
    "3. In terms of data properties you are welcome to add as many as you like to describe the entities in your graph. E.g. age, height, date of birth etc. You must have at least one for each entity in the graph\n",
    "\n",
    "RDF practice requirements of the graph:\n",
    "\n",
    "1. The graph should be a valid RDF graph with valid IRIs in Turtle syntax\n",
    "2. Use prefixes (abbreviations for namespaces you use)\n",
    "3. Use Turtle abbreviation to add multiple properties to the same subject without repeating the subject in the graph\n",
    "4. For objects and subjects in your triples you are welcome to create your own namespaces. **Exceptions:** for relations in your graph, **reuse** terms defined in **external** vocabularies. For this task we encourage you to go to the page [Schema.org](http://schema.org/) and type the relation you are looking for in the search box. From the list of results choose the relation whose description on [Schema.org](http://schema.org/) best captures the meaning that you intend for the relation in your own graph. Reuse the IRI of that relation in your own graph. If you cannot find an appropriate relation on Schema.org, try searching using a similar process in other vocabularies e.g. [Linked Open Vocabularies](https://lov.linkeddata.es/dataset/lov/) (this is actually a searchable repository of multiple vocabularies) or on [Wikidata](https://www.wikidata.org/wiki/Wikidata:Main_Page) (this is actually a very large RDF graph but the Wikidata community have also defined their own vocabulary / ontology [here](https://www.wikidata.org/wiki/Wikidata:WikiProject_Ontology) which they use in this graph)\n",
    "5. Fulfill Requirement 4. also for **types** in your graph.\n",
    "6. Provide appropriate datatypes for Literal values in your graph from the [XML datatypes list](https://www.w3.org/TR/xmlschema11-2/) or [here](http://www.datypic.com/sc/xsd/s-datatypes.xsd.html)"
   ],
   "metadata": {}
  },
  {
   "cell_type": "markdown",
   "source": [
    "**Side note:** some of you may ask the question: for large RDF graphs with millions of triples, are they usually created by hand using code or text editors? The answer is **no**. Generally, larger RDF graphs are generated from unstructured sources (e.g. text) - see [here](http://repositorio.uchile.cl/bitstream/handle/2250/174484/Information-extraction-meets-the-Semantic-Web.pdf?sequence=1) and [here](https://portal.research.lu.se/ws/files/3053000/3191702.pdf), or from structured data such as relational databases, CSV, JSON and XML files - see [here](http://ceur-ws.org/Vol-1184/ldow2014_paper_01.pdf). Depending on the data sources available in different situations, it is often the case that a combination of these approaches are used to convert the required information to RDF."
   ],
   "metadata": {}
  }
 ],
 "metadata": {
  "kernelspec": {
   "display_name": "Java",
   "language": "java",
   "name": "java"
  },
  "language_info": {
   "codemirror_mode": "java",
   "file_extension": ".jshell",
   "mimetype": "text/x-java-source",
   "name": "Java",
   "pygments_lexer": "java",
   "version": "11.0.6+8-b765.1"
  }
 },
 "nbformat": 4,
 "nbformat_minor": 4
}