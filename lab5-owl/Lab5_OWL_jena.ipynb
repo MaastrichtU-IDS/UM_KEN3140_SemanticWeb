{
 "cells": [
  {
   "cell_type": "markdown",
   "source": [
    "# Run SPARQL queries on a local RDF file\n",
    "\n",
    "We will use the Java RDF library [Apache Jena](https://jena.apache.org/). Follow these instructions to install the library:\n",
    "\n",
    "1. Copy the `apache-jena-3.16.0` folder from Lab3 to the same directory as the notebook, or download the [apache-jena-3.16.0.zip](http://apache.mirror.triple-it.nl/jena/binaries/apache-jena-3.16.0.zip) file and unzip it\n",
    "2. Run the next cell (it will import all jars in the `apache-jena-3.16.0/lib` folder)"
   ],
   "metadata": {}
  },
  {
   "cell_type": "code",
   "execution_count": 1,
   "source": [
    "%jars /opt/apache-jena-*/lib/*.jar"
   ],
   "outputs": [],
   "metadata": {}
  },
  {
   "cell_type": "code",
   "execution_count": 5,
   "source": [
    "import org.apache.jena.riot.RDFDataMgr;\n",
    "import org.apache.jena.rdf.model.*;\n",
    "import org.apache.jena.util.PrintUtil;\n",
    "import org.apache.jena.vocabulary.RDF;\n",
    "import org.apache.jena.query.Query;\n",
    "import org.apache.jena.query.QueryExecution;\n",
    "import org.apache.jena.query.QueryExecutionFactory;\n",
    "import org.apache.jena.query.QueryFactory;\n",
    "import org.apache.jena.query.QuerySolution;\n",
    "import org.apache.jena.query.ResultSetFormatter;\n",
    "import org.apache.jena.query.ResultSet;\n",
    "import org.apache.jena.reasoner.ReasonerRegistry;\n",
    "import java.io.File;\n",
    "import org.apache.commons.io.FileUtils;\n",
    "import java.nio.charset.StandardCharsets;"
   ],
   "outputs": [],
   "metadata": {}
  },
  {
   "cell_type": "markdown",
   "source": [
    "## Load the RDF file in a Jena Model\n",
    "\n",
    "Load the RDF file, and create `runSparqlQuery()` function to run SPARQL queries in a single call from a string or a file."
   ],
   "metadata": {}
  },
  {
   "cell_type": "code",
   "execution_count": 8,
   "source": [
    "Model baseModel = RDFDataMgr.loadModel(\"Lab5_OWL_familyrelations.ttl\");\n",
    "//ReasonerRegistry reasonerRegistry = new ReasonerRegistry();\n",
    "\n",
    "InfModel model = ModelFactory.createInfModel(ReasonerRegistry.getOWLReasoner(), baseModel);\n",
    "\n",
    "// The schema model can be provided separately \n",
    "// InfModel model = ModelFactory.createInfModel(uselessReasonerRegistry.getOWLReasoner(), schema, model);"
   ],
   "outputs": [],
   "metadata": {}
  },
  {
   "cell_type": "code",
   "execution_count": 9,
   "source": [
    "static void runSparqlQuery(String queryString, Model model) throws java.io.IOException {\n",
    "    if (queryString.endsWith(\".rq\")) {\n",
    "        queryString = FileUtils.readFileToString(new File(queryString), StandardCharsets.UTF_8);\n",
    "    }\n",
    "    System.out.println(queryString);\n",
    "    Query query = QueryFactory.create(queryString);\n",
    "    QueryExecution qexec = QueryExecutionFactory.create(query, model);\n",
    "    try {\n",
    "        ResultSetFormatter.out(qexec.execSelect(), model);\n",
    "    } catch (Exception e) {\n",
    "        Model results = qexec.execConstruct();\n",
    "        System.out.println(\"--- CONSTRUCT QUERY RESULTS:\");\n",
    "        results.write(System.out, \"TURTLE\");\n",
    "    }\n",
    "} "
   ],
   "outputs": [],
   "metadata": {}
  },
  {
   "cell_type": "markdown",
   "source": [
    "## SPARQL query from string\n",
    "\n",
    "Java does not support multiline strings."
   ],
   "metadata": {}
  },
  {
   "cell_type": "code",
   "execution_count": 16,
   "source": [
    "String queryString = \"PREFIX schema: <https://schema.org/> \\n\" +\n",
    "    \"PREFIX dbo: <http://dbpedia.org/ontology/> \\n\" +\n",
    "    \"SELECT * WHERE{ \\n\" + \n",
    "        \"?entity dbo:age ?age .\\n\" +\n",
    "    \"}\";"
   ],
   "outputs": [],
   "metadata": {}
  },
  {
   "cell_type": "code",
   "execution_count": 17,
   "source": [
    "runSparqlQuery(queryString, model)"
   ],
   "outputs": [
    {
     "output_type": "stream",
     "name": "stdout",
     "text": [
      "PREFIX schema: <https://schema.org/> \n",
      "PREFIX dbo: <http://dbpedia.org/ontology/> \n",
      "SELECT * WHERE{ \n",
      "?entity dbo:age ?age .\n",
      "}\n",
      "-------------------------------------------------\n",
      "| entity            | age                       |\n",
      "=================================================\n",
      "| myfamily:kovanya  | \"34\"^^xsd:positiveInteger |\n",
      "| myfamily:alan     | \"56\"^^xsd:positiveInteger |\n",
      "| myfamily:natasha  | \"22\"^^xsd:positiveInteger |\n",
      "| myfamily:shareena | \"62\"^^xsd:positiveInteger |\n",
      "| myfamily:brian    | \"54\"^^xsd:positiveInteger |\n",
      "| myfamily:kody     | \"34\"^^xsd:positiveInteger |\n",
      "| myfamily:nicole   | \"33\"^^xsd:positiveInteger |\n",
      "| myfamily:naidene  | \"28\"^^xsd:positiveInteger |\n",
      "| myfamily:radha    | \"51\"^^xsd:positiveInteger |\n",
      "| myfamily:siara    | \"30\"^^xsd:positiveInteger |\n",
      "-------------------------------------------------\n"
     ]
    }
   ],
   "metadata": {}
  },
  {
   "cell_type": "markdown",
   "source": [
    "## SPARQL query from a file\n",
    "\n",
    "Provide the SPARQL query in a file **with the extension `.rq`**"
   ],
   "metadata": {}
  },
  {
   "cell_type": "code",
   "execution_count": 18,
   "source": [
    "runSparqlQuery(\"sparql-get_age.rq\", model)"
   ],
   "outputs": [
    {
     "output_type": "stream",
     "name": "stdout",
     "text": [
      "PREFIX xsd: <http://www.w3.org/2001/XMLSchema#>\n",
      "PREFIX schema: <http://schema.org/>\n",
      "PREFIX dbo: <http://dbpedia.org/ontology/>\n",
      "SELECT ?person ?age\n",
      "WHERE {\n",
      "    ?person dbo:age ?age .\n",
      "} \n",
      "-------------------------------------------------\n",
      "| person            | age                       |\n",
      "=================================================\n",
      "| myfamily:kovanya  | \"34\"^^xsd:positiveInteger |\n",
      "| myfamily:alan     | \"56\"^^xsd:positiveInteger |\n",
      "| myfamily:natasha  | \"22\"^^xsd:positiveInteger |\n",
      "| myfamily:shareena | \"62\"^^xsd:positiveInteger |\n",
      "| myfamily:brian    | \"54\"^^xsd:positiveInteger |\n",
      "| myfamily:kody     | \"34\"^^xsd:positiveInteger |\n",
      "| myfamily:nicole   | \"33\"^^xsd:positiveInteger |\n",
      "| myfamily:naidene  | \"28\"^^xsd:positiveInteger |\n",
      "| myfamily:radha    | \"51\"^^xsd:positiveInteger |\n",
      "| myfamily:siara    | \"30\"^^xsd:positiveInteger |\n",
      "-------------------------------------------------\n"
     ]
    }
   ],
   "metadata": {}
  },
  {
   "cell_type": "code",
   "execution_count": null,
   "source": [],
   "outputs": [],
   "metadata": {}
  }
 ],
 "metadata": {
  "kernelspec": {
   "display_name": "Java",
   "language": "java",
   "name": "java"
  },
  "language_info": {
   "name": ""
  }
 },
 "nbformat": 4,
 "nbformat_minor": 4
}