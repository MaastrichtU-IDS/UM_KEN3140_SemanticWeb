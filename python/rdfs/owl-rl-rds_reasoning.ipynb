{
 "cells": [
  {
   "cell_type": "code",
   "execution_count": 1,
   "metadata": {},
   "outputs": [],
   "source": [
    "from rdflib import Graph, Literal, Namespace, RDF, XSD\n",
    "\n",
    "import owlrl"
   ]
  },
  {
   "cell_type": "code",
   "execution_count": 6,
   "metadata": {},
   "outputs": [],
   "source": [
    "DAML = Namespace('http://www.daml.org/2002/03/agents/agent-ont#')\n",
    "T = Namespace('http://test.org/')\n",
    "\n",
    "def test_one_time_rules():\n",
    "    \"\"\"\n",
    "    Test RDFS closure one time rules.\n",
    "    \"\"\"\n",
    "    g = Graph()\n",
    "\n",
    "    lt1 = Literal(10, datatype=XSD.integer)\n",
    "    lt2 = Literal(10, datatype=XSD.nonNegativeInteger)\n",
    "    g.add((T.a1, T.p, lt1))\n",
    "    g.add((T.a2, T.p, lt2))\n",
    "\n",
    "    owlrl.DeductiveClosure(owlrl.RDFS_Semantics).expand(g)\n",
    "\n",
    "    assert (T.a1, T.p, lt2) in g\n",
    "    assert (T.a2, T.p, lt1) in g\n",
    "    return True\n",
    "\n",
    "def test_d_axioms():\n",
    "    \"\"\"\n",
    "    Test adding datatype axioms for RDFS closure.\n",
    "    \"\"\"\n",
    "    g = Graph()\n",
    "\n",
    "    g.add((T.a1, T.p, Literal(10, datatype=XSD.integer)))\n",
    "    g.add((T.a2, T.p, Literal('11', datatype=XSD.string)))\n",
    "    g.add((T.a3, T.p, Literal('t')))  # no datatype\n",
    "\n",
    "    owlrl.DeductiveClosure(\n",
    "        owlrl.RDFS_Semantics,\n",
    "        datatype_axioms=True\n",
    "    ).expand(g)\n",
    "\n",
    "    assert (Literal(10, datatype=XSD.integer), RDF.type, XSD.integer) in g\n",
    "    assert (Literal('11', datatype=XSD.string), RDF.type, XSD.string) in g\n",
    "    assert next(g.subjects(Literal('t'), RDF.type), None) is None"
   ]
  },
  {
   "cell_type": "code",
   "execution_count": 7,
   "metadata": {},
   "outputs": [
    {
     "data": {
      "text/plain": [
       "True"
      ]
     },
     "execution_count": 7,
     "metadata": {},
     "output_type": "execute_result"
    }
   ],
   "source": [
    "test_one_time_rules()"
   ]
  },
  {
   "cell_type": "code",
   "execution_count": null,
   "metadata": {},
   "outputs": [],
   "source": []
  }
 ],
 "metadata": {
  "kernelspec": {
   "display_name": "Python 3",
   "language": "python",
   "name": "python3"
  },
  "language_info": {
   "codemirror_mode": {
    "name": "ipython",
    "version": 3
   },
   "file_extension": ".py",
   "mimetype": "text/x-python",
   "name": "python",
   "nbconvert_exporter": "python",
   "pygments_lexer": "ipython3",
   "version": "3.7.6"
  }
 },
 "nbformat": 4,
 "nbformat_minor": 4
}
