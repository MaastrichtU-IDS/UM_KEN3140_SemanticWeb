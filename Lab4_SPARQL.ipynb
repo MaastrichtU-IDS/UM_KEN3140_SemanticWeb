{
 "cells": [
  {
   "cell_type": "markdown",
   "metadata": {
    "slideshow": {
     "slide_type": "slide"
    }
   },
   "source": [
    "# Query RDF with the SPARQL query language\n",
    "\n",
    "\n",
    "* SPARQL (pronounced sparkle) stands for: **SPARQL Protocol And RDF Query Language**\n",
    "* SPARQL 1.0 W3C-Recommendation since January 15th 2008\n",
    "* SPARQL 1.1 W3C-Recommendation since March 21st 2013 Query language to query instances in RDF documents\n",
    "\n",
    "Latest specifications: https://www.w3.org/TR/sparql11-query/\n",
    "\n",
    "\n",
    "> Note: w3.org material are standards and recommendations accepted by the World Wide Web Consortium (W3C, the organism defining the Internet standards)"
   ]
  },
  {
   "cell_type": "markdown",
   "metadata": {
    "slideshow": {
     "slide_type": "slide"
    }
   },
   "source": [
    "# SPARQL \n",
    "\n",
    "We will use the DBpedia SPARQL endpoint: https://dbpedia.org/sparql\n",
    "\n",
    "> DBpedia is a project to represent (parts of) Wikipedia as RDF, it has been used has a huge playground for the Semantic Web for years. The data is not controlled or curated, which lead to poor data \n",
    "\n",
    "You can use a nicer query editor that can query any public endpoint: https://yasgui.triply.cc\n",
    "\n",
    "This notebook uses the SPARQL Kernel to define and execute SPARQL queries in the notebook codeblocks.\n",
    "To install the SPARQL Kernel in your JupyterLab:\n",
    "\n",
    "```shell\n",
    "pip install sparqlkernel\n",
    "jupyter sparqlkernel install --user\n",
    "```\n",
    "\n",
    "> You will need to reinstall it if you stop and restart JupyterLab Docker container"
   ]
  },
  {
   "cell_type": "markdown",
   "metadata": {
    "slideshow": {
     "slide_type": "slide"
    }
   },
   "source": [
    "To start running SPARQL query in this notebook, we need to define the **SPARQL kernel parameters**:\n",
    "* 🔗 **URL of the SPARQL endpoint to query**\n",
    "* 🌐 Language of preferred labels\n",
    "* 📜 Log level"
   ]
  },
  {
   "cell_type": "code",
   "execution_count": 3,
   "metadata": {
    "slideshow": {
     "slide_type": "fragment"
    }
   },
   "outputs": [
    {
     "data": {
      "text/html": [
       "<div class=\"krn-spql\"><div class=\"magic\">Endpoint set to: http://dbpedia.org/sparql</div><div class=\"magic\">Label preferred languages: ['en']</div><div class=\"magic\">Logging set to DEBUG</div></div>"
      ],
      "text/plain": [
       "Endpoint set to: http://dbpedia.org/sparql\n",
       "Label preferred languages: ['en']\n",
       "Logging set to DEBUG\n"
      ]
     },
     "metadata": {},
     "output_type": "display_data"
    }
   ],
   "source": [
    "%endpoint http://dbpedia.org/sparql\n",
    "%lang en\n",
    "\n",
    "# This is optional, it would increase the log level\n",
    "%log debug"
   ]
  },
  {
   "cell_type": "markdown",
   "metadata": {
    "slideshow": {
     "slide_type": "slide"
    }
   },
   "source": [
    "# SPARQL components\n",
    "\n",
    "Variables to resolve are defined using `?` (e.g. `?my_variable`)\n",
    "\n",
    "```sparql\n",
    "# prefix declarations: for abbreviating URIs\n",
    "PREFIX rdfs: <http://www.w3.org/2000/01/rdf-schema#>\n",
    "# dataset definition (optional): which RDF graph(s) are being queried\n",
    "FROM\n",
    "# result clause: what information to return from the query\n",
    "SELECT *\n",
    "# query pattern: specifying what to query for in the underlying dataset\n",
    "WHERE {\n",
    "    ?s ?p ?o .\n",
    "}\n",
    "# query modifiers: slicing, ordering, and rearranging query results\n",
    "ORDER BY ?s\n",
    "LIMIT 10\n",
    "```"
   ]
  },
  {
   "cell_type": "markdown",
   "metadata": {
    "slideshow": {
     "slide_type": "slide"
    }
   },
   "source": [
    "## Run a SPARQL query\n",
    "\n",
    "Let's get all triples in DBpedia:"
   ]
  },
  {
   "cell_type": "code",
   "execution_count": 4,
   "metadata": {
    "slideshow": {
     "slide_type": "fragment"
    }
   },
   "outputs": [
    {
     "data": {
      "text/html": [
       "<div class=\"krn-spql\"><table><tr class=hdr><th>subject</th>\n",
       "<th>predicate</th>\n",
       "<th>object</th></tr><tr class=odd><td class=val><a href=\"http://www.openlinksw.com/virtrdf-data-formats#default-iid\" target=\"_other\">http://www.openlinksw.com/virtrdf-data-formats#default-iid</a></td>\n",
       "<td class=val><a href=\"http://www.w3.org/1999/02/22-rdf-syntax-ns#type\" target=\"_other\">http://www.w3.org/1999/02/22-rdf-syntax-ns#type</a></td>\n",
       "<td class=val><a href=\"http://www.openlinksw.com/schemas/virtrdf#QuadMapFormat\" target=\"_other\">http://www.openlinksw.com/schemas/virtrdf#QuadMapFormat</a></td></tr><tr class=even><td class=val><a href=\"http://www.openlinksw.com/virtrdf-data-formats#default-iid-nullable\" target=\"_other\">http://www.openlinksw.com/virtrdf-data-formats#default-iid-nullable</a></td>\n",
       "<td class=val><a href=\"http://www.w3.org/1999/02/22-rdf-syntax-ns#type\" target=\"_other\">http://www.w3.org/1999/02/22-rdf-syntax-ns#type</a></td>\n",
       "<td class=val><a href=\"http://www.openlinksw.com/schemas/virtrdf#QuadMapFormat\" target=\"_other\">http://www.openlinksw.com/schemas/virtrdf#QuadMapFormat</a></td></tr><tr class=odd><td class=val><a href=\"http://www.openlinksw.com/virtrdf-data-formats#default-iid-nonblank\" target=\"_other\">http://www.openlinksw.com/virtrdf-data-formats#default-iid-nonblank</a></td>\n",
       "<td class=val><a href=\"http://www.w3.org/1999/02/22-rdf-syntax-ns#type\" target=\"_other\">http://www.w3.org/1999/02/22-rdf-syntax-ns#type</a></td>\n",
       "<td class=val><a href=\"http://www.openlinksw.com/schemas/virtrdf#QuadMapFormat\" target=\"_other\">http://www.openlinksw.com/schemas/virtrdf#QuadMapFormat</a></td></tr><tr class=even><td class=val><a href=\"http://www.openlinksw.com/virtrdf-data-formats#default-iid-nonblank-nullable\" target=\"_other\">http://www.openlinksw.com/virtrdf-data-formats#default-iid-nonblank-nullable</a></td>\n",
       "<td class=val><a href=\"http://www.w3.org/1999/02/22-rdf-syntax-ns#type\" target=\"_other\">http://www.w3.org/1999/02/22-rdf-syntax-ns#type</a></td>\n",
       "<td class=val><a href=\"http://www.openlinksw.com/schemas/virtrdf#QuadMapFormat\" target=\"_other\">http://www.openlinksw.com/schemas/virtrdf#QuadMapFormat</a></td></tr><tr class=odd><td class=val><a href=\"http://www.openlinksw.com/virtrdf-data-formats#default\" target=\"_other\">http://www.openlinksw.com/virtrdf-data-formats#default</a></td>\n",
       "<td class=val><a href=\"http://www.w3.org/1999/02/22-rdf-syntax-ns#type\" target=\"_other\">http://www.w3.org/1999/02/22-rdf-syntax-ns#type</a></td>\n",
       "<td class=val><a href=\"http://www.openlinksw.com/schemas/virtrdf#QuadMapFormat\" target=\"_other\">http://www.openlinksw.com/schemas/virtrdf#QuadMapFormat</a></td></tr><tr class=even><td class=val><a href=\"http://www.openlinksw.com/virtrdf-data-formats#default-nullable\" target=\"_other\">http://www.openlinksw.com/virtrdf-data-formats#default-nullable</a></td>\n",
       "<td class=val><a href=\"http://www.w3.org/1999/02/22-rdf-syntax-ns#type\" target=\"_other\">http://www.w3.org/1999/02/22-rdf-syntax-ns#type</a></td>\n",
       "<td class=val><a href=\"http://www.openlinksw.com/schemas/virtrdf#QuadMapFormat\" target=\"_other\">http://www.openlinksw.com/schemas/virtrdf#QuadMapFormat</a></td></tr><tr class=odd><td class=val><a href=\"http://www.openlinksw.com/virtrdf-data-formats#sql-varchar\" target=\"_other\">http://www.openlinksw.com/virtrdf-data-formats#sql-varchar</a></td>\n",
       "<td class=val><a href=\"http://www.w3.org/1999/02/22-rdf-syntax-ns#type\" target=\"_other\">http://www.w3.org/1999/02/22-rdf-syntax-ns#type</a></td>\n",
       "<td class=val><a href=\"http://www.openlinksw.com/schemas/virtrdf#QuadMapFormat\" target=\"_other\">http://www.openlinksw.com/schemas/virtrdf#QuadMapFormat</a></td></tr><tr class=even><td class=val><a href=\"http://www.openlinksw.com/virtrdf-data-formats#sql-varchar-nullable\" target=\"_other\">http://www.openlinksw.com/virtrdf-data-formats#sql-varchar-nullable</a></td>\n",
       "<td class=val><a href=\"http://www.w3.org/1999/02/22-rdf-syntax-ns#type\" target=\"_other\">http://www.w3.org/1999/02/22-rdf-syntax-ns#type</a></td>\n",
       "<td class=val><a href=\"http://www.openlinksw.com/schemas/virtrdf#QuadMapFormat\" target=\"_other\">http://www.openlinksw.com/schemas/virtrdf#QuadMapFormat</a></td></tr><tr class=odd><td class=val><a href=\"http://www.openlinksw.com/virtrdf-data-formats#sql-varchar-dt\" target=\"_other\">http://www.openlinksw.com/virtrdf-data-formats#sql-varchar-dt</a></td>\n",
       "<td class=val><a href=\"http://www.w3.org/1999/02/22-rdf-syntax-ns#type\" target=\"_other\">http://www.w3.org/1999/02/22-rdf-syntax-ns#type</a></td>\n",
       "<td class=val><a href=\"http://www.openlinksw.com/schemas/virtrdf#QuadMapFormat\" target=\"_other\">http://www.openlinksw.com/schemas/virtrdf#QuadMapFormat</a></td></tr><tr class=even><td class=val><a href=\"http://www.openlinksw.com/virtrdf-data-formats#sql-varchar-dt-nullable\" target=\"_other\">http://www.openlinksw.com/virtrdf-data-formats#sql-varchar-dt-nullable</a></td>\n",
       "<td class=val><a href=\"http://www.w3.org/1999/02/22-rdf-syntax-ns#type\" target=\"_other\">http://www.w3.org/1999/02/22-rdf-syntax-ns#type</a></td>\n",
       "<td class=val><a href=\"http://www.openlinksw.com/schemas/virtrdf#QuadMapFormat\" target=\"_other\">http://www.openlinksw.com/schemas/virtrdf#QuadMapFormat</a></td></tr><tr class=odd><td class=val><a href=\"http://www.openlinksw.com/virtrdf-data-formats#sql-varchar-lang\" target=\"_other\">http://www.openlinksw.com/virtrdf-data-formats#sql-varchar-lang</a></td>\n",
       "<td class=val><a href=\"http://www.w3.org/1999/02/22-rdf-syntax-ns#type\" target=\"_other\">http://www.w3.org/1999/02/22-rdf-syntax-ns#type</a></td>\n",
       "<td class=val><a href=\"http://www.openlinksw.com/schemas/virtrdf#QuadMapFormat\" target=\"_other\">http://www.openlinksw.com/schemas/virtrdf#QuadMapFormat</a></td></tr><tr class=even><td class=val><a href=\"http://www.openlinksw.com/virtrdf-data-formats#sql-varchar-lang-nullable\" target=\"_other\">http://www.openlinksw.com/virtrdf-data-formats#sql-varchar-lang-nullable</a></td>\n",
       "<td class=val><a href=\"http://www.w3.org/1999/02/22-rdf-syntax-ns#type\" target=\"_other\">http://www.w3.org/1999/02/22-rdf-syntax-ns#type</a></td>\n",
       "<td class=val><a href=\"http://www.openlinksw.com/schemas/virtrdf#QuadMapFormat\" target=\"_other\">http://www.openlinksw.com/schemas/virtrdf#QuadMapFormat</a></td></tr><tr class=odd><td class=val><a href=\"http://www.openlinksw.com/virtrdf-data-formats#sql-varchar-fixedlang-x-any\" target=\"_other\">http://www.openlinksw.com/virtrdf-data-formats#sql-varchar-fixedlang-x-any</a></td>\n",
       "<td class=val><a href=\"http://www.w3.org/1999/02/22-rdf-syntax-ns#type\" target=\"_other\">http://www.w3.org/1999/02/22-rdf-syntax-ns#type</a></td>\n",
       "<td class=val><a href=\"http://www.openlinksw.com/schemas/virtrdf#QuadMapFormat\" target=\"_other\">http://www.openlinksw.com/schemas/virtrdf#QuadMapFormat</a></td></tr><tr class=even><td class=val><a href=\"http://www.openlinksw.com/virtrdf-data-formats#sql-varchar-fixedlang-x-any-nullable\" target=\"_other\">http://www.openlinksw.com/virtrdf-data-formats#sql-varchar-fixedlang-x-any-nullable</a></td>\n",
       "<td class=val><a href=\"http://www.w3.org/1999/02/22-rdf-syntax-ns#type\" target=\"_other\">http://www.w3.org/1999/02/22-rdf-syntax-ns#type</a></td>\n",
       "<td class=val><a href=\"http://www.openlinksw.com/schemas/virtrdf#QuadMapFormat\" target=\"_other\">http://www.openlinksw.com/schemas/virtrdf#QuadMapFormat</a></td></tr><tr class=odd><td class=val><a href=\"http://www.openlinksw.com/virtrdf-data-formats#sql-varchar-uri\" target=\"_other\">http://www.openlinksw.com/virtrdf-data-formats#sql-varchar-uri</a></td>\n",
       "<td class=val><a href=\"http://www.w3.org/1999/02/22-rdf-syntax-ns#type\" target=\"_other\">http://www.w3.org/1999/02/22-rdf-syntax-ns#type</a></td>\n",
       "<td class=val><a href=\"http://www.openlinksw.com/schemas/virtrdf#QuadMapFormat\" target=\"_other\">http://www.openlinksw.com/schemas/virtrdf#QuadMapFormat</a></td></tr><tr class=even><td class=val><a href=\"http://www.openlinksw.com/virtrdf-data-formats#sql-varchar-uri-nullable\" target=\"_other\">http://www.openlinksw.com/virtrdf-data-formats#sql-varchar-uri-nullable</a></td>\n",
       "<td class=val><a href=\"http://www.w3.org/1999/02/22-rdf-syntax-ns#type\" target=\"_other\">http://www.w3.org/1999/02/22-rdf-syntax-ns#type</a></td>\n",
       "<td class=val><a href=\"http://www.openlinksw.com/schemas/virtrdf#QuadMapFormat\" target=\"_other\">http://www.openlinksw.com/schemas/virtrdf#QuadMapFormat</a></td></tr><tr class=odd><td class=val><a href=\"http://www.openlinksw.com/virtrdf-data-formats#sql-varchar-literal\" target=\"_other\">http://www.openlinksw.com/virtrdf-data-formats#sql-varchar-literal</a></td>\n",
       "<td class=val><a href=\"http://www.w3.org/1999/02/22-rdf-syntax-ns#type\" target=\"_other\">http://www.w3.org/1999/02/22-rdf-syntax-ns#type</a></td>\n",
       "<td class=val><a href=\"http://www.openlinksw.com/schemas/virtrdf#QuadMapFormat\" target=\"_other\">http://www.openlinksw.com/schemas/virtrdf#QuadMapFormat</a></td></tr><tr class=even><td class=val><a href=\"http://www.openlinksw.com/virtrdf-data-formats#sql-varchar-literal-nullable\" target=\"_other\">http://www.openlinksw.com/virtrdf-data-formats#sql-varchar-literal-nullable</a></td>\n",
       "<td class=val><a href=\"http://www.w3.org/1999/02/22-rdf-syntax-ns#type\" target=\"_other\">http://www.w3.org/1999/02/22-rdf-syntax-ns#type</a></td>\n",
       "<td class=val><a href=\"http://www.openlinksw.com/schemas/virtrdf#QuadMapFormat\" target=\"_other\">http://www.openlinksw.com/schemas/virtrdf#QuadMapFormat</a></td></tr><tr class=odd><td class=val><a href=\"http://www.openlinksw.com/virtrdf-data-formats#sql-longvarchar\" target=\"_other\">http://www.openlinksw.com/virtrdf-data-formats#sql-longvarchar</a></td>\n",
       "<td class=val><a href=\"http://www.w3.org/1999/02/22-rdf-syntax-ns#type\" target=\"_other\">http://www.w3.org/1999/02/22-rdf-syntax-ns#type</a></td>\n",
       "<td class=val><a href=\"http://www.openlinksw.com/schemas/virtrdf#QuadMapFormat\" target=\"_other\">http://www.openlinksw.com/schemas/virtrdf#QuadMapFormat</a></td></tr><tr class=even><td class=val><a href=\"http://www.openlinksw.com/virtrdf-data-formats#sql-longvarchar-nullable\" target=\"_other\">http://www.openlinksw.com/virtrdf-data-formats#sql-longvarchar-nullable</a></td>\n",
       "<td class=val><a href=\"http://www.w3.org/1999/02/22-rdf-syntax-ns#type\" target=\"_other\">http://www.w3.org/1999/02/22-rdf-syntax-ns#type</a></td>\n",
       "<td class=val><a href=\"http://www.openlinksw.com/schemas/virtrdf#QuadMapFormat\" target=\"_other\">http://www.openlinksw.com/schemas/virtrdf#QuadMapFormat</a></td></tr></table><div class=\"tinfo\">Total: 10000, Shown: 20</div></div>"
      ]
     },
     "metadata": {},
     "output_type": "display_data"
    }
   ],
   "source": [
    "SELECT *\n",
    "WHERE {\n",
    "  ?subject ?predicate ?object .\n",
    "}"
   ]
  },
  {
   "cell_type": "markdown",
   "metadata": {
    "slideshow": {
     "slide_type": "subslide"
    }
   },
   "source": [
    "We can see that **DBpedia limit by default to 10.000 results** (and the SPARQL kernel shows only 20 for readability)\n",
    "\n",
    "But the returned triples are not really interesting, we will need to filter our results"
   ]
  },
  {
   "cell_type": "markdown",
   "metadata": {
    "slideshow": {
     "slide_type": "slide"
    }
   },
   "source": [
    "# Get all books\n",
    "\n",
    "Get all the books in DBpedia"
   ]
  },
  {
   "cell_type": "code",
   "execution_count": 8,
   "metadata": {
    "slideshow": {
     "slide_type": "fragment"
    }
   },
   "outputs": [
    {
     "data": {
      "text/html": [
       "<div class=\"krn-spql\"><table><tr class=hdr><th>book</th></tr><tr class=odd><td class=val><a href=\"http://dbpedia.org/resource/Havana_Storm\" target=\"_other\">http://dbpedia.org/resource/Havana_Storm</a></td></tr><tr class=even><td class=val><a href=\"http://dbpedia.org/resource/The_Awful_German_Language\" target=\"_other\">http://dbpedia.org/resource/The_Awful_German_Language</a></td></tr><tr class=odd><td class=val><a href=\"http://dbpedia.org/resource/Urmonotheismus\" target=\"_other\">http://dbpedia.org/resource/Urmonotheismus</a></td></tr><tr class=even><td class=val><a href=\"http://dbpedia.org/resource/Modern_C_Design\" target=\"_other\">http://dbpedia.org/resource/Modern_C_Design</a></td></tr><tr class=odd><td class=val><a href=\"http://dbpedia.org/resource/1066_and_All_That\" target=\"_other\">http://dbpedia.org/resource/1066_and_All_That</a></td></tr><tr class=even><td class=val><a href=\"http://dbpedia.org/resource/2010:_Odyssey_Two\" target=\"_other\">http://dbpedia.org/resource/2010:_Odyssey_Two</a></td></tr><tr class=odd><td class=val><a href=\"http://dbpedia.org/resource/401(k)\" target=\"_other\">http://dbpedia.org/resource/401(k)</a></td></tr><tr class=even><td class=val><a href=\"http://dbpedia.org/resource/A_Crown_of_Swords\" target=\"_other\">http://dbpedia.org/resource/A_Crown_of_Swords</a></td></tr><tr class=odd><td class=val><a href=\"http://dbpedia.org/resource/A_Dictionary_of_the_English_Language\" target=\"_other\">http://dbpedia.org/resource/A_Dictionary_of_the_English_Language</a></td></tr><tr class=even><td class=val><a href=\"http://dbpedia.org/resource/Adultery\" target=\"_other\">http://dbpedia.org/resource/Adultery</a></td></tr><tr class=odd><td class=val><a href=\"http://dbpedia.org/resource/Alice's_Adventures_in_Wonderland\" target=\"_other\">http://dbpedia.org/resource/Alice's_Adventures_in_Wonderland</a></td></tr><tr class=even><td class=val><a href=\"http://dbpedia.org/resource/Anne_of_Green_Gables\" target=\"_other\">http://dbpedia.org/resource/Anne_of_Green_Gables</a></td></tr><tr class=odd><td class=val><a href=\"http://dbpedia.org/resource/Ante-Nicene_Fathers\" target=\"_other\">http://dbpedia.org/resource/Ante-Nicene_Fathers</a></td></tr><tr class=even><td class=val><a href=\"http://dbpedia.org/resource/Around_the_World_in_Eighty_Days\" target=\"_other\">http://dbpedia.org/resource/Around_the_World_in_Eighty_Days</a></td></tr><tr class=odd><td class=val><a href=\"http://dbpedia.org/resource/Astronomy\" target=\"_other\">http://dbpedia.org/resource/Astronomy</a></td></tr><tr class=even><td class=val><a href=\"http://dbpedia.org/resource/BBC_World_News\" target=\"_other\">http://dbpedia.org/resource/BBC_World_News</a></td></tr><tr class=odd><td class=val><a href=\"http://dbpedia.org/resource/Bacteriology\" target=\"_other\">http://dbpedia.org/resource/Bacteriology</a></td></tr><tr class=even><td class=val><a href=\"http://dbpedia.org/resource/Balthasar_Behem_Codex\" target=\"_other\">http://dbpedia.org/resource/Balthasar_Behem_Codex</a></td></tr><tr class=odd><td class=val><a href=\"http://dbpedia.org/resource/Between_Planets\" target=\"_other\">http://dbpedia.org/resource/Between_Planets</a></td></tr><tr class=even><td class=val><a href=\"http://dbpedia.org/resource/Beyond_This_Horizon\" target=\"_other\">http://dbpedia.org/resource/Beyond_This_Horizon</a></td></tr></table><div class=\"tinfo\">Total: 10000, Shown: 20</div></div>"
      ]
     },
     "metadata": {},
     "output_type": "display_data"
    }
   ],
   "source": [
    "PREFIX dbo: <http://dbpedia.org/ontology/>\n",
    "SELECT *\n",
    "WHERE {\n",
    "  ?book rdf:type dbo:Book .\n",
    "}"
   ]
  },
  {
   "cell_type": "markdown",
   "metadata": {
    "slideshow": {
     "slide_type": "subslide"
    }
   },
   "source": [
    "Here a prefix is defined for the DBpedia ontology:\n",
    "\n",
    "```sparql\n",
    "PREFIX dbo: <http://dbpedia.org/ontology/>\n",
    "```\n",
    "\n",
    "The `rdf:` prefix is defined by default, but `rdf:type` can be shortened to `a`\n",
    "\n",
    "```sparql\n",
    "SELECT * WHERE {\n",
    "  ?book a dbo:Book .\n",
    "}\n",
    "```\n",
    "\n",
    "If run on the 2 following statements it will return only the `<http://book1>`\n",
    "\n",
    "```turtle\n",
    "<http://book1> rdf:type <http://dbpedia.org/ontology/Book> .\n",
    "<http://country1> rdf:type <http://dbpedia.org/ontology/Country> .\n",
    "```"
   ]
  },
  {
   "cell_type": "markdown",
   "metadata": {
    "slideshow": {
     "slide_type": "slide"
    }
   },
   "source": [
    "# Get property of class\n",
    "\n",
    "Get **author of books** (when one is defined):"
   ]
  },
  {
   "cell_type": "code",
   "execution_count": 5,
   "metadata": {
    "slideshow": {
     "slide_type": "fragment"
    }
   },
   "outputs": [
    {
     "data": {
      "text/html": [
       "<div class=\"krn-spql\"><table><tr class=hdr><th>book</th>\n",
       "<th>author</th></tr><tr class=odd><td class=val><a href=\"http://dbpedia.org/resource/1066_and_All_That\" target=\"_other\">http://dbpedia.org/resource/1066_and_All_That</a></td>\n",
       "<td class=val><a href=\"http://dbpedia.org/resource/R._J._Yeatman\" target=\"_other\">http://dbpedia.org/resource/R._J._Yeatman</a></td></tr><tr class=even><td class=val><a href=\"http://dbpedia.org/resource/1066_and_All_That\" target=\"_other\">http://dbpedia.org/resource/1066_and_All_That</a></td>\n",
       "<td class=val><a href=\"http://dbpedia.org/resource/W._C._Sellar\" target=\"_other\">http://dbpedia.org/resource/W._C._Sellar</a></td></tr><tr class=odd><td class=val><a href=\"http://dbpedia.org/resource/2010:_Odyssey_Two\" target=\"_other\">http://dbpedia.org/resource/2010:_Odyssey_Two</a></td>\n",
       "<td class=val><a href=\"http://dbpedia.org/resource/Arthur_C._Clarke\" target=\"_other\">http://dbpedia.org/resource/Arthur_C._Clarke</a></td></tr><tr class=even><td class=val><a href=\"http://dbpedia.org/resource/A_Crown_of_Swords\" target=\"_other\">http://dbpedia.org/resource/A_Crown_of_Swords</a></td>\n",
       "<td class=val><a href=\"http://dbpedia.org/resource/Robert_Jordan\" target=\"_other\">http://dbpedia.org/resource/Robert_Jordan</a></td></tr><tr class=odd><td class=val><a href=\"http://dbpedia.org/resource/A_Dictionary_of_the_English_Language\" target=\"_other\">http://dbpedia.org/resource/A_Dictionary_of_the_English_Language</a></td>\n",
       "<td class=val><a href=\"http://dbpedia.org/resource/Samuel_Johnson\" target=\"_other\">http://dbpedia.org/resource/Samuel_Johnson</a></td></tr><tr class=even><td class=val><a href=\"http://dbpedia.org/resource/Alice's_Adventures_in_Wonderland\" target=\"_other\">http://dbpedia.org/resource/Alice's_Adventures_in_Wonderland</a></td>\n",
       "<td class=val><a href=\"http://dbpedia.org/resource/Lewis_Carroll\" target=\"_other\">http://dbpedia.org/resource/Lewis_Carroll</a></td></tr><tr class=odd><td class=val><a href=\"http://dbpedia.org/resource/Anne_of_Green_Gables\" target=\"_other\">http://dbpedia.org/resource/Anne_of_Green_Gables</a></td>\n",
       "<td class=val><a href=\"http://dbpedia.org/resource/Lucy_Maud_Montgomery\" target=\"_other\">http://dbpedia.org/resource/Lucy_Maud_Montgomery</a></td></tr><tr class=even><td class=val><a href=\"http://dbpedia.org/resource/Around_the_World_in_Eighty_Days\" target=\"_other\">http://dbpedia.org/resource/Around_the_World_in_Eighty_Days</a></td>\n",
       "<td class=val><a href=\"http://dbpedia.org/resource/Jules_Verne\" target=\"_other\">http://dbpedia.org/resource/Jules_Verne</a></td></tr><tr class=odd><td class=val><a href=\"http://dbpedia.org/resource/Between_Planets\" target=\"_other\">http://dbpedia.org/resource/Between_Planets</a></td>\n",
       "<td class=val><a href=\"http://dbpedia.org/resource/Robert_A._Heinlein\" target=\"_other\">http://dbpedia.org/resource/Robert_A._Heinlein</a></td></tr><tr class=even><td class=val><a href=\"http://dbpedia.org/resource/Beyond_This_Horizon\" target=\"_other\">http://dbpedia.org/resource/Beyond_This_Horizon</a></td>\n",
       "<td class=val><a href=\"http://dbpedia.org/resource/Robert_A._Heinlein\" target=\"_other\">http://dbpedia.org/resource/Robert_A._Heinlein</a></td></tr><tr class=odd><td class=val><a href=\"http://dbpedia.org/resource/Blood_Music_(novel)\" target=\"_other\">http://dbpedia.org/resource/Blood_Music_(novel)</a></td>\n",
       "<td class=val><a href=\"http://dbpedia.org/resource/Greg_Bear\" target=\"_other\">http://dbpedia.org/resource/Greg_Bear</a></td></tr><tr class=even><td class=val><a href=\"http://dbpedia.org/resource/Brave_New_World\" target=\"_other\">http://dbpedia.org/resource/Brave_New_World</a></td>\n",
       "<td class=val><a href=\"http://dbpedia.org/resource/Aldous_Huxley\" target=\"_other\">http://dbpedia.org/resource/Aldous_Huxley</a></td></tr><tr class=odd><td class=val><a href=\"http://dbpedia.org/resource/Castle_Rackrent\" target=\"_other\">http://dbpedia.org/resource/Castle_Rackrent</a></td>\n",
       "<td class=val><a href=\"http://dbpedia.org/resource/Maria_Edgeworth\" target=\"_other\">http://dbpedia.org/resource/Maria_Edgeworth</a></td></tr><tr class=even><td class=val><a href=\"http://dbpedia.org/resource/Catch-22\" target=\"_other\">http://dbpedia.org/resource/Catch-22</a></td>\n",
       "<td class=val><a href=\"http://dbpedia.org/resource/Joseph_Heller\" target=\"_other\">http://dbpedia.org/resource/Joseph_Heller</a></td></tr><tr class=odd><td class=val><a href=\"http://dbpedia.org/resource/Charlie_and_the_Chocolate_Factory\" target=\"_other\">http://dbpedia.org/resource/Charlie_and_the_Chocolate_Factory</a></td>\n",
       "<td class=val><a href=\"http://dbpedia.org/resource/Roald_Dahl\" target=\"_other\">http://dbpedia.org/resource/Roald_Dahl</a></td></tr><tr class=even><td class=val><a href=\"http://dbpedia.org/resource/Citizen_of_the_Galaxy\" target=\"_other\">http://dbpedia.org/resource/Citizen_of_the_Galaxy</a></td>\n",
       "<td class=val><a href=\"http://dbpedia.org/resource/Robert_A._Heinlein\" target=\"_other\">http://dbpedia.org/resource/Robert_A._Heinlein</a></td></tr><tr class=odd><td class=val><a href=\"http://dbpedia.org/resource/Clash_of_Civilizations\" target=\"_other\">http://dbpedia.org/resource/Clash_of_Civilizations</a></td>\n",
       "<td class=val><a href=\"http://dbpedia.org/resource/Samuel_P._Huntington\" target=\"_other\">http://dbpedia.org/resource/Samuel_P._Huntington</a></td></tr><tr class=even><td class=val><a href=\"http://dbpedia.org/resource/Clear_and_Present_Danger\" target=\"_other\">http://dbpedia.org/resource/Clear_and_Present_Danger</a></td>\n",
       "<td class=val><a href=\"http://dbpedia.org/resource/Tom_Clancy\" target=\"_other\">http://dbpedia.org/resource/Tom_Clancy</a></td></tr><tr class=odd><td class=val><a href=\"http://dbpedia.org/resource/Commentarii_de_Bello_Gallico\" target=\"_other\">http://dbpedia.org/resource/Commentarii_de_Bello_Gallico</a></td>\n",
       "<td class=val><a href=\"http://dbpedia.org/resource/Julius_Caesar\" target=\"_other\">http://dbpedia.org/resource/Julius_Caesar</a></td></tr><tr class=even><td class=val><a href=\"http://dbpedia.org/resource/Commentarii_de_Bello_Gallico\" target=\"_other\">http://dbpedia.org/resource/Commentarii_de_Bello_Gallico</a></td>\n",
       "<td class=val><a href=\"http://dbpedia.org/resource/Aulus_Hirtius\" target=\"_other\">http://dbpedia.org/resource/Aulus_Hirtius</a></td></tr></table><div class=\"tinfo\">Total: 10000, Shown: 20</div></div>"
      ]
     },
     "metadata": {},
     "output_type": "display_data"
    }
   ],
   "source": [
    "PREFIX dbo:<http://dbpedia.org/ontology/>\n",
    "SELECT *\n",
    "WHERE {\n",
    "  ?book a dbo:Book .\n",
    "  ?book dbo:author ?author .\n",
    "}"
   ]
  },
  {
   "cell_type": "markdown",
   "metadata": {
    "slideshow": {
     "slide_type": "subslide"
    }
   },
   "source": [
    "A turtle-like syntax can also be used to make the query more readable:\n",
    "\n",
    "```sparql\n",
    "PREFIX dbo:<http://dbpedia.org/ontology/>\n",
    "SELECT *\n",
    "WHERE {\n",
    "  ?book a dbo:Book ; \n",
    "      dbo:author ?author .\n",
    "}\n",
    "```"
   ]
  },
  {
   "cell_type": "markdown",
   "metadata": {
    "slideshow": {
     "slide_type": "subslide"
    }
   },
   "source": [
    "In a graph with the following 4 statements:\n",
    "\n",
    "```turtle\n",
    "<http://book1> rdf:type <http://dbpedia.org/ontology/Book> .\n",
    "<http://book1> dbo:author <http://author1> .\n",
    "<http://book2> rdf:type <http://dbpedia.org/ontology/Book> .\n",
    "<http://book2> dbo:contributor <http://author2> .\n",
    "```\n",
    "\n",
    "The previous query will return only one row of results with `<http://book1>` and `<http://author1>`"
   ]
  },
  {
   "cell_type": "code",
   "execution_count": null,
   "metadata": {},
   "outputs": [],
   "source": []
  }
 ],
 "metadata": {
  "kernelspec": {
   "display_name": "SPARQL",
   "language": "sparql",
   "name": "sparql"
  },
  "language_info": {
   "codemirror_mode": {
    "name": "sparql"
   },
   "mimetype": "application/sparql-query",
   "name": "sparql",
   "pygments_lexer": "sparql-nb"
  }
 },
 "nbformat": 4,
 "nbformat_minor": 4
}
