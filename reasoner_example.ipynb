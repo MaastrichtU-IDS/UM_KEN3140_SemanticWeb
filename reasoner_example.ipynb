{
 "cells": [
  {
   "cell_type": "markdown",
   "metadata": {},
   "source": [
    "# Owlready2 reasoner example\n",
    "\n",
    "Example from [OwlReady2 docs on reasoning](https://owlready2.readthedocs.io/en/latest/reasoning.html)."
   ]
  },
  {
   "cell_type": "code",
   "execution_count": 1,
   "metadata": {
    "tags": []
   },
   "outputs": [
    {
     "output_type": "stream",
     "name": "stderr",
     "text": "* Owlready2 * Warning: optimized Cython parser module 'owlready2_optimized' is not available, defaulting to slower Python implementation\n"
    }
   ],
   "source": [
    "from owlready2 import *\n",
    "\n",
    "onto = get_ontology(\"http://test.org/onto.owl\")\n",
    "\n",
    "with onto:\n",
    "    class Drug(Thing):\n",
    "        def take(self): print(\"I took a drug\")\n",
    "\n",
    "    class ActivePrinciple(Thing):\n",
    "        pass\n",
    "\n",
    "    class has_for_active_principle(Drug >> ActivePrinciple):\n",
    "        python_name = \"active_principles\"\n",
    "\n",
    "    class Placebo(Drug):\n",
    "        equivalent_to = [Drug & Not(has_for_active_principle.some(ActivePrinciple))]\n",
    "        def take(self): print(\"I took a placebo\")\n",
    "\n",
    "    class SingleActivePrincipleDrug(Drug):\n",
    "        equivalent_to = [Drug & has_for_active_principle.exactly(1, ActivePrinciple)]\n",
    "        def take(self): print(\"I took a drug with a single active principle\")\n",
    "\n",
    "    class DrugAssociation(Drug):\n",
    "        equivalent_to = [Drug & has_for_active_principle.min(2, ActivePrinciple)]\n",
    "        def take(self): print(\"I took a drug with %s active principles\" % len(self.active_principles))\n",
    "\n",
    "acetaminophen   = ActivePrinciple(\"acetaminophen\")\n",
    "amoxicillin     = ActivePrinciple(\"amoxicillin\")\n",
    "clavulanic_acid = ActivePrinciple(\"clavulanic_acid\")\n",
    "\n",
    "AllDifferent([acetaminophen, amoxicillin, clavulanic_acid])\n",
    "\n",
    "drug1 = Drug(active_principles = [acetaminophen])\n",
    "drug2 = Drug(active_principles = [amoxicillin, clavulanic_acid])\n",
    "drug3 = Drug(active_principles = [])\n",
    "\n",
    "close_world(Drug)\n"
   ]
  },
  {
   "cell_type": "markdown",
   "metadata": {},
   "source": [
    "## Running the reasoner\n",
    "\n",
    "The reasoner (HermiT) is simply run by calling the `sync_reasoner()` global function:"
   ]
  },
  {
   "cell_type": "code",
   "execution_count": 2,
   "metadata": {
    "tags": []
   },
   "outputs": [
    {
     "output_type": "stream",
     "name": "stderr",
     "text": "* Owlready2 * Running HermiT...\n    java -Xmx2000M -cp /home/vemonet/.local/lib/python3.6/site-packages/owlready2/hermit:/home/vemonet/.local/lib/python3.6/site-packages/owlready2/hermit/HermiT.jar org.semanticweb.HermiT.cli.CommandLine -c -O -D -I file:////tmp/tmpuknkxsrg\n* Owlready2 * HermiT took 0.7679293155670166 seconds\n* Owlready * Reparenting onto.drug2: {onto.Drug} => {onto.DrugAssociation}\n* Owlready * Reparenting onto.drug1: {onto.Drug} => {onto.SingleActivePrincipleDrug}\n* Owlready * Reparenting onto.drug3: {onto.Drug} => {onto.Placebo}\n* Owlready * (NB: only changes on entities loaded in Python are shown, other changes are done but not listed)\n"
    }
   ],
   "source": [
    "with onto:\n",
    "    sync_reasoner()"
   ]
  }
 ],
 "metadata": {
  "kernelspec": {
   "display_name": "Python 3",
   "language": "python",
   "name": "python3"
  },
  "language_info": {
   "codemirror_mode": {
    "name": "ipython",
    "version": 3
   },
   "file_extension": ".py",
   "mimetype": "text/x-python",
   "name": "python",
   "nbconvert_exporter": "python",
   "pygments_lexer": "ipython3",
   "version": "3.6.9-final"
  }
 },
 "nbformat": 4,
 "nbformat_minor": 4
}