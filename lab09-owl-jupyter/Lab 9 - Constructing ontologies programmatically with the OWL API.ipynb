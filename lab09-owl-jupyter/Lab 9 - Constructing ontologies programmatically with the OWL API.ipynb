{
 "cells": [
  {
   "cell_type": "markdown",
   "metadata": {},
   "source": [
    "# KEN3140 (Semantic Web) Lab 9\n",
    "### Constructing ontologies with the OWL API\n",
    "\n",
    "**Date:** 29 September 2021\n",
    "\n",
    "**Author:** Kody Moodley\n",
    "\n",
    "**Affiliation:** Institute of Data Science, Maastricht University\n",
    "\n",
    "**License:** [GNU Affero General Public License v3.0](https://www.gnu.org/licenses/agpl-3.0.txt)\n",
    "\n",
    "**Notebook description**\n",
    "\n",
    "This is a Jupyter notebook to which allows one to programmatically construct ontologies using the [Java-based OWL API](https://github.com/owlcs/owlapi/wiki/Documentation) without requiring knowledge of the full OWL API. I have built a Java wrapper for the OWLAPI called [SimpleOWLAPI](https://github.com/kodymoodley/simpleowlapi). This wrapper allows you to make use of the most important features of the OWL API in a much more concise way than having to use the original API.\n",
    "\n",
    "**Background: please read this section carefully before beginning the lab**\n",
    "\n",
    "This lab follows on from Lab 6, 7, and 8 in which you familiarised yourself with the intuitions behind constructing OWL ontologies, the expressivity, reasoning complexity and semantics that need to be taken into account when constructing an ontology, and how this can affect its accuracy or quality. So far, you have used [Protege](https://protege.stanford.edu/) for constructing ontologies. Protege is a well-known ontology editor and it also has a cloud-based, collaborative version - [WebProtege](https://webprotege.stanford.edu/). However, Protege is just one tool amongst a variety of Semantic Web tools, not only ontology editors, but also reasoners, web applications and frameworks that push the vision of the Semantic Web forward. This lab will ask you to construct an OWL ontology **programmatically** using the OWL API instead of using a graphical ontology editor.\n",
    "\n",
    "*Why not just use a graphical ontology editor?*\n",
    "\n",
    "You can! However, in practice, it is useful to be able to load an ontology, edit it and \"attach\" it to extracted RDF data all programmatically from a script or software library. This is so that we can perform queries, reasoning, and mining algorithms that form part of a complex chain of computational processes (i.e., a group of software services called a scientific workflow).\n",
    "\n",
    "**Lab instructions** \n",
    "\n",
    "Your task in this lab is to construct an OWL ontology describing the familiar domain of family relations that we have been using throughout this course. In other words, build **your own** family relations ontology with OWL 2 DL axioms that **you** think should be in this ontology. You do not have to reproduce the same ontology that was used in Labs 6-8. However, you may reuse some terms from this ontology if you wish. You will find example ontology construction commands you will need in Sections 2-3 of this notebook. Make use of the reasoner **incrementally** after adding new axioms (especially complex ones such as role constraints axioms) to check if unexpected inferences or logical errors arise. Example commands of how to invoke the reasoner can be found in Section 3. Please build **your** ontology in Section 4 of this notebook.\n",
    "\n",
    "**Notebook structure**\n",
    "\n",
    "* Sections 1 - 3 of this notebook demonstrates in detail, through examples, how to use SimpleOWLAPI to build OWL 2 DL ontologies programmatically\n",
    "* Section 4 is where you will actually construct your own ontology using commands such as those in Sections 1 - 3\n",
    "\n",
    "**Learning objectives**\n",
    "\n",
    "How to programmatically:\n",
    "\n",
    "* Construct and reason with OWL 2 DL ontologies\n",
    "* Generate explanations for entailments in OWL 2 DL ontologies\n",
    "* Debug unintended inferences in OWL 2 DL ontologies\n",
    "\n",
    "**Technical requirements**\n",
    "\n",
    "* Jupyter notebooks: **https://jupyter.org/**\n",
    "* IJava: **https://github.com/SpencerPark/IJava** (Java kernel for Jupyter notebooks)\n",
    "\n",
    "**Documentation**\n",
    "\n",
    "For more details about how to use SimpleOWLAPI, consult the [documentation](https://github.com/kodymoodley/simpleowlapi) on Github and the [Javadocs](https://kodymoodley.github.io/simpleowlapi/doc/) for the library. The original OWL API documentation can be found here: **https://github.com/owlcs/owlapi/wiki/Documentation**. The Javadocs for the full OWL API version 4 are located here: **http://owlcs.github.io/owlapi/apidocs_4/** and those for OWL API version 5 are located here: **http://owlcs.github.io/owlapi/apidocs_5/**."
   ]
  },
  {
   "cell_type": "markdown",
   "metadata": {},
   "source": [
    "### 1. Import [SimpleOWLAPI](https://github.com/kodymoodley/simpleowlapi)\n",
    "First we need to import the [SimpleOWLAPI](https://github.com/kodymoodley/simpleowlapi) Java library. This library is maintained by [Kody Moodley](https://github.com/kodymoodley)."
   ]
  },
  {
   "cell_type": "code",
   "execution_count": null,
   "metadata": {},
   "outputs": [],
   "source": [
    "%jars simpleowlapi-lib-1.2.1-jar-with-dependencies.jar"
   ]
  },
  {
   "cell_type": "code",
   "execution_count": null,
   "metadata": {},
   "outputs": [],
   "source": [
    "%%loadFromPOM\n",
    "<dependency>\n",
    "  <groupId>org.slf4j</groupId>\n",
    "  <artifactId>slf4j-nop</artifactId>\n",
    "  <version>1.7.30</version>\n",
    "</dependency>"
   ]
  },
  {
   "cell_type": "code",
   "execution_count": null,
   "metadata": {},
   "outputs": [],
   "source": [
    "import org.semanticweb.owl.simpleowlapi.*;\n",
    "import org.semanticweb.owlapi.model.*;"
   ]
  },
  {
   "cell_type": "markdown",
   "metadata": {},
   "source": [
    "### 2. Examples to get started\n",
    "Have a look at these examples to show you how to build ontologies using SimpleOWLAPI"
   ]
  },
  {
   "cell_type": "markdown",
   "metadata": {},
   "source": [
    "#### 2a. Creating an ontology"
   ]
  },
  {
   "cell_type": "code",
   "execution_count": null,
   "metadata": {},
   "outputs": [],
   "source": [
    "// create a new SimpleOWLAPIFactory instance which allows the construction and manipulation of OWL ontologies (default OWL reasoner is JFACT)\n",
    "SimpleOWLAPIFactory s = new SimpleOWLAPIFactory(); \n",
    "// create a new OWL ontology by specifying an IRI string and set it to the currently selected (active) ontology\n",
    "s.createOntology(\"http://maastrichtuniversity.nl/semweb/2021/lab9#\");"
   ]
  },
  {
   "cell_type": "markdown",
   "metadata": {},
   "source": [
    "#### 2b. Creating (atomic) classes"
   ]
  },
  {
   "cell_type": "code",
   "execution_count": null,
   "metadata": {},
   "outputs": [],
   "source": [
    "// create single atomic class\n",
    "s.createClass(\"Woman\");\n",
    "// create multiple atomic classes (each one separated by a space)\n",
    "s.createClasses(\"Man Male Female Person Adult Car Tyre USCitizen Passport Leg Arthropod JohnsBookClubMembers\");\n",
    "// print out the axioms and entities in the ontology\n",
    "s.printOntology();"
   ]
  },
  {
   "cell_type": "markdown",
   "metadata": {},
   "source": [
    "#### 2c. Creating properties"
   ]
  },
  {
   "cell_type": "code",
   "execution_count": null,
   "metadata": {},
   "outputs": [],
   "source": [
    "// create single object property\n",
    "s.createObjectProperty(\"hasGender\");\n",
    "// create multiple object properties at once (each separated by a space)\n",
    "s.createObjectProperties(\"hasPart teaches studentOf owns hasSister hasSibling hasDocument\");\n",
    "// specify whether an object property is transitive, reflexive, symmetric etc.\n",
    "// parameter1: name of the property\n",
    "// parameter2: transitive? 0 - no, 1 - yes\n",
    "// parameter3: reflexive? 0 - no, 1 - yes, 2 - irreflexive\n",
    "// parameter4: symmetric? 0 - no, 1 - yes, 2 - antisymmetric\n",
    "s.createObjectProperty(\"marriedTo\", 0, 2, 1);\n",
    "// alternatively, if you have already created a property\n",
    "//s.makeTransitive(\"propertyName\");\n",
    "// similar process for DATA properties\n",
    "s.createDataProperties(\"hasWeight name bornOn\"); \n",
    "s.printOntology();"
   ]
  },
  {
   "cell_type": "markdown",
   "metadata": {},
   "source": [
    "#### 2d. Creating individuals"
   ]
  },
  {
   "cell_type": "code",
   "execution_count": null,
   "metadata": {},
   "outputs": [],
   "source": [
    "// create single individual\n",
    "s.createIndividual(\"john\");\n",
    "// create multiple individuals at once (each separatedby a space)\n",
    "s.createIndividuals(\"sara ford_mondeo_16 mary\");\n",
    "s.printOntology();"
   ]
  },
  {
   "cell_type": "markdown",
   "metadata": {},
   "source": [
    "#### 2e. Creating TBox axioms"
   ]
  },
  {
   "cell_type": "code",
   "execution_count": null,
   "metadata": {},
   "outputs": [],
   "source": [
    "// TBox axioms\n",
    "// create subclass axioms\n",
    "s.createAxiom(\"Woman subClassOf Person and (hasGender some Female)\"); \n",
    "s.createAxiom(\"Man subClassOf Person and (hasGender some Male)\");\n",
    "s.createAxiom(\"Car subClassOf hasPart exactly 4 Tyre\");\n",
    "s.createAxiom(\"USCitizen subClassOf hasDocument max 2 Passport\");\n",
    "s.createAxiom(\"Arthropod subClassOf hasPart min 6 Leg\");\n",
    "// create OWL equivalent classes axiom and add it to the currently selected ontology\n",
    "s.createAxiom(\"Man equivalentTo Person and Adult and (hasGender some Male)\"); \n",
    "s.createAxiom(\"Woman equivalentTo Person and Adult and (hasGender some Female)\"); \n",
    "// create OWL disjoint classes axiom and add it to the currently selected ontology\n",
    "s.createAxiom(\"Man disjointWith Woman\"); \n",
    "s.createAxiom(\"Female disjointWith Male\");\n",
    "// create axioms using nominals\n",
    "s.createAxiom(\"JohnsBookClubMembers equivalentTo {john,mary,sara}\");\n",
    "// create domain & range axioms\n",
    "s.createAxiom(\"hasGender Domain: Person\");\n",
    "s.createAxiom(\"hasGender Range: Male or Female\");\n",
    "// print the ontology\n",
    "s.printOntology();"
   ]
  },
  {
   "cell_type": "markdown",
   "metadata": {},
   "source": [
    "#### 2f. Creating ABox axioms"
   ]
  },
  {
   "cell_type": "code",
   "execution_count": null,
   "metadata": {},
   "outputs": [],
   "source": [
    "// ABox axioms\n",
    "// create class assertion\n",
    "s.createAxiom(\"john Type: Adult\");\n",
    "s.createAxiom(\"mary Type: Adult\");\n",
    "// **NB: create property assertion**\n",
    "// With property assertions the method name is different\n",
    "// **we cannot use createAxiom here**\n",
    "s.createObjectPropertyAssertion(\"john hasGender Male\");\n",
    "s.createObjectPropertyAssertion(\"mary hasGender Female\");\n",
    "s.createObjectPropertyAssertion(\"john marriedTo mary\");\n",
    "// Create different individuals axiom (specify each individual name)\n",
    "s.differentIndividuals(\"john mary sara\");\n",
    "// Make **all** individual names in the ontology refer to distinct objects from the domain\n",
    "s.allIndividualsDifferent();\n",
    "s.printOntology();"
   ]
  },
  {
   "cell_type": "markdown",
   "metadata": {},
   "source": [
    "#### 2g. Creating RBox axioms"
   ]
  },
  {
   "cell_type": "code",
   "execution_count": null,
   "metadata": {},
   "outputs": [],
   "source": [
    "// RBox axioms\n",
    "// **note the \":\" after SubPropertyOf and InverseOf**\n",
    "s.createAxiom(\"hasSister SubPropertyOf: hasSibling\");\n",
    "// role / property composition axiom\n",
    "s.createAxiom(\"owns o hasPart SubPropertyOf: owns\");\n",
    "// inverse property axiom\n",
    "s.createAxiom(\"teaches InverseOf: studentOf\");\n",
    "// print ontology \n",
    "s.printOntology();\n",
    "// print some stats about the ontology (e.g. # of classes, properties etc.)\n",
    "s.printOntologyStats(); "
   ]
  },
  {
   "cell_type": "markdown",
   "metadata": {},
   "source": [
    "#### 2h. Saving an ontology to file; loading an ontology from a remote IRI; and removing entities from an ontology"
   ]
  },
  {
   "cell_type": "code",
   "execution_count": null,
   "metadata": {},
   "outputs": [],
   "source": [
    "// save active ontology to local file using Manchester OWL syntax\n",
    "s.saveOntology(\"testontology.owl\"); \n",
    "// load an ontology into this context from a remote URL\n",
    "//s.loadFromURL(\"https://protege.stanford.edu/ontologies/pizza/pizza.owl\"); \n",
    "// load an ontology into this context from a local file path. WARNING: you cannot load multiple ontologies with the same IRI into the same context!\n",
    "//s.loadFromFile(\"path/to/ontology.owl\");\n",
    "// remove selected ontology from current context (simpleOWLAPIFactory instance) \n",
    "//s.removeOntology(); \n",
    "// remove ontology with specified IRI from current context (simpleOWLAPIFactory instance) \n",
    "//s.removeOntology(\"http://iri-of-ontology\"); \n",
    "\n",
    "// remove all axioms from the currently selected ontology\n",
    "//s.resetOntology(); \n",
    "// remove multiple class names from currently selected ontology\n",
    "//s.removeClasses(\"Bird Penguin\"); \n",
    "// remove multiple object properties from currently selected ontology\n",
    "//s.removeObjectProperties(\"knows hasPart\"); \n",
    "// remove multiple data properties from currently selected ontology\n",
    "//s.removeDataProperties(\"hasWeight name\"); \n",
    "// remove multiple individual names from currently selected ontology\n",
    "//s.removeIndividuals(\"tweety woody\"); \n",
    "// remove an axiom from the currently selected ontology\n",
    "//s.removeAxiom(\"Penguin subClassOf eats some Fish\"); "
   ]
  },
  {
   "cell_type": "markdown",
   "metadata": {},
   "source": [
    "#### 2i. Visualise your ontology using [WebVowel](http://webvowl.137.120.31.101.nip.io/)\n",
    "You can upload your OWL file (less than 5MB) to the WebVowel online ontology visualiser to explore your ontology graphically. Just in case the link above does not work for WebVowel, you can try [this one](http://webvowl.semanticscience.org) as well. Protégé itself also has ontology visualisation plugins e.g. [OntoGraf](https://github.com/protegeproject/ontograf) developed by its users and community. You can find OntoGraf under Window>Tabs>OntoGraf in Protégé. However, WebVowel has a more visually appealing interface. There are other ontology visualisers available as well, for example, [OWLGrEd](http://owlgred.lumii.lv/online_visualization). Feel free to try these tools out, they are quite helpful to get an overview of the kind of knowledge present in an ontology."
   ]
  },
  {
   "cell_type": "markdown",
   "metadata": {},
   "source": [
    "![title](img/visualise_your_ont.png)"
   ]
  },
  {
   "cell_type": "markdown",
   "metadata": {},
   "source": [
    "#### 3. Reasoning with your ontology using OWL 2 DL reasoners\n",
    "Here we will use [HermiT](http://www.hermit-reasoner.com/) which is a robust OWL 2 DL reasoner. There is also [Pellet](https://github.com/stardog-union/pellet) and [Fact++](https://bitbucket.org/dtsarkov/factplusplus/downloads/uk.ac.manchester.cs.owl.factplusplus-P5.x-v1.6.5.jar) as alternatives amongst [others](https://www.w3.org/2001/sw/wiki/OWL/Implementations)"
   ]
  },
  {
   "cell_type": "markdown",
   "metadata": {},
   "source": [
    "#### 3a. Compute the subclasses or superclasses of a given class"
   ]
  },
  {
   "cell_type": "code",
   "execution_count": null,
   "metadata": {},
   "outputs": [],
   "source": [
    "// Get super classes of a given class expression / atomic class\n",
    "s.owlReasoner.getSuperClasses(\"hasGender some Male\");\n",
    "// Get subclasses of a given class expression / atomic class\n",
    "s.owlReasoner.getSubClasses(\"hasGender some Male\");"
   ]
  },
  {
   "cell_type": "markdown",
   "metadata": {},
   "source": [
    "#### 3b. Is the ontology consistent?"
   ]
  },
  {
   "cell_type": "code",
   "execution_count": null,
   "metadata": {},
   "outputs": [],
   "source": [
    "s.createClasses(\"Bird Penguin FlyingOrganism\");\n",
    "s.createAxiom(\"Bird subClassOf FlyingOrganism\");\n",
    "s.createAxiom(\"Penguin subClassOf Bird\");\n",
    "s.createAxiom(\"Penguin subClassOf not FlyingOrganism\");\n",
    "s.createIndividual(\"tweety\");\n",
    "s.createAxiom(\"tweety Type: Penguin\");\n",
    "// switch or set OWL reasoner\n",
    "//s.setOWLReasoner(SelectedReasoner.HERMIT);\n",
    "// prints to console Yes if currently selected ontology is consistent, No otherwise\n",
    "s.owlReasoner.isConsistent();\n",
    "// computes and prints to console all explanations for the inconsistency of the selected ontology (provided it is inconsistent)\n",
    "s.owlReasoner.explainInconsistency();"
   ]
  },
  {
   "cell_type": "markdown",
   "metadata": {},
   "source": [
    "#### 3c. Check unsatisfiability of a class"
   ]
  },
  {
   "cell_type": "code",
   "execution_count": null,
   "metadata": {},
   "outputs": [],
   "source": [
    "// first remove this axiom which causes the inconsistency\n",
    "s.removeAxiom(\"tweety Type: Penguin\");\n",
    "// now check again if the ontology is consistent.\n",
    "s.owlReasoner.isConsistent();\n",
    "// compute all unsatisfiable atomic classes in the ontology\n",
    "s.owlReasoner.isSatisfiable(\"Penguin\");"
   ]
  },
  {
   "cell_type": "markdown",
   "metadata": {},
   "source": [
    "#### 3d. Check if a subsumption holds"
   ]
  },
  {
   "cell_type": "code",
   "execution_count": null,
   "metadata": {},
   "outputs": [],
   "source": [
    "// Check if some axiom logically follows from the ontology\n",
    "s.owlReasoner.isEntailed(\"Man subClassOf Bird\");"
   ]
  },
  {
   "cell_type": "markdown",
   "metadata": {},
   "source": [
    "#### 3e. ABox realisation (compute class membership of individuals and relations between them)"
   ]
  },
  {
   "cell_type": "code",
   "execution_count": null,
   "metadata": {},
   "outputs": [],
   "source": [
    "// Get all atomic classes which this individual belongs to\n",
    "s.owlReasoner.getTypes(\"mary\");\n",
    "// Get all atomic classes for each individual in the ontology\n",
    "s.owlReasoner.getAllTypes();\n",
    "// Get all instances of a class\n",
    "s.owlReasoner.getInstances(\"Person\");\n",
    "// Get all property assertions for the given property\n",
    "s.owlReasoner.getObjectPropertyAssertions(\"marriedTo\");\n",
    "// Get all property assertions in the ontology\n",
    "s.owlReasoner.getAllObjectPropertyAssertions();"
   ]
  },
  {
   "cell_type": "markdown",
   "metadata": {},
   "source": [
    "#### 3f. Compute justifications (explanations) for a given inference"
   ]
  },
  {
   "cell_type": "code",
   "execution_count": null,
   "metadata": {},
   "outputs": [],
   "source": [
    "// explain unsatisfiability of a class (if it is unsatisfiable)\n",
    "s.owlReasoner.explainUnsatisfiability(\"Penguin\");\n",
    "// explain general entailment (if this entailment does hold)\n",
    "s.owlReasoner.explainEntailment(\"john Type: Person\");"
   ]
  },
  {
   "cell_type": "markdown",
   "metadata": {},
   "source": [
    "#### 4. Start of lab (build your family relations ontology here)"
   ]
  },
  {
   "cell_type": "code",
   "execution_count": null,
   "metadata": {},
   "outputs": [],
   "source": [
    "// Start building your ontology here //"
   ]
  }
 ],
 "metadata": {
  "kernelspec": {
   "display_name": "Java",
   "language": "java",
   "name": "java"
  },
  "language_info": {
   "codemirror_mode": "java",
   "file_extension": ".jshell",
   "mimetype": "text/x-java-source",
   "name": "Java",
   "pygments_lexer": "java",
   "version": "11.0.6+8-b765.1"
  }
 },
 "nbformat": 4,
 "nbformat_minor": 4
}
