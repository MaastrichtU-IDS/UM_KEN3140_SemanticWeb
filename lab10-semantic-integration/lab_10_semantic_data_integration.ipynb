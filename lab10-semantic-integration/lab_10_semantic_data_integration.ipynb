{
 "cells": [
  {
   "cell_type": "markdown",
   "metadata": {},
   "source": [
    "# Run SPARQL queries on a local RDF file\n",
    "\n",
    "We will use the Java RDF library [Apache Jena](https://jena.apache.org/). Follow these instructions to install the library:\n",
    "\n",
    "1. Copy the `apache-jena-3.16.0` folder from Lab3 to the same directory as the notebook, or download the [apache-jena-3.16.0.zip](http://apache.mirror.triple-it.nl/jena/binaries/apache-jena-3.16.0.zip) file and unzip it\n",
    "2. Run the next cell (it will import all jars in the `apache-jena-3.16.0/lib` folder)"
   ]
  },
  {
   "cell_type": "code",
   "execution_count": null,
   "metadata": {},
   "outputs": [],
   "source": [
    "%jars apache-jena-3.16.0/lib/*.jar"
   ]
  },
  {
   "cell_type": "code",
   "execution_count": 2,
   "metadata": {},
   "outputs": [],
   "source": [
    "import org.apache.jena.riot.RDFDataMgr;\n",
    "import org.apache.jena.rdf.model.*;\n",
    "import org.apache.jena.util.PrintUtil;\n",
    "import org.apache.jena.vocabulary.RDF;\n",
    "import org.apache.jena.query.Query;\n",
    "import org.apache.jena.query.QueryExecution;\n",
    "import org.apache.jena.query.QueryExecutionFactory;\n",
    "import org.apache.jena.query.QueryFactory;\n",
    "import org.apache.jena.query.QuerySolution;\n",
    "import org.apache.jena.query.ResultSetFormatter;\n",
    "import org.apache.jena.query.ResultSet;\n",
    "import org.apache.jena.reasoner.ReasonerRegistry;\n",
    "import java.io.File;\n",
    "import org.apache.commons.io.FileUtils;\n",
    "import java.nio.charset.StandardCharsets;"
   ]
  },
  {
   "cell_type": "markdown",
   "metadata": {},
   "source": [
    "## Load the RDF file in a Jena Model\n",
    "\n",
    "Load the RDF file, and create `runSparqlQuery()` function to run SPARQL queries in a single call from a string or a file."
   ]
  },
  {
   "cell_type": "code",
   "execution_count": 3,
   "metadata": {},
   "outputs": [],
   "source": [
    "Model baseModel = RDFDataMgr.loadModel(\"Lab10_OWL_familyrelations.ttl\");\n",
    "//ReasonerRegistry reasonerRegistry = new ReasonerRegistry();\n",
    "\n",
    "InfModel model = ModelFactory.createInfModel(ReasonerRegistry.getOWLReasoner(), baseModel);\n",
    "\n",
    "// The schema model can be provided separately \n",
    "// InfModel model = ModelFactory.createInfModel(uselessReasonerRegistry.getOWLReasoner(), schema, model);"
   ]
  },
  {
   "cell_type": "code",
   "execution_count": 4,
   "metadata": {},
   "outputs": [],
   "source": [
    "static void runSparqlQuery(String queryString, Model model) throws java.io.IOException {\n",
    "    if (queryString.endsWith(\".rq\")) {\n",
    "        queryString = FileUtils.readFileToString(new File(queryString), StandardCharsets.UTF_8);\n",
    "    }\n",
    "    System.out.println(queryString);\n",
    "    Query query = QueryFactory.create(queryString);\n",
    "    QueryExecution qexec = QueryExecutionFactory.create(query, model);\n",
    "    ResultSetFormatter.out(qexec.execSelect(), model);\n",
    "} "
   ]
  },
  {
   "cell_type": "markdown",
   "metadata": {},
   "source": [
    "## SPARQL query from a file\n",
    "\n",
    "Provide the SPARQL query in a file **with the extension `.rq`**"
   ]
  },
  {
   "cell_type": "markdown",
   "metadata": {},
   "source": [
    " Define owl:equivalentProperty between dbo:age and schema:age"
   ]
  },
  {
   "cell_type": "code",
   "execution_count": 5,
   "metadata": {},
   "outputs": [
    {
     "name": "stdout",
     "output_type": "stream",
     "text": [
      "PREFIX xsd: <http://www.w3.org/2001/XMLSchema#>\n",
      "PREFIX schema: <http://schema.org/>\n",
      "PREFIX dbo: <http://dbpedia.org/ontology/>\n",
      "PREFIX wdp: <http://www.wikidata.org/prop/direct/> \n",
      "PREFIX wde: <http://www.wikidata.org/entity/> \n",
      "SELECT ?person ?age\n",
      "WHERE {\n",
      "    ?person dbo:age ?age .\n",
      "} \n",
      "-------------------------------------------------\n",
      "| person            | age                       |\n",
      "=================================================\n",
      "| myfamily:kovanya  | \"34\"^^xsd:positiveInteger |\n",
      "| myfamily:alan     | \"56\"^^xsd:positiveInteger |\n",
      "| myfamily:natasha  | \"22\"^^xsd:positiveInteger |\n",
      "| myfamily:shareena | \"62\"^^xsd:positiveInteger |\n",
      "| myfamily:brian    | \"54\"^^xsd:positiveInteger |\n",
      "| myfamily:kody     | \"34\"^^xsd:positiveInteger |\n",
      "| myfamily:nicole   | \"33\"^^xsd:positiveInteger |\n",
      "| myfamily:naidene  | \"28\"^^xsd:positiveInteger |\n",
      "| myfamily:radha    | \"51\"^^xsd:positiveInteger |\n",
      "| myfamily:siara    | \"30\"^^xsd:positiveInteger |\n",
      "-------------------------------------------------\n"
     ]
    }
   ],
   "source": [
    "runSparqlQuery(\"sparql-get_age.rq\", model)"
   ]
  },
  {
   "cell_type": "markdown",
   "metadata": {},
   "source": [
    "Define the necessary mappings in .tll for the following SPARQL query to retrieve the results from Wikidata statements"
   ]
  },
  {
   "cell_type": "code",
   "execution_count": 6,
   "metadata": {},
   "outputs": [
    {
     "name": "stdout",
     "output_type": "stream",
     "text": [
      "PREFIX xsd: <http://www.w3.org/2001/XMLSchema#>\n",
      "PREFIX schema: <http://schema.org/>\n",
      "PREFIX dbo: <http://dbpedia.org/ontology/>\n",
      "PREFIX wdp: <http://www.wikidata.org/prop/direct/> \n",
      "PREFIX wde: <http://www.wikidata.org/entity/> \n",
      "SELECT ?person ?sibling  \n",
      "WHERE {\n",
      "    ?person schema:sibling ?sibling .\n",
      "} \n",
      "----------------------------------------\n",
      "| person            | sibling          |\n",
      "========================================\n",
      "| myfamily:maha     | myfamily:alan    |\n",
      "| myfamily:guna     | myfamily:alan    |\n",
      "| myfamily:shareena | myfamily:ajeet   |\n",
      "| myfamily:padma    | myfamily:peter   |\n",
      "| myfamily:alan     | myfamily:peter   |\n",
      "| myfamily:maha     | myfamily:peter   |\n",
      "| myfamily:padma    | myfamily:alan    |\n",
      "| myfamily:siara    | myfamily:kody    |\n",
      "| myfamily:kovanya  | myfamily:kody    |\n",
      "| myfamily:peter    | myfamily:alan    |\n",
      "| myfamily:guna     | myfamily:peter   |\n",
      "| myfamily:guna     | myfamily:padma   |\n",
      "| myfamily:siara    | myfamily:kovanya |\n",
      "| myfamily:kovanya  | myfamily:siara   |\n",
      "| myfamily:kody     | myfamily:kovanya |\n",
      "| myfamily:maha     | myfamily:padma   |\n",
      "| myfamily:peter    | myfamily:padma   |\n",
      "| myfamily:kody     | myfamily:siara   |\n",
      "| myfamily:naidene  | myfamily:natasha |\n",
      "| myfamily:nicole   | myfamily:natasha |\n",
      "| myfamily:alan     | myfamily:padma   |\n",
      "| myfamily:padma    | myfamily:guna    |\n",
      "| myfamily:maha     | myfamily:guna    |\n",
      "| myfamily:nicole   | myfamily:naidene |\n",
      "| myfamily:alan     | myfamily:guna    |\n",
      "| myfamily:naidene  | myfamily:nicole  |\n",
      "| myfamily:peter    | myfamily:maha    |\n",
      "| myfamily:peter    | myfamily:guna    |\n",
      "| myfamily:natasha  | myfamily:nicole  |\n",
      "| myfamily:guna     | myfamily:maha    |\n",
      "| myfamily:padma    | myfamily:maha    |\n",
      "| myfamily:alan     | myfamily:maha    |\n",
      "| myfamily:natasha  | myfamily:naidene |\n",
      "| wde:Q16066408     | wde:Q6226112     |\n",
      "| wde:Q16066408     | wde:Q4719071     |\n",
      "| wde:Q16066408     | wde:Q3430859     |\n",
      "| wde:Q16066408     | wde:Q30632178    |\n",
      "| wde:Q16066408     | wde:Q28870612    |\n",
      "| wde:Q16066408     | wde:Q28124142    |\n",
      "| wde:Q16066408     | wde:Q22088567    |\n",
      "----------------------------------------\n"
     ]
    }
   ],
   "source": [
    "runSparqlQuery(\"sparql-get_sibling.rq\", model)"
   ]
  },
  {
   "cell_type": "markdown",
   "metadata": {},
   "source": [
    "Define necessary mappings in .tll for the following SPARQL query to retrieve the results from Wikidata statements"
   ]
  },
  {
   "cell_type": "code",
   "execution_count": 7,
   "metadata": {},
   "outputs": [
    {
     "name": "stdout",
     "output_type": "stream",
     "text": [
      "PREFIX xsd: <http://www.w3.org/2001/XMLSchema#>\n",
      "PREFIX schema: <http://schema.org/>\n",
      "PREFIX dbo: <http://dbpedia.org/ontology/>\n",
      "PREFIX wdp: <http://www.wikidata.org/prop/direct/> \n",
      "PREFIX wde: <http://www.wikidata.org/entity/> \n",
      "SELECT ?person ?parent  \n",
      "WHERE {\n",
      "    ?person schema:parent ?parent .\n",
      "} \n",
      "-----------------------------------------\n",
      "| person            | parent            |\n",
      "=========================================\n",
      "| myfamily:naidene  | myfamily:brian    |\n",
      "| myfamily:maha     | myfamily:kamala   |\n",
      "| myfamily:kody     | myfamily:alan     |\n",
      "| myfamily:kody     | myfamily:shareena |\n",
      "| myfamily:kovanya  | myfamily:alan     |\n",
      "| myfamily:peter    | myfamily:harri    |\n",
      "| myfamily:natasha  | myfamily:radha    |\n",
      "| myfamily:guna     | myfamily:harri    |\n",
      "| myfamily:alan     | myfamily:harri    |\n",
      "| myfamily:siara    | myfamily:shareena |\n",
      "| myfamily:alan     | myfamily:kamala   |\n",
      "| myfamily:guna     | myfamily:kamala   |\n",
      "| myfamily:padma    | myfamily:harri    |\n",
      "| myfamily:kovanya  | myfamily:shareena |\n",
      "| myfamily:maha     | myfamily:harri    |\n",
      "| myfamily:naidene  | myfamily:radha    |\n",
      "| myfamily:peter    | myfamily:kamala   |\n",
      "| myfamily:nicole   | myfamily:radha    |\n",
      "| myfamily:nicole   | myfamily:brian    |\n",
      "| myfamily:siara    | myfamily:alan     |\n",
      "| myfamily:shareena | myfamily:hiblal   |\n",
      "| myfamily:padma    | myfamily:kamala   |\n",
      "| myfamily:natasha  | myfamily:brian    |\n",
      "| myfamily:shareena | myfamily:thana    |\n",
      "| wde:Q16066408     | wde:Q178903       |\n",
      "| wde:Q16066408     | wde:Q5363475      |\n",
      "-----------------------------------------\n"
     ]
    }
   ],
   "source": [
    "runSparqlQuery(\"sparql-get_parent.rq\", model)"
   ]
  },
  {
   "cell_type": "markdown",
   "metadata": {},
   "source": [
    "Homework: Transform the wikidata graph to the family graph using Construct query"
   ]
  },
  {
   "cell_type": "code",
   "execution_count": 8,
   "metadata": {},
   "outputs": [
    {
     "name": "stdout",
     "output_type": "stream",
     "text": [
      "PREFIX xsd: <http://www.w3.org/2001/XMLSchema#>\n",
      "PREFIX schema: <http://schema.org/>\n",
      "PREFIX dbo: <http://dbpedia.org/ontology/>\n",
      "PREFIX wdp: <http://www.wikidata.org/prop/direct/> \n",
      "PREFIX wde: <http://www.wikidata.org/entity/> \n",
      "PREFIX rdfs: <http://www.w3.org/2000/01/rdf-schema#>\n",
      "\n",
      "SELECT ?person ?givenName ?familyName\n",
      "WHERE {\n",
      "    ?person schema:familyName ?familyName .\n",
      "    ?person schema:givenName ?givenName .\n",
      "}\n",
      "\n",
      "-----------------------------------------------\n",
      "| person            | givenName  | familyName |\n",
      "===============================================\n",
      "| myfamily:peter    | \"Peter\"    | \"Moodley\"  |\n",
      "| myfamily:thana    | \"Thana\"    | \"Pramlall\" |\n",
      "| myfamily:kody     | \"Kody\"     | \"Moodley\"  |\n",
      "| myfamily:kovanya  | \"Kovanya\"  | \"Moodley\"  |\n",
      "| myfamily:naidene  | \"Naidene\"  | \"Govender\" |\n",
      "| myfamily:natasha  | \"Natasha\"  | \"Govender\" |\n",
      "| myfamily:kamala   | \"Kamala\"   | \"Moodley\"  |\n",
      "| myfamily:nicole   | \"Nicole\"   | \"Moodley\"  |\n",
      "| myfamily:alan     | \"Alan\"     | \"Moodley\"  |\n",
      "| myfamily:maha     | \"Maha\"     | \"Reddy\"    |\n",
      "| myfamily:harri    | \"Harri\"    | \"Moodley\"  |\n",
      "| myfamily:ajeet    | \"Ajeet\"    | \"Pramlall\" |\n",
      "| myfamily:brian    | \"Brian\"    | \"Govender\" |\n",
      "| myfamily:shareena | \"Shareena\" | \"Moodley\"  |\n",
      "| myfamily:guna     | \"Guna\"     | \"Anthony\"  |\n",
      "| myfamily:padma    | \"Padma\"    | \"Naidoo\"   |\n",
      "| myfamily:siara    | \"Siara\"    | \"Moodley\"  |\n",
      "| myfamily:radha    | \"Radha\"    | \"Govender\" |\n",
      "| myfamily:hiblal   | \"Hiblal\"   | \"Pramlall\" |\n",
      "-----------------------------------------------\n"
     ]
    }
   ],
   "source": [
    "runSparqlQuery(\"sparql-get_given_familyname.rq\", model)"
   ]
  },
  {
   "cell_type": "code",
   "execution_count": null,
   "metadata": {},
   "outputs": [],
   "source": []
  }
 ],
 "metadata": {
  "kernelspec": {
   "display_name": "Java",
   "language": "java",
   "name": "java"
  },
  "language_info": {
   "codemirror_mode": "java",
   "file_extension": ".jshell",
   "mimetype": "text/x-java-source",
   "name": "Java",
   "pygments_lexer": "java",
   "version": "11.0.8+10-LTS"
  }
 },
 "nbformat": 4,
 "nbformat_minor": 4
}
