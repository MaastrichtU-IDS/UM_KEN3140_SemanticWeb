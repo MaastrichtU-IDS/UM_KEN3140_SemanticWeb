{
 "cells": [
  {
   "cell_type": "markdown",
   "metadata": {
    "slideshow": {
     "slide_type": "slide"
    }
   },
   "source": [
    "# Query RDF with the SPARQL query language\n",
    "\n",
    "\n",
    "* SPARQL (pronounced sparkle) stands for: **SPARQL Protocol And RDF Query Language**\n",
    "* SPARQL 1.0 W3C-Recommendation since January 15th 2008\n",
    "* SPARQL 1.1 W3C-Recommendation since March 21st 2013 Query language to query instances in RDF documents\n",
    "\n",
    "**Reference specifications: https://www.w3.org/TR/sparql11-query/**\n",
    "\n",
    "\n",
    "> w3.org materials are standards and recommendations accepted by the World Wide Web Consortium (W3C, the organism defining the Internet standards)"
   ]
  },
  {
   "cell_type": "markdown",
   "metadata": {
    "slideshow": {
     "slide_type": "slide"
    }
   },
   "source": [
    "# SPARQL endpoint 🔗\n",
    "\n",
    "* Databases are not built to be publicly available, they usually live close to their applications\n",
    "* Triplestore can be fully queried through a publicly available SPARQL endpoint URL\n",
    "* Some solutions enable user management, but natively SPARQL endpoints are built to be open and give the same access to all their users\n",
    "\n",
    "We will use the **DBpedia SPARQL endpoint**: \n",
    "\n",
    ">**https://dbpedia.org/sparql**\n",
    "\n",
    "[DBpedia](https://wiki.dbpedia.org/) is a project to represent (parts of) Wikipedia as RDF, it has been used has a playground for the Semantic Web for years. The data is not controlled or curated, which lead to poor data quality (don't be surprised to find weird things)\n",
    "\n",
    "You can use a nicer query editor that can query any public SPARQL endpoint: \n",
    "\n",
    "> **https://yasgui.triply.cc**"
   ]
  },
  {
   "cell_type": "markdown",
   "metadata": {
    "slideshow": {
     "slide_type": "subslide"
    }
   },
   "source": [
    "# Install the SPARQL kernel\n",
    "\n",
    "This notebook uses the SPARQL Kernel to define and **execute SPARQL queries in the notebook** codeblocks.\n",
    "To **install the SPARQL Kernel** in your JupyterLab installation:\n",
    "\n",
    "```shell\n",
    "pip install sparqlkernel --user\n",
    "jupyter sparqlkernel install --user\n",
    "```\n",
    "\n",
    "To start running SPARQL query in this notebook, we need to define the **SPARQL kernel parameters**:\n",
    "* 🔗 **URL of the SPARQL endpoint to query**\n",
    "* 🌐 Language of preferred labels\n",
    "* 📜 Log level"
   ]
  },
  {
   "cell_type": "code",
   "execution_count": 36,
   "metadata": {
    "slideshow": {
     "slide_type": "fragment"
    }
   },
   "outputs": [
    {
     "data": {
      "text/html": [
       "<div class=\"krn-spql\"><div class=\"magic\">Endpoint set to: http://dbpedia.org/sparql</div><div class=\"magic\">Logging set to DEBUG</div></div>"
      ],
      "text/plain": [
       "Endpoint set to: http://dbpedia.org/sparql\n",
       "Logging set to DEBUG\n"
      ]
     },
     "metadata": {},
     "output_type": "display_data"
    }
   ],
   "source": [
    "%endpoint http://dbpedia.org/sparql\n",
    "\n",
    "# This is optional, it would increase the log level\n",
    "%log debug\n",
    "\n",
    "# Uncomment the next line to return label in english and avoid duplicates\n",
    "# %lang en"
   ]
  },
  {
   "cell_type": "markdown",
   "metadata": {
    "slideshow": {
     "slide_type": "slide"
    }
   },
   "source": [
    "# SPARQL query components\n",
    "\n",
    "Variables to resolve are defined using `?` (e.g. `?my_variable`)\n",
    "\n",
    "```sparql\n",
    "# prefix declarations: for abbreviating URIs\n",
    "PREFIX rdfs: <http://www.w3.org/2000/01/rdf-schema#>\n",
    "# dataset definition (optional): which RDF graph(s) are being queried\n",
    "FROM\n",
    "# result clause: what information to return from the query\n",
    "SELECT *\n",
    "# query pattern: specifying what to query for in the underlying dataset\n",
    "WHERE {\n",
    "    ?s ?p ?o .\n",
    "}\n",
    "# query modifiers: slicing, ordering, and rearranging query results\n",
    "ORDER BY ?s\n",
    "LIMIT 10\n",
    "```"
   ]
  },
  {
   "cell_type": "markdown",
   "metadata": {
    "slideshow": {
     "slide_type": "slide"
    }
   },
   "source": [
    "# FILTER the results\n",
    "\n",
    "## Comparison operators: <, =, >, <=, >=, !=\n",
    "* Comparison of data literals according to natural order\n",
    "* Support for numerical data types, xsd:dateTime, xsd:string (alphabetic ordering), xsd:Boolean (1>0)\n",
    "* For other types and other RDF-elements, only = and != are available\n",
    "* Comparison of literals of incompatible types (e.g. xsd:string and xsd:integer) is not allowed, they must be converted\n",
    "\n",
    "## Arithmetic operators: +, -, *, /\n",
    "* Support for numerical data types\n",
    "* Used to combine values in filter conditions \n",
    "* E.g. `FILTER(?weight/ (?size*?size)>=25)`\n"
   ]
  },
  {
   "cell_type": "markdown",
   "metadata": {
    "slideshow": {
     "slide_type": "slide"
    }
   },
   "source": [
    "# Perform an arithmetic operation\n",
    "\n",
    "Calculate the GDP per capita of countries from `dbp:gdpNominal` and `dbo:populationTotal` **impossible due to different datatypes** 🚫"
   ]
  },
  {
   "cell_type": "code",
   "execution_count": 33,
   "metadata": {
    "slideshow": {
     "slide_type": "fragment"
    }
   },
   "outputs": [
    {
     "data": {
      "text/html": [
       "<div class=\"krn-spql\"><table><tr class=hdr><th>country</th>\n",
       "<th>gdpValue</th>\n",
       "<th>gdpType</th>\n",
       "<th>population</th>\n",
       "<th>populationType</th>\n",
       "<th>gdpPerCapita</th></tr><tr class=odd><td class=val><a href=\"http://dbpedia.org/resource/Arab_League\" target=\"_other\">http://dbpedia.org/resource/Arab_League</a></td>\n",
       "<td class=val>3.526E12</td>\n",
       "<td class=val><a href=\"http://dbpedia.org/datatype/usDollar\" target=\"_other\">http://dbpedia.org/datatype/usDollar</a></td>\n",
       "<td class=val>423000000</td>\n",
       "<td class=val><a href=\"http://www.w3.org/2001/XMLSchema#nonNegativeInteger\" target=\"_other\">http://www.w3.org/2001/XMLSchema#nonNegativeInteger</a></td>\n",
       "<td class=val>0</td></tr><tr class=even><td class=val><a href=\"http://dbpedia.org/resource/Syria\" target=\"_other\">http://dbpedia.org/resource/Syria</a></td>\n",
       "<td class=val>5.9957E10</td>\n",
       "<td class=val><a href=\"http://dbpedia.org/datatype/usDollar\" target=\"_other\">http://dbpedia.org/datatype/usDollar</a></td>\n",
       "<td class=val>17064854</td>\n",
       "<td class=val><a href=\"http://www.w3.org/2001/XMLSchema#nonNegativeInteger\" target=\"_other\">http://www.w3.org/2001/XMLSchema#nonNegativeInteger</a></td>\n",
       "<td class=val>0</td></tr><tr class=odd><td class=val><a href=\"http://dbpedia.org/resource/Economic_Cooperation_Organization\" target=\"_other\">http://dbpedia.org/resource/Economic_Cooperation_Organization</a></td>\n",
       "<td class=val>US $1.9 trillion</td>\n",
       "<td class=val><a href=\"http://www.w3.org/1999/02/22-rdf-syntax-ns#langString\" target=\"_other\">http://www.w3.org/1999/02/22-rdf-syntax-ns#langString</a></td>\n",
       "<td class=val>416046863</td>\n",
       "<td class=val><a href=\"http://www.w3.org/2001/XMLSchema#nonNegativeInteger\" target=\"_other\">http://www.w3.org/2001/XMLSchema#nonNegativeInteger</a></td>\n",
       "<td class=val>0</td></tr><tr class=even><td class=val><a href=\"http://dbpedia.org/resource/Egypt\" target=\"_other\">http://dbpedia.org/resource/Egypt</a></td>\n",
       "<td class=val>3.30765E11</td>\n",
       "<td class=val><a href=\"http://dbpedia.org/datatype/usDollar\" target=\"_other\">http://dbpedia.org/datatype/usDollar</a></td>\n",
       "<td class=val>85783</td>\n",
       "<td class=val><a href=\"http://www.w3.org/2001/XMLSchema#nonNegativeInteger\" target=\"_other\">http://www.w3.org/2001/XMLSchema#nonNegativeInteger</a></td>\n",
       "<td class=val>0</td></tr><tr class=odd><td class=val><a href=\"http://dbpedia.org/resource/United_States\" target=\"_other\">http://dbpedia.org/resource/United_States</a></td>\n",
       "<td class=val>1.8558E13</td>\n",
       "<td class=val><a href=\"http://dbpedia.org/datatype/usDollar\" target=\"_other\">http://dbpedia.org/datatype/usDollar</a></td>\n",
       "<td class=val>324720797</td>\n",
       "<td class=val><a href=\"http://www.w3.org/2001/XMLSchema#nonNegativeInteger\" target=\"_other\">http://www.w3.org/2001/XMLSchema#nonNegativeInteger</a></td>\n",
       "<td class=val>0</td></tr><tr class=even><td class=val><a href=\"http://dbpedia.org/resource/Afghanistan\" target=\"_other\">http://dbpedia.org/resource/Afghanistan</a></td>\n",
       "<td class=val>1.9654E10</td>\n",
       "<td class=val><a href=\"http://dbpedia.org/datatype/usDollar\" target=\"_other\">http://dbpedia.org/datatype/usDollar</a></td>\n",
       "<td class=val>32564342</td>\n",
       "<td class=val><a href=\"http://www.w3.org/2001/XMLSchema#nonNegativeInteger\" target=\"_other\">http://www.w3.org/2001/XMLSchema#nonNegativeInteger</a></td>\n",
       "<td class=val>0</td></tr><tr class=odd><td class=val><a href=\"http://dbpedia.org/resource/Albania\" target=\"_other\">http://dbpedia.org/resource/Albania</a></td>\n",
       "<td class=val>1.2204E10</td>\n",
       "<td class=val><a href=\"http://dbpedia.org/datatype/usDollar\" target=\"_other\">http://dbpedia.org/datatype/usDollar</a></td>\n",
       "<td class=val>2886026</td>\n",
       "<td class=val><a href=\"http://www.w3.org/2001/XMLSchema#nonNegativeInteger\" target=\"_other\">http://www.w3.org/2001/XMLSchema#nonNegativeInteger</a></td>\n",
       "<td class=val>0</td></tr><tr class=even><td class=val><a href=\"http://dbpedia.org/resource/Algeria\" target=\"_other\">http://dbpedia.org/resource/Algeria</a></td>\n",
       "<td class=val>1.8171E11</td>\n",
       "<td class=val><a href=\"http://dbpedia.org/datatype/usDollar\" target=\"_other\">http://dbpedia.org/datatype/usDollar</a></td>\n",
       "<td class=val>40400000</td>\n",
       "<td class=val><a href=\"http://www.w3.org/2001/XMLSchema#nonNegativeInteger\" target=\"_other\">http://www.w3.org/2001/XMLSchema#nonNegativeInteger</a></td>\n",
       "<td class=val>0</td></tr><tr class=odd><td class=val><a href=\"http://dbpedia.org/resource/Andorra\" target=\"_other\">http://dbpedia.org/resource/Andorra</a></td>\n",
       "<td class=val>4.51E9</td>\n",
       "<td class=val><a href=\"http://dbpedia.org/datatype/usDollar\" target=\"_other\">http://dbpedia.org/datatype/usDollar</a></td>\n",
       "<td class=val>85470</td>\n",
       "<td class=val><a href=\"http://www.w3.org/2001/XMLSchema#nonNegativeInteger\" target=\"_other\">http://www.w3.org/2001/XMLSchema#nonNegativeInteger</a></td>\n",
       "<td class=val>0</td></tr><tr class=even><td class=val><a href=\"http://dbpedia.org/resource/Antigua_and_Barbuda\" target=\"_other\">http://dbpedia.org/resource/Antigua_and_Barbuda</a></td>\n",
       "<td class=val>1.332E9</td>\n",
       "<td class=val><a href=\"http://dbpedia.org/datatype/usDollar\" target=\"_other\">http://dbpedia.org/datatype/usDollar</a></td>\n",
       "<td class=val>91295</td>\n",
       "<td class=val><a href=\"http://www.w3.org/2001/XMLSchema#nonNegativeInteger\" target=\"_other\">http://www.w3.org/2001/XMLSchema#nonNegativeInteger</a></td>\n",
       "<td class=val>0</td></tr></table><div class=\"tinfo\">Total: 10, Shown: 10</div></div>"
      ]
     },
     "metadata": {},
     "output_type": "display_data"
    }
   ],
   "source": [
    "PREFIX xsd: <http://www.w3.org/2001/XMLSchema#>\n",
    "PREFIX dbo: <http://dbpedia.org/ontology/>\n",
    "PREFIX dbp: <http://dbpedia.org/property/>\n",
    "PREFIX rdf: <http://www.w3.org/1999/02/22-rdf-syntax-ns#>\n",
    "SELECT ?country ?gdpValue datatype(?gdpValue) AS ?gdpType ?population datatype(?population) AS ?populationType (?gdpValue / ?population AS ?gdpPerCapita)\n",
    "WHERE {\n",
    "    ?country dbp:gdpNominal ?gdpValue ;\n",
    "             dbo:populationTotal ?population .\n",
    "} LIMIT 10"
   ]
  },
  {
   "cell_type": "markdown",
   "metadata": {
    "slideshow": {
     "slide_type": "subslide"
    }
   },
   "source": [
    "# Cast a variable to a specific datatype\n",
    "\n",
    "Especially useful when **comparing or performing an arithmetical operations on 2 variables**.\n",
    "\n",
    "Here we divide a value in `usDollar` by a `nonNegativeInteger` casting the 2 to `xsd:integer` to calculate the GDP per capita of each country 💶"
   ]
  },
  {
   "cell_type": "code",
   "execution_count": 27,
   "metadata": {
    "slideshow": {
     "slide_type": "fragment"
    }
   },
   "outputs": [
    {
     "data": {
      "text/html": [
       "<div class=\"krn-spql\"><table><tr class=hdr><th>country</th>\n",
       "<th>gdpValue</th>\n",
       "<th>population</th>\n",
       "<th>gdpPerCapita</th></tr><tr class=odd><td class=val><a href=\"http://dbpedia.org/resource/Arab_League\" target=\"_other\">http://dbpedia.org/resource/Arab_League</a></td>\n",
       "<td class=val>3.526E12</td>\n",
       "<td class=val>423000000</td>\n",
       "<td class=val>8335</td></tr><tr class=even><td class=val><a href=\"http://dbpedia.org/resource/Syria\" target=\"_other\">http://dbpedia.org/resource/Syria</a></td>\n",
       "<td class=val>5.9957E10</td>\n",
       "<td class=val>17064854</td>\n",
       "<td class=val>3513</td></tr><tr class=odd><td class=val><a href=\"http://dbpedia.org/resource/Economic_Cooperation_Organization\" target=\"_other\">http://dbpedia.org/resource/Economic_Cooperation_Organization</a></td>\n",
       "<td class=val>US $1.9 trillion</td>\n",
       "<td class=val>416046863</td>\n",
       "<td class=val></td></tr><tr class=even><td class=val><a href=\"http://dbpedia.org/resource/Egypt\" target=\"_other\">http://dbpedia.org/resource/Egypt</a></td>\n",
       "<td class=val>3.30765E11</td>\n",
       "<td class=val>85783</td>\n",
       "<td class=val>3855833</td></tr><tr class=odd><td class=val><a href=\"http://dbpedia.org/resource/United_States\" target=\"_other\">http://dbpedia.org/resource/United_States</a></td>\n",
       "<td class=val>1.8558E13</td>\n",
       "<td class=val>324720797</td>\n",
       "<td class=val>57150</td></tr><tr class=even><td class=val><a href=\"http://dbpedia.org/resource/Afghanistan\" target=\"_other\">http://dbpedia.org/resource/Afghanistan</a></td>\n",
       "<td class=val>1.9654E10</td>\n",
       "<td class=val>32564342</td>\n",
       "<td class=val>603</td></tr><tr class=odd><td class=val><a href=\"http://dbpedia.org/resource/Albania\" target=\"_other\">http://dbpedia.org/resource/Albania</a></td>\n",
       "<td class=val>1.2204E10</td>\n",
       "<td class=val>2886026</td>\n",
       "<td class=val>4228</td></tr><tr class=even><td class=val><a href=\"http://dbpedia.org/resource/Algeria\" target=\"_other\">http://dbpedia.org/resource/Algeria</a></td>\n",
       "<td class=val>1.8171E11</td>\n",
       "<td class=val>40400000</td>\n",
       "<td class=val>4497</td></tr><tr class=odd><td class=val><a href=\"http://dbpedia.org/resource/Andorra\" target=\"_other\">http://dbpedia.org/resource/Andorra</a></td>\n",
       "<td class=val>4.51E9</td>\n",
       "<td class=val>85470</td>\n",
       "<td class=val>52767</td></tr><tr class=even><td class=val><a href=\"http://dbpedia.org/resource/Antigua_and_Barbuda\" target=\"_other\">http://dbpedia.org/resource/Antigua_and_Barbuda</a></td>\n",
       "<td class=val>1.332E9</td>\n",
       "<td class=val>91295</td>\n",
       "<td class=val>14590</td></tr></table><div class=\"tinfo\">Total: 10, Shown: 10</div></div>"
      ]
     },
     "metadata": {},
     "output_type": "display_data"
    }
   ],
   "source": [
    "PREFIX xsd: <http://www.w3.org/2001/XMLSchema#>\n",
    "PREFIX dbo: <http://dbpedia.org/ontology/>\n",
    "PREFIX dbp: <http://dbpedia.org/property/>\n",
    "SELECT ?country ?gdpValue ?population (xsd:integer(?gdpValue) / xsd:integer(?population) AS ?gdpPerCapita)\n",
    "WHERE {\n",
    "    ?country dbp:gdpNominal ?gdpValue ;\n",
    "             dbo:populationTotal ?population .\n",
    "} LIMIT 10"
   ]
  },
  {
   "cell_type": "markdown",
   "metadata": {
    "slideshow": {
     "slide_type": "slide"
    }
   },
   "source": [
    "# Count aggregated results\n",
    "\n",
    "Count the number of books for each author 📚"
   ]
  },
  {
   "cell_type": "code",
   "execution_count": 13,
   "metadata": {
    "slideshow": {
     "slide_type": "fragment"
    }
   },
   "outputs": [
    {
     "data": {
      "text/html": [
       "<div class=\"krn-spql\"><table><tr class=hdr><th>author</th>\n",
       "<th>book_count</th></tr><tr class=odd><td class=val><a href=\"http://dbpedia.org/resource/Daniel_Carter_Beard\" target=\"_other\">http://dbpedia.org/resource/Daniel_Carter_Beard</a></td>\n",
       "<td class=val>1</td></tr><tr class=even><td class=val><a href=\"http://dbpedia.org/resource/Raymond_Smullyan\" target=\"_other\">http://dbpedia.org/resource/Raymond_Smullyan</a></td>\n",
       "<td class=val>1</td></tr><tr class=odd><td class=val><a href=\"http://dbpedia.org/resource/William_Donaldson\" target=\"_other\">http://dbpedia.org/resource/William_Donaldson</a></td>\n",
       "<td class=val>1</td></tr><tr class=even><td class=val><a href=\"http://dbpedia.org/resource/Joe_Conason\" target=\"_other\">http://dbpedia.org/resource/Joe_Conason</a></td>\n",
       "<td class=val>1</td></tr><tr class=odd><td class=val><a href=\"http://dbpedia.org/resource/John_Lennon\" target=\"_other\">http://dbpedia.org/resource/John_Lennon</a></td>\n",
       "<td class=val>3</td></tr><tr class=even><td class=val><a href=\"http://dbpedia.org/resource/Jürgen_Habermas\" target=\"_other\">http://dbpedia.org/resource/Jürgen_Habermas</a></td>\n",
       "<td class=val>8</td></tr><tr class=odd><td class=val><a href=\"http://dbpedia.org/resource/Robert_Nathan\" target=\"_other\">http://dbpedia.org/resource/Robert_Nathan</a></td>\n",
       "<td class=val>1</td></tr><tr class=even><td class=val><a href=\"http://dbpedia.org/resource/J._P._Martin\" target=\"_other\">http://dbpedia.org/resource/J._P._Martin</a></td>\n",
       "<td class=val>6</td></tr><tr class=odd><td class=val><a href=\"http://dbpedia.org/resource/Anthony_Everitt\" target=\"_other\">http://dbpedia.org/resource/Anthony_Everitt</a></td>\n",
       "<td class=val>1</td></tr><tr class=even><td class=val><a href=\"http://dbpedia.org/resource/Arthur_R.G._Solmssen\" target=\"_other\">http://dbpedia.org/resource/Arthur_R.G._Solmssen</a></td>\n",
       "<td class=val>1</td></tr></table><div class=\"tinfo\">Total: 10, Shown: 10</div></div>"
      ]
     },
     "metadata": {},
     "output_type": "display_data"
    }
   ],
   "source": [
    "PREFIX dbo:<http://dbpedia.org/ontology/>\n",
    "SELECT ?author (count(?book) as ?book_count)\n",
    "WHERE {\n",
    "    ?book a dbo:Book ;\n",
    "        dbo:author ?author .\n",
    "} LIMIT 10"
   ]
  },
  {
   "cell_type": "markdown",
   "metadata": {
    "slideshow": {
     "slide_type": "subslide"
    }
   },
   "source": [
    "# Count depend on the aggregated results of a row\n",
    "\n",
    "Here we select also the book, hence getting a count of 1 book for each row 📘"
   ]
  },
  {
   "cell_type": "code",
   "execution_count": 14,
   "metadata": {
    "slideshow": {
     "slide_type": "fragment"
    }
   },
   "outputs": [
    {
     "data": {
      "text/html": [
       "<div class=\"krn-spql\"><table><tr class=hdr><th>book</th>\n",
       "<th>author</th>\n",
       "<th>book_count</th></tr><tr class=odd><td class=val><a href=\"http://dbpedia.org/resource/The_Aunt's_Story\" target=\"_other\">http://dbpedia.org/resource/The_Aunt's_Story</a></td>\n",
       "<td class=val><a href=\"http://dbpedia.org/resource/Patrick_White\" target=\"_other\">http://dbpedia.org/resource/Patrick_White</a></td>\n",
       "<td class=val>1</td></tr><tr class=even><td class=val><a href=\"http://dbpedia.org/resource/The_Circus_of_Dr._Lao_and_Other_Improbable_Stories\" target=\"_other\">http://dbpedia.org/resource/The_Circus_of_Dr._Lao_and_Other_Improbable_Stories</a></td>\n",
       "<td class=val><a href=\"http://dbpedia.org/resource/Ray_Bradbury\" target=\"_other\">http://dbpedia.org/resource/Ray_Bradbury</a></td>\n",
       "<td class=val>1</td></tr><tr class=odd><td class=val><a href=\"http://dbpedia.org/resource/The_Four_False_Weapons\" target=\"_other\">http://dbpedia.org/resource/The_Four_False_Weapons</a></td>\n",
       "<td class=val><a href=\"http://dbpedia.org/resource/John_Dickson_Carr\" target=\"_other\">http://dbpedia.org/resource/John_Dickson_Carr</a></td>\n",
       "<td class=val>1</td></tr><tr class=even><td class=val><a href=\"http://dbpedia.org/resource/The_Smack_Man\" target=\"_other\">http://dbpedia.org/resource/The_Smack_Man</a></td>\n",
       "<td class=val><a href=\"http://dbpedia.org/resource/Nelson_DeMille\" target=\"_other\">http://dbpedia.org/resource/Nelson_DeMille</a></td>\n",
       "<td class=val>1</td></tr><tr class=odd><td class=val><a href=\"http://dbpedia.org/resource/The_Surprising_Archaea\" target=\"_other\">http://dbpedia.org/resource/The_Surprising_Archaea</a></td>\n",
       "<td class=val><a href=\"http://dbpedia.org/resource/John_L._Howland\" target=\"_other\">http://dbpedia.org/resource/John_L._Howland</a></td>\n",
       "<td class=val>1</td></tr><tr class=even><td class=val><a href=\"http://dbpedia.org/resource/Trapped_in_the_USSR\" target=\"_other\">http://dbpedia.org/resource/Trapped_in_the_USSR</a></td>\n",
       "<td class=val><a href=\"http://dbpedia.org/resource/J._J._Fortune\" target=\"_other\">http://dbpedia.org/resource/J._J._Fortune</a></td>\n",
       "<td class=val>1</td></tr><tr class=odd><td class=val><a href=\"http://dbpedia.org/resource/A_Gent_from_Bear_Creek\" target=\"_other\">http://dbpedia.org/resource/A_Gent_from_Bear_Creek</a></td>\n",
       "<td class=val><a href=\"http://dbpedia.org/resource/Robert_E._Howard\" target=\"_other\">http://dbpedia.org/resource/Robert_E._Howard</a></td>\n",
       "<td class=val>1</td></tr><tr class=even><td class=val><a href=\"http://dbpedia.org/resource/A_Golden_Anniversary_Bibliography_of_Edgar_Rice_Burroughs\" target=\"_other\">http://dbpedia.org/resource/A_Golden_Anniversary_Bibliography_of_Edgar_Rice_Burroughs</a></td>\n",
       "<td class=val><a href=\"http://dbpedia.org/resource/Henry_Hardy_Heins\" target=\"_other\">http://dbpedia.org/resource/Henry_Hardy_Heins</a></td>\n",
       "<td class=val>1</td></tr><tr class=odd><td class=val><a href=\"http://dbpedia.org/resource/Act_of_Providence\" target=\"_other\">http://dbpedia.org/resource/Act_of_Providence</a></td>\n",
       "<td class=val><a href=\"http://dbpedia.org/resource/Joseph_Payne_Brennan\" target=\"_other\">http://dbpedia.org/resource/Joseph_Payne_Brennan</a></td>\n",
       "<td class=val>1</td></tr><tr class=even><td class=val><a href=\"http://dbpedia.org/resource/Atlas_of_the_British_Flora\" target=\"_other\">http://dbpedia.org/resource/Atlas_of_the_British_Flora</a></td>\n",
       "<td class=val><a href=\"http://dbpedia.org/resource/Franklyn_Perring\" target=\"_other\">http://dbpedia.org/resource/Franklyn_Perring</a></td>\n",
       "<td class=val>1</td></tr></table><div class=\"tinfo\">Total: 10, Shown: 10</div></div>"
      ]
     },
     "metadata": {},
     "output_type": "display_data"
    }
   ],
   "source": [
    "PREFIX dbo:<http://dbpedia.org/ontology/>\n",
    "SELECT ?book ?author (count(?book) as ?book_count)\n",
    "WHERE {\n",
    "    ?book a dbo:Book ;\n",
    "        dbo:author ?author .\n",
    "} LIMIT 10"
   ]
  },
  {
   "cell_type": "markdown",
   "metadata": {
    "slideshow": {
     "slide_type": "slide"
    }
   },
   "source": [
    "# SPARQL query breakdown 🧬\n",
    "\n",
    "<img src=\"sparql_query_breakdown.png\">"
   ]
  },
  {
   "cell_type": "markdown",
   "metadata": {
    "slideshow": {
     "slide_type": "slide"
    }
   },
   "source": [
    "# Search on DBpedia 🔎\n",
    "\n",
    "Use **[https://yasgui.triply.cc](https://yasgui.triply.cc)** to write and run SPARQL query on DBpedia\n",
    "\n",
    "> Find DBpedia classes and relations: search on google, e.g.: \"**[dbpedia capital](https://www.google.com/search?&q=dbpedia+capital)**\"\n",
    "\n",
    "* The capital ([dbo:capital](http://dbpedia.org/ontology/capital)) of the country in which authors of books are born ([dbo:birthPlace](http://dbpedia.org/ontology/birthPlace)), limit to 10\n",
    "\n",
    "* All books with a name in english starting with \"http\" ignoring case\n",
    "\n",
    "* Calculate the GDP per capita using countries `dbp:gdpNominal`, `dbo:populationTotal` (GDP/population) and compare it to the existing property in DBpedia `dbp:gdpNominalPerCapita`\n",
    "\n",
    "> **Search for functions in the specifications: https://www.w3.org/TR/sparql11-query**\n"
   ]
  },
  {
   "cell_type": "markdown",
   "metadata": {
    "slideshow": {
     "slide_type": "slide"
    }
   },
   "source": [
    "# Public SPARQL endpoints 🔗\n",
    "\n",
    "* Wikidata, facts powering Wikipedia infobox: https://query.wikidata.org/sparql\n",
    "* Bio2RDF, linked data for the life sciences: https://bio2rdf.org/sparql\n",
    "* Disgenet, gene-disease association: http://rdf.disgenet.org/sparql\n",
    "* PathwayCommons, resource for biological pathways analysis: http://rdf.pathwaycommons.org/sparql\n",
    "\n",
    "# Going further\n",
    "\n",
    "* Wikidata SPARQL queries around the SARS-CoV-2 virus and pandemic: https://egonw.github.io/SARS-CoV-2-Queries\n",
    "* Use [prefix.cc](http://prefix.cc/) to resolve mysterious prefixes."
   ]
  }
 ],
 "metadata": {
  "kernelspec": {
   "display_name": "SPARQL",
   "language": "sparql",
   "name": "sparql"
  },
  "language_info": {
   "codemirror_mode": {
    "name": "sparql"
   },
   "mimetype": "application/sparql-query",
   "name": "sparql",
   "pygments_lexer": "sparql-nb"
  }
 },
 "nbformat": 4,
 "nbformat_minor": 4
}
