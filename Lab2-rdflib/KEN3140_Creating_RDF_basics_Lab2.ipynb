{
  "nbformat": 4,
  "nbformat_minor": 0,
  "metadata": {
    "colab": {
      "provenance": [],
      "collapsed_sections": []
    },
    "kernelspec": {
      "name": "python3",
      "display_name": "Python 3"
    }
  },
  "cells": [
    {
      "cell_type": "markdown",
      "metadata": {
        "id": "UDeikpHwyZzP"
      },
      "source": [
        "# KEN 3140: Lab 2 (RDF basics)\n",
        "\n",
        "**In this lab we are going to:**\n",
        "\n",
        "- Create RDF triples with rdflib\n",
        "- Manipulate / edit RDF triples using rdflib and save these files into various RDF serialisation syntaxes\n",
        "- Verify the validity of a given list of IRIs\n",
        "\n",
        "**Creating RDF triples**\n",
        "\n",
        "RDF allows us to make statements about resources. A statement always has the following structure:\n",
        "# `<subject> <predicate> <object>`.\n",
        "\n",
        "An RDF statement expresses a relationship between two resources. The subject and the object represent the two resources being related; the predicate represents the nature of their relationship. The relationship is phrased in a directional way (from subject to object) and is called in RDF a property. Because RDF statements consist of three elements they are called triples."
      ]
    },
    {
      "cell_type": "code",
      "metadata": {
        "id": "4AMD49H9lYw2",
        "colab": {
          "base_uri": "https://localhost:8080/"
        },
        "outputId": "58eeebc9-eb9f-444e-c72d-ac7363704a4c"
      },
      "source": [
        "!pip install rdflib"
      ],
      "execution_count": null,
      "outputs": [
        {
          "output_type": "stream",
          "name": "stdout",
          "text": [
            "Looking in indexes: https://pypi.org/simple, https://us-python.pkg.dev/colab-wheels/public/simple/\n",
            "Collecting rdflib\n",
            "  Downloading rdflib-6.2.0-py3-none-any.whl (500 kB)\n",
            "\u001b[K     |████████████████████████████████| 500 kB 5.6 MB/s \n",
            "\u001b[?25hRequirement already satisfied: setuptools in /usr/local/lib/python3.7/dist-packages (from rdflib) (57.4.0)\n",
            "Requirement already satisfied: importlib-metadata in /usr/local/lib/python3.7/dist-packages (from rdflib) (4.12.0)\n",
            "Collecting isodate\n",
            "  Downloading isodate-0.6.1-py2.py3-none-any.whl (41 kB)\n",
            "\u001b[K     |████████████████████████████████| 41 kB 400 kB/s \n",
            "\u001b[?25hRequirement already satisfied: pyparsing in /usr/local/lib/python3.7/dist-packages (from rdflib) (3.0.9)\n",
            "Requirement already satisfied: zipp>=0.5 in /usr/local/lib/python3.7/dist-packages (from importlib-metadata->rdflib) (3.8.1)\n",
            "Requirement already satisfied: typing-extensions>=3.6.4 in /usr/local/lib/python3.7/dist-packages (from importlib-metadata->rdflib) (4.1.1)\n",
            "Requirement already satisfied: six in /usr/local/lib/python3.7/dist-packages (from isodate->rdflib) (1.15.0)\n",
            "Installing collected packages: isodate, rdflib\n",
            "Successfully installed isodate-0.6.1 rdflib-6.2.0\n"
          ]
        }
      ]
    },
    {
      "cell_type": "markdown",
      "metadata": {
        "id": "403cvmM5AeaT"
      },
      "source": [
        "## Creating Nodes\n",
        "\n",
        "The subjects and objects of the triples make up the nodes in the graph where the nodes are URI references, Blank Nodes or Literals. In RDFLib, these node types are represented by the classes **URIRef**, **BNode**, **Literal**. *URIRefs* and *Bnodes* can both be thought of as resources, such a person, a company, a website, etc.\n",
        "- A *BNode* is a node where the exact URI is not known.\n",
        "- A *URIRef* is a node where the exact URI is know. *URIRefs* are also used to represent the properties/predicates in the RDF graph.\n",
        "- *Literals* represent attribute values, such as a name, a date, a number, etc. The most common literal values are XML data types, e.g. string, int..\n",
        "\n",
        "**Example:**\n",
        "\n",
        "create a triple with rdflib for this sentence: Remzi is computer scientist.\n",
        "\n",
        "\n"
      ]
    },
    {
      "cell_type": "code",
      "metadata": {
        "id": "Y_qzkuxcAZRK"
      },
      "source": [
        "from rdflib import URIRef, BNode, Literal, Namespace\n",
        "from rdflib.namespace import FOAF, DCTERMS, XSD, RDF, SDO\n",
        "\n",
        "uri=ns+identifier\n",
        "\n",
        "#URI for entity Remzi: http://maastrichtuniversity.nl/Remzi\n",
        "UM = Namespace('http://maastrichtuniversity.nl/')\n",
        "remzi = UM['Remzi']\n",
        "computerScientist = UM['Computer_Scientist']\n",
        "\n",
        "uri = \"https://www.schema.org/Book\"\n",
        "s = URIRef(uri)\n",
        "print(s)\n",
        "remzi=URIRef('http://maastrichtuniversity.nl/Remzi')\n",
        "mona_lisa = URIRef('http://www.wikidata.org/entity/Q12418')\n",
        "davinci = URIRef('http://dbpedia.org/resource/Leonardo_da_Vinci')\n",
        "lajoconde = URIRef('http://data.europeana.eu/item/04802/243FA8618938F4117025F17A8B813C5F9AA4D619')\n"
      ],
      "execution_count": null,
      "outputs": []
    },
    {
      "cell_type": "code",
      "source": [
        "name = Literal(\"Nicholas\")  # the name 'Nicholas', as a string\n",
        "\n",
        "age = Literal(39, datatype=XSD.integer)  # the number 39, as an integer\n",
        "\n",
        "bn = BNode()\n"
      ],
      "metadata": {
        "id": "yeYK9FFTHe8O"
      },
      "execution_count": null,
      "outputs": []
    },
    {
      "cell_type": "code",
      "metadata": {
        "id": "tC1iLOCkHnyS"
      },
      "source": [
        "from rdflib import Graph\n",
        "\n",
        "#initialise an empty RDF graph\n",
        "g = Graph()\n"
      ],
      "execution_count": null,
      "outputs": []
    },
    {
      "cell_type": "code",
      "source": [
        "g.add((remzi, RDF.type, computerScientist))\n",
        "g.add((remzi, FOAF.firstName, Literal('Remzi')))\n",
        "g.add((remzi, FOAF.lastName, Literal('Celebi')))\n",
        "#g.add((remzi, schema.Occupation, computerScientist))"
      ],
      "metadata": {
        "colab": {
          "base_uri": "https://localhost:8080/"
        },
        "id": "GO408uGcuhFX",
        "outputId": "dd3745d7-0779-45b7-ed60-95f2f1ae5481"
      },
      "execution_count": null,
      "outputs": [
        {
          "output_type": "execute_result",
          "data": {
            "text/plain": [
              "<Graph identifier=Nfd5764483958446cab66afe68d5f1b97 (<class 'rdflib.graph.Graph'>)>"
            ]
          },
          "metadata": {},
          "execution_count": 22
        }
      ]
    },
    {
      "cell_type": "code",
      "metadata": {
        "id": "QT9iENftKa5v",
        "colab": {
          "base_uri": "https://localhost:8080/"
        },
        "outputId": "db658e59-5154-4eba-b03b-e2ef0fd7fe3f"
      },
      "source": [
        "print(g.serialize(format='ttl'))"
      ],
      "execution_count": null,
      "outputs": [
        {
          "output_type": "stream",
          "name": "stdout",
          "text": [
            "@prefix ns1: <http://xmlns.com/foaf/0.1/> .\n",
            "@prefix um: <http://maastrichtuniversity.nl/> .\n",
            "\n",
            "um:remzi a um:Computer_Scientist ;\n",
            "    ns1:firstName \"Remzi\" ;\n",
            "    ns1:lastName \"Celebi\" .\n",
            "\n",
            "\n"
          ]
        }
      ]
    },
    {
      "cell_type": "code",
      "source": [
        "print (\"Entities in this graph:\");\n",
        "print (\"-----------------------\");\n",
        "\n",
        "# Print the entities in our graph\n",
        "print (\"Remzi entity: \" + remzi);\n",
        "print (\"Computer Scientist entity: \" + computerScientist);\n",
        "\n",
        "\n",
        "\n",
        "print (\"Triples in this graph:\");\n",
        "print (\"----------------------\");\n",
        "\n",
        "for (s, p, o) in g:\n",
        "  print (s, p, o)"
      ],
      "metadata": {
        "colab": {
          "base_uri": "https://localhost:8080/"
        },
        "id": "qJMS3_fpvmWE",
        "outputId": "68c54822-1747-44f4-ad97-fb4eb075d93c"
      },
      "execution_count": null,
      "outputs": [
        {
          "output_type": "stream",
          "name": "stderr",
          "text": [
            "WARNING:rdflib.term:Remzi entity: http://maastrichtuniversity.nl/remzi does not look like a valid URI, trying to serialize this will break.\n",
            "WARNING:rdflib.term:Computer Scientist entity: http://maastrichtuniversity.nl/Computer_Scientist does not look like a valid URI, trying to serialize this will break.\n"
          ]
        },
        {
          "output_type": "stream",
          "name": "stdout",
          "text": [
            "Entities in this graph:\n",
            "-----------------------\n",
            "Remzi entity: http://maastrichtuniversity.nl/remzi\n",
            "Computer Scientist entity: http://maastrichtuniversity.nl/Computer_Scientist\n",
            "Triples in this graph:\n",
            "----------------------\n",
            "http://maastrichtuniversity.nl/remzi http://xmlns.com/foaf/0.1/lastName Celebi\n",
            "http://maastrichtuniversity.nl/remzi http://xmlns.com/foaf/0.1/firstName Remzi\n",
            "http://maastrichtuniversity.nl/remzi http://www.w3.org/1999/02/22-rdf-syntax-ns#type http://maastrichtuniversity.nl/Computer_Scientist\n"
          ]
        }
      ]
    },
    {
      "cell_type": "code",
      "metadata": {
        "id": "Pw1nwUjMoAid",
        "colab": {
          "base_uri": "https://localhost:8080/"
        },
        "outputId": "79e93f6a-b7e2-47ef-c362-efd755b7064b"
      },
      "source": [
        "print(g.serialize('KEN3140_Lab2_example.rdf',format='xml'))"
      ],
      "execution_count": null,
      "outputs": [
        {
          "output_type": "stream",
          "name": "stdout",
          "text": [
            "[a rdfg:Graph;rdflib:storage [a rdflib:Store;rdfs:label 'Memory']].\n"
          ]
        }
      ]
    },
    {
      "cell_type": "code",
      "source": [
        "print(g.serialize('KEN3140_Lab2_example.ttl',format='turtle'))"
      ],
      "metadata": {
        "colab": {
          "base_uri": "https://localhost:8080/"
        },
        "id": "GpC8gknpw5T6",
        "outputId": "303e070f-5472-45f8-eedb-fc876a5a8c71"
      },
      "execution_count": null,
      "outputs": [
        {
          "output_type": "stream",
          "name": "stdout",
          "text": [
            "[a rdfg:Graph;rdflib:storage [a rdflib:Store;rdfs:label 'Memory']].\n"
          ]
        }
      ]
    },
    {
      "cell_type": "code",
      "source": [
        "print(g.serialize('KEN3140_Lab2_example.nt',format='ntriples'))"
      ],
      "metadata": {
        "colab": {
          "base_uri": "https://localhost:8080/"
        },
        "id": "ABSY8ErExklu",
        "outputId": "2f3bb634-f841-480d-9ac0-3cdc79983b18"
      },
      "execution_count": null,
      "outputs": [
        {
          "output_type": "stream",
          "name": "stdout",
          "text": [
            "[a rdfg:Graph;rdflib:storage [a rdflib:Store;rdfs:label 'Memory']].\n"
          ]
        },
        {
          "output_type": "stream",
          "name": "stderr",
          "text": [
            "/usr/local/lib/python3.7/dist-packages/rdflib/plugins/serializers/nt.py:36: UserWarning: NTSerializer always uses UTF-8 encoding. Given encoding was: None\n",
            "  \"NTSerializer always uses UTF-8 encoding. \"\n"
          ]
        }
      ]
    },
    {
      "cell_type": "code",
      "source": [
        "g1 = Graph()"
      ],
      "metadata": {
        "id": "wsUg8_pCyFjh"
      },
      "execution_count": null,
      "outputs": []
    },
    {
      "cell_type": "code",
      "source": [
        "g1.parse('KEN3140_Lab2_task1.ttl', format='turtle')"
      ],
      "metadata": {
        "colab": {
          "base_uri": "https://localhost:8080/"
        },
        "id": "78Cv1VPmycg3",
        "outputId": "b8822091-0195-45aa-9896-b9f5c8ffc41d"
      },
      "execution_count": null,
      "outputs": [
        {
          "output_type": "stream",
          "name": "stderr",
          "text": [
            "WARNING:rdflib.term:file://paste IRI here// does not look like a valid URI, trying to serialize this will break.\n",
            "WARNING:rdflib.term:file://paste IRI here//kody does not look like a valid URI, trying to serialize this will break.\n",
            "WARNING:rdflib.term:file://paste IRI here//kody does not look like a valid URI, trying to serialize this will break.\n",
            "WARNING:rdflib.term:file://paste IRI here//name does not look like a valid URI, trying to serialize this will break.\n",
            "WARNING:rdflib.term:file://paste IRI here//name does not look like a valid URI, trying to serialize this will break.\n",
            "WARNING:rdflib.term:file://paste IRI here// does not look like a valid URI, trying to serialize this will break.\n"
          ]
        },
        {
          "output_type": "execute_result",
          "data": {
            "text/plain": [
              "<Graph identifier=N3ab064e56ebf45f39854f55028578d95 (<class 'rdflib.graph.Graph'>)>"
            ]
          },
          "metadata": {},
          "execution_count": 27
        }
      ]
    },
    {
      "cell_type": "code",
      "source": [
        "print (\"Triples in this graph:\");\n",
        "print (\"----------------------\");\n",
        "\n",
        "for (s, p, o) in g1:\n",
        "  print (s, p, o)"
      ],
      "metadata": {
        "colab": {
          "base_uri": "https://localhost:8080/"
        },
        "id": "jTLfIAMQyhtO",
        "outputId": "246cdb4a-81be-448c-de6d-d69ac365f891"
      },
      "execution_count": null,
      "outputs": [
        {
          "output_type": "stream",
          "name": "stdout",
          "text": [
            "Triples in this graph:\n",
            "----------------------\n",
            "file://paste IRI here//kody file://paste IRI here//name Kody Moodley\n"
          ]
        }
      ]
    },
    {
      "cell_type": "markdown",
      "metadata": {
        "id": "koV4oRrLMVC3"
      },
      "source": [
        "### **Lab Tasks**"
      ]
    },
    {
      "cell_type": "markdown",
      "metadata": {
        "id": "EA6aNh9wMVC4"
      },
      "source": [
        "**Task 1: IRI validation**\n",
        "\n",
        "In this task you are going to verify which of the following strings are valid IRIs or not. \n",
        "Verify them by copying and pasting them into the provided ``KEN3140_Lab2_task1.ttl`` document.\n",
        "Specifically replace the text ``//paste IRI here//`` with each of these IRIs and save the file. \n",
        "After each replace, run the cell just below the one titled\n",
        "\n",
        "- Validate codeand monitor the output to see which are valid or not.\n",
        "If you find some of these to be invalid IRIs, consult the [rfc3987](https://tools.ietf.org/html/rfc3987)\n",
        "IRI specification to put forward reasons why they are invalid.For each valid IRI in the list, think about\n",
        "and discuss with your classmates to what extent they comply with the Linked Principles.\n",
        "\n",
        "1. ``myIRI``\n",
        "2. ``myIRI/``\n",
        "3. ``myIRI#``\n",
        "4. ``ftp:/myIRI``\n",
        "5. ``ftp://myIRI/``\n",
        "6. ``ftp://myIRI#``\n",
        "7. ``http://myIRI#``\n",
        "8. ``http:///myIRI/folder1/folder2/``\n",
        "9. ``http:///myIRI/folder1/folder2/my name``\n",
        "10. ``http:///myIRI/folder1/folder2/my_name``\n",
        "11. ``my_own_protocol:///myIRI/folder1/folder2/my_name``\n",
        "12. ``:///myIRI/folder1/folder2/my_name``\n",
        "13. ``https://myIRI/$/my_name``\n",
        "14. ``https://myIRI/#$#/my_name``\n",
        "15. ``https://136.292.181.23/#12/my_name``\n",
        "16. ``https://136.255.181.23/!210382/my_name``\n",
        "17. ``https://schema.org/parent``\n",
        "18. ``https://www.wikidata.org/wiki/Q937``\n",
        "19. ``https://en.wikipedia.org/wiki/Albert_Einstein``\n",
        "20. ``https://www.w3.org/Consortium/``\n",
        "    "
      ]
    },
    {
      "cell_type": "markdown",
      "source": [
        "**Task 1 solution:**"
      ],
      "metadata": {
        "id": "H5kvK0C82DPw"
      }
    },
    {
      "cell_type": "code",
      "source": [
        "#IRI validation"
      ],
      "metadata": {
        "id": "YaYme7nj2K5J"
      },
      "execution_count": null,
      "outputs": []
    },
    {
      "cell_type": "markdown",
      "metadata": {
        "id": "qR5CdrBnMVC8"
      },
      "source": [
        "**Task 2: Formulating RDF triples**\n",
        "\n",
        "Using a text editor of your choice (e.g. Notepad or Sublime text) **or** rdflib, create RDF triples capturing as fully as possible the information in the following piece of text:\n",
        "\n",
        "“Vincent van Gogh was a Dutch artist born in Zundert, a city in the country of the Netherlands, on 30 March 1853. One of the most famous artworks created by him is ‘The Starry Night’ oil on canvas painting.”\n",
        "\n",
        "**Requirements:**\n",
        "1. Write down the triples in Turtle syntax and save the document as a .ttl file.\n",
        "2. Ensure that the triples are generated using valid RDF syntax and valid IRIs. \n",
        "3. Make sure to **reuse** existing vocabulary where possible\n",
        "\n",
        "For convenience, a conceptual diagram of the information in the above text is given below.\n",
        "\n",
        "![image.png](vangogh.png)"
      ]
    },
    {
      "cell_type": "markdown",
      "source": [
        "**Task 2 solution:**"
      ],
      "metadata": {
        "id": "1y33_bDK4Eto"
      }
    },
    {
      "cell_type": "code",
      "source": [],
      "metadata": {
        "id": "voGJon1n4HLi"
      },
      "execution_count": null,
      "outputs": []
    },
    {
      "cell_type": "markdown",
      "metadata": {
        "id": "d4Rh5W6-MVDV"
      },
      "source": [
        "#### Task 3: Identifying components of an RDF graph\n",
        "\n",
        "Study the following diagram:\n",
        "\n",
        "![image.png](task3.png)\n",
        "\n",
        "Now, list all the:\n",
        "\n",
        "1. object properties in the graph\n",
        "2. data properties in the graph\n",
        "3. instances in the graph\n",
        "4. data types in the graph\n",
        "5. prefix shorthands in the graph\n",
        "\n",
        "Discuss your answers with your classmates. You may write the answers down in a new markdown cell below this one if you wish."
      ]
    },
    {
      "cell_type": "markdown",
      "source": [
        "**Task 3 solution:**"
      ],
      "metadata": {
        "id": "RIwYsvRq4ISd"
      }
    },
    {
      "cell_type": "code",
      "source": [],
      "metadata": {
        "id": "SiHAb-ae4Jze"
      },
      "execution_count": null,
      "outputs": []
    }
  ]
}