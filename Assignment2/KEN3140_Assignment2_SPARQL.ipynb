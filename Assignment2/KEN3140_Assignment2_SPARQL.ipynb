{
 "cells": [
  {
   "cell_type": "markdown",
   "metadata": {},
   "source": [
    "# KEN 3140\n",
    "## Assignment 2: SPARQL\n",
    "\n",
    "This notebook can be used to execute and test the SPARQL queries that you will formulate for Assignment 2. The queries will be executed on the graph in the file `KEN3140_assignment2_familyrelations.ttl`. **Please ensure that this file is located in the same directory as this notebook**.\n",
    "\n",
    "We will use the Java RDF library [Apache Jena](https://jena.apache.org/) to load the graph and execute the SPARQL queries. \n",
    "\n",
    "The library is located in the folder `apache-jena-3.16.0` (also used in Lab 3). **Please ensure this folder is also located in the same directory as this notebook.**\n",
    "\n",
    "**Run the next code cell in order to install Jena in this notebook.**"
   ]
  },
  {
   "cell_type": "markdown",
   "metadata": {},
   "source": [
    "### 1. Install Jena libraries"
   ]
  },
  {
   "cell_type": "code",
   "execution_count": 20,
   "metadata": {},
   "outputs": [],
   "source": [
    "%jars apache-jena-3.16.0/lib/*.jar"
   ]
  },
  {
   "cell_type": "markdown",
   "metadata": {},
   "source": [
    "### 2. Import required libraries from Jena"
   ]
  },
  {
   "cell_type": "code",
   "execution_count": 21,
   "metadata": {},
   "outputs": [],
   "source": [
    "import org.apache.jena.riot.RDFDataMgr;\n",
    "import org.apache.jena.rdf.model.*;\n",
    "import org.apache.jena.util.PrintUtil;\n",
    "import org.apache.jena.vocabulary.RDF;\n",
    "import org.apache.jena.query.Query;\n",
    "import org.apache.jena.query.QueryExecution;\n",
    "import org.apache.jena.query.QueryExecutionFactory;\n",
    "import org.apache.jena.query.QueryFactory;\n",
    "import org.apache.jena.query.QuerySolution;\n",
    "import org.apache.jena.query.ResultSetFormatter;\n",
    "import org.apache.jena.query.ResultSet;\n",
    "import java.io.File;\n",
    "import org.apache.commons.io.FileUtils;\n",
    "import java.nio.charset.StandardCharsets;"
   ]
  },
  {
   "cell_type": "markdown",
   "metadata": {},
   "source": [
    "### 3. Load the RDF file in a Jena Model\n",
    "\n",
    "Load the RDF file as a Jena RDF model. The parameter of the ``.loadModel`` method is the string path to the ``.ttl`` file containing your graph. As an example we are using the graph ``Example_family_graph.ttl``. **Important:** For Assignment 2, we have to replace this with ``KEN3140_assignment2_familyrelations.ttl``."
   ]
  },
  {
   "cell_type": "code",
   "execution_count": 26,
   "metadata": {},
   "outputs": [],
   "source": [
    "Model model = RDFDataMgr.loadModel(\"Example_family_graph.ttl\");"
   ]
  },
  {
   "cell_type": "markdown",
   "metadata": {},
   "source": [
    "Create a function `runSparqlQuery()` to easily run SPARQL queries from a string or a file later."
   ]
  },
  {
   "cell_type": "code",
   "execution_count": 27,
   "metadata": {},
   "outputs": [],
   "source": [
    "static void runSparqlQuery(String queryString, Model model) throws java.io.IOException {\n",
    "    if (queryString.endsWith(\".rq\")) {\n",
    "        queryString = FileUtils.readFileToString(new File(queryString), StandardCharsets.UTF_8);\n",
    "    }\n",
    "    System.out.println(queryString);\n",
    "    Query query = QueryFactory.create(queryString);\n",
    "    QueryExecution qexec = QueryExecutionFactory.create(query, model);\n",
    "    ResultSetFormatter.out(qexec.execSelect(), model);\n",
    "}"
   ]
  },
  {
   "cell_type": "markdown",
   "metadata": {},
   "source": [
    "### 4. Load your SPARQL query from file\n",
    "\n",
    "Java does [not support multiline strings](https://www.vojtechruzicka.com/raw-strings/#string-literals). Therefore, we will read your query in from a text file. The following function reads in your query from a text file with the `.rq` extension **Please ensure that there is only one SPARQL query pasted at the top of this file and that there is no whitespace before the start of your query.** You can have a single return (newline) at the end of your query. Because this notebook is set up to execute only one SPARQL query at a time, you have to replace the query in this file with a new query for each question in the assignment (**remember to save the file afterwards**). Also, **make sure to record your query and results in the provided answer sheets** before moving on to the next question and modifying the file. Alternatively, you can create a new text file for each query and run the notebook for each of these files. For those who are more experienced with Java, you can take another option by extending this notebook with a function to read in multiple SPARQL queries from a single text file into an array."
   ]
  },
  {
   "cell_type": "markdown",
   "metadata": {},
   "source": [
    "### 5. Execute SPARQL query and print results"
   ]
  },
  {
   "cell_type": "code",
   "execution_count": 28,
   "metadata": {},
   "outputs": [
    {
     "name": "stdout",
     "output_type": "stream",
     "text": [
      "PREFIX schema: <https://schema.org/>\n",
      "PREFIX family: <https://my-family.org/>\n",
      "SELECT * \n",
      "WHERE {\n",
      "    ?entity a schema:Person ;\n",
      "              schema:parent ?parent .\n",
      "}\n",
      "\n",
      "-------------------\n",
      "| entity | parent |\n",
      "===================\n",
      "-------------------\n"
     ]
    }
   ],
   "source": [
    "runSparqlQuery(sparql_query_str, model);"
   ]
  },
  {
   "cell_type": "markdown",
   "metadata": {},
   "source": [
    "### 6. Use Jena's RDFS reasoning engine\n",
    "\n",
    "Part 6 of this notebook executes the same steps as Parts 3 - 5 above but this time **with RDFS reasoning enabled. I.e., with the [RDFS entailment regime](https://www.w3.org/TR/sparql11-entailment/#RDFSEntRegime) implemented.** Therefore, there might be additional results obtained  for some queries."
   ]
  },
  {
   "cell_type": "code",
   "execution_count": 29,
   "metadata": {},
   "outputs": [],
   "source": [
    "InfModel rdfsModel = ModelFactory.createRDFSModel(RDFDataMgr.loadModel(\"Example_family_graph.ttl\"));"
   ]
  },
  {
   "cell_type": "code",
   "execution_count": 35,
   "metadata": {},
   "outputs": [
    {
     "name": "stdout",
     "output_type": "stream",
     "text": [
      "PREFIX schema: <https://schema.org/>\n",
      "PREFIX family: <https://my-family.org/>\n",
      "SELECT * \n",
      "WHERE {\n",
      "    ?entity a schema:Person ;\n",
      "              schema:parent ?parent .\n",
      "}\n",
      "\n",
      "------------------------------------\n",
      "| entity         | parent          |\n",
      "====================================\n",
      "| family:Miranda | family:Mathilde |\n",
      "| family:Miranda | family:Pierre   |\n",
      "------------------------------------\n"
     ]
    }
   ],
   "source": [
    "runSparqlQuery(sparql_query_str, rdfsModel);"
   ]
  },
  {
   "cell_type": "markdown",
   "metadata": {},
   "source": [
    "### \"Rinse and repeat\" Parts 3 - 6 of the notebook for each question / query in Assignment 2. Enjoy! 👍"
   ]
  },
  {
   "cell_type": "markdown",
   "metadata": {},
   "source": [
    "# Part A\n",
    "\n",
    "1. List the top five tallest people in the graph in order from tallest to shortest"
   ]
  },
  {
   "cell_type": "code",
   "execution_count": 32,
   "metadata": {},
   "outputs": [
    {
     "name": "stdout",
     "output_type": "stream",
     "text": [
      "PREFIX schema: <https://schema.org/>\n",
      "PREFIX family: <https://my-family.org/>\n",
      "SELECT * \n",
      "WHERE {\n",
      "    ?entity a schema:Person ;\n",
      "              schema:parent ?parent .\n",
      "}\n",
      "-------------------\n",
      "| entity | parent |\n",
      "===================\n",
      "-------------------\n",
      "PREFIX schema: <https://schema.org/>\n",
      "PREFIX family: <https://my-family.org/>\n",
      "SELECT * \n",
      "WHERE {\n",
      "    ?entity a schema:Person ;\n",
      "              schema:parent ?parent .\n",
      "}\n",
      "------------------------------------\n",
      "| entity         | parent          |\n",
      "====================================\n",
      "| family:Miranda | family:Mathilde |\n",
      "| family:Miranda | family:Pierre   |\n",
      "------------------------------------\n"
     ]
    }
   ],
   "source": [
    "runSparqlQuery(\"partA-q1.rq\", model);\n",
    "runSparqlQuery(\"partA-q1.rq\", rdfsModel);"
   ]
  },
  {
   "cell_type": "markdown",
   "metadata": {},
   "source": [
    "2. Identify the shortest person who has at least two uncles "
   ]
  },
  {
   "cell_type": "code",
   "execution_count": 34,
   "metadata": {},
   "outputs": [
    {
     "name": "stdout",
     "output_type": "stream",
     "text": [
      "PREFIX schema: <https://schema.org/>\n",
      "PREFIX family: <https://my-family.org/>\n",
      "SELECT * \n",
      "WHERE {\n",
      "    ?entity a schema:Person ;\n",
      "              schema:parent ?parent .\n",
      "}\n",
      "-------------------\n",
      "| entity | parent |\n",
      "===================\n",
      "-------------------\n",
      "PREFIX schema: <https://schema.org/>\n",
      "PREFIX family: <https://my-family.org/>\n",
      "SELECT * \n",
      "WHERE {\n",
      "    ?entity a schema:Person ;\n",
      "              schema:parent ?parent .\n",
      "}\n",
      "------------------------------------\n",
      "| entity         | parent          |\n",
      "====================================\n",
      "| family:Miranda | family:Mathilde |\n",
      "| family:Miranda | family:Pierre   |\n",
      "------------------------------------\n"
     ]
    }
   ],
   "source": [
    "runSparqlQuery(\"partA-q2.rq\", model);\n",
    "runSparqlQuery(\"partA-q2.rq\", rdfsModel);"
   ]
  },
  {
   "cell_type": "code",
   "execution_count": null,
   "metadata": {},
   "outputs": [],
   "source": []
  }
 ],
 "metadata": {
  "kernelspec": {
   "display_name": "Java",
   "language": "java",
   "name": "java"
  },
  "language_info": {
   "codemirror_mode": "java",
   "file_extension": ".jshell",
   "mimetype": "text/x-java-source",
   "name": "Java",
   "pygments_lexer": "java",
   "version": "11.0.6+8-b765.1"
  }
 },
 "nbformat": 4,
 "nbformat_minor": 4
}
