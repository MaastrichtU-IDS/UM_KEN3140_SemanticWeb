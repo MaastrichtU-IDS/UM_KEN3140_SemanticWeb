{
 "cells": [
  {
   "cell_type": "markdown",
   "metadata": {},
   "source": [
    "# Create an ontology\n",
    "\n",
    "Using the [OwlReady2](https://owlready2.readthedocs.io/en/latest/index.html) package.\n",
    "\n",
    "Import the library and define the local `ontologies` folder. If an URL is given, first searches for a local copy of the OWL file and, if not found, tries to download it from the Internet."
   ]
  },
  {
   "cell_type": "code",
   "execution_count": 1,
   "metadata": {
    "tags": []
   },
   "outputs": [
    {
     "output_type": "stream",
     "name": "stderr",
     "text": "* Owlready2 * Warning: optimized Cython parser module 'owlready2_optimized' is not available, defaulting to slower Python implementation\n"
    }
   ],
   "source": [
    "from owlready2 import *\n",
    "import types\n",
    "\n",
    "global my_family_onto \n",
    "global audioset_curated_hash\n",
    "onto_path.append(\"/notebooks/ontologies\")"
   ]
  },
  {
   "cell_type": "markdown",
   "metadata": {},
   "source": [
    "### Create and load ontologies\n",
    "\n",
    "Create an empty ontology and load the Pizza ontology from the Internet (for example purpose)"
   ]
  },
  {
   "cell_type": "code",
   "execution_count": 2,
   "metadata": {},
   "outputs": [],
   "source": [
    "my_family_onto = get_ontology(\"https://w3id.org/myonto\")\n",
    "\n",
    "stevensr_family_onto = get_ontology(\"http://www.cs.man.ac.uk/~stevensr/ontology/family.rdf.owl\").load()"
   ]
  },
  {
   "cell_type": "markdown",
   "metadata": {},
   "source": [
    "### Example to generate properties with domain and ranges\n",
    "\n",
    "See [OwlReady2 documentation](https://owlready2.readthedocs.io/en/latest/index.html) for:\n",
    "* [Dynamic Classes](https://owlready2.readthedocs.io/en/latest/class.html#creating-classes-dynamically)\n",
    "* [Add annotations to a Class](https://owlready2.readthedocs.io/en/latest/annotations.html?highlight=comment#adding-an-annotation): `comment`, `isDefinedBy`, `label`, `seeAlso`, `backwardCompatibleWith`, `deprecated`, `incompatibleWith`, `priorVersion`, `versionInfo`\n",
    "* [Properties](https://owlready2.readthedocs.io/en/latest/properties.html): FunctionalProperty, InverseFunctionalProperty, TransitiveProperty, SymmetricProperty, AsymmetricProperty, ReflexiveProperty, IrreflexiveProperty\n"
   ]
  },
  {
   "cell_type": "code",
   "execution_count": 3,
   "metadata": {},
   "outputs": [],
   "source": [
    "with my_family_onto:\n",
    "    class Person(Thing):\n",
    "        label = \"A person\"\n",
    "        comment = \"Any person\"\n",
    "        pass\n",
    "    class Man(Person):\n",
    "        pass\n",
    "    class Woman(Person):\n",
    "        pass\n",
    "    class has_parent(ObjectProperty):\n",
    "        domain    = [Person]\n",
    "        range     = [Person]\n",
    "    class is_parent_of(ObjectProperty):\n",
    "        domain    = [Person]\n",
    "        range     = [Person]\n",
    "        inverse_property = has_parent\n",
    "    class has_father(has_parent):\n",
    "        domain    = [Person]\n",
    "        range     = [Man]\n",
    "    class has_mother(has_parent):\n",
    "        domain    = [Person]\n",
    "        range     = [Woman]\n",
    "    class family_name(DataProperty, FunctionalProperty):\n",
    "        domain    = [Person]\n",
    "        range     = [str]\n",
    "    class Dad(Man):\n",
    "        equivalent_to = [Man & is_parent_of.some(Person)]\n",
    "    class Mom(Woman):\n",
    "        equivalent_to = [Woman & is_parent_of.some(Person)]"
   ]
  },
  {
   "cell_type": "markdown",
   "metadata": {},
   "source": [
    "### Add instance"
   ]
  },
  {
   "cell_type": "code",
   "execution_count": 4,
   "metadata": {},
   "outputs": [],
   "source": [
    "with my_family_onto:\n",
    "    Person(\"Jean\", family_name=\"Dupont\")"
   ]
  },
  {
   "cell_type": "markdown",
   "metadata": {},
   "source": [
    "### Add metadata to the ontology"
   ]
  },
  {
   "cell_type": "code",
   "execution_count": 5,
   "metadata": {},
   "outputs": [],
   "source": [
    "my_family_onto.metadata.comment.append(\"OWL Ontology to describe a family and its relations.\")"
   ]
  },
  {
   "cell_type": "markdown",
   "metadata": {},
   "source": [
    "### Save the ontology file\n",
    "\n",
    "Ontology files saved in the `ontologies` folder. \n",
    "\n",
    "2 formats available, defined in the papermill parameters (at the start of the notebook, or in the `papermill-config.json` file):\n",
    "* `rdfxml`\n",
    "* `ntriples`"
   ]
  },
  {
   "cell_type": "code",
   "execution_count": 6,
   "metadata": {},
   "outputs": [],
   "source": [
    "my_family_onto.save(file = \"ontologies/my_family_ontology.rdf\", format = \"rdfxml\")"
   ]
  },
  {
   "cell_type": "markdown",
   "metadata": {},
   "source": [
    "# Explore the ontology\n",
    "\n",
    "**With OwlReady2**, e.g. list the ontology classes and properties."
   ]
  },
  {
   "cell_type": "code",
   "execution_count": 7,
   "metadata": {
    "tags": []
   },
   "outputs": [
    {
     "output_type": "stream",
     "name": "stdout",
     "text": "https://w3id.org/myonto#Person\n[myonto.Person, myonto.Man, myonto.Woman, myonto.Dad, myonto.Mom]\n[myonto.has_parent, myonto.is_parent_of, myonto.has_father, myonto.has_mother]\nmyonto.Jean\n"
    }
   ],
   "source": [
    "# Get a class IRI:\n",
    "print(my_family_onto.Person.iri)\n",
    "# List all classes:\n",
    "print(list(my_family_onto.classes()))\n",
    "# List object properties:\n",
    "print(list(my_family_onto.object_properties()))\n",
    "# List a class instances:\n",
    "for i in my_family_onto.Person.instances(): print(i)"
   ]
  },
  {
   "cell_type": "markdown",
   "metadata": {},
   "source": [
    "### Use Ontospy to analyze the ontology\n",
    "\n",
    "Load the ontology file with `ontospy`, then:\n",
    "* print top classes and the class tree\n",
    "* print instances of a class"
   ]
  },
  {
   "cell_type": "code",
   "execution_count": 8,
   "metadata": {
    "tags": []
   },
   "outputs": [
    {
     "output_type": "stream",
     "name": "stdout",
     "text": "Reading: <ontologies/my_family_ontology.rdf>\n.. trying rdf serialization: <xml>\n..... success!\n----------\nLoaded 57 triples.\n----------\nRDF sources loaded successfully: 1 of 1.\n..... 'ontologies/my_family_ontology.rdf'\n----------\nScanning entities...\n----------\nOntologies.........: 1\nClasses............: 5\nProperties.........: 5\n..annotation.......: 0\n..datatype.........: 1\n..object...........: 4\nConcepts (SKOS)....: 0\nShapes (SHACL).....: 0\n----------\n"
    }
   ],
   "source": [
    "import ontospy\n",
    "my_family_spy = ontospy.Ontospy(\"ontologies/my_family_ontology.rdf\", verbose=True)"
   ]
  },
  {
   "cell_type": "code",
   "execution_count": 9,
   "metadata": {
    "tags": []
   },
   "outputs": [
    {
     "output_type": "stream",
     "name": "stdout",
     "text": "myonto:Person\n----myonto:Man\n--------myonto:Dad\n----myonto:Woman\n--------myonto:Mom\n"
    },
    {
     "output_type": "execute_result",
     "data": {
      "text/plain": "[<Class *https://w3id.org/myonto#Person*>]"
     },
     "metadata": {},
     "execution_count": 9
    }
   ],
   "source": [
    "my_family_spy.printClassTree()\n",
    "my_family_spy.toplayer_classes"
   ]
  },
  {
   "cell_type": "code",
   "execution_count": 10,
   "metadata": {
    "tags": []
   },
   "outputs": [
    {
     "output_type": "stream",
     "name": "stdout",
     "text": "https://w3id.org/myonto#Jean myonto:Jean\nhttps://w3id.org/myonto#Jean\n=> http://www.w3.org/1999/02/22-rdf-syntax-ns#type\n.... http://www.w3.org/2002/07/owl#NamedIndividual\n=> http://www.w3.org/1999/02/22-rdf-syntax-ns#type\n.... https://w3id.org/myonto#Person\n=> https://w3id.org/myonto#family_name\n.... Dupont\n\n"
    }
   ],
   "source": [
    "# Print instances of Sigh class\n",
    "my_family_spy.get_class('Person')[0]\n",
    "for instance in my_family_spy.get_class('Person')[0].instances:\n",
    "        print(instance.uri, instance.qname)\n",
    "        instance.printTriples()"
   ]
  },
  {
   "cell_type": "markdown",
   "metadata": {},
   "source": [
    "### Visualize with Ontospy docs\n",
    "\n",
    "Experimental, it is recommended to generate the documentation from the commandline (cf. `README.md` file) "
   ]
  },
  {
   "cell_type": "code",
   "execution_count": 11,
   "metadata": {},
   "outputs": [],
   "source": [
    "# from ontospy.ontodocs.viz.viz_html_single import *\n",
    "\n",
    "# v = HTMLVisualizer(audioset_spy) # => instantiate the visualization object\n",
    "# v.build(\"/notebooks/docs\") # => render visualization. You can pass an 'output_path' parameter too\n",
    "# v.preview() # => open in browser"
   ]
  },
  {
   "cell_type": "markdown",
   "metadata": {},
   "source": [
    "### Visualize with WebVOWL\n",
    "\n",
    "Use the URL to the ontology file:\n",
    "\n",
    "[http://www.visualdataweb.de/webvowl/#iri=https://raw.githubusercontent.com/MaastrichtU-IDS/UM_KEN3140_SemanticWeb/master/ontologies/my_family_ontology.rdf](http://www.visualdataweb.de/webvowl/#iri=https://raw.githubusercontent.com/MaastrichtU-IDS/UM_KEN3140_SemanticWeb/master/ontologies/my_family_ontology.rdf)"
   ]
  },
  {
   "cell_type": "markdown",
   "metadata": {},
   "source": [
    "### Visualize as graph using networkx\n",
    "\n",
    "Use `rdflib` and `networkx` to load the data in the graph and display it (not working with the ontology size, to be improved."
   ]
  },
  {
   "cell_type": "code",
   "execution_count": 12,
   "metadata": {},
   "outputs": [],
   "source": [
    "# import rdflib\n",
    "# from rdflib.extras.external_graph_libs import rdflib_to_networkx_multidigraph\n",
    "# import networkx as nx\n",
    "# import matplotlib.pyplot as plt\n",
    "\n",
    "# g = rdflib.Graph()\n",
    "# result = g.parse('ontologies/my_family_ontology.rdf', format='xml')\n",
    "\n",
    "# G = rdflib_to_networkx_multidigraph(result)\n",
    "\n",
    "# # Plot Networkx instance of RDF Graph\n",
    "# pos = nx.spring_layout(G, scale=3)\n",
    "# edge_labels = nx.get_edge_attributes(G, 'r')\n",
    "# nx.draw_networkx_edge_labels(G, pos, labels=edge_labels)\n",
    "# nx.draw(G, with_labels=True)"
   ]
  },
  {
   "cell_type": "code",
   "execution_count": null,
   "metadata": {},
   "outputs": [],
   "source": []
  }
 ],
 "metadata": {
  "kernelspec": {
   "display_name": "Python 3",
   "language": "python",
   "name": "python3"
  },
  "language_info": {
   "codemirror_mode": {
    "name": "ipython",
    "version": 3
   },
   "file_extension": ".py",
   "mimetype": "text/x-python",
   "name": "python",
   "nbconvert_exporter": "python",
   "pygments_lexer": "ipython3",
   "version": "3.6.9-final"
  }
 },
 "nbformat": 4,
 "nbformat_minor": 4
}