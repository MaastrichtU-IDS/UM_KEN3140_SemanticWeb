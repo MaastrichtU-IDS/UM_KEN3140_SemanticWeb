{
 "cells": [
  {
   "cell_type": "markdown",
   "metadata": {
    "slideshow": {
     "slide_type": "slide"
    }
   },
   "source": [
    "# KEN 3140 Semantic Web: Assignment 2\n",
    "### Writing and executing SPARQL queries on RDF graphs\n",
    "#### Assignment task description\n",
    "Please read all sections of this document very carefully before attempting the assignment, asking questions and submitting\n",
    "\n",
    "This assignment will assess your competencies with formulating SPARQL queries in order to answer a series of questions about the content of a pre-prepared RDF graph about family relations. The graph is provided in the file ``KEN3140_assignment2_familyrelations.ttl`` in Turtle syntax included along with your assignment materials. You will also observe the effect of RDFS inference when used in conjunction with SPARQL queries.\n",
    "\n",
    "There are two parts to this assignment: a **Part A** and a **Part B**. Both parts require you to formulate SPARQL queries to answer the questions asked in that part. Part A questions require less complex SPARQL queries and Part B requires more complex queries and potentially the use of advanced features of the SPARQL language.\n",
    "\n",
    "Before you begin formulating your queries, it might be helpful to explore the graph in some way. You are free to do this in whichever way you prefer. At the very least, you can open ``KEN3140_assignment2_familyrelations.ttl`` in the text editor of your choice and examine the triples. A picture of the graph is also available in the file ``KEN3140_assignment2_familyrelations.png`` which may help you to understand the structure and content of the graph. \n",
    "\n",
    "Make note of the information in the provided graph as well as the vocabularies it uses i.e., which external vocabularies are used to specify the types, object properties and data properties in the graph.\n",
    "\n",
    "##### Learning objectives:\n",
    "1. How to formulate basic and complex SPARQL queries with valid structure and syntax\n",
    "2. How to identify and select the appropriate SPARQL features for including in a query, in order to answer a specific question\n",
    "3. How to design triple and graph patterns to match criteria that a question or task requires\n",
    "4. How to include new information in an RDF graph using SPARQL queries\n",
    "5. How to identify, select and include appropriate SPARQL functions in SPARQL queries to filter entities according to their literal values\n",
    "6. How to distinguish between asserted and inferred statements in RDF graphs using RDFS inference in conjunction with SPARQL queries\n",
    "\n",
    "##### Deadline & submission instructions\n",
    "The deadline for your assignment is **Sunday, 27 September 2020 at 23:59 [note the extended deadline]**. You should upload a copy of this notebook which is where you will record your solutions. Please rename the notebook to include your name and student ID. I.e., name the notebook to: ``KEN3140_assignment2_(your name)_(your studentID).ipynb``.\n",
    "\n",
    "##### Grading criteria\n",
    "We will assess the design of your SPARQL queries on a number of criteria directly related to the learning objectives of the assignment. I.e., we will assess to what extent you have demonstrated that you have achieved or mastered the learning objectives in the formulation of your SPARQL queries. Please make sure to follow the assignment instructions carefully and meet all the requirements! We will provide a more detailed scheme of our grading process when we release the solution and grades for this assignment later in the course. You will receive a grade out of 10 points for this assignment.\n",
    "\n",
    "##### Helpful resources\n",
    "1. KEN3140 Lecture 4 & 5 slides (Canvas)\n",
    "2. KEN3140 Lab 4 & 5 slides and materials (Canvas & [Github](https://github.com/MaastrichtU-IDS/UM_KEN3140_SemanticWeb))\n",
    "3. [SPARQL W3C specs](https://www.w3.org/TR/sparql11-overview/)\n",
    "\n",
    "##### Contact\n",
    "1. Kody Moodley (kody.moodley@maastrichtuniversity.nl)\n",
    "2. Vincent Emonet (vincent.emonet@maastrichtuniversity.nl)\n",
    "3. Michel Dumontier (michel.dumontier@maastrichtuniversity.nl)"
   ]
  },
  {
   "cell_type": "markdown",
   "metadata": {
    "slideshow": {
     "slide_type": "slide"
    }
   },
   "source": [
    "#### 1. Install the SPARQL kernel\n",
    "\n",
    "#### Locally, in 2 commands\n",
    "\n",
    "```bash\n",
    "pip install sparqlkernel --user\n",
    "jupyter sparqlkernel install --user\n",
    "```\n",
    "\n",
    "#### With docker\n",
    "\n",
    "Similar to the previous notebook: start it in the terminal in the folder where the notebook is\n",
    "\n",
    "```bash\n",
    "docker run -it --rm -p 8888:8888 -v $(pwd):/home/jovyan -e JUPYTER_ENABLE_LAB=yes -e JUPYTER_TOKEN=password umids/jupyterlab:sparql\n",
    "```\n",
    "\n",
    "\n",
    "#### 2. Define the SPARQL endpoint URL"
   ]
  },
  {
   "cell_type": "code",
   "execution_count": 1,
   "metadata": {
    "slideshow": {
     "slide_type": "subslide"
    }
   },
   "outputs": [
    {
     "data": {
      "text/html": [
       "<div class=\"krn-spql\"><div class=\"magic\">Endpoint set to: https://graphdb.dumontierlab.com/repositories/KEN3140_SemanticWeb</div><div class=\"magic\">Logging set to DEBUG</div></div>"
      ],
      "text/plain": [
       "Endpoint set to: https://graphdb.dumontierlab.com/repositories/KEN3140_SemanticWeb\n",
       "Logging set to DEBUG\n"
      ]
     },
     "metadata": {},
     "output_type": "display_data"
    }
   ],
   "source": [
    "# Set the SPARQL Kernel parameters\n",
    "%endpoint https://graphdb.dumontierlab.com/repositories/KEN3140_SemanticWeb\n",
    "\n",
    "# This is optional, it would increase the log level\n",
    "%log debug"
   ]
  },
  {
   "cell_type": "markdown",
   "metadata": {
    "slideshow": {
     "slide_type": "slide"
    }
   },
   "source": [
    "#### 3. Example query\n",
    "\n",
    "##### With inference"
   ]
  },
  {
   "cell_type": "code",
   "execution_count": 2,
   "metadata": {
    "slideshow": {
     "slide_type": "fragment"
    }
   },
   "outputs": [
    {
     "data": {
      "text/html": [
       "<div class=\"krn-spql\"><div class=\"magic\">Param set: infer = true</div></div>"
      ],
      "text/plain": [
       "Param set: infer = true\n"
      ]
     },
     "metadata": {},
     "output_type": "display_data"
    },
    {
     "data": {
      "text/html": [
       "<div class=\"krn-spql\"><table><tr class=hdr><th>entity</th>\n",
       "<th>parent</th></tr><tr class=odd><td class=val><a href=\"https://my-family.org/Miranda\" target=\"_other\">https://my-family.org/Miranda</a></td>\n",
       "<td class=val><a href=\"https://my-family.org/Pierre\" target=\"_other\">https://my-family.org/Pierre</a></td></tr><tr class=even><td class=val><a href=\"https://my-family.org/Miranda\" target=\"_other\">https://my-family.org/Miranda</a></td>\n",
       "<td class=val><a href=\"https://my-family.org/Mathilde\" target=\"_other\">https://my-family.org/Mathilde</a></td></tr></table><div class=\"tinfo\">Total: 2, Shown: 2</div></div>"
      ]
     },
     "metadata": {},
     "output_type": "display_data"
    }
   ],
   "source": [
    "%qparam infer true\n",
    "PREFIX schema: <https://schema.org/>\n",
    "SELECT * \n",
    "WHERE {\n",
    "    ?entity a schema:Person ;\n",
    "              schema:parent ?parent .\n",
    "}"
   ]
  },
  {
   "cell_type": "markdown",
   "metadata": {},
   "source": [
    "##### Without inference"
   ]
  },
  {
   "cell_type": "code",
   "execution_count": 3,
   "metadata": {},
   "outputs": [
    {
     "data": {
      "text/html": [
       "<div class=\"krn-spql\"><div class=\"magic\">Param set: infer = false</div></div>"
      ],
      "text/plain": [
       "Param set: infer = false\n"
      ]
     },
     "metadata": {},
     "output_type": "display_data"
    },
    {
     "data": {
      "text/html": [
       "<div class=\"krn-spql\"><table><tr class=hdr><th>entity</th>\n",
       "<th>parent</th></tr></table><div class=\"tinfo\">Total: 0, Shown: 0</div></div>"
      ]
     },
     "metadata": {},
     "output_type": "display_data"
    }
   ],
   "source": [
    "%qparam infer false\n",
    "PREFIX schema: <https://schema.org/>\n",
    "SELECT * \n",
    "WHERE {\n",
    "    ?entity a schema:Person ;\n",
    "              schema:parent ?parent .\n",
    "}"
   ]
  },
  {
   "cell_type": "markdown",
   "metadata": {},
   "source": [
    "## Part A"
   ]
  },
  {
   "cell_type": "markdown",
   "metadata": {},
   "source": [
    "### Q1: List the top five tallest people in the graph in order from tallest to shortest\n",
    "\n",
    "**Important notes:** Display both the people and their heights in the query results."
   ]
  },
  {
   "cell_type": "code",
   "execution_count": 4,
   "metadata": {},
   "outputs": [],
   "source": [
    "# Insert query here"
   ]
  },
  {
   "cell_type": "markdown",
   "metadata": {},
   "source": [
    "### Q2: List the family members, order them from shortest to tallest, and count the number of uncles they have.\n",
    "\n",
    "**Important notes:** Display the family members, their heights and the number of uncles in the results of your query. Include family members who have no uncles as well."
   ]
  },
  {
   "cell_type": "code",
   "execution_count": 5,
   "metadata": {},
   "outputs": [],
   "source": [
    "# Insert query here"
   ]
  },
  {
   "cell_type": "markdown",
   "metadata": {},
   "source": [
    "### Q3: Identify the shortest person who has at least two uncles \n",
    "\n",
    "**Important notes:** Display the person and their height in the results"
   ]
  },
  {
   "cell_type": "code",
   "execution_count": 6,
   "metadata": {},
   "outputs": [],
   "source": [
    "# Insert query here"
   ]
  },
  {
   "cell_type": "markdown",
   "metadata": {},
   "source": [
    "### Q4: Count the number of males and females per family\n",
    "\n",
    "**Important notes:** The assumption in this questions is that people with the same family name are part of the same family. Include the family name, the number of males in that family, and the number of females in that family, in your query results."
   ]
  },
  {
   "cell_type": "code",
   "execution_count": 7,
   "metadata": {},
   "outputs": [],
   "source": [
    "# Insert query here"
   ]
  },
  {
   "cell_type": "markdown",
   "metadata": {},
   "source": [
    "### Q5: List all females in the graph born after 1965 from the oldest to the youngest\n",
    "\n",
    "**Important notes:** Include the person and birth date of that person in the query results."
   ]
  },
  {
   "cell_type": "code",
   "execution_count": 8,
   "metadata": {},
   "outputs": [],
   "source": [
    "# Insert query here"
   ]
  },
  {
   "cell_type": "markdown",
   "metadata": {},
   "source": [
    "## Part B"
   ]
  },
  {
   "cell_type": "markdown",
   "metadata": {},
   "source": [
    "### Q6: Return the mean size of men, and the mean size of women in the full family"
   ]
  },
  {
   "cell_type": "code",
   "execution_count": 9,
   "metadata": {},
   "outputs": [],
   "source": [
    "# Insert query here"
   ]
  },
  {
   "cell_type": "markdown",
   "metadata": {},
   "source": [
    "### Q7: For each person with a child calculate their \"couple salary per child\". \n",
    "\n",
    "**Important notes:** the \"couple salary per child\" is the combined salary of the two parents divided by the number of children they have. Include the person, spouse, couple salary (combined salary of parents), number of children, and the couple salary per child in the query results."
   ]
  },
  {
   "cell_type": "code",
   "execution_count": 10,
   "metadata": {},
   "outputs": [],
   "source": [
    "# Insert query here"
   ]
  },
  {
   "cell_type": "markdown",
   "metadata": {},
   "source": [
    "### Q8: list persons with the given name ending with the letter \"a\"\n",
    "\n",
    "**Important notes:** Include the person and their human readable given name in the query results."
   ]
  },
  {
   "cell_type": "code",
   "execution_count": 11,
   "metadata": {},
   "outputs": [],
   "source": [
    "# Insert query here"
   ]
  },
  {
   "cell_type": "markdown",
   "metadata": {},
   "source": [
    "### Q9: Identify and list all sibling relationships in the graph\n",
    "\n",
    "**Important notes:** Include each pair of persons in the graph that are siblings. **With AND without** inference. Paste both queries below (one with inference toggled off and one with inference toggled on (the queries should be in separate cells)."
   ]
  },
  {
   "cell_type": "code",
   "execution_count": 12,
   "metadata": {},
   "outputs": [],
   "source": [
    "# Insert query here (without inference)"
   ]
  },
  {
   "cell_type": "code",
   "execution_count": 13,
   "metadata": {},
   "outputs": [],
   "source": [
    "# Insert query here (with inference)"
   ]
  },
  {
   "cell_type": "markdown",
   "metadata": {},
   "source": [
    "### Q10: Construct triples\n",
    "\n",
    "**Perform the following task with a single SPARQL query**\n",
    "\n",
    "For each person, construct 2 new triples:\n",
    "* a triple capturing the full name of a person in a human readable string i.e., the concatenation of the first and last name of the person. Use the `rdfs:label` relation to capture this string.\n",
    "* a triple capturing the height of each person using `schema:height` againg but with the value in metres rather than centimetres (which is currently implicitly inferred to have the cm unit)."
   ]
  },
  {
   "cell_type": "code",
   "execution_count": 14,
   "metadata": {},
   "outputs": [],
   "source": [
    "# Insert query here (with inference)"
   ]
  },
  {
   "cell_type": "markdown",
   "metadata": {},
   "source": [
    "### Q11: Federated query to DBpedia\n",
    "\n",
    "Retrieve all the books with the string \"family\" in their label, and the URI of the graph where this information can be found in the DBpedia triplestore.\n",
    "\n",
    "**Important notes:** Include the graph IRI, boo IRI, and book name (human readable) in your query results."
   ]
  },
  {
   "cell_type": "code",
   "execution_count": 15,
   "metadata": {},
   "outputs": [],
   "source": [
    "# Insert query here (with inference)"
   ]
  },
  {
   "cell_type": "markdown",
   "metadata": {},
   "source": [
    "### Bonus: Construct missing relations\n",
    "\n",
    "Construct missing sibling relations when a sibling relation is defined in \"one direction\" between two entities but not explicitly in the other direction."
   ]
  },
  {
   "cell_type": "code",
   "execution_count": 16,
   "metadata": {},
   "outputs": [],
   "source": [
    "# Insert query here (with inference)"
   ]
  }
 ],
 "metadata": {
  "kernelspec": {
   "display_name": "SPARQL",
   "language": "sparql",
   "name": "sparql"
  },
  "language_info": {
   "codemirror_mode": {
    "name": "sparql"
   },
   "mimetype": "application/sparql-query",
   "name": "sparql",
   "pygments_lexer": "sparql-nb"
  }
 },
 "nbformat": 4,
 "nbformat_minor": 4
}
