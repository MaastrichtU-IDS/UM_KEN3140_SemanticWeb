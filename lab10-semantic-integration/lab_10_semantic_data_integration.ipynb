{
 "cells": [
  {
   "cell_type": "markdown",
   "metadata": {},
   "source": [
    "# KEN3140 (Semantic Web) Lab 10\n",
    "### Semantic Data Integration\n",
    "\n",
    "**Date:** 4 October 2021\n",
    "\n",
    "**Author:** Kody Moodley & Remzi Celebi\n",
    "\n",
    "**Affiliation:** Institute of Data Science, Maastricht University\n",
    "\n",
    "**License:** [GNU Affero General Public License v3.0](https://www.gnu.org/licenses/agpl-3.0.txt)\n",
    "\n",
    "**Notebook description:**\n",
    "\n",
    "As it was described in Lecture 10, different ontologies, vocabularies and knowledge graphs often define similar information and terms. When we examine the semantics (meaning) of terms across different vocabularies, sometimes we find that two terms with completely different IRIs actually share similar or equivalent meaning. \n",
    "\n",
    "In order to query integrated RDF data that is described using different terms with semantically related meaning, across different ontologies, we sometimes have to **map** (explicitly define the semantic relationships) between these terms. In this lab you will have complete exercises to practically execute this task on some example RDF data and vocabularies.\n",
    "\n",
    "We will use the Java RDF library [Apache Jena](https://jena.apache.org/) for this lab again."
   ]
  },
  {
   "cell_type": "markdown",
   "metadata": {},
   "source": [
    "### Import and setup Apache Jena Library"
   ]
  },
  {
   "cell_type": "code",
   "execution_count": null,
   "metadata": {},
   "outputs": [],
   "source": [
    "%jars apache-jena-3.16.0/lib/*.jar"
   ]
  },
  {
   "cell_type": "code",
   "execution_count": null,
   "metadata": {},
   "outputs": [],
   "source": [
    "import org.apache.jena.riot.RDFDataMgr;\n",
    "import org.apache.jena.rdf.model.*;\n",
    "import org.apache.jena.util.PrintUtil;\n",
    "import org.apache.jena.vocabulary.RDF;\n",
    "import org.apache.jena.query.Query;\n",
    "import org.apache.jena.query.QueryExecution;\n",
    "import org.apache.jena.query.QueryExecutionFactory;\n",
    "import org.apache.jena.query.QueryFactory;\n",
    "import org.apache.jena.query.QuerySolution;\n",
    "import org.apache.jena.query.ResultSetFormatter;\n",
    "import org.apache.jena.query.ResultSet;\n",
    "import org.apache.jena.reasoner.ReasonerRegistry;\n",
    "import java.io.File;\n",
    "import org.apache.commons.io.FileUtils;\n",
    "import java.nio.charset.StandardCharsets;"
   ]
  },
  {
   "cell_type": "markdown",
   "metadata": {},
   "source": [
    "### Load an RDF file about family relations\n",
    "\n",
    "Load the RDF file, and create `runSparqlQuery()` function to run SPARQL queries in a single call from a string or a file."
   ]
  },
  {
   "cell_type": "code",
   "execution_count": null,
   "metadata": {},
   "outputs": [],
   "source": [
    "Model baseModel = RDFDataMgr.loadModel(\"Lab10_OWL_familyrelations.ttl\");\n",
    "//ReasonerRegistry reasonerRegistry = new ReasonerRegistry();\n",
    "InfModel model = ModelFactory.createInfModel(ReasonerRegistry.getOWLReasoner(), baseModel);\n",
    "// The schema model can be provided separately\n",
    "// InfModel model = ModelFactory.createInfModel(uselessReasonerRegistry.getOWLReasoner(), schema, model);"
   ]
  },
  {
   "cell_type": "code",
   "execution_count": null,
   "metadata": {},
   "outputs": [],
   "source": [
    "static void runSparqlQuery(String queryString, Model model) throws java.io.IOException {\n",
    "    if (queryString.endsWith(\".rq\")) {\n",
    "        queryString = FileUtils.readFileToString(new File(queryString), StandardCharsets.UTF_8);\n",
    "    }\n",
    "    System.out.println(queryString);\n",
    "    Query query = QueryFactory.create(queryString);\n",
    "    QueryExecution qexec = QueryExecutionFactory.create(query, model);\n",
    "    ResultSetFormatter.out(qexec.execSelect(), model);\n",
    "} "
   ]
  },
  {
   "cell_type": "markdown",
   "metadata": {},
   "source": [
    "#### Task 1:\n",
    "\n",
    "Study the contents of the file \"Lab10_OWL_familyrelations.ttl\" carefully. Notice that there are two graphs about family members but both graphs use different terminology to describe the content."
   ]
  },
  {
   "cell_type": "markdown",
   "metadata": {},
   "source": [
    "#### Task 2: \n",
    "\n",
    "Write a SPARQL query in \"sparql-getSiblings.rq\" to retrieve all sibling pairs from the **combined** graph. Your query should only use vocabulary from **one** of the graphs.\n",
    "\n",
    "In order to complete the task, you need to add suitable mappings (statements) in the \"Lab10_OWL_familyrelations.ttl\" file. Please add these under \"Task 3\" in \"Lab10_OWL_familyrelations.ttl\".\n",
    "\n",
    "Run the cell below to observe the results you get back.\n",
    "\n"
   ]
  },
  {
   "cell_type": "code",
   "execution_count": null,
   "metadata": {},
   "outputs": [],
   "source": [
    "runSparqlQuery(\"sparql-getSiblings.rq\", model)"
   ]
  },
  {
   "cell_type": "markdown",
   "metadata": {},
   "source": [
    "#### Task 3: \n",
    "\n",
    "Write a SPARQL query in \"sparql-getAllMales.rq\" to retrieve all persons with the male gender from the **combined** graph. Your query should only use vocabulary from **one** of the graphs.\n",
    "\n",
    "In order to complete the task, you need to add suitable mappings (statements) in the \"Lab10_OWL_familyrelations.ttl\" file. Please add these under \"Task 2\" in \"Lab10_OWL_familyrelations.ttl\".\n",
    "\n",
    "Run the cell below to observe the results you get back."
   ]
  },
  {
   "cell_type": "code",
   "execution_count": null,
   "metadata": {},
   "outputs": [],
   "source": [
    "runSparqlQuery(\"sparql-getAllMales.rq\", model)"
   ]
  },
  {
   "cell_type": "markdown",
   "metadata": {},
   "source": [
    "#### Task 4: \n",
    "\n",
    "Write a SPARQL query in \"sparql-getParents.rq\" to retrieve all persons and their parents from the **combined** graph. Your query should only use vocabulary from **one** of the graphs.\n",
    "\n",
    "In order to complete the task, you need to add suitable mappings (statements) in the \"Lab10_OWL_familyrelations.ttl\" file. Please add these under \"Task 4\" in \"Lab10_OWL_familyrelations.ttl\".\n",
    "\n",
    "Run the cell below to observe the results you get back."
   ]
  },
  {
   "cell_type": "code",
   "execution_count": null,
   "metadata": {},
   "outputs": [],
   "source": [
    "runSparqlQuery(\"sparql-getParents.rq\", model)"
   ]
  },
  {
   "cell_type": "markdown",
   "metadata": {},
   "source": [
    "#### Task 5: \n",
    "\n",
    "Write a SPARQL query in \"sparql-getGivenAndFamilyNames.rq\" to retrieve all persons in the **combined** graph and display their first and last names. Your query should only use vocabulary from **one** of the graphs. **Human readable labels for all first and last names should be given for all persons**.\n",
    "\n",
    "In order to complete the task, you need to add suitable mappings (statements) in the \"Lab10_OWL_familyrelations.ttl\" file. Please add these under \"Task 5\" in \"Lab10_OWL_familyrelations.ttl\".\n",
    "\n",
    "Run the cell below to observe the results you get back."
   ]
  },
  {
   "cell_type": "code",
   "execution_count": null,
   "metadata": {},
   "outputs": [],
   "source": [
    "runSparqlQuery(\"sparql-getGivenAndFamilyNames.rq\", model)"
   ]
  },
  {
   "cell_type": "markdown",
   "metadata": {},
   "source": [
    "#### Task 6 (If you don't finish - homework): \n",
    "\n",
    "Write a SPARQL query to transform (represent) **all** the statements in \"RDF Graph 2\" of \"Lab10_OWL_familyrelations.ttl\" using **only** the vocabulary from \"RDF Graph 1\"."
   ]
  }
 ],
 "metadata": {
  "kernelspec": {
   "display_name": "Java",
   "language": "java",
   "name": "java"
  },
  "language_info": {
   "codemirror_mode": "java",
   "file_extension": ".jshell",
   "mimetype": "text/x-java-source",
   "name": "Java",
   "pygments_lexer": "java",
   "version": "11.0.6+8-b765.1"
  }
 },
 "nbformat": 4,
 "nbformat_minor": 4
}
