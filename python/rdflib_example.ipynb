{
 "cells": [
  {
   "cell_type": "code",
   "execution_count": 5,
   "metadata": {},
   "outputs": [],
   "source": [
    "import rdflib\n",
    "from rdflib import Graph"
   ]
  },
  {
   "cell_type": "markdown",
   "metadata": {},
   "source": [
    "## 1. Importing existing RDF graph (from file)"
   ]
  },
  {
   "cell_type": "code",
   "execution_count": 6,
   "metadata": {},
   "outputs": [
    {
     "name": "stdout",
     "output_type": "stream",
     "text": [
      "Number of statements: 30195\n",
      "Some statements: \n",
      "http://www.wikidata.org/entity/Q47853700 http://www.wikidata.org/prop/direct/P17 http://www.wikidata.org/entity/Q408 \n",
      "http://www.wikidata.org/entity/Q47853700 http://www.w3.org/2000/01/rdf-schema#label Ballangeich \n"
     ]
    }
   ],
   "source": [
    "from rdflib import Namespace\n",
    "WE = Namespace(\"http://www.wikidata.org/entity/\") # Wikidata entities\n",
    "g1 = Graph()\n",
    "g1.parse(\"human_kg_train.nt\", format=\"nt\")\n",
    "print(\"Number of statements: \" + str(len(g1)))\n",
    "print(\"Some statements: \")\n",
    "for s, p, o in g1.triples((WE.Q47853700, None, None)):\n",
    "    print(\"http://www.wikidata.org/entity/Q47853700 {} {} \".format(p, o))"
   ]
  },
  {
   "cell_type": "markdown",
   "metadata": {},
   "source": [
    "## 2. Importing existing RDF graph (remote)"
   ]
  },
  {
   "cell_type": "code",
   "execution_count": 9,
   "metadata": {},
   "outputs": [
    {
     "name": "stdout",
     "output_type": "stream",
     "text": [
      "Number of statements: 62\n",
      "Some statements: \n",
      "Nf99be59fdd134732a101e7082cef5fd1 is a person\n",
      "Nf157c82c2de84ad8b27189c7ac8699b6 is a person\n",
      "http://collectivesource.com/foaf.rdf#nathan is a person\n",
      "http://bigasterisk.com/foaf.rdf#drewp is a person\n",
      "http://bblfish.net/people/henry/card#me is a person\n"
     ]
    }
   ],
   "source": [
    "from rdflib.namespace import DC, DCAT, DCTERMS, FOAF, OWL, PROV, RDF\n",
    "g2 = Graph()\n",
    "g2.parse(\"http://bigasterisk.com/foaf.rdf\") # OR http://dig.csail.mit.edu/2008/webdav/timbl/foaf.rdf\n",
    "print(\"Number of statements: \" + str(len(g2)))\n",
    "print(\"Some statements: \")\n",
    "for s, p, o in g2.triples((None, RDF.type, FOAF.Person)):\n",
    "    print(\"{} is a person\".format(s))"
   ]
  },
  {
   "cell_type": "markdown",
   "metadata": {},
   "source": [
    "## 3. Create custom RDF graph (and save to file)"
   ]
  },
  {
   "cell_type": "code",
   "execution_count": 10,
   "metadata": {},
   "outputs": [
    {
     "name": "stdout",
     "output_type": "stream",
     "text": [
      "@prefix foaf: <http://xmlns.com/foaf/0.1/> .\n",
      "@prefix ids: <http://maastrichtuniversity.nl/ids/> .\n",
      "@prefix rdfs: <http://www.w3.org/2000/01/rdf-schema#> .\n",
      "@prefix wp: <https://www.wikidata.org/wiki/Property:> .\n",
      "@prefix wt: <https://www.wikidata.org/wiki/> .\n",
      "\n",
      "ids:kody a foaf:Person ;\n",
      "    foaf:knows ids:vincent ;\n",
      "    foaf:name \"kody moodley\" ;\n",
      "    wp:P106 wt:Q82594 ;\n",
      "    wp:P108 wt:Q42411212,\n",
      "        wt:Q55155670 .\n",
      "\n",
      "wp:P106 rdfs:label \"occupation\" .\n",
      "\n",
      "wp:P108 rdfs:label \"employer\" .\n",
      "\n",
      "ids:vincent a foaf:Person ;\n",
      "    foaf:name \"vincent emonet\" ;\n",
      "    wp:P106 wt:Q183888 ;\n",
      "    wp:P108 wt:Q42411212 .\n",
      "\n",
      "wt:Q183888 rdfs:label \"Software Developer\" .\n",
      "\n",
      "wt:Q55155670 rdfs:label \"Faculty of Law at Maastricht University\" .\n",
      "\n",
      "wt:Q82594 rdfs:label \"Computer Scientist\" .\n",
      "\n",
      "wt:Q42411212 rdfs:label \"Institute of Data Science at Maastricht University\" .\n",
      "\n",
      "\n"
     ]
    }
   ],
   "source": [
    "from rdflib.namespace import DC, DCAT, DCTERMS, FOAF, OWL, PROV, RDF, RDFS, SKOS, VOID, XMLNS, XSD\n",
    "from rdflib import Literal #, URIRef, BNode, \n",
    "\n",
    "IDS = Namespace(\"http://maastrichtuniversity.nl/ids/\")\n",
    "WP = Namespace(\"https://www.wikidata.org/wiki/Property:\") # Wikidata properties\n",
    "WT = Namespace(\"https://www.wikidata.org/wiki/\") # Wikidata types\n",
    "\n",
    "g3 = Graph()\n",
    "g3.bind(\"ids\", IDS)\n",
    "g3.bind(\"wp\", WP)\n",
    "g3.bind(\"wt\", WT)\n",
    "g3.bind(\"foaf\", FOAF)\n",
    "\n",
    "g3.add((IDS.kody, RDF.type, FOAF.Person))\n",
    "g3.add((IDS.vincent, RDF.type, FOAF.Person))\n",
    "g3.add((IDS.kody, FOAF.name, Literal(\"kody moodley\")))\n",
    "g3.add((IDS.kody, WP.P106, WT.Q82594)) # Computer Scientist\n",
    "g3.add((IDS.vincent, WP.P106, WT.Q183888)) # Software Developer\n",
    "g3.add((IDS.vincent, FOAF.name, Literal(\"vincent emonet\")))\n",
    "g3.add((IDS.vincent, WP.P108, WT.Q42411212))\n",
    "g3.add((IDS.kody, WP.P108, WT.Q42411212))\n",
    "g3.add((IDS.kody, WP.P108, WT.Q55155670))\n",
    "g3.add((IDS.kody, FOAF.knows, IDS.vincent))\n",
    "g3.add((WP.P106, RDFS.label, Literal(\"occupation\")))\n",
    "g3.add((WP.P108, RDFS.label, Literal(\"employer\")))\n",
    "g3.add((WT.Q42411212, RDFS.label, Literal(\"Institute of Data Science at Maastricht University\")))\n",
    "g3.add((WT.Q55155670, RDFS.label, Literal(\"Faculty of Law at Maastricht University\")))\n",
    "g3.add((WT.Q82594, RDFS.label, Literal(\"Computer Scientist\")))\n",
    "g3.add((WT.Q183888, RDFS.label, Literal(\"Software Developer\")))\n",
    "\n",
    "g3.serialize(destination='custom_graph.ttl', format='turtle')\n",
    "g3.serialize(destination='custom_graph.nt', format='nt')\n",
    "print(g3.serialize(format=\"turtle\").decode(\"utf-8\"))"
   ]
  },
  {
   "cell_type": "markdown",
   "metadata": {},
   "source": [
    "## 4. Querying RDF graphs with SPARQL"
   ]
  },
  {
   "cell_type": "code",
   "execution_count": 12,
   "metadata": {},
   "outputs": [
    {
     "name": "stdout",
     "output_type": "stream",
     "text": [
      "Query results for graph 1: \n",
      "http://www.wikidata.org/entity/Q333823 is the brother of his sister: http://www.wikidata.org/entity/Q6808694\n",
      "http://www.wikidata.org/entity/Q440 is the brother of his sister: http://www.wikidata.org/entity/Q507514\n",
      "http://www.wikidata.org/entity/Q77109 is the brother of his sister: http://www.wikidata.org/entity/Q71407\n",
      "http://www.wikidata.org/entity/Q434077 is the brother of his sister: http://www.wikidata.org/entity/Q237700\n",
      "http://www.wikidata.org/entity/Q356351 is the brother of his sister: http://www.wikidata.org/entity/Q276023\n",
      "http://www.wikidata.org/entity/Q60465 is the brother of his sister: http://www.wikidata.org/entity/Q70091\n",
      "\n",
      "Query results for graph 2: \n",
      "Nf99be59fdd134732a101e7082cef5fd1 is a person\n",
      "Nf157c82c2de84ad8b27189c7ac8699b6 is a person\n",
      "http://collectivesource.com/foaf.rdf#nathan is a person\n",
      "http://bigasterisk.com/foaf.rdf#drewp is a person\n",
      "http://bblfish.net/people/henry/card#me is a person\n",
      "\n",
      "Query results for graph 3: \n",
      "http://maastrichtuniversity.nl/ids/kody occupation Computer Scientist\n"
     ]
    }
   ],
   "source": [
    "query_result1 = g1.query(\n",
    "    \"\"\"\n",
    "        SELECT DISTINCT ?sibling1 ?sibling2\n",
    "        WHERE {\n",
    "              ?sibling1 <http://www.wikidata.org/prop/direct/P3373> ?sibling2 .\n",
    "              ?sibling1 <http://www.wikidata.org/prop/direct/P21> <http://www.wikidata.org/entity/Q6581097> .\n",
    "              ?sibling2 <http://www.wikidata.org/prop/direct/P21> <http://www.wikidata.org/entity/Q6581072> .\n",
    "        }\n",
    "        LIMIT 10\n",
    "        \n",
    "    \"\"\"\n",
    ")\n",
    "\n",
    "query_result2 = g2.query(\n",
    "    \"\"\"\n",
    "        prefix foaf: <http://xmlns.com/foaf/0.1/> \n",
    "        SELECT DISTINCT ?person\n",
    "        WHERE {\n",
    "              ?person rdf:type foaf:Person .\n",
    "        }\n",
    "         \n",
    "    \"\"\"\n",
    ")\n",
    "\n",
    "query_result3 = g3.query(\n",
    "    \"\"\"\n",
    "        prefix wt: <https://www.wikidata.org/wiki/>\n",
    "        prefix wp: <https://www.wikidata.org/wiki/Property:>\n",
    "        SELECT DISTINCT ?person\n",
    "        WHERE {\n",
    "              ?person wp:P106 wt:Q82594 .\n",
    "        }\n",
    "        \n",
    "    \"\"\"\n",
    ")\n",
    "\n",
    "print(\"Query results for graph 1: \")\n",
    "for row in query_result1:\n",
    "    print(\"{} is the brother of his sister: {}\".format(row[0], row[1]))\n",
    "\n",
    "print()\n",
    "\n",
    "print(\"Query results for graph 2: \")\n",
    "for row in query_result2:\n",
    "    print(\"%s is a person\" % row)\n",
    "    \n",
    "print()\n",
    "\n",
    "print(\"Query results for graph 3: \")\n",
    "for row in query_result3:\n",
    "    print(\"%s occupation Computer Scientist\" % row)"
   ]
  },
  {
   "cell_type": "markdown",
   "metadata": {},
   "source": [
    "## 5. Reasoning over RDFS graphs"
   ]
  },
  {
   "cell_type": "markdown",
   "metadata": {},
   "source": [
    "## 6. Realisation of instances into types"
   ]
  },
  {
   "cell_type": "markdown",
   "metadata": {},
   "source": [
    "## 7. Identifying implict relations"
   ]
  },
  {
   "cell_type": "code",
   "execution_count": null,
   "metadata": {},
   "outputs": [],
   "source": [
    "# from owlready2 import *\n",
    "# #onto_path.append(\"/path/to/your/local/ontology/repository\")\n",
    "# onto = get_ontology(\"http://www.lesfleursdunormal.fr/static/_downloads/pizza_onto.owl\")\n",
    "# onto.load()"
   ]
  },
  {
   "cell_type": "code",
   "execution_count": null,
   "metadata": {},
   "outputs": [],
   "source": [
    "DeductiveClosure(OWLRL_Semantics).expand(g1)"
   ]
  }
 ],
 "metadata": {
  "kernelspec": {
   "display_name": "Python 3",
   "language": "python",
   "name": "python3"
  },
  "language_info": {
   "codemirror_mode": {
    "name": "ipython",
    "version": 3
   },
   "file_extension": ".py",
   "mimetype": "text/x-python",
   "name": "python",
   "nbconvert_exporter": "python",
   "pygments_lexer": "ipython3",
   "version": "3.7.7"
  }
 },
 "nbformat": 4,
 "nbformat_minor": 4
}
