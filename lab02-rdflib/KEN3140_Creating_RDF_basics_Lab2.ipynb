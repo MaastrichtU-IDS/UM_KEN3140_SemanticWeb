{
  "cells": [
    {
      "cell_type": "markdown",
      "metadata": {
        "id": "UDeikpHwyZzP"
      },
      "source": [
        " KEN 3140: Lab 2 (RDF basics)\n",
        "\n",
        "**In this lab we are going to:**\n",
        "\n",
        "- Create RDF triples with rdflib\n",
        "- Save these files into various RDF serialisation syntaxes\n",
        "- Verify the validity of a given list of IRIs\n",
        "\n",
        "**Creating RDF triples**\n",
        "\n",
        "RDF allows us to make statements about resources. A statement has the following structure:\n",
        "# `<subject> <predicate> <object>`.\n",
        "\n",
        "An RDF statement expresses a relationship between two resources. The subject and the object represent the two resources being related; the predicate represents the nature of their relationship. The relationship is phrased in a directional way (from subject to object) and is called in RDF a property. Because RDF statements consist of three elements they are called triples."
      ]
    },
    {
      "cell_type": "code",
      "execution_count": 25,
      "metadata": {
        "colab": {
          "base_uri": "https://localhost:8080/"
        },
        "id": "4AMD49H9lYw2",
        "outputId": "58eeebc9-eb9f-444e-c72d-ac7363704a4c"
      },
      "outputs": [
        {
          "name": "stdout",
          "output_type": "stream",
          "text": [
            "Requirement already satisfied: rdflib in c:\\users\\p70073484\\anaconda3\\lib\\site-packages (6.2.0)\n",
            "Requirement already satisfied: isodate in c:\\users\\p70073484\\anaconda3\\lib\\site-packages (from rdflib) (0.6.1)\n",
            "Requirement already satisfied: setuptools in c:\\users\\p70073484\\anaconda3\\lib\\site-packages (from rdflib) (58.0.4)\n",
            "Requirement already satisfied: pyparsing in c:\\users\\p70073484\\anaconda3\\lib\\site-packages (from rdflib) (3.0.4)\n",
            "Requirement already satisfied: six in c:\\users\\p70073484\\anaconda3\\lib\\site-packages (from isodate->rdflib) (1.16.0)\n"
          ]
        }
      ],
      "source": [
        "!pip install rdflib"
      ]
    },
    {
      "cell_type": "markdown",
      "metadata": {
        "id": "403cvmM5AeaT"
      },
      "source": [
        "## Creating Nodes\n",
        "\n",
        "The subjects and objects of the triples make up the nodes in the graph where the nodes are URI references, Blank Nodes or Literals. In RDFLib, these node types are represented by the classes **URIRef**, **BNode**, **Literal**. *URIRefs* and *Bnodes* can both be thought of as resources, such a person, a company, a website, etc.\n",
        "- A *BNode* is a node where the exact URI is not known.\n",
        "- A *URIRef* is a node where the exact URI is know. *URIRefs* are also used to represent the properties/predicates in the RDF graph.\n",
        "- *Literals* represent attribute values, such as a name, a date, a number, etc. The most common literal values are XML data types, e.g. string, int.\n"
      ]
    },
    {
      "cell_type": "code",
      "execution_count": 1,
      "metadata": {
        "id": "Y_qzkuxcAZRK"
      },
      "outputs": [],
      "source": [
        "from rdflib import URIRef, BNode, Literal, Namespace\n",
        "from rdflib.namespace import FOAF, DCTERMS, XSD, RDF, SDO\n",
        "\n",
        "#URIRef\n",
        "remzi= URIRef('http://maastrichtuniversity.nl/Remzi')\n",
        "computerScientist = URIRef('http://maastrichtuniversity.nl/Computer_Scientist')\n",
        "\n",
        "#URI= Namespace + identifier\n",
        "\n",
        "#URI for entity Remzi: http://maastrichtuniversity.nl/Remzi\n",
        "UM = Namespace('http://maastrichtuniversity.nl/')\n",
        "\n",
        "#URI for entity computerScientist: http://maastrichtuniversity.nl/computerScientist\n",
        "remzi = UM['Remzi']\n",
        "computerScientist = UM['Computer_Scientist']\n",
        "\n"
      ]
    },
    {
      "cell_type": "markdown",
      "metadata": {},
      "source": [
        "Task: Create entities for mona_lisa, Leonardo davinci and lajoconde."
      ]
    },
    {
      "cell_type": "code",
      "execution_count": 27,
      "metadata": {},
      "outputs": [],
      "source": [
        "# mona_lisa = URIRef('http://www.wikidata.org/entity/Q12418')\n",
        "# davinci = URIRef('http://dbpedia.org/resource/Leonardo_da_Vinci')\n",
        "# lajoconde = URIRef('http://data.europeana.eu/item/04802/243FA8618938F4117025F17A8B813C5F9AA4D619')"
      ]
    },
    {
      "cell_type": "code",
      "execution_count": 28,
      "metadata": {
        "id": "yeYK9FFTHe8O"
      },
      "outputs": [],
      "source": [
        "name = Literal(\"Nicholas\")  # the name 'Nicholas', as a string\n",
        "\n",
        "age = Literal(39, datatype=XSD.integer)  # the number 39, as an integer\n",
        "\n",
        "bn = BNode()\n"
      ]
    },
    {
      "cell_type": "code",
      "execution_count": 29,
      "metadata": {
        "id": "tC1iLOCkHnyS"
      },
      "outputs": [],
      "source": [
        "from rdflib import Graph\n",
        "\n",
        "#initialise an empty RDF graph\n",
        "g = Graph()\n"
      ]
    },
    {
      "cell_type": "markdown",
      "metadata": {},
      "source": [
        "**Example:**\n",
        "\n",
        "create a triple with rdflib for this sentence: Remzi is computer scientist."
      ]
    },
    {
      "cell_type": "code",
      "execution_count": 30,
      "metadata": {
        "colab": {
          "base_uri": "https://localhost:8080/"
        },
        "id": "GO408uGcuhFX",
        "outputId": "dd3745d7-0779-45b7-ed60-95f2f1ae5481"
      },
      "outputs": [
        {
          "data": {
            "text/plain": [
              "<Graph identifier=N4193756a353141bcb8f69a18e3511b9d (<class 'rdflib.graph.Graph'>)>"
            ]
          },
          "execution_count": 30,
          "metadata": {},
          "output_type": "execute_result"
        }
      ],
      "source": [
        "# Bind prefix to namespace\n",
        "g.bind('um', UM)\n",
        "\n",
        "g.add((remzi, RDF.type, computerScientist))\n",
        "g.add((remzi, FOAF.firstName, Literal('Remzi')))\n",
        "g.add((remzi, FOAF.lastName, Literal('Celebi')))"
      ]
    },
    {
      "cell_type": "code",
      "execution_count": 31,
      "metadata": {
        "colab": {
          "base_uri": "https://localhost:8080/"
        },
        "id": "QT9iENftKa5v",
        "outputId": "db658e59-5154-4eba-b03b-e2ef0fd7fe3f"
      },
      "outputs": [
        {
          "name": "stdout",
          "output_type": "stream",
          "text": [
            "@prefix ns1: <http://xmlns.com/foaf/0.1/> .\n",
            "@prefix um: <http://maastrichtuniversity.nl/> .\n",
            "\n",
            "um:Remzi a um:Computer_Scientist ;\n",
            "    ns1:firstName \"Remzi\" ;\n",
            "    ns1:lastName \"Celebi\" .\n",
            "\n",
            "\n"
          ]
        }
      ],
      "source": [
        "print(g.serialize(format='ttl'))"
      ]
    },
    {
      "cell_type": "code",
      "execution_count": 53,
      "metadata": {
        "colab": {
          "base_uri": "https://localhost:8080/"
        },
        "id": "qJMS3_fpvmWE",
        "outputId": "68c54822-1747-44f4-ad97-fb4eb075d93c"
      },
      "outputs": [
        {
          "name": "stdout",
          "output_type": "stream",
          "text": [
            "Entities in this graph:\n",
            "-----------------------\n",
            "Remzi entity: http://maastrichtuniversity.nl/Remzi\n",
            "Computer Scientist entity: http://maastrichtuniversity.nl/Computer_Scientist\n",
            "----------------------\n",
            "Triples in this graph:\n",
            "----------------------\n",
            "http://maastrichtuniversity.nl/Remzi http://www.w3.org/1999/02/22-rdf-syntax-ns#type http://maastrichtuniversity.nl/Computer_Scientist\n",
            "http://maastrichtuniversity.nl/Remzi http://xmlns.com/foaf/0.1/lastName Celebi\n",
            "http://maastrichtuniversity.nl/Remzi http://xmlns.com/foaf/0.1/firstName Remzi\n",
            "----------------------\n",
            "(rdflib.term.URIRef('http://maastrichtuniversity.nl/Remzi'), rdflib.term.URIRef('http://www.w3.org/1999/02/22-rdf-syntax-ns#type'), rdflib.term.URIRef('http://maastrichtuniversity.nl/Computer_Scientist'))\n",
            "(rdflib.term.URIRef('http://maastrichtuniversity.nl/Remzi'), rdflib.term.URIRef('http://xmlns.com/foaf/0.1/lastName'), rdflib.term.Literal('Celebi'))\n",
            "(rdflib.term.URIRef('http://maastrichtuniversity.nl/Remzi'), rdflib.term.URIRef('http://xmlns.com/foaf/0.1/firstName'), rdflib.term.Literal('Remzi'))\n"
          ]
        }
      ],
      "source": [
        "print (\"Entities in this graph:\");\n",
        "print (\"-----------------------\");\n",
        "\n",
        "# Print the entities in our graph\n",
        "print (\"Remzi entity: \" + str(remzi));\n",
        "print (\"Computer Scientist entity: \" + str(computerScientist));\n",
        "\n",
        "print (\"----------------------\");\n",
        "\n",
        "print (\"Triples in this graph:\");\n",
        "print (\"----------------------\");\n",
        "\n",
        "for (s, p, o) in g:\n",
        "  print (s, p, o)\n",
        "  \n",
        "print (\"----------------------\");\n",
        "for triples in g:\n",
        "  print(triples)"
      ]
    },
    {
      "cell_type": "code",
      "execution_count": 33,
      "metadata": {
        "colab": {
          "base_uri": "https://localhost:8080/"
        },
        "id": "Pw1nwUjMoAid",
        "outputId": "79e93f6a-b7e2-47ef-c362-efd755b7064b"
      },
      "outputs": [
        {
          "name": "stdout",
          "output_type": "stream",
          "text": [
            "[a rdfg:Graph;rdflib:storage [a rdflib:Store;rdfs:label 'Memory']].\n"
          ]
        }
      ],
      "source": [
        "print(g.serialize('KEN3140_Lab2_example.rdf',format='xml'))"
      ]
    },
    {
      "cell_type": "code",
      "execution_count": 34,
      "metadata": {
        "colab": {
          "base_uri": "https://localhost:8080/"
        },
        "id": "GpC8gknpw5T6",
        "outputId": "303e070f-5472-45f8-eedb-fc876a5a8c71"
      },
      "outputs": [
        {
          "name": "stdout",
          "output_type": "stream",
          "text": [
            "[a rdfg:Graph;rdflib:storage [a rdflib:Store;rdfs:label 'Memory']].\n"
          ]
        }
      ],
      "source": [
        "print(g.serialize('KEN3140_Lab2_example.ttl',format='turtle'))"
      ]
    },
    {
      "cell_type": "code",
      "execution_count": 35,
      "metadata": {
        "colab": {
          "base_uri": "https://localhost:8080/"
        },
        "id": "ABSY8ErExklu",
        "outputId": "2f3bb634-f841-480d-9ac0-3cdc79983b18"
      },
      "outputs": [
        {
          "name": "stdout",
          "output_type": "stream",
          "text": [
            "[a rdfg:Graph;rdflib:storage [a rdflib:Store;rdfs:label 'Memory']].\n"
          ]
        }
      ],
      "source": [
        "print(g.serialize('KEN3140_Lab2_example.nt',format='ntriples'))"
      ]
    },
    {
      "cell_type": "markdown",
      "metadata": {},
      "source": [
        "**IRI validation**"
      ]
    },
    {
      "cell_type": "code",
      "execution_count": 41,
      "metadata": {},
      "outputs": [
        {
          "name": "stdout",
          "output_type": "stream",
          "text": [
            "Collecting validators\n",
            "  Downloading validators-0.20.0.tar.gz (30 kB)\n",
            "Requirement already satisfied: decorator>=3.4.0 in c:\\users\\p70073484\\anaconda3\\lib\\site-packages (from validators) (5.1.0)\n",
            "Building wheels for collected packages: validators\n",
            "  Building wheel for validators (setup.py): started\n",
            "  Building wheel for validators (setup.py): finished with status 'done'\n",
            "  Created wheel for validators: filename=validators-0.20.0-py3-none-any.whl size=19583 sha256=a2bcff611ca28299c62e5fc0097d6bc97a365b0fbd5abf991304c7151e9447c3\n",
            "  Stored in directory: c:\\users\\p70073484\\appdata\\local\\pip\\cache\\wheels\\2d\\f0\\a8\\1094fca7a7e5d0d12ff56e0c64675d72aa5cc81a5fc200e849\n",
            "Successfully built validators\n",
            "Installing collected packages: validators\n",
            "Successfully installed validators-0.20.0\n"
          ]
        }
      ],
      "source": [
        "!pip install validators"
      ]
    },
    {
      "cell_type": "code",
      "execution_count": 42,
      "metadata": {},
      "outputs": [],
      "source": [
        "import validators"
      ]
    },
    {
      "cell_type": "code",
      "execution_count": 43,
      "metadata": {},
      "outputs": [
        {
          "data": {
            "text/plain": [
              "True"
            ]
          },
          "execution_count": 43,
          "metadata": {},
          "output_type": "execute_result"
        }
      ],
      "source": [
        "validators.url(\"http://google.com\")"
      ]
    },
    {
      "cell_type": "code",
      "execution_count": 54,
      "metadata": {},
      "outputs": [
        {
          "name": "stdout",
          "output_type": "stream",
          "text": [
            "not valid\n"
          ]
        }
      ],
      "source": [
        "if not validators.url(\"http://google\"):\n",
        "  print(\"not valid\")"
      ]
    },
    {
      "cell_type": "markdown",
      "metadata": {
        "id": "koV4oRrLMVC3"
      },
      "source": [
        "### **Lab Tasks**"
      ]
    },
    {
      "cell_type": "markdown",
      "metadata": {
        "id": "EA6aNh9wMVC4"
      },
      "source": [
        "**Task 1: IRI validation**\n",
        "\n",
        "In this task you are going to verify which of the following strings are valid IRIs or not. \n",
        "Verify them by validator.\n",
        "\n",
        "If you find some of these to be invalid IRIs, consult the [rfc3987](https://tools.ietf.org/html/rfc3987)\n",
        "IRI specification to put forward reasons why they are invalid.For each valid IRI in the list, think about\n",
        "and discuss with your classmates to what extent they comply with the Linked Principles.\n",
        "\n",
        "1. ``myIRI``\n",
        "2. ``myIRI/``\n",
        "3. ``myIRI#``\n",
        "4. ``ftp:/myIRI``\n",
        "5. ``ftp://myIRI/``\n",
        "6. ``ftp://myIRI#``\n",
        "7. ``http://myIRI#``\n",
        "8. ``http:///myIRI/folder1/folder2/``\n",
        "9. ``http:///myIRI/folder1/folder2/my name``\n",
        "10. ``http:///myIRI/folder1/folder2/my_name``\n",
        "11. ``my_own_protocol:///myIRI/folder1/folder2/my_name``\n",
        "12. ``:///myIRI/folder1/folder2/my_name``\n",
        "13. ``https://myIRI/$/my_name``\n",
        "14. ``https://myIRI/#$#/my_name``\n",
        "15. ``https://136.292.181.23/#12/my_name``\n",
        "16. ``https://136.255.181.23/!210382/my_name``\n",
        "17. ``https://schema.org/parent``\n",
        "18. ``https://www.wikidata.org/wiki/Q937``\n",
        "19. ``https://en.wikipedia.org/wiki/Albert_Einstein``\n",
        "20. ``https://www.w3.org/Consortium/``\n",
        "    "
      ]
    },
    {
      "cell_type": "markdown",
      "metadata": {
        "id": "H5kvK0C82DPw"
      },
      "source": [
        "**Task 1 solution:**"
      ]
    },
    {
      "cell_type": "code",
      "execution_count": 51,
      "metadata": {
        "id": "YaYme7nj2K5J"
      },
      "outputs": [
        {
          "name": "stdout",
          "output_type": "stream",
          "text": [
            "not valid\n"
          ]
        }
      ],
      "source": [
        "#IRI validation\n",
        "if not validators.url(\"myIRI\"):\n",
        "   print(\"not valid\")\n"
      ]
    },
    {
      "cell_type": "markdown",
      "metadata": {
        "id": "qR5CdrBnMVC8"
      },
      "source": [
        "**Task 2: Formulating RDF triples**\n",
        "\n",
        "Using a text editor of your choice (e.g. Notepad or Sublime text) **or** rdflib, create RDF triples capturing as fully as possible the information in the following piece of text:\n",
        "\n",
        "“Vincent van Gogh was a Dutch artist born in Zundert, a city in the country of the Netherlands, on 30 March 1853. One of the most famous artworks created by him is ‘The Starry Night’ oil on canvas painting.”\n",
        "\n",
        "**Requirements:**\n",
        "1. Write down the triples in Turtle syntax and save the document as a .ttl file.\n",
        "2. Ensure that the triples are generated using valid RDF syntax and valid IRIs. \n",
        "3. Make sure to **reuse** existing vocabulary where possible\n",
        "\n",
        "For convenience, a conceptual diagram of the information in the above text is given below.\n",
        "\n",
        "![image.png](task2-vangogh.png)"
      ]
    },
    {
      "cell_type": "markdown",
      "metadata": {
        "id": "1y33_bDK4Eto"
      },
      "source": [
        "**Task 2 solution:**"
      ]
    },
    {
      "cell_type": "code",
      "execution_count": null,
      "metadata": {
        "id": "voGJon1n4HLi"
      },
      "outputs": [],
      "source": []
    },
    {
      "cell_type": "markdown",
      "metadata": {
        "id": "d4Rh5W6-MVDV"
      },
      "source": [
        "#### Task 3: Identifying components of an RDF graph\n",
        "\n",
        "Study the following diagram:\n",
        "\n",
        "![image.png](task3.png)\n",
        "\n",
        "Now, list all the:\n",
        "\n",
        "1. object properties in the graph\n",
        "2. data properties in the graph\n",
        "3. instances in the graph\n",
        "4. data types in the graph\n",
        "5. prefix shorthands in the graph\n",
        "\n",
        "Discuss your answers with your classmates. You may write the answers down in a new markdown cell below this one if you wish."
      ]
    },
    {
      "cell_type": "markdown",
      "metadata": {
        "id": "RIwYsvRq4ISd"
      },
      "source": [
        "**Task 3 solution:**"
      ]
    },
    {
      "cell_type": "code",
      "execution_count": null,
      "metadata": {
        "id": "SiHAb-ae4Jze"
      },
      "outputs": [],
      "source": []
    }
  ],
  "metadata": {
    "colab": {
      "collapsed_sections": [],
      "provenance": []
    },
    "kernelspec": {
      "display_name": "Python 3.9.7 ('base')",
      "language": "python",
      "name": "python3"
    },
    "language_info": {
      "codemirror_mode": {
        "name": "ipython",
        "version": 3
      },
      "file_extension": ".py",
      "mimetype": "text/x-python",
      "name": "python",
      "nbconvert_exporter": "python",
      "pygments_lexer": "ipython3",
      "version": "3.9.7"
    },
    "vscode": {
      "interpreter": {
        "hash": "d04c54a02add8cf264a0add8fd7ee8c6b80e66ede9002712416e08e7fb9ea34c"
      }
    }
  },
  "nbformat": 4,
  "nbformat_minor": 0
}
