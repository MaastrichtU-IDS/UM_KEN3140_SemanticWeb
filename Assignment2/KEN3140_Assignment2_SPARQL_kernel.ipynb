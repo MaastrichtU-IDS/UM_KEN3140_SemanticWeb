{
 "cells": [
  {
   "cell_type": "markdown",
   "metadata": {
    "slideshow": {
     "slide_type": "slide"
    }
   },
   "source": [
    "# KEN 3140 Semantic Web: Assignment 2\n",
    "### Writing and executing SPARQL queries on RDF graphs\n",
    "\n",
    "##### Learning objectives:\n",
    "1. How to compose and execute basic SPARQL SELECT queries to answer a specific question\n",
    "2. Identify and describe the function of the basic components of a SPARQL SELECT query\n",
    "3. Given a question, identify what SPARQL features would be needed in order to answer it, and how to compose these features into a syntactically valid SPARQL query"
   ]
  },
  {
   "cell_type": "markdown",
   "metadata": {
    "slideshow": {
     "slide_type": "slide"
    }
   },
   "source": [
    "## Install the SPARQL kernel\n",
    "\n",
    "In 2 commands (run it in the Docker container if using Docker)\n",
    "\n",
    "```bash\n",
    "pip install sparqlkernel --user\n",
    "jupyter sparqlkernel install --user\n",
    "```\n",
    "\n",
    "## Define the SPARQL endpoint URL"
   ]
  },
  {
   "cell_type": "code",
   "execution_count": 10,
   "metadata": {
    "slideshow": {
     "slide_type": "subslide"
    }
   },
   "outputs": [
    {
     "data": {
      "text/html": [
       "<div class=\"krn-spql\"><div class=\"magic\">Endpoint set to: https://graphdb.dumontierlab.com/repositories/KEN3140_SemanticWeb</div><div class=\"magic\">Logging set to DEBUG</div></div>"
      ],
      "text/plain": [
       "Endpoint set to: https://graphdb.dumontierlab.com/repositories/KEN3140_SemanticWeb\n",
       "Logging set to DEBUG\n"
      ]
     },
     "metadata": {},
     "output_type": "display_data"
    }
   ],
   "source": [
    "# Set the SPARQL Kernel parameters\n",
    "%endpoint https://graphdb.dumontierlab.com/repositories/KEN3140_SemanticWeb\n",
    "\n",
    "# This is optional, it would increase the log level\n",
    "%log debug\n",
    "\n",
    "# Uncomment the next line to return label in english and avoid duplicates\n",
    "# %lang en"
   ]
  },
  {
   "cell_type": "markdown",
   "metadata": {
    "slideshow": {
     "slide_type": "slide"
    }
   },
   "source": [
    "## Example query\n",
    "\n",
    "#### With inference"
   ]
  },
  {
   "cell_type": "code",
   "execution_count": 13,
   "metadata": {
    "slideshow": {
     "slide_type": "fragment"
    }
   },
   "outputs": [
    {
     "data": {
      "text/html": [
       "<div class=\"krn-spql\"><div class=\"magic\">Param set: infer = false</div></div>"
      ],
      "text/plain": [
       "Param set: infer = false\n"
      ]
     },
     "metadata": {},
     "output_type": "display_data"
    },
    {
     "data": {
      "text/html": [
       "<div class=\"krn-spql\"><table><tr class=hdr><th>entity</th>\n",
       "<th>parent</th></tr></table><div class=\"tinfo\">Total: 0, Shown: 0</div></div>"
      ]
     },
     "metadata": {},
     "output_type": "display_data"
    }
   ],
   "source": [
    "%qparam infer true\n",
    "PREFIX schema: <https://schema.org/>\n",
    "PREFIX family: <https://my-family.org/>\n",
    "SELECT * \n",
    "WHERE {\n",
    "    ?entity a schema:Person ;\n",
    "              schema:parent ?parent .\n",
    "}"
   ]
  },
  {
   "cell_type": "markdown",
   "metadata": {},
   "source": [
    "#### Without inference"
   ]
  },
  {
   "cell_type": "code",
   "execution_count": 21,
   "metadata": {},
   "outputs": [
    {
     "data": {
      "text/html": [
       "<div class=\"krn-spql\"><div class=\"magic\">Param set: infer = false</div></div>"
      ],
      "text/plain": [
       "Param set: infer = false\n"
      ]
     },
     "metadata": {},
     "output_type": "display_data"
    },
    {
     "data": {
      "text/html": [
       "<div class=\"krn-spql\"><table><tr class=hdr><th>entity</th>\n",
       "<th>parent</th></tr></table><div class=\"tinfo\">Total: 0, Shown: 0</div></div>"
      ]
     },
     "metadata": {},
     "output_type": "display_data"
    }
   ],
   "source": [
    "%qparam infer false\n",
    "PREFIX schema: <https://schema.org/>\n",
    "PREFIX family: <https://my-family.org/>\n",
    "SELECT * \n",
    "WHERE {\n",
    "    ?entity a schema:Person ;\n",
    "              schema:parent ?parent .\n",
    "}"
   ]
  },
  {
   "cell_type": "markdown",
   "metadata": {},
   "source": [
    "## Q1: List the top five tallest people in the graph in order from tallest to shortest\n",
    "\n",
    "With and without inference"
   ]
  },
  {
   "cell_type": "code",
   "execution_count": 20,
   "metadata": {},
   "outputs": [
    {
     "data": {
      "text/html": [
       "<div class=\"krn-spql\"><div class=\"magic\">Param set: infer = true</div></div>"
      ],
      "text/plain": [
       "Param set: infer = true\n"
      ]
     },
     "metadata": {},
     "output_type": "display_data"
    },
    {
     "data": {
      "text/html": [
       "<div class=\"krn-spql\"><table><tr class=hdr><th>entity</th>\n",
       "<th>parent</th></tr><tr class=odd><td class=val><a href=\"https://my-family.org/Miranda\" target=\"_other\">https://my-family.org/Miranda</a></td>\n",
       "<td class=val><a href=\"https://my-family.org/Pierre\" target=\"_other\">https://my-family.org/Pierre</a></td></tr><tr class=even><td class=val><a href=\"https://my-family.org/Miranda\" target=\"_other\">https://my-family.org/Miranda</a></td>\n",
       "<td class=val><a href=\"https://my-family.org/Mathilde\" target=\"_other\">https://my-family.org/Mathilde</a></td></tr></table><div class=\"tinfo\">Total: 2, Shown: 2</div></div>"
      ]
     },
     "metadata": {},
     "output_type": "display_data"
    }
   ],
   "source": [
    "%qparam infer true\n",
    "PREFIX schema: <https://schema.org/>\n",
    "PREFIX family: <https://my-family.org/>\n",
    "SELECT * \n",
    "WHERE {\n",
    "    ?entity a schema:Person ;\n",
    "              schema:parent ?parent .\n",
    "}"
   ]
  },
  {
   "cell_type": "code",
   "execution_count": null,
   "metadata": {},
   "outputs": [],
   "source": [
    "%qparam infer false\n",
    "PREFIX schema: <https://schema.org/>\n",
    "PREFIX family: <https://my-family.org/>\n",
    "SELECT * \n",
    "WHERE {\n",
    "    ?entity a schema:Person ;\n",
    "              schema:parent ?parent .\n",
    "}"
   ]
  },
  {
   "cell_type": "markdown",
   "metadata": {},
   "source": [
    "## Q2: Identify the shortest person who has at least two uncles \n",
    "\n",
    "With and without inference"
   ]
  },
  {
   "cell_type": "code",
   "execution_count": null,
   "metadata": {},
   "outputs": [],
   "source": [
    "%qparam infer true\n",
    "PREFIX schema: <https://schema.org/>\n",
    "PREFIX family: <https://my-family.org/>\n",
    "SELECT * \n",
    "WHERE {\n",
    "    ?entity a schema:Person ;\n",
    "              schema:parent ?parent .\n",
    "}"
   ]
  },
  {
   "cell_type": "code",
   "execution_count": null,
   "metadata": {},
   "outputs": [],
   "source": [
    "%qparam infer false\n",
    "PREFIX schema: <https://schema.org/>\n",
    "PREFIX family: <https://my-family.org/>\n",
    "SELECT * \n",
    "WHERE {\n",
    "    ?entity a schema:Person ;\n",
    "              schema:parent ?parent .\n",
    "}"
   ]
  }
 ],
 "metadata": {
  "kernelspec": {
   "display_name": "SPARQL",
   "language": "sparql",
   "name": "sparql"
  },
  "language_info": {
   "codemirror_mode": {
    "name": "sparql"
   },
   "mimetype": "application/sparql-query",
   "name": "sparql",
   "pygments_lexer": "sparql-nb"
  }
 },
 "nbformat": 4,
 "nbformat_minor": 4
}
