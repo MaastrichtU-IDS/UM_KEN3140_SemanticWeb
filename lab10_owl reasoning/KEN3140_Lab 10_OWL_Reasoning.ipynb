{
  "nbformat": 4,
  "nbformat_minor": 0,
  "metadata": {
    "colab": {
      "provenance": [],
      "collapsed_sections": []
    },
    "kernelspec": {
      "name": "python3",
      "display_name": "Python 3"
    }
  },
  "cells": [
    {
      "cell_type": "markdown",
      "source": [
        "**KEN3140 (Semantic Web) Lab 10**\n",
        "\n",
        "Constructing ontologies with the OWL API\n",
        "\n",
        "**Date**: 10 October 2022\n",
        "\n",
        "**Author**: Kody Moodley & Remzi Celebi & Jinzhou Yang\n",
        "\n",
        "**Affiliation**: Institute of Data Science, Maastricht University\n",
        "\n",
        "**Notebook Description**\n",
        "\n",
        "This is a Jupyter notebook that allows one to programmatically construct ontologies using the Python-based OWL API. Owlready2 is a package for ontology-oriented programming in Python, which allows you to make use of the most important features of the OWL API in a much more concise way than having to use the original API.\n",
        "\n",
        "**Background: please read this section carefully before beginning the lab.**\n",
        "\n",
        "This lab follows on from Lab 6, 7, and 8 in which you familiarised yourself with the intuitions behind constructing OWL ontologies, the expressivity, reasoning complexity, and semantics that need to be taken into account when constructing an ontology, and how this can affect its accuracy or quality. So far, you have used Protege for constructing ontologies. Protege is a well-known ontology editor and it also has a cloud-based, collaborative version WebProtege. However, Protege is just one tool amongst a variety of Semantic Web tools, not only ontology editors, but also reasoners, web applications, and frameworks that push the vision of the Semantic Web forward. This lab will ask you to construct an OWL ontology programmatically using the OWL API instead of using a graphical ontology editor.\n",
        "\n",
        "*Why not just use a graphical ontology editor?*\n",
        "\n",
        "You can! However, in practice, it is useful to be able to load an ontology, edit it and \"attach\" it to extracted RDF data all programmatically from a script or software library. This is so that we can perform queries, reasoning, and mining algorithms that form part of a complex chain of computational processes (i.e., a group of software services called a scientific workflow).\n",
        "\n",
        "**Lab instructions**\n",
        "\n",
        "Your task in this lab is to construct an OWL ontology describing the familiar domain of family relations that we have been using throughout this course. In other words, build your own family relations ontology with OWL 2 DL axioms that you think should be in this ontology. You do not have to reproduce the same ontology that was used in Labs 6-8. However, you may reuse some terms from this ontology if you wish. You will find example ontology construction commands you will need in Sections 2-3 of this notebook. Make use of the reasoner incrementally after adding new axioms (especially complex ones such as role constraints axioms) to check if unexpected inferences or logical errors arise. Example commands of how to invoke the reasoner can be found in Section 3.\n",
        "\n",
        "**Notebook structure**\n",
        "\n",
        "\n",
        "Sections 1 - 3 of this notebook demonstrate in detail, through examples, how to use Owlready2 to build OWL ontologies programmatically. \n",
        "\n",
        "\n",
        "**Learning objectives**\n",
        "\n",
        "How to:\n",
        "\n",
        "*   Construct and reason with OWL ontologies\n",
        "*   Generate explanations for entailments in OWL ontologies\n",
        "*   Debug unintended inferences in OWL ontologies\n",
        "\n",
        "**Documentation**\n",
        "\n",
        "* Jupyter notebooks: https://jupyter.org/ \n",
        "* Owlready2: https://owlready2.readthedocs.io/en/latest/ \n",
        "\n",
        "**1. Import Owlready2**\n",
        "\n",
        "First, we need to import Owlready2. \n"
      ],
      "metadata": {
        "id": "C00kf6ZUaqui"
      }
    },
    {
      "cell_type": "code",
      "metadata": {
        "id": "4AMD49H9lYw2",
        "colab": {
          "base_uri": "https://localhost:8080/"
        },
        "outputId": "23e0f408-20c7-41a5-b636-711bac248327"
      },
      "source": [
        "!pip install owlready2"
      ],
      "execution_count": null,
      "outputs": [
        {
          "output_type": "stream",
          "name": "stdout",
          "text": [
            "Looking in indexes: https://pypi.org/simple, https://us-python.pkg.dev/colab-wheels/public/simple/\n",
            "Collecting owlready2\n",
            "  Downloading Owlready2-0.39.tar.gz (25.5 MB)\n",
            "\u001b[K     |████████████████████████████████| 25.5 MB 1.4 MB/s \n",
            "\u001b[?25hBuilding wheels for collected packages: owlready2\n",
            "  Building wheel for owlready2 (setup.py) ... \u001b[?25l\u001b[?25hdone\n",
            "  Created wheel for owlready2: filename=Owlready2-0.39-cp37-cp37m-linux_x86_64.whl size=22132075 sha256=259040618ef7d028a0a3aca25c4ec81a7a71e243b19bfb261cfaaf923718bc06\n",
            "  Stored in directory: /root/.cache/pip/wheels/c9/5b/fc/da1e42a17f22cd62bfb170f847a3fb541a7f628858ad3595ec\n",
            "Successfully built owlready2\n",
            "Installing collected packages: owlready2\n",
            "Successfully installed owlready2-0.39\n"
          ]
        }
      ]
    },
    {
      "cell_type": "markdown",
      "metadata": {
        "id": "403cvmM5AeaT"
      },
      "source": [
        "2. **Examples to get started** \n",
        "\n",
        "Have a look at these examples to show you how to build ontologies using owlready2. "
      ]
    },
    {
      "cell_type": "code",
      "source": [
        "import owlready2 as owl"
      ],
      "metadata": {
        "id": "8uMGydEidvfe"
      },
      "execution_count": null,
      "outputs": []
    },
    {
      "cell_type": "markdown",
      "source": [
        "**2a. Creating an ontology**\n",
        "\n",
        "\n",
        "Creating a new OWL ontology by specifying an IRI string and set it to the currently selected ontology (\"http://maastrichtuniversity.nl/semweb/2022/lab10#\"); Using the function https://owlready2.readthedocs.io/en/latest/onto.html  \n"
      ],
      "metadata": {
        "id": "NSrEoeBRd8_w"
      }
    },
    {
      "cell_type": "code",
      "source": [
        "onto = owl.get_ontology(\"http://maastrichtuniversity.nl/semweb/2022/lab10#\")"
      ],
      "metadata": {
        "id": "aBCg6s5JeTUN"
      },
      "execution_count": null,
      "outputs": []
    },
    {
      "cell_type": "markdown",
      "source": [
        "**2b. Creating (atomic) classes**\n",
        "\n",
        "*   Create single atomic class (\"Woman\");\n",
        "*   Create multiple atomic classes (each one separated by a space) (\"Man Male Female Person Adult Car Tyre USCitizen Passport Leg Arthropod JohnsBookClubMembers\");\n",
        "*   List the axioms and entities in the ontology;\n",
        "* Refer to the function https://owlready2.readthedocs.io/en/latest/class.html "
      ],
      "metadata": {
        "id": "ioF4BcPnebVi"
      }
    },
    {
      "cell_type": "code",
      "source": [
        "with onto:\n",
        "  Woman = owl.types.new_class(\"Woman\")\n",
        "  for cls_name in ['Man', 'Male', 'Female', 'Person', 'Adult', 'Car', 'Tyre', 'USCitizen', 'Passport', 'Leg', 'Arthropod', 'JohnsBookClubMembers']:\n",
        "      owl.types.new_class(cls_name, (owl.Thing,))"
      ],
      "metadata": {
        "id": "GO408uGcuhFX"
      },
      "execution_count": null,
      "outputs": []
    },
    {
      "cell_type": "code",
      "source": [
        " list(onto.classes())"
      ],
      "metadata": {
        "colab": {
          "base_uri": "https://localhost:8080/"
        },
        "id": "wOLDD2gf5GVq",
        "outputId": "efbf2b47-9883-49bc-acc3-b945b1bae5de"
      },
      "execution_count": null,
      "outputs": [
        {
          "output_type": "execute_result",
          "data": {
            "text/plain": [
              "[lab10.Man,\n",
              " lab10.Male,\n",
              " lab10.Female,\n",
              " lab10.Person,\n",
              " lab10.Adult,\n",
              " lab10.Car,\n",
              " lab10.Tyre,\n",
              " lab10.USCitizen,\n",
              " lab10.Passport,\n",
              " lab10.Leg,\n",
              " lab10.Arthropod,\n",
              " lab10.JohnsBookClubMembers]"
            ]
          },
          "metadata": {},
          "execution_count": 5
        }
      ]
    },
    {
      "cell_type": "markdown",
      "source": [
        "**2c. Creating properties**\n",
        "\n",
        "\n",
        "*   Create single object property (\"hasGender\");\n",
        "*   Create multiple object properties at once (each separated by a space(\"hasPart teaches studentOf owns hasSister hasSibling hasDocument\");\n",
        "*   Specify whether an object property is transitive, reflexive, symmetric etc.\n",
        "    * parameter1: name of the property\n",
        "    * parameter2: transitive? 0 - no, 1 - yes\n",
        "    * parameter3: reflexive? 0 - no, 1 - yes, 2 - irreflexive\n",
        "    * parameter4: symmetric? 0 - no, 1 - yes, 2 - antisymmetric\n",
        "    * (\"marriedTo\", 0, 2, 1);\n",
        "* Similar process for DATA properties (\"hasWeight name bornOn\"); \n",
        "* List the object property in the ontology;\n",
        "* Refer to the function https://owlready2.readthedocs.io/en/latest/properties.html "
      ],
      "metadata": {
        "id": "UVUoPG1ce-D1"
      }
    },
    {
      "cell_type": "code",
      "source": [
        "with onto: \n",
        "  class hasGender(owl.ObjectProperty):\n",
        "    pass\n",
        "  for obj_props in [\"hasPart\", \"teaches\", \"studentOf\", \"owns\", \"hasSister\", \"hasSibling\", \"hasDocument\"]:\n",
        "    owl.types.new_class(obj_props, (owl.ObjectProperty,))\n",
        "    \n",
        "  class marriedTo(owl.ObjectProperty):\n",
        "    pass\n",
        "\n",
        "  # Inverse property - Applies this relation to other node\n",
        "  # Exp. John married to Mary and Mary married to John.\n",
        "  marriedTo.inverse_property = marriedTo\n",
        "\n",
        "  for obj_props in [\"hasWeight\", \"name\", \"bornOn\"]:\n",
        "    owl.types.new_class(obj_props, (owl.DataProperty,))"
      ],
      "metadata": {
        "id": "xlnqz3VjB_kK"
      },
      "execution_count": null,
      "outputs": []
    },
    {
      "cell_type": "code",
      "source": [
        "list(onto.object_properties())"
      ],
      "metadata": {
        "id": "09GyUbrHADQn",
        "colab": {
          "base_uri": "https://localhost:8080/"
        },
        "outputId": "62539559-d68d-442c-9f6c-aa42e916986e"
      },
      "execution_count": null,
      "outputs": [
        {
          "output_type": "execute_result",
          "data": {
            "text/plain": [
              "[lab10.hasGender,\n",
              " lab10.hasPart,\n",
              " lab10.teaches,\n",
              " lab10.studentOf,\n",
              " lab10.owns,\n",
              " lab10.hasSister,\n",
              " lab10.hasSibling,\n",
              " lab10.hasDocument,\n",
              " lab10.marriedTo]"
            ]
          },
          "metadata": {},
          "execution_count": 7
        }
      ]
    },
    {
      "cell_type": "markdown",
      "source": [
        "**2d. Creating individuals**\n",
        "\n",
        "*   Create single individual (\"john\");\n",
        "*   Create multiple individuals at once (each separatedby a space) (\"sara ford_mondeo_16 mary\");\n",
        "* List the individuals in the ontology;\n",
        "* Refer to the function https://owlready2.readthedocs.io/en/latest/class.html#creating-individuals "
      ],
      "metadata": {
        "id": "dwSi0awtgXQ6"
      }
    },
    {
      "cell_type": "code",
      "source": [
        "with onto:\n",
        "    owl.NamedIndividual(name=\"john\")\n",
        "    for indv in [\"sara\", \"ford_mondeo_16\", \"mary\"]:\n",
        "        owl.NamedIndividual(name=indv)"
      ],
      "metadata": {
        "id": "br7vMmBmBbee"
      },
      "execution_count": null,
      "outputs": []
    },
    {
      "cell_type": "code",
      "source": [
        "list(onto.individuals())"
      ],
      "metadata": {
        "id": "siKdyb2nFCUT",
        "colab": {
          "base_uri": "https://localhost:8080/"
        },
        "outputId": "30debeb8-4e60-4beb-a7a5-fa264e0f5789"
      },
      "execution_count": null,
      "outputs": [
        {
          "output_type": "execute_result",
          "data": {
            "text/plain": [
              "[lab10.john, lab10.sara, lab10.ford_mondeo_16, lab10.mary]"
            ]
          },
          "metadata": {},
          "execution_count": 9
        }
      ]
    },
    {
      "cell_type": "markdown",
      "source": [
        "**2e. Creating TBox axioms**\n",
        "\n",
        "*   Create subclass axioms, refer to the function https://owlready2.readthedocs.io/en/latest/class.html?highlight=is_a#mutli-class-individuals \n",
        "   * (\"Woman subClassOf Person and (hasGender some Female)\"); \n",
        "   * (\"Man subClassOf Person and (hasGender some Male)\");\n",
        "   * (\"Car subClassOf hasPart exactly 4 Tyre\");\n",
        "   * (\"USCitizen subClassOf hasDocument max 2 Passport\");\n",
        "   * (\"Arthropod subClassOf hasPart min 6 Leg\");\n",
        "\n",
        "*   Create OWL equivalent classes axiom and add it to the currently selected ontology (\"Man equivalentTo Person and Adult and (hasGender some Male)\"); (\"Woman equivalentTo Person and Adult and (hasGender some Female)\"); refer to the function \"equivalent_to\" of the example https://owlready2.readthedocs.io/en/latest/reasoning.html?highlight=equivalent_to#setting-up-everything \n",
        "\n",
        "*   Create OWL disjoint classes axiom and add it to the currently selected ontology (\"Man disjointWith Woman\"); (\"Female disjointWith Male\"); refer to the function https://owlready2.readthedocs.io/en/latest/disjoint.html?highlight=AllDisjoint#disjoint-classes\n",
        "\n",
        "*   Create axioms using nominals (\"JohnsBookClubMembers equivalentTo {john,mary,sara}\");\n",
        "\n",
        "*   Create domain & range axioms, use the function https://owlready2.readthedocs.io/en/latest/properties.html?highlight=domain%20%26%20range#getting-domain-and-range\n",
        "  * (\"hasGender Domain: Person\");\n",
        "  * (\"hasGender Range: Male or Female\");\n"
      ],
      "metadata": {
        "id": "iRAxQ3pHgoXt"
      }
    },
    {
      "cell_type": "code",
      "source": [
        "with onto: \n",
        "   # Create subclass axioms\n",
        "   class Woman(owl.Thing):\n",
        "      is_a = [onto.Person & onto.hasGender.some(onto.Female)]\n",
        "   class Man(owl.Thing):\n",
        "      is_a = [onto.Person & onto.hasGender.some(onto.Male)]\n",
        "   class Car(owl.Thing):\n",
        "      is_a = [onto.hasPart.exactly(4, onto.Tyre)]\n",
        "   class USCitizen(owl.Thing):\n",
        "      is_a = [onto.hasDocument.max(2, onto.Passport)]\n",
        "   class Arthropod(owl.Thing):\n",
        "      is_a = [onto.hasPart.min(6, onto.Leg)]\n",
        "   # Create OWL equivalent classes axioms\n",
        "   class Man(owl.Thing):\n",
        "      equivalent_to = [onto.Person & onto.Adult & onto.hasGender.some(onto.Male)]\n",
        "   class Woman(owl.Thing):\n",
        "      equivalent_to = [onto.Person & onto.Adult & onto.hasGender.some(onto.Female)]\n",
        "   # create OWL disjoint classes axioms\n",
        "   owl.AllDisjoint([onto.Man, onto.Woman])\n",
        "   owl.AllDisjoint([onto.Male, onto.Female])\n",
        "   \n",
        "\n",
        "   class JohnsBookClubMembers(owl.Thing):\n",
        "      equivalent_to=[onto.john, onto.sara, onto.mary]\n",
        "\n",
        "   # create domain & range axioms\n",
        "\n",
        "   class hasGender(owl.ObjectProperty):\n",
        "      domain = [onto.Person]\n",
        "      range = [onto.Male | onto.Female]\n",
        "   "
      ],
      "metadata": {
        "id": "Nqbusbcfy0LI"
      },
      "execution_count": null,
      "outputs": []
    },
    {
      "cell_type": "markdown",
      "source": [
        "**2f. Creating ABox axioms**\n",
        "\n",
        "\n",
        "*   Create class assertion, refer to the example, learn how to add the restrictions in class definition https://owlready2.readthedocs.io/en/latest/restriction.html?highlight=assertion\n",
        "  * (\"john Type: Adult\");\n",
        "  * (\"mary Type: Adult\");\n",
        "\n",
        "*   **NB: create property assertion**\n",
        "Refer to the example, learn how to add the restrictions on a property https://owlready2.readthedocs.io/en/latest/restriction.html?highlight=append \n",
        " * (\"john hasGender Male\");\n",
        " * (\"mary hasGender Female\");\n",
        " * (\"john marriedTo mary\");\n",
        "\n",
        "*   Create different individuals axiom (specify each individual name) (\"john mary sara\"); use the function https://owlready2.readthedocs.io/en/latest/disjoint.html?highlight=AllDifferent#different-individuals \n",
        "\n",
        "*    Make **all** individual names in the ontology refer to distinct objects from the domain \n",
        "* List the ontology."
      ],
      "metadata": {
        "id": "kY1W6Geqg6HZ"
      }
    },
    {
      "cell_type": "code",
      "source": [
        "onto.john.is_a.append(onto.Adult)\n",
        "onto.mary.is_a.append(onto.Adult)"
      ],
      "metadata": {
        "id": "cqzx2-zag84l"
      },
      "execution_count": null,
      "outputs": []
    },
    {
      "cell_type": "code",
      "source": [
        "onto.john.hasGender.append(onto.Male)\n",
        "onto.mary.hasGender.append(onto.Female)"
      ],
      "metadata": {
        "id": "-C7FPxTxhFmK"
      },
      "execution_count": null,
      "outputs": []
    },
    {
      "cell_type": "code",
      "source": [
        "onto.john.marriedTo.append(onto.mary)"
      ],
      "metadata": {
        "id": "IOVb4kdshGnu"
      },
      "execution_count": null,
      "outputs": []
    },
    {
      "cell_type": "code",
      "source": [
        "owl.AllDifferent([onto.john, onto.mary, onto.sara])"
      ],
      "metadata": {
        "id": "vmeD_vj-hJaq",
        "colab": {
          "base_uri": "https://localhost:8080/"
        },
        "outputId": "e4b2ac6b-84ef-460f-cdc8-4e3f1525df19"
      },
      "execution_count": null,
      "outputs": [
        {
          "output_type": "execute_result",
          "data": {
            "text/plain": [
              "AllDisjoint([lab10.john, lab10.mary, lab10.sara])"
            ]
          },
          "metadata": {},
          "execution_count": 14
        }
      ]
    },
    {
      "cell_type": "code",
      "source": [
        "list(onto.different_individuals())"
      ],
      "metadata": {
        "id": "Pb_L5FSymPCW",
        "colab": {
          "base_uri": "https://localhost:8080/"
        },
        "outputId": "52169e5c-67c2-4ae1-d204-6ecf21c15b24"
      },
      "execution_count": null,
      "outputs": [
        {
          "output_type": "execute_result",
          "data": {
            "text/plain": [
              "[AllDisjoint([lab10.john, lab10.mary, lab10.sara])]"
            ]
          },
          "metadata": {},
          "execution_count": 15
        }
      ]
    },
    {
      "cell_type": "markdown",
      "source": [
        "**2g. Creating RBox axioms**\n",
        "\n",
        "**Note the \":\" after SubPropertyOf and InverseOf** (\"hasSister SubPropertyOf: hasSibling\"); use the function https://owlready2.readthedocs.io/en/latest/restriction.html?highlight=property%20composition#property-chain \n",
        "\n",
        "\n",
        "*   role / property composition axiom (\"owns hasPart SubPropertyOf: owns\");\n",
        "\n",
        "\n",
        "*   inverse property axiom (\"teaches InverseOf: studentOf\")."
      ],
      "metadata": {
        "id": "70QLj_UPmTQz"
      }
    },
    {
      "cell_type": "code",
      "source": [
        "with onto:\n",
        "    class hasSister(onto.hasSibling):\n",
        "        pass\n",
        "    class owns(onto.hasPart):\n",
        "        pass\n",
        "    owns.property_chain = owl.PropertyChain([onto.owns, onto.hasPart])\n",
        "\n",
        "    onto.teaches.inverse_property = onto.studentOf"
      ],
      "metadata": {
        "id": "Z4AVr5NMmtEi"
      },
      "execution_count": null,
      "outputs": []
    },
    {
      "cell_type": "markdown",
      "source": [
        "**2h. Saving an ontology to file; loading an ontology from a remote IRI; and removing entities from an ontology**\n",
        "\n",
        "* Save active ontology to local file using Manchester OWL syntax\n",
        "saveOntology(\"testontology.owl\"); use the function https://owlready2.readthedocs.io/en/latest/onto.html?highlight=save#saving-an-ontology-to-an-owl-file \n",
        "\n",
        "* Remove entities using the function https://owlready2.readthedocs.io/en/latest/class.html?highlight=removing%20entities#destroying-entities "
      ],
      "metadata": {
        "id": "YF8sMs1lmyuf"
      }
    },
    {
      "cell_type": "code",
      "source": [
        "onto.save('aaa.owl')"
      ],
      "metadata": {
        "id": "enQ9szlDm8ma"
      },
      "execution_count": null,
      "outputs": []
    },
    {
      "cell_type": "code",
      "source": [
        "onto.john.get_properties()"
      ],
      "metadata": {
        "id": "7gyDABhwnZMJ",
        "colab": {
          "base_uri": "https://localhost:8080/"
        },
        "outputId": "91d5899c-5824-45fc-bed0-7a522bb56bb8"
      },
      "execution_count": null,
      "outputs": [
        {
          "output_type": "execute_result",
          "data": {
            "text/plain": [
              "{lab10.marriedTo, lab10.hasGender}"
            ]
          },
          "metadata": {},
          "execution_count": 18
        }
      ]
    },
    {
      "cell_type": "markdown",
      "source": [
        "**2i. Visualise your ontology using WebVowl**\n",
        "\n",
        "You can upload your OWL file (less than 5MB) to the WebVowel online ontology visualiser to explore your ontology graphically. Just in case the link above does not work for WebVowel, you can try [this one](https://service.tib.eu/webvowl/) as well. Protégé itself also has ontology visualisation plugins e.g. OntoGraf developed by its users and community. You can find OntoGraf under Window>Tabs>OntoGraf in Protégé. However, WebVowel has a more visually appealing interface. There are other ontology visualisers available as well, for example, OWLGrEd. Feel free to try these tools out, they are quite helpful to get an overview of the kind of knowledge present in an ontology."
      ],
      "metadata": {
        "id": "KtKpqB-qnaM0"
      }
    },
    {
      "cell_type": "markdown",
      "source": [
        "**3. Reasoning with your ontology using OWL2 reasoners**"
      ],
      "metadata": {
        "id": "1IpCvCcwn6eG"
      }
    },
    {
      "cell_type": "markdown",
      "source": [
        "**3a. Compute the subclasses or superclasses of a given class**\n",
        "\n",
        "* Get super classes of a given class expression / atomic class (\"hasGender some Male\");\n",
        "* Get subclasses of a given class expression / atomic class (\"hasGender some Male\");\n",
        "* Run the reasoner https://owlready2.readthedocs.io/en/latest/reasoning.html#running-the-reasoner "
      ],
      "metadata": {
        "id": "qiveDfXFoZ_R"
      }
    },
    {
      "cell_type": "code",
      "source": [
        "with onto:\n",
        "  owl.sync_reasoner()\n",
        "  # Then get the superclass of Person that hasGender Male: it should be returning the \"Man\" class (which is inferred)\n",
        "  # sync_reasoner(infer_property_values = True)\n",
        "  # onto.owlReasoner.getSuperClasses(\"hasGender some Male\")"
      ],
      "metadata": {
        "colab": {
          "base_uri": "https://localhost:8080/",
          "height": 678
        },
        "id": "9pRHllggLSja",
        "outputId": "6280b944-79d3-4492-f62c-07a74e938bf5"
      },
      "execution_count": null,
      "outputs": [
        {
          "output_type": "stream",
          "name": "stderr",
          "text": [
            "* Owlready2 * Running HermiT...\n",
            "    java -Xmx2000M -cp /usr/local/lib/python3.7/dist-packages/owlready2/hermit:/usr/local/lib/python3.7/dist-packages/owlready2/hermit/HermiT.jar org.semanticweb.HermiT.cli.CommandLine -c -O -D -I file:////tmp/tmpq0o7an9j\n"
          ]
        },
        {
          "output_type": "error",
          "ename": "OwlReadyJavaError",
          "evalue": "ignored",
          "traceback": [
            "\u001b[0;31m---------------------------------------------------------------------------\u001b[0m",
            "\u001b[0;31mCalledProcessError\u001b[0m                        Traceback (most recent call last)",
            "\u001b[0;32m/usr/local/lib/python3.7/dist-packages/owlready2/reasoning.py\u001b[0m in \u001b[0;36msync_reasoner_hermit\u001b[0;34m(x, infer_property_values, debug, keep_tmp_file)\u001b[0m\n\u001b[1;32m    147\u001b[0m     \u001b[0;32mtry\u001b[0m\u001b[0;34m:\u001b[0m\u001b[0;34m\u001b[0m\u001b[0;34m\u001b[0m\u001b[0m\n\u001b[0;32m--> 148\u001b[0;31m       \u001b[0moutput\u001b[0m \u001b[0;34m=\u001b[0m \u001b[0msubprocess\u001b[0m\u001b[0;34m.\u001b[0m\u001b[0mcheck_output\u001b[0m\u001b[0;34m(\u001b[0m\u001b[0mcommand\u001b[0m\u001b[0;34m,\u001b[0m \u001b[0mstderr\u001b[0m \u001b[0;34m=\u001b[0m \u001b[0msubprocess\u001b[0m\u001b[0;34m.\u001b[0m\u001b[0mSTDOUT\u001b[0m\u001b[0;34m,\u001b[0m \u001b[0;34m**\u001b[0m\u001b[0m_subprocess_kargs\u001b[0m\u001b[0;34m)\u001b[0m\u001b[0;34m\u001b[0m\u001b[0;34m\u001b[0m\u001b[0m\n\u001b[0m\u001b[1;32m    149\u001b[0m     \u001b[0;32mexcept\u001b[0m \u001b[0msubprocess\u001b[0m\u001b[0;34m.\u001b[0m\u001b[0mCalledProcessError\u001b[0m \u001b[0;32mas\u001b[0m \u001b[0me\u001b[0m\u001b[0;34m:\u001b[0m\u001b[0;34m\u001b[0m\u001b[0;34m\u001b[0m\u001b[0m\n",
            "\u001b[0;32m/usr/lib/python3.7/subprocess.py\u001b[0m in \u001b[0;36mcheck_output\u001b[0;34m(timeout, *popenargs, **kwargs)\u001b[0m\n\u001b[1;32m    410\u001b[0m     return run(*popenargs, stdout=PIPE, timeout=timeout, check=True,\n\u001b[0;32m--> 411\u001b[0;31m                **kwargs).stdout\n\u001b[0m\u001b[1;32m    412\u001b[0m \u001b[0;34m\u001b[0m\u001b[0m\n",
            "\u001b[0;32m/usr/lib/python3.7/subprocess.py\u001b[0m in \u001b[0;36mrun\u001b[0;34m(input, capture_output, timeout, check, *popenargs, **kwargs)\u001b[0m\n\u001b[1;32m    511\u001b[0m             raise CalledProcessError(retcode, process.args,\n\u001b[0;32m--> 512\u001b[0;31m                                      output=stdout, stderr=stderr)\n\u001b[0m\u001b[1;32m    513\u001b[0m     \u001b[0;32mreturn\u001b[0m \u001b[0mCompletedProcess\u001b[0m\u001b[0;34m(\u001b[0m\u001b[0mprocess\u001b[0m\u001b[0;34m.\u001b[0m\u001b[0margs\u001b[0m\u001b[0;34m,\u001b[0m \u001b[0mretcode\u001b[0m\u001b[0;34m,\u001b[0m \u001b[0mstdout\u001b[0m\u001b[0;34m,\u001b[0m \u001b[0mstderr\u001b[0m\u001b[0;34m)\u001b[0m\u001b[0;34m\u001b[0m\u001b[0;34m\u001b[0m\u001b[0m\n",
            "\u001b[0;31mCalledProcessError\u001b[0m: Command '['java', '-Xmx2000M', '-cp', '/usr/local/lib/python3.7/dist-packages/owlready2/hermit:/usr/local/lib/python3.7/dist-packages/owlready2/hermit/HermiT.jar', 'org.semanticweb.HermiT.cli.CommandLine', '-c', '-O', '-D', '-I', 'file:////tmp/tmpq0o7an9j']' returned non-zero exit status 1.",
            "\nDuring handling of the above exception, another exception occurred:\n",
            "\u001b[0;31mOwlReadyJavaError\u001b[0m                         Traceback (most recent call last)",
            "\u001b[0;32m<ipython-input-19-5217ad3ad5b1>\u001b[0m in \u001b[0;36m<module>\u001b[0;34m\u001b[0m\n\u001b[1;32m      1\u001b[0m \u001b[0;32mwith\u001b[0m \u001b[0monto\u001b[0m\u001b[0;34m:\u001b[0m\u001b[0;34m\u001b[0m\u001b[0;34m\u001b[0m\u001b[0m\n\u001b[0;32m----> 2\u001b[0;31m   \u001b[0mowl\u001b[0m\u001b[0;34m.\u001b[0m\u001b[0msync_reasoner\u001b[0m\u001b[0;34m(\u001b[0m\u001b[0;34m)\u001b[0m\u001b[0;34m\u001b[0m\u001b[0;34m\u001b[0m\u001b[0m\n\u001b[0m\u001b[1;32m      3\u001b[0m   \u001b[0;31m# Then get the superclass of Person that hasGender Male: it should be returning the \"Man\" class (which is inferred)\u001b[0m\u001b[0;34m\u001b[0m\u001b[0;34m\u001b[0m\u001b[0;34m\u001b[0m\u001b[0m\n\u001b[1;32m      4\u001b[0m   \u001b[0;31m# sync_reasoner(infer_property_values = True)\u001b[0m\u001b[0;34m\u001b[0m\u001b[0;34m\u001b[0m\u001b[0;34m\u001b[0m\u001b[0m\n\u001b[1;32m      5\u001b[0m   \u001b[0;31m# onto.owlReasoner.getSuperClasses(\"hasGender some Male\")\u001b[0m\u001b[0;34m\u001b[0m\u001b[0;34m\u001b[0m\u001b[0;34m\u001b[0m\u001b[0m\n",
            "\u001b[0;32m/usr/local/lib/python3.7/dist-packages/owlready2/reasoning.py\u001b[0m in \u001b[0;36msync_reasoner_hermit\u001b[0;34m(x, infer_property_values, debug, keep_tmp_file)\u001b[0m\n\u001b[1;32m    151\u001b[0m         \u001b[0;32mraise\u001b[0m \u001b[0mOwlReadyInconsistentOntologyError\u001b[0m\u001b[0;34m(\u001b[0m\u001b[0;34m)\u001b[0m\u001b[0;34m\u001b[0m\u001b[0;34m\u001b[0m\u001b[0m\n\u001b[1;32m    152\u001b[0m       \u001b[0;32melse\u001b[0m\u001b[0;34m:\u001b[0m\u001b[0;34m\u001b[0m\u001b[0;34m\u001b[0m\u001b[0m\n\u001b[0;32m--> 153\u001b[0;31m         \u001b[0;32mraise\u001b[0m \u001b[0mOwlReadyJavaError\u001b[0m\u001b[0;34m(\u001b[0m\u001b[0;34m\"Java error message is:\\n%s\"\u001b[0m \u001b[0;34m%\u001b[0m \u001b[0m_decode\u001b[0m\u001b[0;34m(\u001b[0m\u001b[0me\u001b[0m\u001b[0;34m.\u001b[0m\u001b[0mstderr\u001b[0m \u001b[0;32mor\u001b[0m \u001b[0me\u001b[0m\u001b[0;34m.\u001b[0m\u001b[0moutput\u001b[0m \u001b[0;32mor\u001b[0m \u001b[0;34mb\"\"\u001b[0m\u001b[0;34m)\u001b[0m\u001b[0;34m)\u001b[0m\u001b[0;34m\u001b[0m\u001b[0;34m\u001b[0m\u001b[0m\n\u001b[0m\u001b[1;32m    154\u001b[0m \u001b[0;34m\u001b[0m\u001b[0m\n\u001b[1;32m    155\u001b[0m     \u001b[0moutput\u001b[0m \u001b[0;34m=\u001b[0m \u001b[0m_decode\u001b[0m\u001b[0;34m(\u001b[0m\u001b[0moutput\u001b[0m\u001b[0;34m)\u001b[0m\u001b[0;34m.\u001b[0m\u001b[0mreplace\u001b[0m\u001b[0;34m(\u001b[0m\u001b[0;34m\"\\r\"\u001b[0m\u001b[0;34m,\u001b[0m\u001b[0;34m\"\"\u001b[0m\u001b[0;34m)\u001b[0m\u001b[0;34m\u001b[0m\u001b[0;34m\u001b[0m\u001b[0m\n",
            "\u001b[0;31mOwlReadyJavaError\u001b[0m: Java error message is:\nException in thread \"main\" java.lang.IllegalArgumentException: The given property hierarchy is not regular.\nThere is a cyclic dependency involving property <http://maastrichtuniversity.nl/semweb/2022/lab10#hasPart>\n\tat org.semanticweb.HermiT.structural.ObjectPropertyInclusionManager.checkForRegularity(Unknown Source)\n\tat org.semanticweb.HermiT.structural.ObjectPropertyInclusionManager.createAutomata(Unknown Source)\n\tat org.semanticweb.HermiT.structural.ObjectPropertyInclusionManager.<init>(Unknown Source)\n\tat org.semanticweb.HermiT.structural.OWLClausification.preprocessAndClausify(Unknown Source)\n\tat org.semanticweb.HermiT.Reasoner.loadOntology(Reasoner.java:117)\n\tat org.semanticweb.HermiT.Reasoner.<init>(Reasoner.java:108)\n\tat org.semanticweb.HermiT.Reasoner.<init>(Reasoner.java:86)\n\tat org.semanticweb.HermiT.cli.CommandLine.main(CommandLine.java:830)\n"
          ]
        }
      ]
    },
    {
      "cell_type": "markdown",
      "source": [
        "**3b. Is the ontology consistent?** \n",
        "\n",
        "Use the function https://owlready2.readthedocs.io/en/latest/reasoning.html?highlight=consistent%20ontology#inconsistent-classes-and-ontologies \n",
        "* creat classes (\"Bird Penguin FlyingOrganism\");\n",
        "* create Axiom (\"Bird subClassOf FlyingOrganism\");\n",
        "* create Axiom (\"Penguin subClassOf Bird\");\n",
        "* create Axiom (\"Penguin subClassOf not FlyingOrganism\");\n",
        "* create Individual (\"tweety\");\n",
        "* create Axiom (\"tweety Type: Penguin\");\n"
      ],
      "metadata": {
        "id": "1-DqENxLolEJ"
      }
    },
    {
      "cell_type": "code",
      "source": [
        "with onto:\n",
        "  for cls_name in [\"Bird\", \"Penguin\", \"FlyingOrganism\"]:\n",
        "      owl.types.new_class(cls_name, (owl.Thing,))"
      ],
      "metadata": {
        "id": "T8JvAFwJoE3K"
      },
      "execution_count": null,
      "outputs": []
    },
    {
      "cell_type": "code",
      "source": [
        "with onto:\n",
        "    class Bird(owl.Thing):\n",
        "        is_a = [onto.FlyingOrganism]\n",
        "    # Penguin is a bird and can't fly.\n",
        "    # But above, we said Birds can fly\n",
        "    class Penguin(owl.Thing):\n",
        "        is_a =[owl.Not(onto.FlyingOrganism), onto.Bird]\n",
        "    \n",
        "\n",
        "    tweety = owl.NamedIndividual(\"tweety\")\n",
        "    tweety.is_a.append(onto.Penguin)"
      ],
      "metadata": {
        "id": "lYVuYGV9pHb6"
      },
      "execution_count": null,
      "outputs": []
    },
    {
      "cell_type": "code",
      "source": [
        "# Reasoner throws an exception because of the inconsistincy mentioned above!\n",
        "with onto:\n",
        "  try:\n",
        "    owl.sync_reasoner()\n",
        "  except Exception as e:\n",
        "    print(e)"
      ],
      "metadata": {
        "id": "wHPzMuzIpL3P"
      },
      "execution_count": null,
      "outputs": []
    },
    {
      "cell_type": "code",
      "source": [
        "# We remove Penguin type from tweety\n",
        "tweety.is_a.remove(onto.Penguin)"
      ],
      "metadata": {
        "id": "U-KbSvIOpPY7"
      },
      "execution_count": null,
      "outputs": []
    },
    {
      "cell_type": "code",
      "source": [
        "# Now resoner will work without problem because non of the indivudals use inconsistent axioms/types\n",
        "with onto:\n",
        "    owl.sync_reasoner()"
      ],
      "metadata": {
        "id": "1MIz4zGopSNn"
      },
      "execution_count": null,
      "outputs": []
    },
    {
      "cell_type": "code",
      "source": [
        "# We can see inconsistent classes using code below\n",
        "with onto:\n",
        "    print(list(owl.default_world.inconsistent_classes()))"
      ],
      "metadata": {
        "id": "TeqBKFI4pXpj"
      },
      "execution_count": null,
      "outputs": []
    },
    {
      "cell_type": "code",
      "source": [
        "# We can destroy entities using \"owl.destroy_entity\"\n",
        "# !!! \"owl.destroy()\" destroys all of the entities !!!\n",
        "with onto:\n",
        "    owl.destroy_entity(onto.Penguin)"
      ],
      "metadata": {
        "id": "vPVDda2eplOc"
      },
      "execution_count": null,
      "outputs": []
    },
    {
      "cell_type": "code",
      "source": [
        "with onto:\n",
        "    print(list(owl.default_world.inconsistent_classes()))"
      ],
      "metadata": {
        "id": "BlCuMinipoJh"
      },
      "execution_count": null,
      "outputs": []
    }
  ]
}