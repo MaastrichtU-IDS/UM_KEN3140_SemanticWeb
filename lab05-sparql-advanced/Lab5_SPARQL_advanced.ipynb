{
 "cells": [
  {
   "cell_type": "markdown",
   "metadata": {
    "slideshow": {
     "slide_type": "slide"
    }
   },
   "source": [
    "# KEN3140: Lab 5"
   ]
  },
  {
   "cell_type": "markdown",
   "metadata": {},
   "source": [
    "### Writing and executing advanced SPARQL queries on RDF graphs\n",
    "\n",
    "##### Authors:\n",
    "+ [Vincent Emonet](https://www.maastrichtuniversity.nl/vincent.emonet): [vincent.emonet@maastrichtuniversity.nl](mailto:vincent.emonet@maastrichtuniversity.nl)\n",
    "+ [Kody Moodley](https://www.maastrichtuniversity.nl/kody.moodley): [kody.moodley@maastrichtuniversity.nl](mailto:kody.moodley@maastrichtuniversity.nl)\n",
    "\n",
    "##### Affiliation: \n",
    "[Institute of Data Science](https://www.maastrichtuniversity.nl/research/institute-data-science)\n",
    "\n",
    "##### License:\n",
    "[CC-BY 2.0](https://creativecommons.org/licenses/by/2.0/legalcode)\n",
    "\n",
    "##### Date:\n",
    "2021-03-03"
   ]
  },
  {
   "cell_type": "markdown",
   "metadata": {},
   "source": [
    "#### In this lab you will learn:\n",
    "\n",
    "How to compose more advanced [SPARQL](https://www.w3.org/TR/2013/REC-sparql11-query-20130321/) queries to answer questions about the content of an RDF knowledge graph\n",
    "\n",
    "#### Specific learning goals:\n",
    "\n",
    "+ How to select the appropriate SPARQL query form to answer a given question about a knowledge graph\n",
    "+ How to select the appropriate SPARQL functions required to perform any calculations in a SPARQL query\n",
    "+ How to refer to entities located in external SPARQL endpoints from a SPARQL query (querying multiple distributed endpoints)"
   ]
  },
  {
   "cell_type": "markdown",
   "metadata": {},
   "source": [
    "#### Prerequisite knowledge: \n",
    "+ [Lecture 6: Introduction to SPARQL](https://canvas.maastrichtuniversity.nl/courses/4700/files/559320?module_item_id=115828)\n",
    "+ [Lab 6: Introduction to SPARQL](https://maastrichtu-ids.github.io/UM_KEN4256_KnowledgeGraphs/Lab6_SPARQL_solutions.html)\n",
    "+ [Lecture 7: Advanced SPARQL](https://canvas.maastrichtuniversity.nl/courses/4700/files/568630?module_item_id=116983)\n",
    "+ [SPARQL 1.1 language specification](https://www.w3.org/TR/sparql11-query/)\n",
    "+ Chapters 1 - 3 of [Learning SPARQL](https://maastrichtuniversity.on.worldcat.org/external-search?queryString=SPARQL#/oclc/853679890)\n",
    "+ Chapters 4 - 9, 11 of [Learning SPARQL](https://maastrichtuniversity.on.worldcat.org/external-search?queryString=SPARQL#/oclc/853679890)"
   ]
  },
  {
   "cell_type": "markdown",
   "metadata": {
    "slideshow": {
     "slide_type": "slide"
    }
   },
   "source": [
    "#### Task information:\n",
    "\n",
    "+ In this lab, we will ask you to query the [DBpedia](https://dbpedia.org/) knowledge graph!\n",
    "+ [DBpedia](https://dbpedia.org/) is a crowd-sourced community effort to extract structured content in RDF from the information created in various [Wikimedia](https://www.wikimedia.org/) projects (e.g. [Wikipedia](https://www.wikipedia.org/)). DBpedia is similar in information content to [Wikidata](https://www.wikidata.org/wiki/Wikidata:Main_Page). \n",
    "+ **A word on data quality:** remember that DBpedia is crowd-sourced. This means that volunteers and members of the general public are permitted to add and maintain it's content. As a result, you may encounter inaccuracies / omissions in the content and inconsistencies in how the information is represented. Don't be alarmed by this, it is not critical that the content is accurate for the learning objectives of this lab.\n"
   ]
  },
  {
   "cell_type": "markdown",
   "metadata": {},
   "source": [
    "#### Task information (contd):\n",
    "\n",
    "+ The DBpedia SPARQL endpoint URL is: [https://dbpedia.org/sparql](https://dbpedia.org/sparql)\n",
    "+ DBPedia has it's own SPARQL query interface at [https://dbpedia.org/sparql](https://dbpedia.org/sparql) which is built on OpenLink's [Virtuoso](https://virtuoso.openlinksw.com/) [RDF](https://www.w3.org/TR/rdf11-concepts/) triplestore management system.\n",
    "+ In this lab, we will use an alternative SPARQL query interface to query DBPedia. It is called **[YASGUI](https://yasgui.triply.cc)**. The reason is that YASGUI has additional user-friendly features e.g. management of multiple SPARQL queries in separate tabs. It also allows one to query any publicly available SPARQL endpoint from the same interface."
   ]
  },
  {
   "cell_type": "markdown",
   "metadata": {
    "slideshow": {
     "slide_type": "slide"
    }
   },
   "source": [
    "#### Tips 🔎\n",
    "\n",
    "+ How do I find vocabulary to use in my SPARQL query from DBpedia?\n",
    "\n",
    "> Search on google, e.g., if you want to know the term for \"capital city\" in DBpedia, search for: \"**[dbpedia capital](https://www.google.com/search?&q=dbpedia+capital)**\" In general, \"dbpedia [approximate name of predicate or class you are looking for]\" \n",
    "\n",
    "> Your search query does not have to exactly match the spelling of the DBpedia resource name you are looking for\n",
    "\n",
    "> Alternatively, you can formulate SPARQL queries to list properties and types in DBpedia Do you know what these queries might look like?\n",
    "\n",
    "+ Use [prefix.cc](http://prefix.cc/) to discover the full IRIs for unknown prefixes you may encounter\n",
    "+ First read the question carefully and determine what **query form** the question requires\n",
    "+ Do not try to formulate the full SPARQL query for each task from the get go. Rather build and test smaller queries first and add to it incrementally, testing each time to see if the results are expected\n",
    "+ Make use of the Lecture 6 & 7 slides and SPARQL specification page if you need to find additional functions and query features that may assist you in doing the tasks\n"
   ]
  },
  {
   "cell_type": "markdown",
   "metadata": {},
   "source": [
    "# YASGUI interface \n",
    "\n",
    "<img src=\"yasgui-interface.png\">"
   ]
  },
  {
   "cell_type": "markdown",
   "metadata": {
    "slideshow": {
     "slide_type": "subslide"
    }
   },
   "source": [
    "<!-- # Install the SPARQL kernel\n",
    "\n",
    "This notebook uses the SPARQL Kernel to define and **execute SPARQL queries in the notebook** codeblocks.\n",
    "To **install the SPARQL Kernel** in your JupyterLab installation:\n",
    "\n",
    "```shell\n",
    "pip install sparqlkernel --user\n",
    "jupyter sparqlkernel install --user\n",
    "```\n",
    "\n",
    "To start running SPARQL query in this notebook, we need to define the **SPARQL kernel parameters**:\n",
    "* 🔗 **URL of the SPARQL endpoint to query**\n",
    "* 🌐 Language of preferred labels\n",
    "* 📜 Log level -->"
   ]
  },
  {
   "cell_type": "code",
   "execution_count": 15,
   "metadata": {
    "slideshow": {
     "slide_type": "fragment"
    }
   },
   "outputs": [
    {
     "data": {
      "text/html": [
       "<div class=\"krn-spql\"><div class=\"magic\">Endpoint set to: http://dbpedia.org/sparql</div><div class=\"magic\">Logging set to DEBUG</div></div>"
      ],
      "text/plain": [
       "Endpoint set to: http://dbpedia.org/sparql\n",
       "Logging set to DEBUG\n"
      ]
     },
     "metadata": {},
     "output_type": "display_data"
    }
   ],
   "source": [
    "%endpoint http://dbpedia.org/sparql\n",
    "\n",
    "# This is optional, it would increase the log level\n",
    "%log debug\n",
    "\n",
    "# Uncomment the next line to return label in english and avoid duplicates\n",
    "# %lang en"
   ]
  },
  {
   "cell_type": "markdown",
   "metadata": {
    "slideshow": {
     "slide_type": "slide"
    }
   },
   "source": [
    "# Anatomy of a SPARQL query\n",
    "\n",
    "As we saw in Lecture 6, these are the main components of a SPARQL query:\n",
    "\n",
    "<img src=\"sparql_query_breakdown.png\">"
   ]
  },
  {
   "cell_type": "markdown",
   "metadata": {
    "slideshow": {
     "slide_type": "slide"
    }
   },
   "source": [
    "# Task 1 [20min]: "
   ]
  },
  {
   "cell_type": "markdown",
   "metadata": {},
   "source": [
    "a) Calculate and display the average [Gross Domestic Product (GDP)](https://en.wikipedia.org/wiki/Gross_domestic_product) of each country in DBpedia and aggregate the results by the currency that each country uses. Display the GDP averages from highest at the top of the list, to lowest at the bottom of the list **[solution](https://api.triplydb.com/s/hEyJ2_GKi)**"
   ]
  },
  {
   "cell_type": "markdown",
   "metadata": {
    "slideshow": {
     "slide_type": "slide"
    }
   },
   "source": [
    "b) Calculate and display the average GDP of each continent. Display the GDP averages from highest at the top of the list, to lowest at the bottom of the list. **[solution](https://api.triplydb.com/s/hR5_gXamL)**"
   ]
  },
  {
   "cell_type": "markdown",
   "metadata": {},
   "source": [
    "**Note:** on 3/3/2021 there seems to be no results for the query in Task 1b). This is likely due to data quality issues with DBpedia such as improper use of properties and types for instances in DBpedia."
   ]
  },
  {
   "cell_type": "markdown",
   "metadata": {
    "slideshow": {
     "slide_type": "slide"
    }
   },
   "source": [
    "# Task 2 [20min]: "
   ]
  },
  {
   "cell_type": "markdown",
   "metadata": {
    "slideshow": {
     "slide_type": "slide"
    }
   },
   "source": [
    "a) List the first 10 countries to have been dissolved (ceased to exist) and display the resulting countries in order from the most recently created, to the least recently created. **Hint:** use the properties **[dbo:dissolutionDate](https://dbpedia.org/ontology/dissolutionDate)** and **[dbo:foundingYear](https://dbpedia.org/ontology/foundingYear)** in your answer. **[solution](https://api.triplydb.com/s/m1n1DP20M)**"
   ]
  },
  {
   "cell_type": "markdown",
   "metadata": {},
   "source": [
    "b) Display a set of triples indicating the country of origin of book authors in DBpedia. In the displayed triples:\n",
    "The type of book author instances should be indicated by **[schema:Person](https://schema.org/Person)** from **[Schema.org](http://schema.org)**\n",
    "The country of origin of book authors should be represented by **[schema:countryOfOrigin](https://schema.org/countryOfOrigin)**. **[solution](https://api.triplydb.com/s/vNkBe8aih)**"
   ]
  },
  {
   "cell_type": "markdown",
   "metadata": {},
   "source": [
    "**Note:** you can observe that in this CONSTRUCT query, we have basically created new triples using **new vocabulary** about the place of birth (country of origin) for book authors. This is sometimes called \"mapping\", \"transforming\" or \"capturing\" data in \"another model\". Here \"model\" refers to a new vocabulary. The old vocabulary used was DBpedia, and the new one is Schema.org.\n",
    "\n",
    "Suppose that I already had a knowledge graph using Schema.org vocabulary. If I wanted to integrate external information from another knowledge graph (e.g. DBpedia), this kind of transformation is helpful for importing those triples into the same \"model\" (vocabulary) of my knowledge graph. This allows me to query DBpedia information using my own vocabulary (Schema.org) without needing to use DBpedia terms in my queries.\n",
    "\n",
    "Of course, CONSTRUCT will not insert the triples to my graph. If I wanted to do that, I would need INSERT, and I would also need a federated query to access the SPARQL endpoint of my own knowledge graph from the DBpedia knowledge graph.\n",
    "\n",
    "The utility of CONSTRUCT here is to show us what these triples will look like and I can verify the correctness of these triples before I import them, if that is what I wanted to do."
   ]
  },
  {
   "cell_type": "markdown",
   "metadata": {},
   "source": [
    "# Task 3 [20min]: \n",
    "\n",
    "**Background:** This task will ask you to create a federated SPARQL query to query information from two SPARQL distributed endpoints. In preparation for this task, change the SPARQL endpoint in YASGUI to: https://bio2rdf.org/sparql/. "
   ]
  },
  {
   "cell_type": "code",
   "execution_count": 20,
   "metadata": {},
   "outputs": [
    {
     "data": {
      "text/html": [
       "<div class=\"krn-spql\"><div class=\"magic\">Endpoint set to: http://bio2rdf.org/sparql</div></div>"
      ],
      "text/plain": [
       "Endpoint set to: http://bio2rdf.org/sparql\n"
      ]
     },
     "metadata": {},
     "output_type": "display_data"
    }
   ],
   "source": [
    "%endpoint http://bio2rdf.org/sparql"
   ]
  },
  {
   "cell_type": "markdown",
   "metadata": {},
   "source": [
    "**Note:** you may experience technical difficulties with this task such as long query execution times, errors in the execution of the federated query, or no results. This could be due to security access privileges changed in the external endpoint, the sheer size of the knowledge graphs, or changes to the graph vocabulary / content.\n",
    "\n",
    "**Facing major problems with this task?** If you do experience any of the above issues and would still like to see some results after executing a federated query, you can execute the SPARQL query provided [here](https://github.com/MaastrichtU-IDS/UM_KEN4256_KnowledgeGraphs/blob/master/resources/federated-query-genes-pathways.rq) at the following SPARQL endpoint: [http://sparql.wikipathways.org/sparql](http://sparql.wikipathways.org/sparql)"
   ]
  },
  {
   "cell_type": "markdown",
   "metadata": {},
   "source": [
    "**Task instructions:**\n",
    "List drugs that interact with 10 proteins and the label of the Genes that encode them 🧬\n",
    "\n",
    "+ **Graph 1:** Get “gene encodes protein” information from the UniProt SPARQL endpoint (https://sparql.uniprot.org/)\n",
    "+ **Graph 2:** Get “drug interacts with protein” from the IDS GraphDB installation (http://graphdb.dumontierlab.com/repositories/ncats-red-kg)\n",
    "\n",
    "Browse the biomedical vocabulary/ontology used in these graphs here: https://biolink.github.io/biolink-model/docs/classes.html\n",
    "\n",
    "⚠️ Federated queries are much slower, use a subquery in the service call to avoid multiple calls between services\n",
    "\n",
    "[solution](https://api.triplydb.com/s/cNNZS6_vE)"
   ]
  },
  {
   "cell_type": "markdown",
   "metadata": {
    "slideshow": {
     "slide_type": "slide"
    }
   },
   "source": [
    "# Examples of other public SPARQL endpoints 🔗\n",
    "\n",
    "* Wikidata, facts powering Wikipedia infobox: https://query.wikidata.org/sparql\n",
    "* Bio2RDF, linked data for the life sciences: https://bio2rdf.org/sparql\n",
    "* Disgenet, gene-disease association: http://rdf.disgenet.org/sparql\n",
    "* PathwayCommons, resource for biological pathways analysis: http://rdf.pathwaycommons.org/sparql\n",
    "* EU publications office, court decisions and legislative documents from the EU: http://publications.europa.eu/webapi/rdf/sparql\n",
    "* Finland legal open data, cases and legislation: https://data.finlex.fi/en/sparql \n",
    "* EU Knowledge Graph, open knowledge graph containing general information about the European Union: [SPARQL endpoint](https://query.linkedopendata.eu/#SELECT%20DISTINCT%20%3Fo1%20WHERE%20%7B%0A%20%20%3Chttps%3A%2F%2Flinkedopendata.eu%2Fentity%2FQ1%3E%20%3Chttps%3A%2F%2Flinkedopendata.eu%2Fprop%2Fdirect%2FP62%3E%20%3Fo1%20.%20%0A%7D%20%0ALIMIT%201000)\n",
    "\n",
    "# SPARQL applied to the COVID pandemic: \n",
    "\n",
    "* Wikidata SPARQL queries around the SARS-CoV-2 virus and pandemic: https://egonw.github.io/SARS-CoV-2-Queries"
   ]
  }
 ],
 "metadata": {
  "kernelspec": {
   "display_name": "SPARQL",
   "language": "sparql",
   "name": "sparql"
  },
  "language_info": {
   "codemirror_mode": {
    "name": "sparql"
   },
   "mimetype": "application/sparql-query",
   "name": "sparql",
   "pygments_lexer": "sparql-nb"
  }
 },
 "nbformat": 4,
 "nbformat_minor": 4
}
