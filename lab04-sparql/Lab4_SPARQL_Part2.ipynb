{
 "cells": [
  {
   "cell_type": "markdown",
   "metadata": {},
   "source": [
    "# KEN3140: Lab 4 (Part 2)\n",
    "\n",
    "### Writing and executing basic SPARQL queries on a local RDF file\n",
    "\n",
    "##### Authors:\n",
    "+ [Vincent Emonet](https://www.maastrichtuniversity.nl/vincent.emonet): [vincent.emonet@maastrichtuniversity.nl](mailto:vincent.emonet@maastrichtuniversity.nl)\n",
    "+ [Kody Moodley](https://www.maastrichtuniversity.nl/kody.moodley): [kody.moodley@maastrichtuniversity.nl](mailto:kody.moodley@maastrichtuniversity.nl)\n",
    "\n",
    "##### Affiliation: \n",
    "[Institute of Data Science](https://www.maastrichtuniversity.nl/research/institute-data-science)\n",
    "\n",
    "##### License:\n",
    "[CC-BY 4.0](https://creativecommons.org/licenses/by/4.0)\n",
    "\n",
    "##### Date:\n",
    "2021-09-06\n",
    "\n",
    "In addition to running SPARQL queries on a remote SPARQL endpoint on the Web, you can also execute SPARQL queries on RDF documents that you store locally on a file.\n",
    "\n",
    "We will use the Java RDF library [Apache Jena](https://jena.apache.org/) to demonstrate this. Follow these instructions to install the library:\n",
    "\n",
    "1. Copy the `apache-jena-3.16.0` folder from Lab 3 to the same directory as this notebook\n",
    "2. Run the next cell (it will import all jars in the `apache-jena-3.16.0/lib` folder)"
   ]
  },
  {
   "cell_type": "code",
   "execution_count": 3,
   "metadata": {},
   "outputs": [],
   "source": [
    "%jars apache-jena-*/lib/*.jar"
   ]
  },
  {
   "cell_type": "code",
   "execution_count": 4,
   "metadata": {},
   "outputs": [],
   "source": [
    "import org.apache.jena.riot.RDFDataMgr;\n",
    "import org.apache.jena.rdf.model.*;\n",
    "import org.apache.jena.util.PrintUtil;\n",
    "import org.apache.jena.vocabulary.RDF;\n",
    "import org.apache.jena.query.Query;\n",
    "import org.apache.jena.query.QueryExecution;\n",
    "import org.apache.jena.query.QueryExecutionFactory;\n",
    "import org.apache.jena.query.QueryFactory;\n",
    "import org.apache.jena.query.QuerySolution;\n",
    "import org.apache.jena.query.ResultSetFormatter;\n",
    "import org.apache.jena.query.ResultSet;\n",
    "import java.io.File;\n",
    "import org.apache.commons.io.FileUtils;\n",
    "import java.nio.charset.StandardCharsets;"
   ]
  },
  {
   "cell_type": "markdown",
   "metadata": {},
   "source": [
    "### Setup: load the RDF file in an Apache Jena model\n",
    "\n",
    "Loads the RDF file, and creates a `runSparqlQuery()` function to run SPARQL queries in a single call from a string or a file."
   ]
  },
  {
   "cell_type": "code",
   "execution_count": 5,
   "metadata": {},
   "outputs": [],
   "source": [
    "Model model = RDFDataMgr.loadModel(\"family.ttl\");"
   ]
  },
  {
   "cell_type": "code",
   "execution_count": 6,
   "metadata": {},
   "outputs": [],
   "source": [
    "static void runSparqlQuery(String queryString, Model model) throws java.io.IOException {\n",
    "    if (queryString.endsWith(\".rq\")) {\n",
    "        queryString = FileUtils.readFileToString(new File(queryString), StandardCharsets.UTF_8);\n",
    "    }\n",
    "    System.out.println(queryString);\n",
    "    Query query = QueryFactory.create(queryString);\n",
    "    QueryExecution qexec = QueryExecutionFactory.create(query, model);\n",
    "    ResultSetFormatter.out(qexec.execSelect(), model);\n",
    "} "
   ]
  },
  {
   "cell_type": "markdown",
   "metadata": {},
   "source": [
    "### Write down a SPARQL query in a Java string\n",
    "\n",
    "Java does not support multiline strings, which is why we need to use \"+\" to compile strings in a readable way here below.\\\n",
    "We create a basic SPARQL select query to list all entities and their types in the graph (for those entities that actually specify one)."
   ]
  },
  {
   "cell_type": "code",
   "execution_count": 12,
   "metadata": {},
   "outputs": [],
   "source": [
    "String queryString = \"PREFIX schema: <https://schema.org/> \\n\" +\n",
    "    \"SELECT * WHERE{ \\n\" + \n",
    "    \"?entity a ?type .\\n\" +\n",
    "    \"}\";"
   ]
  },
  {
   "cell_type": "markdown",
   "metadata": {},
   "source": [
    "Now we execute this query on our model and display the results"
   ]
  },
  {
   "cell_type": "code",
   "execution_count": 13,
   "metadata": {},
   "outputs": [
    {
     "name": "stdout",
     "output_type": "stream",
     "text": [
      "PREFIX schema: <https://schema.org/> \n",
      "SELECT * WHERE{ \n",
      "?entity a ?type .\n",
      "}\n",
      "----------------------------------\n",
      "| entity         | type          |\n",
      "==================================\n",
      "| family:Miranda | schema:Person |\n",
      "| family:Pierre  | schema:Person |\n",
      "----------------------------------\n"
     ]
    }
   ],
   "source": [
    "runSparqlQuery(queryString, model)"
   ]
  },
  {
   "cell_type": "markdown",
   "metadata": {},
   "source": [
    "## Import a SPARQL query from a file\n",
    "\n",
    "You can also import a SPARQL query to execute from a file. This might be useful if you have a list of predefined SPARQL queries and you don't want to rewrite them each time. We have provided an example SPARQL query in a file **with the extension `.rq`**"
   ]
  },
  {
   "cell_type": "code",
   "execution_count": 24,
   "metadata": {},
   "outputs": [
    {
     "name": "stdout",
     "output_type": "stream",
     "text": [
      "PREFIX schema: <https://schema.org/>\n",
      "PREFIX family: <https://my-family.org/>\n",
      "SELECT * \n",
      "WHERE {\n",
      "#     ?entity a ?type .                 # Line 1\n",
      "    ?entity a schema:Person ;         # Line 2\n",
      "              schema:parent ?parent . # Line 3\n",
      "}\n",
      "-------------------\n",
      "| entity | parent |\n",
      "===================\n",
      "-------------------\n"
     ]
    }
   ],
   "source": [
    "runSparqlQuery(\"query.rq\", model)"
   ]
  },
  {
   "cell_type": "markdown",
   "metadata": {},
   "source": [
    "## Task 1: \n",
    "Comment out Line 1 ``query.rq`` and uncomment Lines 2-3. What inferences do you expect to receive for this query? After writing down what you think the results would be, execute the previous cell again to run the query again. Is this the result that you expected? The reason you get this unexpected answer is that Apache Jena \"Model\" class does not enable inference when running SPARQL queries."
   ]
  },
  {
   "cell_type": "markdown",
   "metadata": {},
   "source": [
    "### Task 2: \n",
    "By default, Apache Jena does not apply inference with SPARQL queries. In order to use inference, you need to explicitly indicate this by creating an instance of \"InfModel\" rather than the basic \"Model\"."
   ]
  },
  {
   "cell_type": "code",
   "execution_count": 25,
   "metadata": {},
   "outputs": [],
   "source": [
    "InfModel rdfsModel = ModelFactory.createRDFSModel(RDFDataMgr.loadModel(\"family.ttl\"));"
   ]
  },
  {
   "cell_type": "markdown",
   "metadata": {},
   "source": [
    "Now, repeat Task 1 by commenting out the Line 1 in ``query.rq`` and uncomment Lines 2-3. Then, run the next cell and observe the results."
   ]
  },
  {
   "cell_type": "code",
   "execution_count": 27,
   "metadata": {},
   "outputs": [
    {
     "name": "stdout",
     "output_type": "stream",
     "text": [
      "PREFIX schema: <https://schema.org/>\n",
      "PREFIX family: <https://my-family.org/>\n",
      "SELECT * \n",
      "WHERE {\n",
      "#     ?entity a ?type .                 # Line 1\n",
      "    ?entity a schema:Person ;         # Line 2\n",
      "              schema:parent ?parent . # Line 3\n",
      "}\n",
      "------------------------------------\n",
      "| entity         | parent          |\n",
      "====================================\n",
      "| family:Miranda | family:Mathilde |\n",
      "| family:Miranda | family:Pierre   |\n",
      "------------------------------------\n"
     ]
    }
   ],
   "source": [
    "runSparqlQuery(\"query.rq\", rdfsModel)"
   ]
  },
  {
   "cell_type": "markdown",
   "metadata": {},
   "source": [
    "Now we get expected results!"
   ]
  }
 ],
 "metadata": {
  "kernelspec": {
   "display_name": "Java",
   "language": "java",
   "name": "java"
  },
  "language_info": {
   "codemirror_mode": "java",
   "file_extension": ".jshell",
   "mimetype": "text/x-java-source",
   "name": "Java",
   "pygments_lexer": "java",
   "version": "11.0.6+8-b765.1"
  }
 },
 "nbformat": 4,
 "nbformat_minor": 4
}
