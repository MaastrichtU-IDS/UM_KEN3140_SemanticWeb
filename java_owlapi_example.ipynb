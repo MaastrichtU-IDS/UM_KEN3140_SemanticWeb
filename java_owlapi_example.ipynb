{
 "cells": [
  {
   "cell_type": "markdown",
   "metadata": {},
   "source": [
    "# OWL API tutorial: loading and editing OWL ontologies \n",
    "\n",
    "This is a Jupyter notebook tutorial to demonstrate how to use the OWL API to load and manipulate OWL ontologies.\n",
    "\n",
    "**Author:** Kody Moodley\n",
    "\n",
    "**License:** [Attribution-NonCommercial-ShareAlike 4.0 International (CC BY-NC-SA 4.0)](https://creativecommons.org/licenses/by-nc-sa/4.0/)\n",
    "\n",
    "**Requirements:**\n",
    "\n",
    "* Jupyter notebooks: **https://jupyter.org/**\n",
    "* IJava: **https://github.com/SpencerPark/IJava** (Java kernel for Jupyter notebooks)\n",
    "\n",
    "For more details about how to use the OWL API, consult the documentation on Github: **https://github.com/owlcs/owlapi/wiki/Documentation**\n",
    "\n",
    "The API (Java) docs for OWL API version 4 are located here: **http://owlcs.github.io/owlapi/apidocs_4/** and those for OWL API version 5 are located here: **http://owlcs.github.io/owlapi/apidocs_5/**"
   ]
  },
  {
   "cell_type": "markdown",
   "metadata": {},
   "source": [
    "## Part A. Setup environment"
   ]
  },
  {
   "cell_type": "markdown",
   "metadata": {},
   "source": [
    "#### 1. Import OWL API\n",
    "First we need to import the OWL API Java library. We can do this using the command below which uses Jupyter cell magic to import the library by specifying its Maven POM description. We obtain this description by searching for the OWL API at: **https://mvnrepository.com/**"
   ]
  },
  {
   "cell_type": "code",
   "execution_count": 1,
   "metadata": {},
   "outputs": [],
   "source": [
    "%%loadFromPOM\n",
    "<dependency>\n",
    "    <groupId>net.sourceforge.owlapi</groupId>\n",
    "    <artifactId>owlapi-distribution</artifactId>\n",
    "    <version>5.1.16</version>\n",
    "</dependency>"
   ]
  },
  {
   "cell_type": "markdown",
   "metadata": {},
   "source": [
    "#### 2. Import major classes from OWL API\n",
    "Next, we need to import four central and important classes from the OWL API which enable us to perform the major loading and editing tasks.\n",
    "\n",
    "* An ``OWLOntology`` instance obviously represents an OWL ontology that you can save and manipulate using the OWL API.\n",
    "* ``OWLManager`` provides access to an ``OWLOntologyManager`` and ``OWLDataFactory``.\n",
    "* ``OWLOntologyManager`` enables you to load, store and save OWL ontologies to file. It also allows to add / remove axioms (logical statements) from the ontologies. You can load multiple ontologies into one ``OWLOntologyManager`` instance.\n",
    "* ``OWLDataFactory`` provides access to methods that allow you to create new Classes (``OWLClass`` and ``OWLClassExpression`` objects), relations (``OWLObjectProperty`` objects), instances (``OWLIndividual`` objects), axioms (``OWLAxiom`` objects) etc. \n"
   ]
  },
  {
   "cell_type": "code",
   "execution_count": 2,
   "metadata": {},
   "outputs": [],
   "source": [
    "import org.semanticweb.owlapi.apibinding.OWLManager;\n",
    "import org.semanticweb.owlapi.model.OWLOntology;\n",
    "import org.semanticweb.owlapi.model.OWLDataFactory;\n",
    "import org.semanticweb.owlapi.model.OWLOntologyManager;"
   ]
  },
  {
   "cell_type": "markdown",
   "metadata": {},
   "source": [
    "#### 3. Create an instance of OWLOntologyManager"
   ]
  },
  {
   "cell_type": "code",
   "execution_count": 3,
   "metadata": {},
   "outputs": [
    {
     "name": "stderr",
     "output_type": "stream",
     "text": [
      "SLF4J: Failed to load class \"org.slf4j.impl.StaticLoggerBinder\".\n",
      "SLF4J: Defaulting to no-operation (NOP) logger implementation\n",
      "SLF4J: See http://www.slf4j.org/codes.html#StaticLoggerBinder for further details.\n"
     ]
    }
   ],
   "source": [
    "OWLOntologyManager manager = OWLManager.createOWLOntologyManager();"
   ]
  },
  {
   "cell_type": "markdown",
   "metadata": {},
   "source": [
    "## Part B. Loading ontologies"
   ]
  },
  {
   "cell_type": "markdown",
   "metadata": {},
   "source": [
    "#### 1a. Load OWL ontology from file\n",
    "\n",
    "How to load an OWL ontology from a .owl file stored on your local computer "
   ]
  },
  {
   "cell_type": "code",
   "execution_count": 4,
   "metadata": {},
   "outputs": [],
   "source": [
    "// Obtain a reference to a local OWL ontology file\n",
    "File file = new File(\"ontologies/pizza.owl\");\n",
    "// Load the ontology from file into an ontology manager\n",
    "OWLOntology local_ontology = manager.loadOntologyFromOntologyDocument(file);"
   ]
  },
  {
   "cell_type": "markdown",
   "metadata": {},
   "source": [
    "#### 1b. Load OWL ontology from remote URI (where the ontology is hosted)\n",
    "\n",
    "How to load an ontology that is hosted remotely on the Web"
   ]
  },
  {
   "cell_type": "code",
   "execution_count": 5,
   "metadata": {},
   "outputs": [],
   "source": [
    "//Import IRI (representing full identifier for an ontology or construct in the ontology)\n",
    "import org.semanticweb.owlapi.model.IRI;\n",
    "//Specify the URI where the ontology is located\n",
    "IRI remoteOntology = IRI.create(\"https://raw.githubusercontent.com/micheldumontier/semanticscience/master/ontology/sio/release/sio-release.owl\");\n",
    "//Load the ontology from the URI into the ontology manager\n",
    "OWLOntology local_ontology = manager.loadOntology(remoteOntology);"
   ]
  },
  {
   "cell_type": "markdown",
   "metadata": {},
   "source": [
    "#### 2. Print some metadata about the ontology\n",
    "\n",
    "Metadata about an ontology is information about its creation and maintenance. For example: who created it? when was it created? what is the purpose behind it? what are the topics it addresses? etc. This metadata is stored as OWL annotations (also called OWL annotation axioms) in the ontology file itself. The code in the cell below retrieves these statements and prints them."
   ]
  },
  {
   "cell_type": "code",
   "execution_count": 6,
   "metadata": {},
   "outputs": [
    {
     "name": "stdout",
     "output_type": "stream",
     "text": [
      "Title: Semanticscience Integrated Ontology (SIO)\n",
      "\n",
      "Description: The semanticscience integrated ontology (SIO) provides a simple, integrated ontology (types, relations) for objects, processes and their attributes.\n",
      "\n",
      "This project provides foundational support for the Bio2RDF (http://bio2rdf.org) and SADI (http://sadiframework.org) projects. \n",
      "\n",
      "website: http://semanticscience.org\n",
      "email: sio-ontology@googlegroups.com\n",
      "mailing list: http://groups.google.com/group/sio-ontology\n",
      "\n",
      "\n",
      "Authors: | Contributors are those that engage in discussions in the context of SIO (in alphabetical order):\n",
      "sivaram arabandi\n",
      "christopher baker\n",
      "joachim baran\n",
      "jerven bolleman\n",
      "alison callahan\n",
      "leonid chepelev\n",
      "kevin cohen\n",
      "melanie courtot\n",
      "geraint duck\n",
      "laura furlong\n",
      "elisa kendall\n",
      "tatsuya kushida\n",
      "luke mccarthy\n",
      "jim mccusker\n",
      "jose miguel cruz-toledo\n",
      "robert hoehndorf\n",
      "simon jupp\n",
      "jin-dong kim\n",
      "dana klassen\n",
      "thomas luetteke\n",
      "james malone\n",
      "chris mungall\n",
      "david osumi-sutherland\n",
      "tazro ohta\n",
      "nuria queralt\n",
      "stephen reed\n",
      "alexandre riazanov\n",
      "matthias samwald\n",
      "robert stevens\n",
      "mark wilkinson\n",
      "karin verspoor\n",
      "natalia villanueva-rosales | Michel Dumontier | http://orcid.org/0000-0003-4727-9435 | \n",
      "\n",
      "License: http://creativecommons.org/licenses/by/4.0/\n",
      "\n",
      "Version: 1.45\n",
      "\n",
      "Provenance: \n",
      "\n"
     ]
    }
   ],
   "source": [
    "// Import OWLAnnotation interface\n",
    "import org.semanticweb.owlapi.model.OWLAnnotation;\n",
    "import org.semanticweb.owlapi.model.OWLAnnotationValue;\n",
    "// Import OWL Literal (annotation data value type)\n",
    "import org.semanticweb.owlapi.model.OWLLiteral;\n",
    "\n",
    "String ont_name = \"\";\n",
    "String ont_desc = \"\";\n",
    "String ont_authors = \"| \";\n",
    "String ont_version = \"\";\n",
    "String ont_provenance = \"\";\n",
    "String ont_license = \"\";\n",
    "\n",
    "// Loop through all annotations in ontology and check for which annotation property type it is. Based on that type, we can determine what kind of metadata that is and print the value for the properties\n",
    "for (OWLAnnotation annotation : local_ontology.getAnnotations()){\n",
    "    if (annotation.getProperty().toStringID().equals(\"http://purl.org/dc/elements/1.1/description\") || annotation.getProperty().toStringID().equals(\"http://purl.org/dc/terms/description\")){\n",
    "        if (annotation.getValue() instanceof OWLLiteral) {\n",
    "            OWLLiteral val = (OWLLiteral) annotation.getValue();\n",
    "            ont_desc = val.getLiteral();\n",
    "        }\n",
    "        else {\n",
    "            ont_desc = annotation.getValue().toString();\n",
    "        }\n",
    "    }\n",
    "    if (annotation.getProperty().toStringID().equals(\"http://purl.org/dc/elements/1.1/title\") || annotation.getProperty().toStringID().equals(\"http://purl.org/dc/terms/title\")){\n",
    "        if (annotation.getValue() instanceof OWLLiteral) {\n",
    "            OWLLiteral val = (OWLLiteral) annotation.getValue();\n",
    "            ont_name = val.getLiteral();\n",
    "        }\n",
    "        else {\n",
    "            ont_name = annotation.getValue().toString();\n",
    "        }\n",
    "    }\n",
    "    if (annotation.getProperty().toStringID().equals(\"http://purl.org/dc/terms/provenance\")){\n",
    "        if (annotation.getValue() instanceof OWLLiteral) {\n",
    "            OWLLiteral val = (OWLLiteral) annotation.getValue();\n",
    "            ont_provenance = val.getLiteral();\n",
    "        }\n",
    "        else {\n",
    "            ont_provenance = annotation.getValue().toString();\n",
    "        }\n",
    "    }\n",
    "    if (annotation.getProperty().toStringID().equals(\"http://purl.org/dc/terms/license\")){\n",
    "        if (annotation.getValue() instanceof OWLLiteral) {\n",
    "            OWLLiteral val = (OWLLiteral) annotation.getValue();\n",
    "            ont_license = val.getLiteral();\n",
    "        }\n",
    "        else {\n",
    "            ont_license = annotation.getValue().toString();\n",
    "        }\n",
    "    }\n",
    "    if (annotation.getProperty().toStringID().equals(\"http://purl.org/dc/terms/contributor\") || \n",
    "        annotation.getProperty().toStringID().equals(\"http://purl.org/dc/elements/1.1/contributor\") || \n",
    "        annotation.getProperty().toStringID().equals(\"http://purl.org/dc/elements/1.1/creator\") ||\n",
    "        annotation.getProperty().toStringID().equals(\"http://purl.org/dc/terms/creator\")){\n",
    "        if (annotation.getValue() instanceof OWLLiteral) {\n",
    "            OWLLiteral val = (OWLLiteral) annotation.getValue();\n",
    "            ont_authors += val.getLiteral() + \" | \";\n",
    "        }\n",
    "        else {\n",
    "            ont_authors += annotation.getValue().toString() + \" | \";\n",
    "        }\n",
    "    }\n",
    "    if (annotation.getProperty().toStringID().equals(\"http://www.w3.org/2002/07/owl#versionInfo\")){\n",
    "        if (annotation.getValue() instanceof OWLLiteral) {\n",
    "            OWLLiteral val = (OWLLiteral) annotation.getValue();\n",
    "            ont_version = val.getLiteral();\n",
    "        }\n",
    "        else {\n",
    "            ont_version = annotation.getValue().toString();\n",
    "        }\n",
    "    }\n",
    "}\n",
    "\n",
    "System.out.println(\"Title: \" + ont_name);\n",
    "System.out.println();\n",
    "System.out.println(\"Description: \" + ont_desc);\n",
    "System.out.println();\n",
    "System.out.println(\"Authors: \" + ont_authors);\n",
    "System.out.println();\n",
    "System.out.println(\"License: \" + ont_license);\n",
    "System.out.println();\n",
    "System.out.println(\"Version: \" + ont_version);\n",
    "System.out.println();\n",
    "System.out.println(\"Provenance: \" + ont_provenance);\n",
    "System.out.println();"
   ]
  },
  {
   "cell_type": "markdown",
   "metadata": {},
   "source": [
    "#### 3. Print some statistics about the ontology\n",
    "\n",
    "Print some statistics about the ontology, like how many logical statements, classes, relations etc. it contains. "
   ]
  },
  {
   "cell_type": "code",
   "execution_count": 7,
   "metadata": {},
   "outputs": [
    {
     "name": "stdout",
     "output_type": "stream",
     "text": [
      "Number of axioms: 12673\n",
      "Number of logical axioms: 2502\n",
      "Number of classes: 1552\n",
      "Number of relations: 211\n",
      "Number of instances: 0\n",
      "Number of SubClassOf axioms: 1927\n",
      "Number of EquivalentClasses axioms: 49\n",
      "Number of DisjointClasses axioms: 81\n",
      "Number of Class assertions: 0\n",
      "Number of ObjectProperty assertions: 0\n"
     ]
    }
   ],
   "source": [
    "// Number of axioms and constructs in ontology\n",
    "System.out.println(\"Number of axioms: \" + local_ontology.getAxiomCount());\n",
    "System.out.println(\"Number of logical axioms: \" + local_ontology.getLogicalAxiomCount());\n",
    "System.out.println(\"Number of classes: \" + local_ontology.getClassesInSignature(true).size());\n",
    "System.out.println(\"Number of relations: \" + local_ontology.getObjectPropertiesInSignature(true).size());\n",
    "System.out.println(\"Number of instances: \" + local_ontology.getIndividualsInSignature(true).size());\n",
    "\n",
    "// Import AxiomType class which enumerates different types of OWLAxiom\n",
    "import org.semanticweb.owlapi.model.AxiomType;\n",
    "\n",
    "// Number of axioms of a specific type in ontology\n",
    "System.out.println(\"Number of SubClassOf axioms: \" + local_ontology.getAxioms(AxiomType.SUBCLASS_OF).size());\n",
    "System.out.println(\"Number of EquivalentClasses axioms: \" + local_ontology.getAxioms(AxiomType.EQUIVALENT_CLASSES).size());\n",
    "System.out.println(\"Number of DisjointClasses axioms: \" + local_ontology.getAxioms(AxiomType.DISJOINT_CLASSES).size());\n",
    "System.out.println(\"Number of Class assertions: \" + local_ontology.getAxioms(AxiomType.CLASS_ASSERTION).size());\n",
    "System.out.println(\"Number of ObjectProperty assertions: \" + local_ontology.getAxioms(AxiomType.OBJECT_PROPERTY_ASSERTION).size());"
   ]
  },
  {
   "cell_type": "markdown",
   "metadata": {},
   "source": [
    "## Part C. Building an OWL ontology"
   ]
  },
  {
   "cell_type": "markdown",
   "metadata": {},
   "source": [
    "#### 1. Create a blank (empty) ontology\n",
    "First we need to create a fresh ontology with no axioms, classes or relations yet. We have to give it a unique Internationalized Resource Identifier (IRI) as well. Let the domain / topic of our ontology be about family relationships. The IRI specified should comply with the formal specification for IRI's developed by the IETF (Internet Engineering Task Force) located here: [https://www.ietf.org/rfc/rfc3987.txt](https://www.ietf.org/rfc/rfc3987.txt) The OWL API will automatically validate your IRI and will return a compile error if your IRI is invalid."
   ]
  },
  {
   "cell_type": "code",
   "execution_count": 8,
   "metadata": {},
   "outputs": [],
   "source": [
    "// Import IRI class\n",
    "import org.semanticweb.owlapi.model.IRI;\n",
    "// Create an IRI for our ontology. This can be any valid HTTP URI\n",
    "IRI ontologyIRI = IRI.create(\"http://maastrichtuniversity.nl/ids/owlapi-tutorial/family-relationsips\");\n",
    "// Create the ontology by using the createOntology method of the ontology manager (there a number of constructors for this class but we will use the one which requires only an IRI)\n",
    "OWLOntology ont = manager.createOntology(ontologyIRI);"
   ]
  },
  {
   "cell_type": "code",
   "execution_count": 9,
   "metadata": {},
   "outputs": [
    {
     "name": "stdout",
     "output_type": "stream",
     "text": [
      "Number of axioms: 0\n"
     ]
    }
   ],
   "source": [
    "System.out.println(\"Number of axioms: \" + ont.getAxiomCount());"
   ]
  },
  {
   "cell_type": "markdown",
   "metadata": {},
   "source": [
    "**Voila! We have created a blank OWL ontology!**\n",
    "Okay, but that's not very interesting... Let us add some information to the ontology."
   ]
  },
  {
   "cell_type": "markdown",
   "metadata": {},
   "source": [
    "#### 2. Create an instance of OWLDataFactory\n",
    "Remember the ``OWLDataFactory`` class is one of the central classes in the OWL API and allows us to create new content (classes, instances, relations etc.) to add to the ontology."
   ]
  },
  {
   "cell_type": "code",
   "execution_count": 10,
   "metadata": {},
   "outputs": [],
   "source": [
    "// Get OWLDataFactory instance from OWLOntologyManager instance.\n",
    "OWLDataFactory factory = manager.getOWLDataFactory();"
   ]
  },
  {
   "cell_type": "markdown",
   "metadata": {},
   "source": [
    "#### 3. Create some individuals to add to our ontology\n",
    "\n",
    "Here we use the ``getOWLNamedIndividual`` method from the ``OWLDataFactory`` class to create individuals. The parameter required is an IRI of the new individual(s). When adding any entity (i.e. class, relation or individual) to the ontology, the established practice is to formulate the IRI for this new entity by appending the \"#\" or \"/\" character to the IRI of the ontology followed by the chosen name for the new entity. The name of the entity itself (also called ``resource name``) is up to ontology engineer to decide. It is a commonly used (but not required) practice to use lowercase letters for individual names."
   ]
  },
  {
   "cell_type": "code",
   "execution_count": 11,
   "metadata": {},
   "outputs": [
    {
     "name": "stdout",
     "output_type": "stream",
     "text": [
      "<http://maastrichtuniversity.nl/ids/owlapi-tutorial/family-relationsips#kody>\n",
      "<http://maastrichtuniversity.nl/ids/owlapi-tutorial/family-relationsips#michel>\n",
      "<http://maastrichtuniversity.nl/ids/owlapi-tutorial/family-relationsips#tiffany>\n",
      "<http://maastrichtuniversity.nl/ids/owlapi-tutorial/family-relationsips#nicole>\n"
     ]
    }
   ],
   "source": [
    "// Import OWLIndividual class\n",
    "import org.semanticweb.owlapi.model.OWLIndividual;\n",
    "// Create some instances (individuals)\n",
    "OWLIndividual kody = factory.getOWLNamedIndividual(IRI.create(ontologyIRI + \"#kody\"));\n",
    "OWLIndividual michel = factory.getOWLNamedIndividual(IRI.create(ontologyIRI + \"#michel\"));\n",
    "OWLIndividual tiffany = factory.getOWLNamedIndividual(IRI.create(ontologyIRI + \"#tiffany\"));\n",
    "OWLIndividual nicole = factory.getOWLNamedIndividual(IRI.create(ontologyIRI + \"#nicole\"));\n",
    "System.out.println(kody);\n",
    "System.out.println(michel);\n",
    "System.out.println(tiffany);\n",
    "System.out.println(nicole);"
   ]
  },
  {
   "cell_type": "markdown",
   "metadata": {},
   "source": [
    "#### 4. Create a relation (Object Property) to add to our ontology\n",
    "\n",
    "Here we use the ``getOWLObjectProperty`` method from the ``OWLDataFactory`` class to create new relations. The parameter required is again an IRI of the new relation. It is common practice (but not mandatory) to use camel case with a lowercase first letter for Object properties in OWL."
   ]
  },
  {
   "cell_type": "code",
   "execution_count": 12,
   "metadata": {},
   "outputs": [
    {
     "name": "stdout",
     "output_type": "stream",
     "text": [
      "<http://maastrichtuniversity.nl/ids/owlapi-tutorial/family-relationsips#hasWife>\n"
     ]
    }
   ],
   "source": [
    "// Import OWLObjectProperty class \n",
    "import org.semanticweb.owlapi.model.OWLObjectProperty;\n",
    "// Create a role called \"hasWife\"\n",
    "OWLObjectProperty hasWife = factory.getOWLObjectProperty(IRI.create(ontologyIRI + \"#hasWife\"));\n",
    "System.out.println(hasWife);"
   ]
  },
  {
   "cell_type": "markdown",
   "metadata": {},
   "source": [
    "#### 5. Create an ObjectPropertyAssertion axiom to add to the ontology\n",
    "\n",
    "Here we use the ``getOWLObjectPropertyAssertionAxiom`` method from the ``OWLDataFactory`` class to create new role assertions. The parameters required are 1) the relation, 2) entity1 and 3) entity2 which are related via the relation. **NB:** relation assertion axioms are directional and are not necessarily symmetric.  "
   ]
  },
  {
   "cell_type": "code",
   "execution_count": 13,
   "metadata": {},
   "outputs": [
    {
     "name": "stdout",
     "output_type": "stream",
     "text": [
      "ObjectPropertyAssertion(<http://maastrichtuniversity.nl/ids/owlapi-tutorial/family-relationsips#hasWife> <http://maastrichtuniversity.nl/ids/owlapi-tutorial/family-relationsips#michel> <http://maastrichtuniversity.nl/ids/owlapi-tutorial/family-relationsips#tiffany>)\n",
      "ObjectPropertyAssertion(<http://maastrichtuniversity.nl/ids/owlapi-tutorial/family-relationsips#hasWife> <http://maastrichtuniversity.nl/ids/owlapi-tutorial/family-relationsips#kody> <http://maastrichtuniversity.nl/ids/owlapi-tutorial/family-relationsips#nicole>)\n"
     ]
    }
   ],
   "source": [
    "// Import OWLObjectPropertyAssertionAxiom class \n",
    "import org.semanticweb.owlapi.model.OWLObjectPropertyAssertionAxiom;\n",
    "// Create axioms\n",
    "// NB: this means that \"michel hasWife tiffany\", the order of parameters is important! if we swapped michel and tiffany, the meaning of the axiom would be \"tiffany hasWife michel\"!\n",
    "OWLObjectPropertyAssertionAxiom axiom1 = factory.getOWLObjectPropertyAssertionAxiom(hasWife, michel, tiffany);\n",
    "// NB: this means that \"kody hasWife nicole\", the order of parameters is important! if we swapped kody and nicole, the meaning of the axiom would be \"nicole hasWife kody\"!\n",
    "OWLObjectPropertyAssertionAxiom axiom2 = factory.getOWLObjectPropertyAssertionAxiom(hasWife, kody, nicole);\n",
    "System.out.println(axiom1);\n",
    "System.out.println(axiom2);"
   ]
  },
  {
   "cell_type": "markdown",
   "metadata": {},
   "source": [
    "#### 6. Adding and removing axioms\n",
    "\n",
    "Here we use the ``addAxiom`` and ``removeAxiom`` methods from the ``OWLOntologyManager`` class to add/remove axioms to an ontology. The parameters required are 1) the ontology to the add the axiom to / remove the axiom from (remember we can have multiple ontologies loaded in a single ontology manager) and 2) the axiom to add/remove."
   ]
  },
  {
   "cell_type": "code",
   "execution_count": 14,
   "metadata": {},
   "outputs": [
    {
     "name": "stdout",
     "output_type": "stream",
     "text": [
      "Number of axioms: 2\n",
      "Number of axioms (after axioms removed): 0\n",
      "Number of axioms (after batch add): 2\n",
      "Number of axioms (after batch remove): 0\n",
      "Number of axioms (final): 2\n"
     ]
    }
   ],
   "source": [
    "// Add axioms one at a time\n",
    "manager.addAxiom(ont, axiom1);\n",
    "manager.addAxiom(ont, axiom2);\n",
    "\n",
    "System.out.println(\"Number of axioms: \" + ont.getAxiomCount());\n",
    "\n",
    "// Remove axioms one at a time\n",
    "manager.removeAxiom(ont, axiom1);\n",
    "manager.removeAxiom(ont, axiom2);\n",
    "\n",
    "System.out.println(\"Number of axioms (after axioms removed): \" + ont.getAxiomCount());\n",
    "\n",
    "// Import OWLAxiom class \n",
    "import org.semanticweb.owlapi.model.OWLAxiom;\n",
    "// Import Java Set\n",
    "import java.util.Set;\n",
    "// Import Java HashSet\n",
    "import java.util.HashSet;\n",
    "\n",
    "// Batch add axioms: you can also batch add / remove by putting all axioms to add / remove into a Java Set (HashSet).\n",
    "Set<OWLAxiom> axioms_to_add = new HashSet<OWLAxiom>();\n",
    "axioms_to_add.add(axiom1);\n",
    "axioms_to_add.add(axiom2);\n",
    "manager.addAxioms(ont, axioms_to_add);\n",
    "\n",
    "System.out.println(\"Number of axioms (after batch add): \" + ont.getAxiomCount());\n",
    "\n",
    "// Batch remove axioms\n",
    "manager.removeAxioms(ont, axioms_to_add);\n",
    "\n",
    "System.out.println(\"Number of axioms (after batch remove): \" + ont.getAxiomCount());\n",
    "\n",
    "// Put the axioms back so we can continue with the tutorial! :)\n",
    "manager.addAxioms(ont, axioms_to_add);\n",
    "\n",
    "System.out.println(\"Number of axioms (final): \" + ont.getAxiomCount());"
   ]
  },
  {
   "cell_type": "markdown",
   "metadata": {},
   "source": [
    "#### 7. Data properties\n",
    "\n",
    "Data properties in OWL allow one to express relations / properties of an instance that have values which have a concrete data type (e.g. String, Integer, Float, boolean etc.) They are distinct from Object properties as we saw earlier which are relations between instances (i.e. both entities being related are instances / objects from the domain). Examples of data properties that may be relevant for people are: their age, height and weight etc. It is common practice (but not mandatory) to use camel case with a lowercase first letter for Data properties in OWL."
   ]
  },
  {
   "cell_type": "code",
   "execution_count": 15,
   "metadata": {},
   "outputs": [
    {
     "name": "stdout",
     "output_type": "stream",
     "text": [
      "<http://maastrichtuniversity.nl/ids/owlapi-tutorial/family-relationsips#hasAge>\n",
      "DataPropertyAssertion(<http://maastrichtuniversity.nl/ids/owlapi-tutorial/family-relationsips#hasAge> <http://maastrichtuniversity.nl/ids/owlapi-tutorial/family-relationsips#kody> \"34\"^^xsd:integer)\n"
     ]
    },
    {
     "data": {
      "text/plain": [
       "SUCCESSFULLY"
      ]
     },
     "execution_count": 15,
     "metadata": {},
     "output_type": "execute_result"
    }
   ],
   "source": [
    "// Import OWLDataProperty class \n",
    "import org.semanticweb.owlapi.model.OWLDataProperty;\n",
    "// Create a \"hasAge\" data property\n",
    "OWLDataProperty hasAge = factory.getOWLDataProperty(IRI.create(ontologyIRI + \"#hasAge\"));\n",
    "System.out.println(hasAge);\n",
    "// Create data property assertion to state that \"kody hasAge 34\"\n",
    "OWLAxiom axiom4 = factory.getOWLDataPropertyAssertionAxiom(hasAge, kody, 34);\n",
    "System.out.println(axiom4);\n",
    "manager.addAxiom(ont, axiom4);\n",
    "// In the above code, 34 is an integer, so we can just pass 34 into the\n",
    "// data factory method. Behind the scenes the OWL API will create a\n",
    "// typed constant that it will use as the value of the data property\n",
    "// assertion.\n",
    "// Notice from the output how \"34\" is automatically recognized by OWL API to be an integer value"
   ]
  },
  {
   "cell_type": "markdown",
   "metadata": {},
   "source": [
    "#### 8. Classes\n",
    "\n",
    "Now we can add some categories (called classes or concepts in OWL) to our ontology. For example, kody and michel are instances of the category ``Person``."
   ]
  },
  {
   "cell_type": "code",
   "execution_count": 16,
   "metadata": {},
   "outputs": [],
   "source": [
    "// Import OWLClass class \n",
    "import org.semanticweb.owlapi.model.OWLClass;"
   ]
  },
  {
   "cell_type": "code",
   "execution_count": 17,
   "metadata": {},
   "outputs": [],
   "source": [
    "// Complex classes (OWLClassExpression)"
   ]
  },
  {
   "cell_type": "code",
   "execution_count": 18,
   "metadata": {},
   "outputs": [],
   "source": [
    "// Domain and range of roles"
   ]
  },
  {
   "cell_type": "code",
   "execution_count": 19,
   "metadata": {},
   "outputs": [],
   "source": [
    "// Range of data properties"
   ]
  },
  {
   "cell_type": "code",
   "execution_count": 20,
   "metadata": {},
   "outputs": [],
   "source": [
    "// Equivalence axioms"
   ]
  },
  {
   "cell_type": "code",
   "execution_count": 21,
   "metadata": {},
   "outputs": [],
   "source": [
    "// Disjoint axioms"
   ]
  },
  {
   "cell_type": "code",
   "execution_count": 22,
   "metadata": {},
   "outputs": [],
   "source": [
    "// SubClass axioms"
   ]
  },
  {
   "cell_type": "code",
   "execution_count": 23,
   "metadata": {},
   "outputs": [],
   "source": [
    "// OWLAnnotations (metadata about our ontology)"
   ]
  },
  {
   "cell_type": "code",
   "execution_count": 24,
   "metadata": {},
   "outputs": [],
   "source": [
    "// Add extra info\n",
    "\n",
    "// OWLObjectProperty hasSon = factory.getOWLObjectProperty(IRI.create(ontologyIRI + \"#hasSon\"));\n",
    "// // Create the assertion, John hasSon Bill\n",
    "// OWLAxiom axiom2 = factory.getOWLObjectPropertyAssertionAxiom(hasSon, john, bill);\n",
    "// // Apply the change\n",
    "// manager.applyChange(new AddAxiom(ont, axiom2));\n",
    "// // John hasDaughter Susan\n",
    "// OWLObjectProperty hasDaughter = factory.getOWLObjectProperty(IRI.create(ontologyIRI + \"#hasDaughter\"));\n",
    "// OWLAxiom axiom3 = factory.getOWLObjectPropertyAssertionAxiom(hasDaughter, john, susan);\n",
    "// manager.applyChange(new AddAxiom(ont, axiom3));"
   ]
  },
  {
   "cell_type": "code",
   "execution_count": 25,
   "metadata": {},
   "outputs": [],
   "source": [
    "// // Saving ontologies - concrete OWL Syntaxes\n",
    "// manager.saveOntology(ont, new StringDocumentTarget());\n",
    "// // OWL/XML\n",
    "// // System.out.println(\"OWL/XML: \");\n",
    "// manager.saveOntology(ont, new OWLXMLDocumentFormat(), new StringDocumentTarget());\n",
    "// // Manchester Syntax\n",
    "// // System.out.println(\"Manchester syntax: \");\n",
    "// manager.saveOntology(ont, new ManchesterSyntaxDocumentFormat(), new StringDocumentTarget());\n",
    "// // Turtle\n",
    "// // System.out.println(\"Turtle: \");\n",
    "// manager.saveOntology(ont, new TurtleDocumentFormat(), new StringDocumentTarget());"
   ]
  },
  {
   "cell_type": "code",
   "execution_count": 26,
   "metadata": {},
   "outputs": [],
   "source": [
    "// Visualisation (WebVowel)"
   ]
  },
  {
   "cell_type": "code",
   "execution_count": 27,
   "metadata": {},
   "outputs": [],
   "source": [
    "// Reasoning"
   ]
  },
  {
   "cell_type": "code",
   "execution_count": 28,
   "metadata": {},
   "outputs": [],
   "source": [
    "// Classification"
   ]
  },
  {
   "cell_type": "code",
   "execution_count": 29,
   "metadata": {},
   "outputs": [],
   "source": [
    "// TBox subsumption"
   ]
  },
  {
   "cell_type": "code",
   "execution_count": 30,
   "metadata": {},
   "outputs": [],
   "source": [
    "// Unsatisfiable classes"
   ]
  },
  {
   "cell_type": "code",
   "execution_count": 31,
   "metadata": {},
   "outputs": [],
   "source": [
    "// Realisation (infer class)"
   ]
  },
  {
   "cell_type": "code",
   "execution_count": 32,
   "metadata": {},
   "outputs": [],
   "source": [
    "// Inconsistent ontologies"
   ]
  },
  {
   "cell_type": "code",
   "execution_count": 33,
   "metadata": {},
   "outputs": [],
   "source": [
    "// %%loadFromPOM\n",
    "// <dependency>\n",
    "//     <groupId>com.hermit-reasoner</groupId>\n",
    "//     <artifactId>org.semanticweb.hermit</artifactId>\n",
    "//     <version>1.3.8.4</version>\n",
    "// </dependency>"
   ]
  },
  {
   "cell_type": "code",
   "execution_count": 34,
   "metadata": {},
   "outputs": [],
   "source": [
    "%%loadFromPOM\n",
    "<dependency>\n",
    "    <groupId>net.sourceforge.owlapi</groupId>\n",
    "    <artifactId>jfact</artifactId>\n",
    "    <version>5.0.3</version>\n",
    "</dependency>"
   ]
  },
  {
   "cell_type": "code",
   "execution_count": 35,
   "metadata": {},
   "outputs": [
    {
     "name": "stdout",
     "output_type": "stream",
     "text": [
      "true\n"
     ]
    }
   ],
   "source": [
    "import uk.ac.manchester.cs.jfact.JFactFactory;\n",
    "import org.semanticweb.owlapi.reasoner.OWLReasonerFactory;\n",
    "import org.semanticweb.owlapi.reasoner.OWLReasoner;\n",
    "\n",
    "OWLReasonerFactory rf = new JFactFactory();\n",
    "OWLReasoner jfact = rf.createReasoner(local_ontology);\n",
    "// import org.semanticweb.HermiT.Reasoner;\n",
    "// Reasoner hermit=new Reasoner(local_ontology);\n",
    "System.out.println(jfact.isConsistent());"
   ]
  }
 ],
 "metadata": {
  "kernelspec": {
   "display_name": "Java",
   "language": "java",
   "name": "java"
  },
  "language_info": {
   "codemirror_mode": "java",
   "file_extension": ".jshell",
   "mimetype": "text/x-java-source",
   "name": "Java",
   "pygments_lexer": "java",
   "version": "11.0.6+8-b765.1"
  }
 },
 "nbformat": 4,
 "nbformat_minor": 4
}
