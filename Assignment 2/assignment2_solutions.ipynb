{
  "cells": [
    {
      "cell_type": "markdown",
      "metadata": {
        "id": "Yr6a2cmR3MwR"
      },
      "source": [
        "# Tasks\n",
        "\n",
        "Please first read assignment 2 instruction file, import necessary libararies, load the dataset and then write SPARQL query for following questions:\n",
        "\n",
        "Write valid SPARQL queries to:\n",
        "\n",
        "1. List the top four oldest people in the graph from oldest to youngest\n",
        "\n",
        "2. Identify the shortest student who has at least four classmates\n",
        "\n",
        "3. List the teachers who have the highest salaries (in increasing order) and have at least five colleagues?\n",
        "\n",
        "4. Return the mean (average) age of male professors, and the mean age of female professors\n",
        "\n",
        "5. For each employee, calculate their \"net salary\"\n",
        "Important notes:\n",
        "\n",
        "Net Salary Calculation for Professor = Base salary - income tax (%4 of the base salary) - pension (%6 of the base salary)\n",
        "\n",
        "Net Salary Calculation for other employees = Base salary - income tax (%4 of the base salary) - pension (%3 of the base salary)\n",
        "\n",
        "6. List the number of all students and all teachers (show ?studentcount ?teachercount in your result)\n",
        "Important notes: You will provide two queries for this task. One with inference and one without. Paste both queries below, one with inference toggled off and one with inference toggled on (the queries should be in separate cells).\n",
        "\n",
        "7. List people who are both student and employee?\n",
        "Hint: Use inference\n",
        "\n",
        "8. Open-ended question!  Write a meaningful question and its corresponding SPARQL query using at least a subquery and group by.\n"
      ]
    },
    {
      "cell_type": "markdown",
      "metadata": {
        "id": "43hN9iy65B-_"
      },
      "source": [
        "**important**\n",
        "\n",
        "In the following cell you must provide code for loading dataset in a graph."
      ]
    },
    {
      "cell_type": "code",
      "execution_count": null,
      "metadata": {
        "id": "bzTvynN33XBF"
      },
      "outputs": [],
      "source": [
        "#import libararies\n",
        "#load dataset in a graph\n",
        "#write SPARQL queries"
      ]
    },
    {
      "cell_type": "code",
      "execution_count": null,
      "metadata": {
        "id": "7kuw7pCk4BWi"
      },
      "outputs": [],
      "source": [
        "#SPARQL Query 1?"
      ]
    },
    {
      "cell_type": "code",
      "execution_count": null,
      "metadata": {
        "id": "AqrGOMXd4BS2"
      },
      "outputs": [],
      "source": [
        "#SPARQL Query 2"
      ]
    },
    {
      "cell_type": "code",
      "execution_count": null,
      "metadata": {
        "id": "TM5xD8Sc4BN4"
      },
      "outputs": [],
      "source": [
        "#SPARQL Query 3"
      ]
    },
    {
      "cell_type": "code",
      "execution_count": null,
      "metadata": {
        "id": "JXqS7t4_4BJV"
      },
      "outputs": [],
      "source": [
        "#SPARQL Query 4"
      ]
    },
    {
      "cell_type": "code",
      "execution_count": null,
      "metadata": {
        "id": "I65-0_e74BAM"
      },
      "outputs": [],
      "source": [
        "#SPARQL Query 5"
      ]
    },
    {
      "cell_type": "code",
      "execution_count": null,
      "metadata": {
        "id": "wOIT7Pjy4A3U"
      },
      "outputs": [],
      "source": [
        "#SPARQL Query 6"
      ]
    },
    {
      "cell_type": "code",
      "execution_count": null,
      "metadata": {
        "id": "__vYWsP74ArZ"
      },
      "outputs": [],
      "source": [
        "#SPARQL Query 7"
      ]
    },
    {
      "cell_type": "markdown",
      "metadata": {},
      "source": [
        "Write your question for Q8 as a comment"
      ]
    },
    {
      "cell_type": "code",
      "execution_count": null,
      "metadata": {
        "id": "Gq0CZCDK4AaK"
      },
      "outputs": [],
      "source": [
        "#SPARQL Query 8"
      ]
    }
  ],
  "metadata": {
    "colab": {
      "provenance": []
    },
    "kernelspec": {
      "display_name": "Python 3.10.7 64-bit (microsoft store)",
      "language": "python",
      "name": "python3"
    },
    "language_info": {
      "name": "python",
      "version": "3.10.7"
    },
    "vscode": {
      "interpreter": {
        "hash": "1d75c3ea719b656c16c0963ff244cdd1e8de030c5257ba72627e79b4e4939751"
      }
    }
  },
  "nbformat": 4,
  "nbformat_minor": 0
}
