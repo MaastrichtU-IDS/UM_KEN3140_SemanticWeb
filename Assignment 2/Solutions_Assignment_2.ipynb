{
  "cells": [
    {
      "cell_type": "markdown",
      "metadata": {
        "id": "UVfcOn8NM3LI"
      },
      "source": [
        "# TASKS \n",
        "\n",
        "**Write valid SPARQL queries to:**\n",
        "\n",
        "1. List the top four oldest people in the graph from oldest to youngest\n",
        "2. Identify the shortest student who has at least four classmates \n",
        "3. List the teachers who have the highest salaries (in increasing order) and have at least five colleagues?\n",
        "4. Return the mean (average) age of male professors, and the mean age of female professors\n",
        "5. For each employee, calculate their \"net salary\"\\\n",
        "Net Salary Calculation = Base salary - income tax (%4 of the base salary) - pension (%6 of the base salary)\n",
        "\n",
        "6. List all people with their first name or family name starting with the letter F, E, or A\n",
        "\n",
        "7. List all `dbe:Researcher` using inference\n",
        "\n",
        "Requirements: your query should also returns subclasses of `dbe:Researcher`, such as PhD Candidates and AssistantResearcher, without directly using their URI (use the `rdfs:subClassOf` properties)\n",
        "\n",
        "8. Create missing relations when `:isSupervisedBy` is defined in one direction but not `:supervises` in the other direction. For example, if john `:isSupervisedBy` mary, then we know that mary `:supervises` john\n",
        "\n",
        "Requirements: you should use a CONSTRUCT query to build the missing triples\n",
        "\n",
        "9. Count the number of men and women per `rdf:type` in the graph (aka. the `a` relation)\n",
        "\n",
        "10. Write a federated query to Wikidata to retrieve Arya Parker  date of establishment the starting date of Maastricht University\n",
        "\n",
        "11. Open-ended question!  Write a meaningful question and its corresponding SPARQL query using at least a subquery and group by."
      ]
    },
    {
      "cell_type": "code",
      "execution_count": null,
      "metadata": {
        "colab": {
          "base_uri": "https://localhost:8080/"
        },
        "id": "PpdTWVzFzZkD",
        "outputId": "e483b727-c106-4b5e-ca32-d45b090080cf"
      },
      "outputs": [
        {
          "output_type": "stream",
          "name": "stdout",
          "text": [
            "Looking in indexes: https://pypi.org/simple, https://us-python.pkg.dev/colab-wheels/public/simple/\n",
            "Collecting rdflib\n",
            "  Downloading rdflib-6.2.0-py3-none-any.whl (500 kB)\n",
            "\u001b[K     |████████████████████████████████| 500 kB 5.2 MB/s \n",
            "\u001b[?25hCollecting isodate\n",
            "  Downloading isodate-0.6.1-py2.py3-none-any.whl (41 kB)\n",
            "\u001b[K     |████████████████████████████████| 41 kB 514 kB/s \n",
            "\u001b[?25hRequirement already satisfied: setuptools in /usr/local/lib/python3.7/dist-packages (from rdflib) (57.4.0)\n",
            "Requirement already satisfied: importlib-metadata in /usr/local/lib/python3.7/dist-packages (from rdflib) (4.13.0)\n",
            "Requirement already satisfied: pyparsing in /usr/local/lib/python3.7/dist-packages (from rdflib) (3.0.9)\n",
            "Requirement already satisfied: zipp>=0.5 in /usr/local/lib/python3.7/dist-packages (from importlib-metadata->rdflib) (3.9.0)\n",
            "Requirement already satisfied: typing-extensions>=3.6.4 in /usr/local/lib/python3.7/dist-packages (from importlib-metadata->rdflib) (4.1.1)\n",
            "Requirement already satisfied: six in /usr/local/lib/python3.7/dist-packages (from isodate->rdflib) (1.15.0)\n",
            "Installing collected packages: isodate, rdflib\n",
            "Successfully installed isodate-0.6.1 rdflib-6.2.0\n"
          ]
        }
      ],
      "source": [
        "!pip install rdflib"
      ]
    },
    {
      "cell_type": "markdown",
      "source": [
        "#Data"
      ],
      "metadata": {
        "id": "2edcWMk1KPuZ"
      }
    },
    {
      "cell_type": "code",
      "source": [
        "university_rdf = \"\"\"@prefix ex: <http://example.org/> .                         \n",
        "@prefix schema: <http://schema.org/> .                    \n",
        "@prefix xsd: <http://www.w3.org/2001/XMLSchema#> .        \n",
        "@prefix rdfs: <http://www.w3.org/2000/01/rdf-schema#> .   \n",
        "@prefix wde: <https://www.wikidata.org/wiki/> .           \n",
        "@prefix wdp: <http://www.wikidata.org/prop/statement/> .\n",
        "@prefix dbp: <http://dbpedia.org/property/> .  \n",
        "@prefix dbe: <https://dbpedia.org/page/> .   \n",
        "@prefix dbo: <https://dbpedia.org/ontology/> .   \n",
        "@prefix geo: <http://www.geonames.org/ontology#> .        \n",
        "@prefix wiki: <http://www.wikidata.org/entity/>.\n",
        "@prefix : <http://example.org/voc#> .\n",
        "@prefix rdf: <http://www.w3.org/1999/02/22-rdf-syntax-ns#> .\n",
        "@prefix rdfs: <http://www.w3.org/2000/01/rdf-schema#> .\n",
        "@prefix foaf: <http://xmlns.com/foaf/0.1/> .\n",
        "@prefix owl: <http://www.w3.org/2002/07/owl#> .\n",
        "\n",
        "\n",
        "#university\n",
        "\n",
        "# Classes\n",
        "\n",
        "dbe:Researcher rdfs:subClassOf schema:Person .\n",
        "dbe:Teacher rdfs:subClassOf schema:Person .\n",
        "dbe:Student rdfs:subClassOf schema:Person .\n",
        "\n",
        "# PhD candidate\n",
        "wiki:Q12764792 rdfs:subClassOf dbe:Student,dbe:Researcher.\n",
        "\n",
        "# Professor\n",
        "wiki:Q121594 rdfs:subClassOf dbe:Researcher, dbe:Teacher .\n",
        "\n",
        "dbe:AssistantProfessor rdfs:subClassOf wiki:Q121594, dbe:Researcher, dbe:Teacher.\n",
        "\n",
        "schema:Course a owl:Class .\n",
        "\n",
        "# Properties\n",
        "schema:teaches a owl:ObjectProperty ; \n",
        "      rdfs:domain dbe:Teacher ;\n",
        "    \trdfs:range schema:Course .\t\n",
        "\n",
        ":givesLecture rdfs:subPropertyOf schema:teaches .\n",
        ":givesLab rdfs:subPropertyOf schema:teaches .\n",
        "\n",
        "schema:title a owl:DatatypeProperty ;\n",
        "\trdfs:range xsd:string .\n",
        "\n",
        ":isSupervisedBy a owl:ObjectProperty .\n",
        ":supervises owl:inverseOf :isSupervisedBy .\n",
        "\n",
        "schema:baseSalary a owl:DatatypeProperty ;\n",
        "\trdfs:domain schema:employee.\n",
        "\n",
        "\n",
        "# Alice\n",
        "ex:AliceDoe a schema:Person;\n",
        "    a wiki:Q12764792;\n",
        "    schema:baseSalary \"500\"^^xsd:positiveInteger;\n",
        "    :isSupervisedBy ex:JohnBrown;\n",
        "    dbp:age \"22\"^^xsd:positiveInteger;                      \n",
        "    schema:birthDate \"2000-12-16\"^^xsd:date;          \n",
        "    schema:familyName \"Doe\";\n",
        "    rdfs:label \"Alice Doe\";\n",
        "    schema:gender schema:Female;\n",
        "    schema:givenName \"Alice\";\n",
        "    schema:height \"178\"^^xsd:positiveInteger;\n",
        "    schema:instructor ex:JohnBrown, ex:AryaParker, ex:PatrickWilson;\n",
        "    ex:classmate ex:KatrinePhill, ex:EricJohnson, ex:SelenaGarcia.\n",
        "\n",
        "\n",
        "# John\n",
        "ex:JohnBrown a schema:Person;\n",
        "    a wiki:Q121594;\n",
        "    schema:employee schema:CollegeOrUniversity;\n",
        "    schema:baseSalary \"5300\"^^xsd:positiveInteger;\n",
        "    dbp:age \"53\"^^xsd:positiveInteger;\n",
        "    schema:birthDate \"1969-05-07\"^^xsd:date;\n",
        "    schema:familyName \"John\";\n",
        "    rdfs:label \"John Brown\";\n",
        "    schema:gender schema:Male;\n",
        "    schema:givenName \"John\";\n",
        "    schema:height \"185\"^^xsd:positiveInteger;\n",
        "    schema:colleague ex:AryaParker, ex:FrankJones, ex:johnPitter, ex:codyModly, ex:JinzhouYang, ex:OzgeErten.\n",
        "\n",
        "# Arya\n",
        "ex:AryaParker a schema:Person;\n",
        "    a dbe:AssistantProfessor;\n",
        "    schema:employee schema:CollegeOrUniversity;\n",
        "    schema:baseSalary \"5000\"^^xsd:positiveInteger;\n",
        "    dbp:age \"57\"^^xsd:positiveInteger;\n",
        "    schema:birthDate \"1963-03-31\"^^xsd:date;\n",
        "    schema:familyName \"Parker\";\n",
        "    rdfs:label \"Arya Parker\";\n",
        "    schema:gender schema:Female;\n",
        "    schema:givenName \"Parker\";\n",
        "    schema:height \"164\"^^xsd:positiveInteger;\n",
        "    schema:colleague ex:JohnBrown, ex:FrankJones, ex:johnPitter, ex:codyModly, ex:JinzhouYang, ex:OzgeErten.\n",
        "\n",
        "\n",
        "# Katrine\n",
        "ex:KatrinePhill a schema:Person;\n",
        "    a dbe:Researcher;\n",
        "    dbo:student schema:CollegeOrUniversity;\n",
        "    dbp:age \"65\"^^xsd:positiveInteger;\n",
        "    schema:birthDate \"1947-01-14\"^^xsd:date;\n",
        "    schema:familyName \"Phill\";\n",
        "    rdfs:label \"Katrine Phill\";\n",
        "    schema:gender schema:Female;\n",
        "    schema:givenName \"Katrine\";\n",
        "    schema:height \"175\"^^xsd:positiveInteger;\n",
        "    schema:instructor ex:JohnBrown, ex:FrankJones, ex:PatrickWilson;\n",
        "    ex:classmate ex:AliceDoe, ex:GeorgeAnderson, ex:EricJohnson, ex:SelenaGarcia, ex:KarenJones.\n",
        "    \n",
        "\n",
        "# Frank\n",
        "ex:FrankJones a schema:Person;\n",
        "    a dbe:AssistantProfessor;\n",
        "    schema:employee schema:CollegeOrUniversity;\n",
        "    schema:baseSalary \"4300\"^^xsd:positiveInteger;\n",
        "    dbp:age \"76\"^^xsd:positiveInteger;\n",
        "    schema:birthDate \"1946-12-23\"^^xsd:date;\n",
        "    schema:familyName \"Jones\";\n",
        "    rdfs:label \"Frank Jones\";\n",
        "    schema:gender schema:Male;\n",
        "    schema:givenName \"Frank\";\n",
        "    schema:height \"174\"^^xsd:positiveInteger;\n",
        "    schema:colleague ex:JohnBrown, ex:AryaParker.\n",
        "\n",
        "# Karen\n",
        "ex:KarenJones a schema:Person;\n",
        "    a dbe:Student ;\n",
        "    dbo:student schema:CollegeOrUniversity;\n",
        "    dbp:age \"18\"^^xsd:positiveInteger;\n",
        "    schema:birthDate \"2004-06-17\"^^xsd:date;\n",
        "    schema:familyName \"Karen\";\n",
        "    rdfs:label \"Karen Jones\";\n",
        "    schema:gender schema:Female;\n",
        "    schema:givenName \"Karen\";\n",
        "    schema:height \"182\"^^xsd:positiveInteger;\n",
        "    schema:instructor ex:JohnBrown, ex:AryaParker, ex:FrankJones, ex:PatrickWilson;\n",
        "    ex:classmate ex:SelenaGarcia,ex:HarryLee, ex:KatrinePhill.\n",
        "\n",
        "# George\n",
        "ex:GeorgeAnderson a schema:Person;\n",
        "    a dbe:Student ;\n",
        "    dbo:student schema:CollegeOrUniversity;\n",
        "    dbp:age \"17\"^^xsd:positiveInteger;\n",
        "    schema:birthDate \"2005-02-11\"^^xsd:date;\n",
        "    schema:familyName \"Anderson\";\n",
        "    rdfs:label \"George Anderson\";\n",
        "    schema:gender schema:Male;\n",
        "    schema:givenName \"George\";\n",
        "    schema:height \"178\"^^xsd:positiveInteger;\n",
        "    schema:instructor ex:JohnBrown, ex:AryaParker,ex:FrankJones;\n",
        "    ex:classmate ex:KatrinePhill, ex:MelanieDavis, ex:HarryLee, ex:ElsaTaylor,ex:HarryLee.\n",
        "\n",
        "# Selena\n",
        "ex:SelenaGarcia a schema:Person;\n",
        "    a dbe:Student ;\n",
        "    dbo:student schema:CollegeOrUniversity;\n",
        "    dbp:age \"14\"^^xsd:positiveInteger;\n",
        "    schema:birthDate \"2008-12-25\"^^xsd:date;\n",
        "    schema:familyName \"Garcia\";\n",
        "    rdfs:label \"Selena Garcia\";\n",
        "    schema:gender schema:Female;\n",
        "    schema:givenName \"Garcia\";\n",
        "    schema:height \"172\"^^xsd:positiveInteger;\n",
        "    schema:instructor ex:JohnBrown, ex:PhillipMiller, ex:FrankJones ;\n",
        "    ex:classmate ex:AliceDoe, ex:MelanieDavis,ex:KatrinePhill.\n",
        "\n",
        "# Melanie\n",
        "ex:MelanieDavis a schema:Person;\n",
        "    a dbe:Student ;\n",
        "    dbo:student schema:CollegeOrUniversity;\n",
        "    dbp:age \"19\"^^xsd:positiveInteger;\n",
        "    schema:birthDate \"2003-07-18\"^^xsd:date;\n",
        "    schema:familyName \"Davis\";\n",
        "    rdfs:label \"Melanie Davis\";\n",
        "    schema:gender schema:Female;\n",
        "    schema:givenName \"Melanie\";\n",
        "    schema:height \"172\"^^xsd:positiveInteger;\n",
        "    schema:instructor ex:JohnBrown, ex:PhillipMiller, ex:FrankJones ;\n",
        "    ex:classmate ex:GeorgeAnderson, ex:SelenaGarcia, ex:HarryLee.\n",
        "\n",
        "\n",
        "# Eric\n",
        "ex:EricJohnson a schema:Person;\n",
        "    a dbe:Student ;\n",
        "    dbo:student schema:CollegeOrUniversity;\n",
        "    dbp:age \"16\"^^xsd:positiveInteger;\n",
        "    schema:birthDate \"2004-03-24\"^^xsd:date;\n",
        "    schema:familyName \"Johnson\";\n",
        "    rdfs:label \"Eric Johnson\";\n",
        "    schema:gender schema:Male;\n",
        "    schema:givenName \"Eric\";\n",
        "    schema:height \"174\"^^xsd:positiveInteger;\n",
        "    schema:instructor ex:AryaParker, ex:PhillipMiller,ex:FrankJones ;\n",
        "    ex:classmate ex:AliceDoe, ex:KatrinePhill.\n",
        "\n",
        "\n",
        "# Phillip\n",
        "ex:PhillipMiller a schema:Person;\n",
        "    a wiki:Q121594;\n",
        "    schema:employee schema:CollegeOrUniversity;\n",
        "    schema:baseSalary \"9500\"^^xsd:positiveInteger;\n",
        "    dbp:age \"38\"^^xsd:positiveInteger;\n",
        "    schema:birthDate \"1984-07-28\"^^xsd:date;\n",
        "    schema:familyName \"Miller\";\n",
        "    rdfs:label \"Phillip Miller\";\n",
        "    schema:gender schema:Male;\n",
        "    schema:givenName \"Phillip\";\n",
        "    schema:height \"184\"^^xsd:positiveInteger;\n",
        "    schema:colleague ex:AryaParker, ex:FrankJones, ex:johnPitter, ex:codyModly, ex:JinzhouYang, ex:OzgeErten.\n",
        "\n",
        "# Phil\n",
        "ex:PhilJohnson a schema:Person;\n",
        "    a dbe:AssistantProfessor;\n",
        "    schema:employee schema:CollegeOrUniversity;\n",
        "    schema:baseSalary \"5200\"^^xsd:positiveInteger;\n",
        "    dbp:age \"40\"^^xsd:positiveInteger;\n",
        "    schema:birthDate \"1982-08-28\"^^xsd:date;\n",
        "    schema:familyName \"Johnson\";\n",
        "    rdfs:label \"Phil Johnson\";\n",
        "    schema:gender schema:Male;\n",
        "    schema:givenName \"Phil\";\n",
        "    schema:height \"189\"^^xsd:positiveInteger;\n",
        "    schema:colleague ex:JohnBrown, ex:PhillipMiller.\n",
        "\n",
        "# Patrick\n",
        "ex:PatrickWilson a schema:Person;\n",
        "    a dbe:AssistantProfessor;\n",
        "    schema:employee schema:CollegeOrUniversity;\n",
        "    schema:baseSalary \"4700\"^^xsd:positiveInteger;\n",
        "    dbp:age \"45\"^^xsd:positiveInteger;\n",
        "    schema:birthDate \"1977-07-10\"^^xsd:date;\n",
        "    schema:familyName \"Wilson\";\n",
        "    rdfs:label \"Patrick Wilson\";\n",
        "    schema:gender schema:Male;\n",
        "    schema:givenName \"Patrick\";\n",
        "    schema:height \"175\"^^xsd:positiveInteger;\n",
        "    schema:colleague ex:JohnBrown, ex:PhilJohnson.\n",
        "\n",
        "# Elsa\n",
        "ex:ElsaTaylor a schema:Person;\n",
        "    a dbe:Student ;\n",
        "    dbo:student schema:CollegeOrUniversity;\n",
        "    dbp:age \"21\"^^xsd:positiveInteger;\n",
        "    schema:birthDate \"2001-03-08\"^^xsd:date;\n",
        "    schema:familyName \"Taylor\";\n",
        "    rdfs:label \"Elsa Taylor\";\n",
        "    schema:gender schema:Female;\n",
        "    schema:givenName \"Elsa\";\n",
        "    schema:height \"155\"^^xsd:positiveInteger;\n",
        "    schema:instructor ex:JohnBrown, ex:PatrickWilson;\n",
        "    ex:classmate ex:GeorgeAnderson, ex:SelenaGarcia, ex:HarryLee.\n",
        "\n",
        "# Harry\n",
        "ex:HarryLee a schema:Person;\n",
        "    a dbe:Student ;\n",
        "    dbo:student schema:CollegeOrUniversity;\n",
        "    dbp:age \"22\"^^xsd:positiveInteger;\n",
        "    schema:birthDate \"2000-05-08\"^^xsd:date;\n",
        "    schema:familyName \"Lee\";\n",
        "    rdfs:label \"Harry Lee\";\n",
        "    schema:gender schema:Male;\n",
        "    schema:givenName \"Harry\";\n",
        "    schema:height \"177\"^^xsd:positiveInteger;\n",
        "    schema:instructor ex:FrankJones, ex:PhilJohnson;\n",
        "    ex:classmate ex:GeorgeAnderson, ex:ElsaTaylor, ex:KarenJones, ex:MelanieDavis .\n",
        "\"\"\""
      ],
      "metadata": {
        "id": "585OF2njMmnr"
      },
      "execution_count": null,
      "outputs": []
    },
    {
      "cell_type": "markdown",
      "source": [
        "#Code"
      ],
      "metadata": {
        "id": "v39df0xPKVFA"
      }
    },
    {
      "cell_type": "code",
      "source": [
        "# Execute the cell above and this cell to load the RDF graph and the schema.org vocabulary\n",
        "from rdflib import Graph\n",
        "g = Graph()\n",
        "# g.parse(\"assignment2_dataset.ttl\",format=\"ttl\")\n",
        "g.parse(data=university_rdf,format=\"ttl\")\n",
        "g.parse('https://schema.org/version/latest/schemaorg-current-https.ttl')"
      ],
      "metadata": {
        "colab": {
          "base_uri": "https://localhost:8080/"
        },
        "id": "11vLf2Z1VvyB",
        "outputId": "b600fe25-0bec-4ecd-d7ec-760fcd377ffb"
      },
      "execution_count": null,
      "outputs": [
        {
          "output_type": "execute_result",
          "data": {
            "text/plain": [
              "<Graph identifier=N544ea62279a641e48ca4c642564883fb (<class 'rdflib.graph.Graph'>)>"
            ]
          },
          "metadata": {},
          "execution_count": 3
        }
      ]
    },
    {
      "cell_type": "markdown",
      "metadata": {
        "id": "gRzv5TIx-BZS"
      },
      "source": [
        "**1. List the top four oldest people in the graph from oldest to youngest**"
      ]
    },
    {
      "cell_type": "code",
      "execution_count": null,
      "metadata": {
        "id": "1STGsOnP-FAz",
        "colab": {
          "base_uri": "https://localhost:8080/"
        },
        "outputId": "9b3ba3f8-c45f-4411-be70-c73009b4d685"
      },
      "outputs": [
        {
          "output_type": "stream",
          "name": "stdout",
          "text": [
            "http://example.org/FrankJones 76\n",
            "http://example.org/KatrinePhill 65\n",
            "http://example.org/AryaParker 57\n",
            "http://example.org/JohnBrown 53\n"
          ]
        }
      ],
      "source": [
        "TA_query = \"\"\"\n",
        "PREFIX schema: <http://schema.org/>\n",
        "PREFIX dbp: <http://dbpedia.org/property/>\n",
        "\n",
        "SELECT ?Person ?age\n",
        "WHERE {\n",
        "    ?Person a schema:Person ;\n",
        "              dbp:age ?age .\n",
        "} \n",
        "ORDER BY DESC(?age)\n",
        "LIMIT 4\n",
        "\"\"\"\n",
        "qres = g.query(TA_query)\n",
        "for row in qres:\n",
        "    print(f\"{row.Person} {row.age}\")"
      ]
    },
    {
      "cell_type": "markdown",
      "metadata": {
        "id": "Z9JHRcSX-M7b"
      },
      "source": [
        "**2. Identify the shortest student who has at least four classmates**\n"
      ]
    },
    {
      "cell_type": "code",
      "execution_count": null,
      "metadata": {
        "id": "uU-4Gi51-QBs",
        "colab": {
          "base_uri": "https://localhost:8080/"
        },
        "outputId": "fafe53be-d5b0-45e3-e94a-ac1e703fc9e6"
      },
      "outputs": [
        {
          "output_type": "stream",
          "name": "stdout",
          "text": [
            "http://example.org/KatrinePhill 175\n"
          ]
        }
      ],
      "source": [
        "TA_query = \"\"\"\n",
        "PREFIX schema:<http://schema.org/>\n",
        "PREFIX dbo:<https://dbpedia.org/ontology/>\n",
        "PREFIX ex:<http://example.org/>\n",
        "\n",
        "SELECT ?Person ?height \n",
        "WHERE {\n",
        "  {\n",
        "   SELECT ?Person\n",
        "   WHERE \n",
        "   {\n",
        "    ?Person a schema:Person ;\n",
        "              dbo:student ?student .\n",
        "    ?Person ex:classmate ?classmate.\n",
        "   }\n",
        "   GROUP BY ?Person\n",
        "   HAVING(COUNT(?classmate) >= 4)\n",
        "   }\n",
        "  ?Person schema:height ?height\n",
        "}\n",
        "ORDER BY ?height\n",
        "LIMIT 1\n",
        "\"\"\"\n",
        "qres = g.query(TA_query)\n",
        "for row in qres:\n",
        "    print(f\"{row.Person} {row.height}\")"
      ]
    },
    {
      "cell_type": "code",
      "source": [
        "TA_query = \"\"\"\n",
        "PREFIX schema:<http://schema.org/>\n",
        "PREFIX dbo:<https://dbpedia.org/ontology/>\n",
        "PREFIX ex:<http://example.org/>\n",
        "\n",
        "SELECT ?Person ?height (COUNT(?classmate) AS ?countclassmate)\n",
        "WHERE {\n",
        "  ?Person a schema:Person ;\n",
        "            dbo:student ?student .\n",
        "  ?Person ex:classmate ?classmate .\n",
        "  ?Person schema:height ?height .\n",
        "}\n",
        "GROUP BY ?Person ?height\n",
        "HAVING(COUNT(?classmate) >= 4)\n",
        "ORDER BY ASC(?height)\n",
        "LIMIT 1\n",
        "\"\"\"\n",
        "qres = g.query(TA_query)\n",
        "for row in qres:\n",
        "    print(f\"{row.Person} {row.height} {row.countclassmate}\")"
      ],
      "metadata": {
        "id": "wkfdyHCBcfBI",
        "colab": {
          "base_uri": "https://localhost:8080/"
        },
        "outputId": "c54cf0b5-f0f9-479b-81a8-475773a0b58a"
      },
      "execution_count": null,
      "outputs": [
        {
          "output_type": "stream",
          "name": "stdout",
          "text": [
            "http://example.org/KatrinePhill 175 5\n"
          ]
        }
      ]
    },
    {
      "cell_type": "markdown",
      "metadata": {
        "id": "eu6vqgKr-YZg"
      },
      "source": [
        "**3. List the teachers who have at least five colleagues and order them by highest salaries (in increasing order)?**"
      ]
    },
    {
      "cell_type": "code",
      "execution_count": null,
      "metadata": {
        "id": "cnFfychT-ctG",
        "colab": {
          "base_uri": "https://localhost:8080/"
        },
        "outputId": "a39ff14f-ff29-4f15-848a-47f86014226b"
      },
      "outputs": [
        {
          "output_type": "stream",
          "name": "stdout",
          "text": [
            "(rdflib.term.URIRef('http://example.org/AryaParker'), rdflib.term.Literal('5000', datatype=rdflib.term.URIRef('http://www.w3.org/2001/XMLSchema#positiveInteger')))\n",
            "(rdflib.term.URIRef('http://example.org/JohnBrown'), rdflib.term.Literal('5300', datatype=rdflib.term.URIRef('http://www.w3.org/2001/XMLSchema#positiveInteger')))\n",
            "(rdflib.term.URIRef('http://example.org/PhillipMiller'), rdflib.term.Literal('9500', datatype=rdflib.term.URIRef('http://www.w3.org/2001/XMLSchema#positiveInteger')))\n"
          ]
        }
      ],
      "source": [
        "TA_query = \"\"\"\n",
        "PREFIX dbe:<https://dbpedia.org/page/>\n",
        "PREFIX dbo: <https://dbpedia.org/ontology/>\n",
        "PREFIX schema: <http://schema.org/>\n",
        "\n",
        "SELECT ?Person ?baseSalary\n",
        "WHERE {\n",
        "    ?Person a schema:Person ;\n",
        "              schema:employee ?employee ;\n",
        "              schema:baseSalary ?baseSalary .\n",
        "    ?Person schema:colleague ?colleague.\n",
        "}\n",
        "GROUP BY ?Person ?baseSalary\n",
        "HAVING(COUNT(?colleague) >= 5)\n",
        "ORDER BY ?baseSalary\n",
        "\"\"\"\n",
        "\n",
        "qres = g.query(TA_query)\n",
        "for row in qres:\n",
        "    print(row)"
      ]
    },
    {
      "cell_type": "markdown",
      "metadata": {
        "id": "L0-l6MSRjQqZ"
      },
      "source": [
        "**4. Return the mean (average) age of male professors, and the mean age of female professors**"
      ]
    },
    {
      "cell_type": "code",
      "execution_count": null,
      "metadata": {
        "id": "x_i9xpCLnKwU",
        "colab": {
          "base_uri": "https://localhost:8080/"
        },
        "outputId": "a9c9a682-69b1-48bf-d9c9-2f0f425ffc27"
      },
      "outputs": [
        {
          "output_type": "stream",
          "name": "stdout",
          "text": [
            "(rdflib.term.URIRef('http://schema.org/Male'), rdflib.term.Literal('50.4', datatype=rdflib.term.URIRef('http://www.w3.org/2001/XMLSchema#decimal')))\n",
            "(rdflib.term.URIRef('http://schema.org/Female'), rdflib.term.Literal('57', datatype=rdflib.term.URIRef('http://www.w3.org/2001/XMLSchema#decimal')))\n"
          ]
        }
      ],
      "source": [
        "TA_query = \"\"\"\n",
        "PREFIX schema: <http://schema.org/>\n",
        "PREFIX dbp: <http://dbpedia.org/property/> \n",
        "\n",
        "SELECT ?gender (AVG(?age) AS ?avgage)\n",
        "WHERE {\n",
        "    ?Person a schema:Person ;\n",
        "              schema:gender ?gender ;\n",
        "              rdf:type ?type ;\n",
        "              dbp:age ?age .\n",
        "    ?type rdfs:subClassOf* dbe:Teacher .\n",
        "\n",
        "} GROUP BY ?gender\n",
        "\n",
        "\"\"\"\n",
        "\n",
        "qres = g.query(TA_query)\n",
        "for row in qres:\n",
        "    print(row)"
      ]
    },
    {
      "cell_type": "markdown",
      "metadata": {
        "id": "LoEsn_TGnMpE"
      },
      "source": [
        "**5. For each employee, calculate their \"net salary\"**\n"
      ]
    },
    {
      "cell_type": "code",
      "execution_count": null,
      "metadata": {
        "id": "wOkJPlo0tbgV",
        "colab": {
          "base_uri": "https://localhost:8080/"
        },
        "outputId": "c19b742f-9ed3-4727-8bf9-220da175061c"
      },
      "outputs": [
        {
          "output_type": "stream",
          "name": "stdout",
          "text": [
            "(rdflib.term.URIRef('http://example.org/JohnBrown'), rdflib.term.Literal('4770.00', datatype=rdflib.term.URIRef('http://www.w3.org/2001/XMLSchema#decimal')))\n",
            "(rdflib.term.URIRef('http://example.org/AryaParker'), rdflib.term.Literal('4500.00', datatype=rdflib.term.URIRef('http://www.w3.org/2001/XMLSchema#decimal')))\n",
            "(rdflib.term.URIRef('http://example.org/FrankJones'), rdflib.term.Literal('3870.00', datatype=rdflib.term.URIRef('http://www.w3.org/2001/XMLSchema#decimal')))\n",
            "(rdflib.term.URIRef('http://example.org/PhillipMiller'), rdflib.term.Literal('8550.00', datatype=rdflib.term.URIRef('http://www.w3.org/2001/XMLSchema#decimal')))\n",
            "(rdflib.term.URIRef('http://example.org/PhilJohnson'), rdflib.term.Literal('4680.00', datatype=rdflib.term.URIRef('http://www.w3.org/2001/XMLSchema#decimal')))\n",
            "(rdflib.term.URIRef('http://example.org/PatrickWilson'), rdflib.term.Literal('4230.00', datatype=rdflib.term.URIRef('http://www.w3.org/2001/XMLSchema#decimal')))\n"
          ]
        }
      ],
      "source": [
        "# For professior\n",
        "TA_query = \"\"\"\n",
        "PREFIX wiki: <https://www.wikidata.org/wiki/>\n",
        "PREFIX schema: <http://schema.org/>\n",
        "\n",
        "SELECT DISTINCT ?Person ?netSalary\n",
        "\n",
        "WHERE {\n",
        "    ?Person a schema:Person ;\n",
        "              schema:employee ?employee ;\n",
        "              schema:baseSalary ?baseSalary .\n",
        "    BIND((?baseSalary - ?baseSalary*.04 - ?baseSalary*.06) AS ?netSalary)\n",
        "}\n",
        "\n",
        "\"\"\"\n",
        "\n",
        "qres = g.query(TA_query)\n",
        "for row in qres:\n",
        "    print(row)"
      ]
    },
    {
      "cell_type": "markdown",
      "metadata": {
        "id": "QQv2Rn6UoBIt"
      },
      "source": [
        "**6. List all people with their first name or family name starting with the letter F, E, or A**"
      ]
    },
    {
      "cell_type": "code",
      "execution_count": null,
      "metadata": {
        "id": "mr94gmOYrnlI",
        "colab": {
          "base_uri": "https://localhost:8080/"
        },
        "outputId": "c6166553-ef1f-4b85-ec1e-d76d0ed4a2f9"
      },
      "outputs": [
        {
          "output_type": "stream",
          "name": "stdout",
          "text": [
            "http://example.org/AliceDoe Alice\n",
            "http://example.org/FrankJones Frank\n",
            "http://example.org/GeorgeAnderson Anderson\n",
            "http://example.org/EricJohnson Eric\n",
            "http://example.org/ElsaTaylor Elsa\n"
          ]
        }
      ],
      "source": [
        "TA_query = \"\"\"\n",
        "PREFIX schema: <http://schema.org/>\n",
        "PREFIX dbp: <http://dbpedia.org/property/>\n",
        "\n",
        "SELECT DISTINCT ?Person ?name\n",
        "WHERE {\n",
        "    ?Person a schema:Person ;\n",
        "      schema:familyName|schema:givenName ?name .\n",
        "    VALUES ?filter_letter { \"f\" \"e\" \"a\" }\n",
        "    FILTER(strstarts(lcase(?name), ?filter_letter))\n",
        "}\n",
        "\"\"\"\n",
        "qres = g.query(TA_query)\n",
        "for row in qres:\n",
        "    print(f\"{row.Person} {row.name}\")"
      ]
    },
    {
      "cell_type": "markdown",
      "source": [
        "**7. List all `dbe:Researcher` using inference**\n",
        "\n",
        "Your query should also returns subclasses of `dbe:Researcher`, such as PhD Candidates and AssistantResearcher, without directly using their URI (use the `rdfs:subClassOf` properties)\n",
        "\n",
        "**Hint: Use inference**\n",
        "\n",
        "\n"
      ],
      "metadata": {
        "id": "HySrj1eU-C6S"
      }
    },
    {
      "cell_type": "code",
      "source": [
        "TA_query = \"\"\"\n",
        "PREFIX dbo: <https://dbpedia.org/ontology/>\n",
        "PREFIX dbe: <https://dbpedia.org/page/>\n",
        "PREFIX schema:<http://schema.org/>\n",
        "PREFIX foaf: <http://xmlns.com/foaf/0.1/>\n",
        "\n",
        "\n",
        "SELECT  ?researcher\n",
        "WHERE {\n",
        "   ?researcher rdf:type/(rdfs:subClassOf|owl:equivalentClass)* dbe:Researcher .\n",
        "}\n",
        "\n",
        "\"\"\"\n",
        "\n",
        "qres = g.query(TA_query)\n",
        "for row in qres:\n",
        "    print(row)"
      ],
      "metadata": {
        "id": "1pnIpQ6e-NPC",
        "colab": {
          "base_uri": "https://localhost:8080/"
        },
        "outputId": "d0ce5394-7ca8-40d5-e1fd-7ba5240c17aa"
      },
      "execution_count": null,
      "outputs": [
        {
          "output_type": "stream",
          "name": "stdout",
          "text": [
            "(rdflib.term.URIRef('http://example.org/KatrinePhill'),)\n",
            "(rdflib.term.URIRef('http://example.org/AliceDoe'),)\n",
            "(rdflib.term.URIRef('http://example.org/JohnBrown'),)\n",
            "(rdflib.term.URIRef('http://example.org/PhillipMiller'),)\n",
            "(rdflib.term.URIRef('http://example.org/AryaParker'),)\n",
            "(rdflib.term.URIRef('http://example.org/FrankJones'),)\n",
            "(rdflib.term.URIRef('http://example.org/PhilJohnson'),)\n",
            "(rdflib.term.URIRef('http://example.org/PatrickWilson'),)\n"
          ]
        }
      ]
    },
    {
      "cell_type": "markdown",
      "source": [
        "**8. Create missing relations when `:isSupervisedBy` is defined in one direction but not `:supervises` in the other direction. For example, if john `:isSupervisedBy` mary, then we know that mary `:supervises` john**\n",
        "\n",
        "Requirements: you should use a CONSTRUCT query to build the missing triples\n"
      ],
      "metadata": {
        "id": "L4o8T4Jb_Lyj"
      }
    },
    {
      "cell_type": "code",
      "source": [
        "TA_query = \"\"\"\n",
        "PREFIX dbo: <https://dbpedia.org/ontology/>\n",
        "PREFIX dbe: <https://dbpedia.org/page/>\n",
        "PREFIX schema:<http://schema.org/>\n",
        "PREFIX foaf: <http://xmlns.com/foaf/0.1/>\n",
        "PREFIX : <http://example.org/voc#>\n",
        "\n",
        "PREFIX schema: <http://schema.org/>\n",
        "CONSTRUCT {\n",
        "    ?prof :supervises ?student .\n",
        "}\n",
        "WHERE {\n",
        "  ?student :isSupervisedBy ?prof .\n",
        "  MINUS {\n",
        "    ?prof :supervises ?student .\n",
        "  }\n",
        "}\n",
        "\"\"\"\n",
        "qres = g.query(TA_query)\n",
        "for row in qres:\n",
        "    print(row)"
      ],
      "metadata": {
        "id": "okw79uQGbmbr",
        "colab": {
          "base_uri": "https://localhost:8080/"
        },
        "outputId": "ad31a7d5-7938-4076-a1ae-9a37682e2ebb"
      },
      "execution_count": null,
      "outputs": [
        {
          "output_type": "stream",
          "name": "stdout",
          "text": [
            "(rdflib.term.URIRef('http://example.org/JohnBrown'), rdflib.term.URIRef('http://example.org/voc#supervises'), rdflib.term.URIRef('http://example.org/AliceDoe'))\n"
          ]
        }
      ]
    },
    {
      "cell_type": "markdown",
      "source": [
        "**9. Count the number of men and women per `rdf:type` in the graph (aka. the `a` relation)**"
      ],
      "metadata": {
        "id": "ACi2uKN4guyQ"
      }
    },
    {
      "cell_type": "code",
      "source": [
        "TA_query = \"\"\"\n",
        "PREFIX dbo: <https://dbpedia.org/ontology/>\n",
        "PREFIX dbe: <https://dbpedia.org/page/>\n",
        "PREFIX schema:<http://schema.org/>\n",
        "PREFIX foaf: <http://xmlns.com/foaf/0.1/>\n",
        "PREFIX : <http://example.org/voc#>\n",
        "\n",
        "\n",
        "PREFIX schema: <http://schema.org/>\n",
        "SELECT ?type ?gender (count(?person) as ?count)\n",
        "WHERE {\n",
        "    ?person a ?type ;\n",
        "        schema:gender ?gender .\n",
        "}\n",
        "GROUP BY ?type ?gender\n",
        "ORDER BY DESC(?count)\n",
        "\"\"\"\n",
        "qres = g.query(TA_query)\n",
        "for row in qres:\n",
        "    print(row)\n"
      ],
      "metadata": {
        "colab": {
          "base_uri": "https://localhost:8080/"
        },
        "id": "Uc4P9Eteg8cm",
        "outputId": "080ce879-c185-4ae2-8701-766b2f972dfb"
      },
      "execution_count": null,
      "outputs": [
        {
          "output_type": "stream",
          "name": "stdout",
          "text": [
            "(rdflib.term.URIRef('http://schema.org/Person'), rdflib.term.URIRef('http://schema.org/Male'), rdflib.term.Literal('8', datatype=rdflib.term.URIRef('http://www.w3.org/2001/XMLSchema#integer')))\n",
            "(rdflib.term.URIRef('http://schema.org/Person'), rdflib.term.URIRef('http://schema.org/Female'), rdflib.term.Literal('7', datatype=rdflib.term.URIRef('http://www.w3.org/2001/XMLSchema#integer')))\n",
            "(rdflib.term.URIRef('https://dbpedia.org/page/Student'), rdflib.term.URIRef('http://schema.org/Female'), rdflib.term.Literal('4', datatype=rdflib.term.URIRef('http://www.w3.org/2001/XMLSchema#integer')))\n",
            "(rdflib.term.URIRef('https://dbpedia.org/page/AssistantProfessor'), rdflib.term.URIRef('http://schema.org/Male'), rdflib.term.Literal('3', datatype=rdflib.term.URIRef('http://www.w3.org/2001/XMLSchema#integer')))\n",
            "(rdflib.term.URIRef('https://dbpedia.org/page/Student'), rdflib.term.URIRef('http://schema.org/Male'), rdflib.term.Literal('3', datatype=rdflib.term.URIRef('http://www.w3.org/2001/XMLSchema#integer')))\n",
            "(rdflib.term.URIRef('http://www.wikidata.org/entity/Q121594'), rdflib.term.URIRef('http://schema.org/Male'), rdflib.term.Literal('2', datatype=rdflib.term.URIRef('http://www.w3.org/2001/XMLSchema#integer')))\n",
            "(rdflib.term.URIRef('http://www.wikidata.org/entity/Q12764792'), rdflib.term.URIRef('http://schema.org/Female'), rdflib.term.Literal('1', datatype=rdflib.term.URIRef('http://www.w3.org/2001/XMLSchema#integer')))\n",
            "(rdflib.term.URIRef('https://dbpedia.org/page/AssistantProfessor'), rdflib.term.URIRef('http://schema.org/Female'), rdflib.term.Literal('1', datatype=rdflib.term.URIRef('http://www.w3.org/2001/XMLSchema#integer')))\n",
            "(rdflib.term.URIRef('https://dbpedia.org/page/Researcher'), rdflib.term.URIRef('http://schema.org/Female'), rdflib.term.Literal('1', datatype=rdflib.term.URIRef('http://www.w3.org/2001/XMLSchema#integer')))\n"
          ]
        }
      ]
    },
    {
      "cell_type": "markdown",
      "source": [
        "**10. Write a federated query to Wikidata to retrieve the inception date of Maastricht University**"
      ],
      "metadata": {
        "id": "FI1mpMmjmmJt"
      }
    },
    {
      "cell_type": "code",
      "source": [
        "TA_query = \"\"\"\n",
        "PREFIX dbo: <https://dbpedia.org/ontology/>\n",
        "PREFIX dbe: <https://dbpedia.org/page/>\n",
        "PREFIX schema:<http://schema.org/>\n",
        "PREFIX foaf: <http://xmlns.com/foaf/0.1/>\n",
        "PREFIX : <http://example.org/voc#>\n",
        "PREFIX wiki: <http://www.wikidata.org/entity/>\n",
        "PREFIX wdp: <http://www.wikidata.org/prop/>\n",
        "PREFIX wdps: <http://www.wikidata.org/prop/statement/>\n",
        "\n",
        "SELECT DISTINCT ?date\n",
        "WHERE {\n",
        "  ex:AryaParker schema:employee ?uni.\n",
        "    SERVICE <https://query.wikidata.org/sparql> {\n",
        "      # Maastricht University inception date\n",
        "      ?uni wdp:P571 ?date .\n",
        "    }\n",
        "} LIMIT 1\n",
        "\"\"\"\n",
        "qres = g.query(TA_query)\n",
        "for row in qres:\n",
        "    print(row.date)\n"
      ],
      "metadata": {
        "id": "Ym8m_GHyhszD"
      },
      "execution_count": null,
      "outputs": []
    }
  ],
  "metadata": {
    "colab": {
      "collapsed_sections": [],
      "provenance": []
    },
    "kernelspec": {
      "display_name": "Python 3.10.6 64-bit",
      "language": "python",
      "name": "python3"
    },
    "language_info": {
      "codemirror_mode": {
        "name": "ipython",
        "version": 3
      },
      "file_extension": ".py",
      "mimetype": "text/x-python",
      "name": "python",
      "nbconvert_exporter": "python",
      "pygments_lexer": "ipython3",
      "version": "3.10.6"
    },
    "vscode": {
      "interpreter": {
        "hash": "fd9f7c313d852cfaa2936a8f1c936400b024aef9b1419cae2b7511e9f21182ca"
      }
    }
  },
  "nbformat": 4,
  "nbformat_minor": 0
}