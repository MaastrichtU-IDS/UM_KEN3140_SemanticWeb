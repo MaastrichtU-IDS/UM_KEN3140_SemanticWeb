{
  "nbformat": 4,
  "nbformat_minor": 0,
  "metadata": {
    "colab": {
      "provenance": []
    },
    "kernelspec": {
      "name": "python3",
      "display_name": "Python 3"
    },
    "language_info": {
      "name": "python"
    }
  },
  "cells": [
    {
      "cell_type": "markdown",
      "source": [
        "# Querying with SPARQL - rdflib\n",
        "\n",
        "rdflib Python package allows querying RDF KGs with SPARQL.   \n",
        "\n",
        "More details: https://rdflib.readthedocs.io/en/stable/intro_to_sparql.html"
      ],
      "metadata": {
        "id": "Qm9CBCHmzeGd"
      }
    },
    {
      "cell_type": "code",
      "source": [
        "!pip install rdflib"
      ],
      "metadata": {
        "id": "UzWGb7Aj25VD"
      },
      "execution_count": null,
      "outputs": []
    },
    {
      "cell_type": "code",
      "source": [
        "#Create RDF triples with rdflib\n",
        "\n",
        "from rdflib import URIRef, Literal, Namespace, Graph\n",
        "from rdflib.namespace import FOAF,  RDF\n",
        "\n",
        "UM = Namespace('http://maastrichtuniversity.nl/')\n",
        "\n",
        "g = Graph()\n",
        "\n",
        "# Bind prefixes to namespace\n",
        "g.bind('um', UM)\n",
        "g.bind('foaf',FOAF)\n",
        "\n",
        "#create nodes\n",
        "remzi= URIRef('http://maastrichtuniversity.nl/Remzi')\n",
        "computerScientist = URIRef('http://maastrichtuniversity.nl/Computer_Scientist')\n",
        "maryam= URIRef('http://maastrichtuniversity.nl/Maryam')\n",
        "jinzhou= URIRef('http://maastrichtuniversity.nl/Jinzhou')\n",
        "ozge= URIRef('http://maastrichtuniversity.nl/Ozge')\n",
        "teachingAssistant = URIRef('http://maastrichtuniversity.nl/Teaching_Assistant')\n",
        "\n",
        "#add nodes and relations to graph \n",
        "g.add((remzi, RDF.type, computerScientist))\n",
        "g.add((remzi, FOAF.firstName, Literal('Remzi')))\n",
        "g.add((remzi, FOAF.lastName, Literal('Celebi')))\n",
        "g.add((maryam, RDF.type, teachingAssistant))\n",
        "g.add((maryam, FOAF.firstName, Literal('Maryam')))\n",
        "g.add((maryam, FOAF.lastName, Literal('Mohammadi')))\n",
        "g.add((jinzhou, RDF.type, teachingAssistant))\n",
        "g.add((jinzhou, FOAF.firstName, Literal('Jinzhou')))\n",
        "g.add((jinzhou, FOAF.lastName, Literal('Yang')))\n",
        "g.add((ozge, RDF.type, teachingAssistant))\n",
        "g.add((ozge, FOAF.firstName, Literal('Ozge')))\n",
        "g.add((ozge, FOAF.lastName, Literal('Erten')))\n"
      ],
      "metadata": {
        "id": "V52iFleY3C_P"
      },
      "execution_count": null,
      "outputs": []
    },
    {
      "cell_type": "code",
      "execution_count": null,
      "metadata": {
        "id": "gtnGCOXXkB_h"
      },
      "outputs": [],
      "source": [
        "#sample SPARQL query: show all TA's in the graph\n",
        "\n",
        "TA_query = \"\"\"\n",
        "SELECT ?fname ?lname\n",
        "WHERE {\n",
        "    ?a rdf:type um:Teaching_Assistant .\n",
        "    ?a foaf:firstName ?fname .\n",
        "    ?a foaf:lastName ?lname .\n",
        "}\"\"\"\n",
        "\n",
        "qres = g.query(TA_query)\n",
        "for row in qres:\n",
        "    print(f\"{row.fname} {row.lname}\")"
      ]
    },
    {
      "cell_type": "markdown",
      "source": [
        "# Task 1 - 10 min\n",
        "\n",
        "List 20 books and their authors in DBpedia that have the term “grand” in their name.\\\n",
        "Hint: use the function contains(string_to_look_in,string_to_look_for)\n",
        "\n",
        "\n"
      ],
      "metadata": {
        "id": "l03bQeSl_SVr"
      }
    },
    {
      "cell_type": "markdown",
      "source": [
        "**Note:** The SERVICE keyword of SPARQL 1.1 can send a query to a remote SPARQL endpoint.The structure:\n",
        "\n",
        "```\n",
        "  SELECT ?s\n",
        "    WHERE {\n",
        "      SERVICE <https://dbpedia.org/sparql> {\n",
        "        ?s ?p ?o .\n",
        "      }\n",
        "    }\n",
        "\n",
        "```\n",
        "\n",
        "\n",
        "Use [**prefix.cc**](https://prefix.cc) to discover the full IRIs for unknown prefixes you may encounter"
      ],
      "metadata": {
        "id": "09eaIQbHFuKB"
      }
    },
    {
      "cell_type": "code",
      "source": [
        "#answer\n"
      ],
      "metadata": {
        "id": "Wmko9Aw4_QAd"
      },
      "execution_count": null,
      "outputs": []
    },
    {
      "cell_type": "markdown",
      "source": [
        "# Task 2 - 10 min\n",
        "Write a query to:\n",
        "\n",
        "* List 10 books with a name in English starting with \"she\" (case-insensitive). \\\n",
        "Hint: Use langMatches, STRSTARTS and lcase functions.\\\n",
        "* List 5 unique book categories for all short books (less than 300 pages) written by authors who were born in Amsterdam. \\\n",
        "Hint: Use the dct:subject property of dbo:Book to define “category” in this task.\n",
        "\n"
      ],
      "metadata": {
        "id": "dzhMc4fy_oru"
      }
    },
    {
      "cell_type": "code",
      "source": [
        "#answer\n"
      ],
      "metadata": {
        "id": "69sKeCdNAFrC"
      },
      "execution_count": null,
      "outputs": []
    }
  ]
}