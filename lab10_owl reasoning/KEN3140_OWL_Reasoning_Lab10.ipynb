{
  "cells": [
    {
      "cell_type": "markdown",
      "metadata": {
        "id": "C00kf6ZUaqui"
      },
      "source": [
        "**KEN3140 (Semantic Web) Lab 10**\n",
        "\n",
        "Constructing ontologies with the OWL API\n",
        "\n",
        "**Date**: 10 October 2022\n",
        "\n",
        "**Author**: Kody Moodley & Remzi Celebi & Jinzhou Yang\n",
        "\n",
        "**Affiliation**: Institute of Data Science, Maastricht University\n",
        "\n",
        "**Notebook Description**\n",
        "\n",
        "This is a Jupyter notebook that allows one to programmatically construct ontologies using the Python-based OWL API. Owlready2 is a package for ontology-oriented programming in Python, which allows you to make use of the most important features of the OWL API in a much more concise way than having to use the original API.\n",
        "\n",
        "**Background: please read this section carefully before beginning the lab.**\n",
        "\n",
        "This lab follows on from Lab 6, 7, and 8 in which you familiarised yourself with the intuitions behind constructing OWL ontologies, the expressivity, reasoning complexity, and semantics that need to be taken into account when constructing an ontology, and how this can affect its accuracy or quality. So far, you have used Protege for constructing ontologies. Protege is a well-known ontology editor and it also has a cloud-based, collaborative version WebProtege. However, Protege is just one tool amongst a variety of Semantic Web tools, not only ontology editors, but also reasoners, web applications, and frameworks that push the vision of the Semantic Web forward. This lab will ask you to construct an OWL ontology programmatically using the OWL API instead of using a graphical ontology editor.\n",
        "\n",
        "*Why not just use a graphical ontology editor?*\n",
        "\n",
        "You can! However, in practice, it is useful to be able to load an ontology, edit it and \"attach\" it to extracted RDF data all programmatically from a script or software library. This is so that we can perform queries, reasoning, and mining algorithms that form part of a complex chain of computational processes (i.e., a group of software services called a scientific workflow).\n",
        "\n",
        "**Lab instructions**\n",
        "\n",
        "Your task in this lab is to construct an OWL ontology describing the familiar domain of family relations that we have been using throughout this course. In other words, build your own family relations ontology with OWL 2 DL axioms that you think should be in this ontology. You do not have to reproduce the same ontology that was used in Labs 6-8. However, you may reuse some terms from this ontology if you wish. You will find example ontology construction commands you will need in Sections 2-3 of this notebook. Make use of the reasoner incrementally after adding new axioms (especially complex ones such as role constraints axioms) to check if unexpected inferences or logical errors arise. Example commands of how to invoke the reasoner can be found in Section 3.\n",
        "\n",
        "**Notebook structure**\n",
        "\n",
        "\n",
        "Sections 1 - 3 of this notebook demonstrate in detail, through examples, how to use Owlready2 to build OWL ontologies programmatically. \n",
        "\n",
        "\n",
        "**Learning objectives**\n",
        "\n",
        "How to:\n",
        "\n",
        "*   Construct and reason with OWL ontologies\n",
        "*   Generate explanations for entailments in OWL ontologies\n",
        "*   Debug unintended inferences in OWL ontologies\n",
        "\n",
        "**Documentation**\n",
        "\n",
        "* Jupyter notebooks: https://jupyter.org/ \n",
        "* Owlready2: https://owlready2.readthedocs.io/en/latest/ \n",
        "\n",
        "**1. Import Owlready2**\n",
        "\n",
        "First, we need to import Owlready2. \n"
      ]
    },
    {
      "cell_type": "code",
      "execution_count": null,
      "metadata": {
        "colab": {
          "base_uri": "https://localhost:8080/"
        },
        "id": "4AMD49H9lYw2",
        "outputId": "23e0f408-20c7-41a5-b636-711bac248327",
        "vscode": {
          "languageId": "python"
        }
      },
      "outputs": [],
      "source": [
        "!pip install owlready2"
      ]
    },
    {
      "cell_type": "markdown",
      "metadata": {
        "id": "403cvmM5AeaT"
      },
      "source": [
        "**2. Examples to get started** \n",
        "\n",
        "Have a look at these examples to show you how to build ontologies using owlready2. "
      ]
    },
    {
      "cell_type": "code",
      "execution_count": null,
      "metadata": {
        "id": "8uMGydEidvfe",
        "vscode": {
          "languageId": "python"
        }
      },
      "outputs": [],
      "source": [
        "import owlready2 as owl"
      ]
    },
    {
      "cell_type": "markdown",
      "metadata": {
        "id": "NSrEoeBRd8_w"
      },
      "source": [
        "**2a. Creating an ontology**\n",
        "\n",
        "\n",
        "Creating a new OWL ontology by specifying an IRI string and set it to the currently selected ontology (\"http://maastrichtuniversity.nl/semweb/2022/lab10#\"); Using the function https://owlready2.readthedocs.io/en/latest/onto.html  \n"
      ]
    },
    {
      "cell_type": "code",
      "execution_count": null,
      "metadata": {
        "vscode": {
          "languageId": "python"
        }
      },
      "outputs": [],
      "source": [
        "onto = owl.get_ontology(\"http://maastrichtuniversity.nl/semweb/2022/lab10#\") "
      ]
    },
    {
      "cell_type": "markdown",
      "metadata": {
        "id": "ioF4BcPnebVi"
      },
      "source": [
        "**2b. Creating (atomic) classes**\n",
        "\n",
        "*   Create single atomic class (Woman)\n",
        "*   Create multiple atomic classes (Man, Male, Female, Person, Adult, Car, Tyre, USCitizen, Passport, Leg, Arthropod, JohnsBookClubMembers)\n",
        "*   List the axioms and entities in the ontology;\n",
        "* Refer to the function https://owlready2.readthedocs.io/en/latest/class.html "
      ]
    },
    {
      "cell_type": "markdown",
      "metadata": {
        "id": "UVUoPG1ce-D1"
      },
      "source": [
        "**2c. Creating properties**\n",
        "\n",
        "\n",
        "*   Create single object property (hasGender)\n",
        "*   Create multiple object properties at once (hasPart, teaches, studentOf, owns, hasSister, hasSibling, hasDocument)\n",
        "*   Specify whether an object property is transitive, reflexive, symmetric etc.\n",
        "* Similar process for DATA properties (hasWeight, name, bornOn) \n",
        "* List the object property in the ontology;\n",
        "* Refer to the function https://owlready2.readthedocs.io/en/latest/properties.html "
      ]
    },
    {
      "cell_type": "markdown",
      "metadata": {
        "id": "dwSi0awtgXQ6"
      },
      "source": [
        "**2d. Creating individuals**\n",
        "\n",
        "*   Create single individual (john)\n",
        "*   Create multiple individuals at once (sara, ford_mondeo_16, mary)\n",
        "* List the individuals in the ontology;\n",
        "* Refer to the function https://owlready2.readthedocs.io/en/latest/class.html#creating-individuals "
      ]
    },
    {
      "cell_type": "markdown",
      "metadata": {
        "id": "iRAxQ3pHgoXt"
      },
      "source": [
        "**2e. Creating TBox axioms**\n",
        "\n",
        "*   Create subclass axioms, refer to the function https://owlready2.readthedocs.io/en/latest/class.html?highlight=is_a#mutli-class-individuals \n",
        "   * (Woman subClassOf Person and (hasGender some Female))\n",
        "   * (Man subClassOf Person and (hasGender some Male))\n",
        "   * (Car subClassOf hasPart exactly 4 Tyre)\n",
        "   * (USCitizen subClassOf hasDocument max 2 Passport)\n",
        "   * (Arthropod subClassOf hasPart min 6 Leg)\n",
        "\n",
        "*   Create OWL equivalent classes axiom and add it to the currently selected ontology (Man equivalentTo Person and Adult and (hasGender some Male)) and (Woman equivalentTo Person and Adult and (hasGender some Female)) refer to the function \"equivalent_to\" of the example https://owlready2.readthedocs.io/en/latest/reasoning.html?highlight=equivalent_to#setting-up-everything \n",
        "\n",
        "*   Create OWL disjoint classes axiom and add it to the currently selected ontology (Man disjointWith Woman) and (Female disjointWith Male) refer to the function https://owlready2.readthedocs.io/en/latest/disjoint.html?highlight=AllDisjoint#disjoint-classes\n",
        "\n",
        "*   Create axioms using nominals (JohnsBookClubMembers equivalentTo {john,mary,sara})\n",
        "\n",
        "*   Create domain & range axioms, use the function https://owlready2.readthedocs.io/en/latest/properties.html?highlight=domain%20%26%20range#getting-domain-and-range\n",
        "  * (hasGender Domain Person)\n",
        "  * (hasGender Range Male or Female)\n"
      ]
    },
    {
      "cell_type": "markdown",
      "metadata": {
        "id": "kY1W6Geqg6HZ"
      },
      "source": [
        "**2f. Creating ABox axioms**\n",
        "\n",
        "\n",
        "*   Create class assertion, refer to the example, learn how to add the restrictions in class definition https://owlready2.readthedocs.io/en/latest/restriction.html?highlight=assertion\n",
        "  * (john Type Adult)\n",
        "  * (mary Type Adult)\n",
        "\n",
        "*   **NB: create property assertion**\n",
        "Refer to the example, learn how to add the restrictions on a property https://owlready2.readthedocs.io/en/latest/restriction.html?highlight=append \n",
        " * (john hasGender Male)\n",
        " * (mary hasGender Female)\n",
        " * (john marriedTo mary)\n",
        "\n",
        "*   Create different individuals axiom (specify each individual name) (john , mary , sara) use the function https://owlready2.readthedocs.io/en/latest/disjoint.html?highlight=AllDifferent#different-individuals \n",
        "\n",
        "*    Make **all** individual names in the ontology refer to distinct objects from the domain \n",
        "* List the ontology."
      ]
    },
    {
      "cell_type": "markdown",
      "metadata": {
        "id": "70QLj_UPmTQz"
      },
      "source": [
        "**2g. Creating RBox axioms**\n",
        "\n",
        "**Note the \":\" after SubPropertyOf and InverseOf** (hasSister SubPropertyOf hasSibling) use the function https://owlready2.readthedocs.io/en/latest/restriction.html?highlight=property%20composition#property-chain \n",
        "\n",
        "\n",
        "*   role / property composition axiom (owns hasPart SubPropertyOf owns)\n",
        "\n",
        "\n",
        "*   inverse property axiom (teaches InverseOf studentOf)."
      ]
    },
    {
      "cell_type": "markdown",
      "metadata": {
        "id": "YF8sMs1lmyuf"
      },
      "source": [
        "**2h. Saving an ontology to file; loading an ontology from a remote IRI; and removing entities from an ontology**\n",
        "\n",
        "* Save active ontology to local file using Manchester OWL syntax\n",
        "saveOntology(\"testontology.owl\"); use the function https://owlready2.readthedocs.io/en/latest/onto.html?highlight=save#saving-an-ontology-to-an-owl-file \n",
        "\n",
        "* Remove entities using the function https://owlready2.readthedocs.io/en/latest/class.html?highlight=removing%20entities#destroying-entities "
      ]
    },
    {
      "cell_type": "markdown",
      "metadata": {
        "id": "KtKpqB-qnaM0"
      },
      "source": [
        "**2i. Visualise your ontology using WebVowl**\n",
        "\n",
        "You can upload your OWL file (less than 5MB) to the WebVowel online ontology visualiser to explore your ontology graphically. Just in case the link above does not work for WebVowel, you can try [this one](https://service.tib.eu/webvowl/) as well. Protégé itself also has ontology visualisation plugins e.g. OntoGraf developed by its users and community. You can find OntoGraf under Window>Tabs>OntoGraf in Protégé. However, WebVowel has a more visually appealing interface. There are other ontology visualisers available as well, for example, OWLGrEd. Feel free to try these tools out, they are quite helpful to get an overview of the kind of knowledge present in an ontology."
      ]
    },
    {
      "cell_type": "markdown",
      "metadata": {
        "id": "1IpCvCcwn6eG"
      },
      "source": [
        "**3. Reasoning with your ontology using OWL2 reasoners**"
      ]
    },
    {
      "cell_type": "markdown",
      "metadata": {
        "id": "qiveDfXFoZ_R"
      },
      "source": [
        "**3a. Compute the subclasses or superclasses of a given class**\n",
        "\n",
        "* Get super classes of a given class expression / atomic class (hasGender some Male)\n",
        "* Get subclasses of a given class expression / atomic class (hasGender some Male)\n",
        "* Run the reasoner https://owlready2.readthedocs.io/en/latest/reasoning.html#running-the-reasoner "
      ]
    },
    {
      "cell_type": "markdown",
      "metadata": {
        "id": "1-DqENxLolEJ"
      },
      "source": [
        "**3b. Is the ontology consistent?** \n",
        "\n",
        "Use the function https://owlready2.readthedocs.io/en/latest/reasoning.html?highlight=consistent%20ontology#inconsistent-classes-and-ontologies \n",
        "* creat classes (Bird Penguin FlyingOrganism)\n",
        "* create Axiom (Bird subClassOf FlyingOrganism)\n",
        "* create Axiom (Penguin subClassOf Bird)\n",
        "* create Axiom (Penguin subClassOf not FlyingOrganism)\n",
        "* create Individual (tweety)\n",
        "* create Axiom (tweety Type Penguin)\n"
      ]
    }
  ],
  "metadata": {
    "colab": {
      "collapsed_sections": [],
      "provenance": []
    },
    "kernelspec": {
      "display_name": "Python 3",
      "name": "python3"
    }
  },
  "nbformat": 4,
  "nbformat_minor": 0
}