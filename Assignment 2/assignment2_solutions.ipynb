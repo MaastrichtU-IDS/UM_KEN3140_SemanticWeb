{
  "nbformat": 4,
  "nbformat_minor": 0,
  "metadata": {
    "colab": {
      "provenance": []
    },
    "kernelspec": {
      "name": "python3",
      "display_name": "Python 3"
    },
    "language_info": {
      "name": "python"
    }
  },
  "cells": [
    {
      "cell_type": "markdown",
      "source": [
        "# Tasks\n",
        "\n",
        "Please first read assignment 2 instruction file, import necessary libararies, load the dataset and then write SPARQL query for following questions:\n",
        "\n",
        "Write valid SPARQL queries to:\n",
        "\n",
        "1. List the top four oldest people in the graph from oldest to youngest\n",
        "\n",
        "2. Identify the shortest student who has at least four classmates\n",
        "\n",
        "3. List the teachers who have the highest salaries (in increasing order) and have at least five colleagues?\n",
        "\n",
        "4. Return the mean (average) age of male professors, and the mean age of female professors\n",
        "\n",
        "5. For each employee, calculate their \"net salary\"\n",
        "Important notes:\n",
        "\n",
        "Net Salary Calculation for Professor = Base salary - income tax (%4 of the base salary) - pension (%6 of the base salary)\n",
        "\n",
        "Net Salary Calculation for other employees = Base salary - income tax (%4 of the base salary) - pension (%3 of the base salary)\n",
        "\n",
        "6. List the number of all students and all teachers (show ?studentcount ?teachercount in your result)\n",
        "Important notes: You will provide two queries for this task. One with inference and one without. Paste both queries below, one with inference toggled off and one with inference toggled on (the queries should be in separate cells).\n",
        "\n",
        "7. List people who are both student and employee?\n",
        "Hint: Use inference\n",
        "\n",
        "8. Open-ended question!  Write a meaningful question and its corresponding SPARQL query using at least a subquery and group by.\n"
      ],
      "metadata": {
        "id": "Yr6a2cmR3MwR"
      }
    },
    {
      "cell_type": "markdown",
      "source": [
        "**important**\n",
        "\n",
        "In the following cell you must provide code for loading dataset in a graph."
      ],
      "metadata": {
        "id": "43hN9iy65B-_"
      }
    },
    {
      "cell_type": "code",
      "source": [
        "#import libararies\n",
        "#load dataset in a graph\n",
        "#write SPARQL queries"
      ],
      "metadata": {
        "id": "bzTvynN33XBF"
      },
      "execution_count": null,
      "outputs": []
    },
    {
      "cell_type": "code",
      "source": [
        "#Query 1?"
      ],
      "metadata": {
        "id": "7kuw7pCk4BWi"
      },
      "execution_count": null,
      "outputs": []
    },
    {
      "cell_type": "markdown",
      "source": [
        "here put results from executing Query 1"
      ],
      "metadata": {
        "id": "gyT9HbEx6UaY"
      }
    },
    {
      "cell_type": "code",
      "source": [
        "#Query 2"
      ],
      "metadata": {
        "id": "AqrGOMXd4BS2"
      },
      "execution_count": null,
      "outputs": []
    },
    {
      "cell_type": "markdown",
      "source": [
        "here put results from executing Query 2"
      ],
      "metadata": {
        "id": "748_XeaF68en"
      }
    },
    {
      "cell_type": "code",
      "source": [
        "#Query 3"
      ],
      "metadata": {
        "id": "TM5xD8Sc4BN4"
      },
      "execution_count": null,
      "outputs": []
    },
    {
      "cell_type": "markdown",
      "source": [
        "here put results from executing Query 3"
      ],
      "metadata": {
        "id": "_l-FZgrT6-Vc"
      }
    },
    {
      "cell_type": "code",
      "source": [
        "#Query 4"
      ],
      "metadata": {
        "id": "JXqS7t4_4BJV"
      },
      "execution_count": null,
      "outputs": []
    },
    {
      "cell_type": "markdown",
      "source": [
        "here put results from executing Query 4\n",
        "\n"
      ],
      "metadata": {
        "id": "5LiEl-ek7Adf"
      }
    },
    {
      "cell_type": "code",
      "source": [
        "#Query 5"
      ],
      "metadata": {
        "id": "I65-0_e74BAM"
      },
      "execution_count": null,
      "outputs": []
    },
    {
      "cell_type": "markdown",
      "source": [
        "here put results from executing Query 5"
      ],
      "metadata": {
        "id": "AitAGdMk7Cil"
      }
    },
    {
      "cell_type": "code",
      "source": [
        "#Query 6"
      ],
      "metadata": {
        "id": "wOIT7Pjy4A3U"
      },
      "execution_count": null,
      "outputs": []
    },
    {
      "cell_type": "markdown",
      "source": [
        "here put results from executing Query 6\n",
        "\n"
      ],
      "metadata": {
        "id": "1ZJ40s9w7Eh0"
      }
    },
    {
      "cell_type": "code",
      "source": [
        "#Query 7"
      ],
      "metadata": {
        "id": "__vYWsP74ArZ"
      },
      "execution_count": null,
      "outputs": []
    },
    {
      "cell_type": "markdown",
      "source": [
        "here put results from executing Query 7\n",
        "\n"
      ],
      "metadata": {
        "id": "cYwMZqJt7Gqw"
      }
    },
    {
      "cell_type": "code",
      "source": [
        "#Query 8"
      ],
      "metadata": {
        "id": "Gq0CZCDK4AaK"
      },
      "execution_count": null,
      "outputs": []
    },
    {
      "cell_type": "markdown",
      "source": [
        "here put results from executing Query 8"
      ],
      "metadata": {
        "id": "k6hOjggF7Mha"
      }
    }
  ]
}