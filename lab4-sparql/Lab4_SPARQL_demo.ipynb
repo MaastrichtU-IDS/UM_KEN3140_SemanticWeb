{
 "cells": [
  {
   "cell_type": "markdown",
   "metadata": {
    "slideshow": {
     "slide_type": "slide"
    }
   },
   "source": [
    "# Query RDF with the SPARQL query language\n",
    "\n",
    "\n",
    "* SPARQL (pronounced sparkle) stands for: **SPARQL Protocol And RDF Query Language**\n",
    "* SPARQL 1.0 W3C-Recommendation since January 15th 2008\n",
    "* SPARQL 1.1 W3C-Recommendation since March 21st 2013 Query language to query instances in RDF documents\n",
    "\n",
    "**Reference specifications: https://www.w3.org/TR/sparql11-query/**\n",
    "\n",
    "\n",
    "> w3.org materials are standards and recommendations accepted by the World Wide Web Consortium (W3C, the organism defining the Internet standards)"
   ]
  },
  {
   "cell_type": "markdown",
   "metadata": {
    "slideshow": {
     "slide_type": "slide"
    }
   },
   "source": [
    "# SPARQL endpoint 🔗\n",
    "\n",
    "* Databases are not built to be publicly available, they usually live close to their applications\n",
    "* Triplestore can be fully queried through a publicly available SPARQL endpoint URL\n",
    "* Some solutions enable user management, but natively SPARQL endpoints are built to be open and give the same access to all their users\n",
    "\n",
    "We will use the **DBpedia SPARQL endpoint**: \n",
    "\n",
    ">**https://dbpedia.org/sparql**\n",
    "\n",
    "[DBpedia](https://wiki.dbpedia.org/) is a project to represent (parts of) Wikipedia as RDF, it has been used has a playground for the Semantic Web for years. The data is not controlled or curated, which lead to poor data quality (don't be surprised to find weird things)\n",
    "\n",
    "You can use a nicer query editor that can query any public SPARQL endpoint: \n",
    "\n",
    "> **https://yasgui.triply.cc**"
   ]
  },
  {
   "cell_type": "markdown",
   "metadata": {
    "slideshow": {
     "slide_type": "subslide"
    }
   },
   "source": [
    "# Install the SPARQL kernel\n",
    "\n",
    "This notebook uses the SPARQL Kernel to define and **execute SPARQL queries in the notebook** codeblocks.\n",
    "To **install the SPARQL Kernel** in your JupyterLab installation:\n",
    "\n",
    "```shell\n",
    "pip install sparqlkernel --user\n",
    "jupyter sparqlkernel install --user\n",
    "```\n",
    "\n",
    "To start running SPARQL query in this notebook, we need to define the **SPARQL kernel parameters**:\n",
    "* 🔗 **URL of the SPARQL endpoint to query**\n",
    "* 🌐 Language of preferred labels\n",
    "* 📜 Log level"
   ]
  },
  {
   "cell_type": "code",
   "execution_count": 36,
   "metadata": {
    "slideshow": {
     "slide_type": "fragment"
    }
   },
   "outputs": [
    {
     "data": {
      "text/html": [
       "<div class=\"krn-spql\"><div class=\"magic\">Endpoint set to: http://dbpedia.org/sparql</div><div class=\"magic\">Logging set to DEBUG</div></div>"
      ],
      "text/plain": [
       "Endpoint set to: http://dbpedia.org/sparql\n",
       "Logging set to DEBUG\n"
      ]
     },
     "metadata": {},
     "output_type": "display_data"
    }
   ],
   "source": [
    "%endpoint http://dbpedia.org/sparql\n",
    "\n",
    "# This is optional, it would increase the log level\n",
    "%log debug\n",
    "\n",
    "# Uncomment the next line to return label in english and avoid duplicates\n",
    "# %lang en"
   ]
  },
  {
   "cell_type": "markdown",
   "metadata": {
    "slideshow": {
     "slide_type": "slide"
    }
   },
   "source": [
    "# SPARQL query components\n",
    "\n",
    "Variables to resolve are defined using `?` (e.g. `?my_variable`)\n",
    "\n",
    "```sparql\n",
    "# prefix declarations: for abbreviating URIs\n",
    "PREFIX rdfs: <http://www.w3.org/2000/01/rdf-schema#>\n",
    "# dataset definition (optional): which RDF graph(s) are being queried\n",
    "FROM\n",
    "# result clause: what information to return from the query\n",
    "SELECT *\n",
    "# query pattern: specifying what to query for in the underlying dataset\n",
    "WHERE {\n",
    "    ?s ?p ?o .\n",
    "}\n",
    "# query modifiers: slicing, ordering, and rearranging query results\n",
    "ORDER BY ?s\n",
    "LIMIT 10\n",
    "```"
   ]
  },
  {
   "cell_type": "markdown",
   "metadata": {
    "slideshow": {
     "slide_type": "slide"
    }
   },
   "source": [
    "# Run a SPARQL query\n",
    "\n",
    "Let's get **[all triples in DBpedia](http://yasgui.triply.cc/#query=SELECT%20*%0AWHERE%20%7B%0A%20%20%20%20%3Fsubject%20%3Fpredicate%20%3Fobject%20.%0A%7D&endpoint=https%3A%2F%2Fdbpedia.org%2Fsparql&requestMethod=POST&tabTitle=Query&headers=%7B%7D&contentTypeConstruct=text%2Fturtle%2C*%2F*%3Bq%3D0.9&contentTypeSelect=application%2Fsparql-results%2Bjson%2C*%2F*%3Bq%3D0.9&outputFormat=table)**:"
   ]
  },
  {
   "cell_type": "code",
   "execution_count": 2,
   "metadata": {
    "slideshow": {
     "slide_type": "fragment"
    }
   },
   "outputs": [
    {
     "data": {
      "text/html": [
       "<div class=\"krn-spql\"><table><tr class=hdr><th>subject</th>\n",
       "<th>predicate</th>\n",
       "<th>object</th></tr><tr class=odd><td class=val><a href=\"http://www.openlinksw.com/virtrdf-data-formats#default-iid\" target=\"_other\">http://www.openlinksw.com/virtrdf-data-formats#default-iid</a></td>\n",
       "<td class=val><a href=\"http://www.w3.org/1999/02/22-rdf-syntax-ns#type\" target=\"_other\">http://www.w3.org/1999/02/22-rdf-syntax-ns#type</a></td>\n",
       "<td class=val><a href=\"http://www.openlinksw.com/schemas/virtrdf#QuadMapFormat\" target=\"_other\">http://www.openlinksw.com/schemas/virtrdf#QuadMapFormat</a></td></tr><tr class=even><td class=val><a href=\"http://www.openlinksw.com/virtrdf-data-formats#default-iid-nullable\" target=\"_other\">http://www.openlinksw.com/virtrdf-data-formats#default-iid-nullable</a></td>\n",
       "<td class=val><a href=\"http://www.w3.org/1999/02/22-rdf-syntax-ns#type\" target=\"_other\">http://www.w3.org/1999/02/22-rdf-syntax-ns#type</a></td>\n",
       "<td class=val><a href=\"http://www.openlinksw.com/schemas/virtrdf#QuadMapFormat\" target=\"_other\">http://www.openlinksw.com/schemas/virtrdf#QuadMapFormat</a></td></tr><tr class=odd><td class=val><a href=\"http://www.openlinksw.com/virtrdf-data-formats#default-iid-nonblank\" target=\"_other\">http://www.openlinksw.com/virtrdf-data-formats#default-iid-nonblank</a></td>\n",
       "<td class=val><a href=\"http://www.w3.org/1999/02/22-rdf-syntax-ns#type\" target=\"_other\">http://www.w3.org/1999/02/22-rdf-syntax-ns#type</a></td>\n",
       "<td class=val><a href=\"http://www.openlinksw.com/schemas/virtrdf#QuadMapFormat\" target=\"_other\">http://www.openlinksw.com/schemas/virtrdf#QuadMapFormat</a></td></tr><tr class=even><td class=val><a href=\"http://www.openlinksw.com/virtrdf-data-formats#default-iid-nonblank-nullable\" target=\"_other\">http://www.openlinksw.com/virtrdf-data-formats#default-iid-nonblank-nullable</a></td>\n",
       "<td class=val><a href=\"http://www.w3.org/1999/02/22-rdf-syntax-ns#type\" target=\"_other\">http://www.w3.org/1999/02/22-rdf-syntax-ns#type</a></td>\n",
       "<td class=val><a href=\"http://www.openlinksw.com/schemas/virtrdf#QuadMapFormat\" target=\"_other\">http://www.openlinksw.com/schemas/virtrdf#QuadMapFormat</a></td></tr><tr class=odd><td class=val><a href=\"http://www.openlinksw.com/virtrdf-data-formats#default\" target=\"_other\">http://www.openlinksw.com/virtrdf-data-formats#default</a></td>\n",
       "<td class=val><a href=\"http://www.w3.org/1999/02/22-rdf-syntax-ns#type\" target=\"_other\">http://www.w3.org/1999/02/22-rdf-syntax-ns#type</a></td>\n",
       "<td class=val><a href=\"http://www.openlinksw.com/schemas/virtrdf#QuadMapFormat\" target=\"_other\">http://www.openlinksw.com/schemas/virtrdf#QuadMapFormat</a></td></tr><tr class=even><td class=val><a href=\"http://www.openlinksw.com/virtrdf-data-formats#default-nullable\" target=\"_other\">http://www.openlinksw.com/virtrdf-data-formats#default-nullable</a></td>\n",
       "<td class=val><a href=\"http://www.w3.org/1999/02/22-rdf-syntax-ns#type\" target=\"_other\">http://www.w3.org/1999/02/22-rdf-syntax-ns#type</a></td>\n",
       "<td class=val><a href=\"http://www.openlinksw.com/schemas/virtrdf#QuadMapFormat\" target=\"_other\">http://www.openlinksw.com/schemas/virtrdf#QuadMapFormat</a></td></tr><tr class=odd><td class=val><a href=\"http://www.openlinksw.com/virtrdf-data-formats#sql-varchar\" target=\"_other\">http://www.openlinksw.com/virtrdf-data-formats#sql-varchar</a></td>\n",
       "<td class=val><a href=\"http://www.w3.org/1999/02/22-rdf-syntax-ns#type\" target=\"_other\">http://www.w3.org/1999/02/22-rdf-syntax-ns#type</a></td>\n",
       "<td class=val><a href=\"http://www.openlinksw.com/schemas/virtrdf#QuadMapFormat\" target=\"_other\">http://www.openlinksw.com/schemas/virtrdf#QuadMapFormat</a></td></tr><tr class=even><td class=val><a href=\"http://www.openlinksw.com/virtrdf-data-formats#sql-varchar-nullable\" target=\"_other\">http://www.openlinksw.com/virtrdf-data-formats#sql-varchar-nullable</a></td>\n",
       "<td class=val><a href=\"http://www.w3.org/1999/02/22-rdf-syntax-ns#type\" target=\"_other\">http://www.w3.org/1999/02/22-rdf-syntax-ns#type</a></td>\n",
       "<td class=val><a href=\"http://www.openlinksw.com/schemas/virtrdf#QuadMapFormat\" target=\"_other\">http://www.openlinksw.com/schemas/virtrdf#QuadMapFormat</a></td></tr><tr class=odd><td class=val><a href=\"http://www.openlinksw.com/virtrdf-data-formats#sql-varchar-dt\" target=\"_other\">http://www.openlinksw.com/virtrdf-data-formats#sql-varchar-dt</a></td>\n",
       "<td class=val><a href=\"http://www.w3.org/1999/02/22-rdf-syntax-ns#type\" target=\"_other\">http://www.w3.org/1999/02/22-rdf-syntax-ns#type</a></td>\n",
       "<td class=val><a href=\"http://www.openlinksw.com/schemas/virtrdf#QuadMapFormat\" target=\"_other\">http://www.openlinksw.com/schemas/virtrdf#QuadMapFormat</a></td></tr><tr class=even><td class=val><a href=\"http://www.openlinksw.com/virtrdf-data-formats#sql-varchar-dt-nullable\" target=\"_other\">http://www.openlinksw.com/virtrdf-data-formats#sql-varchar-dt-nullable</a></td>\n",
       "<td class=val><a href=\"http://www.w3.org/1999/02/22-rdf-syntax-ns#type\" target=\"_other\">http://www.w3.org/1999/02/22-rdf-syntax-ns#type</a></td>\n",
       "<td class=val><a href=\"http://www.openlinksw.com/schemas/virtrdf#QuadMapFormat\" target=\"_other\">http://www.openlinksw.com/schemas/virtrdf#QuadMapFormat</a></td></tr><tr class=odd><td class=val><a href=\"http://www.openlinksw.com/virtrdf-data-formats#sql-varchar-lang\" target=\"_other\">http://www.openlinksw.com/virtrdf-data-formats#sql-varchar-lang</a></td>\n",
       "<td class=val><a href=\"http://www.w3.org/1999/02/22-rdf-syntax-ns#type\" target=\"_other\">http://www.w3.org/1999/02/22-rdf-syntax-ns#type</a></td>\n",
       "<td class=val><a href=\"http://www.openlinksw.com/schemas/virtrdf#QuadMapFormat\" target=\"_other\">http://www.openlinksw.com/schemas/virtrdf#QuadMapFormat</a></td></tr><tr class=even><td class=val><a href=\"http://www.openlinksw.com/virtrdf-data-formats#sql-varchar-lang-nullable\" target=\"_other\">http://www.openlinksw.com/virtrdf-data-formats#sql-varchar-lang-nullable</a></td>\n",
       "<td class=val><a href=\"http://www.w3.org/1999/02/22-rdf-syntax-ns#type\" target=\"_other\">http://www.w3.org/1999/02/22-rdf-syntax-ns#type</a></td>\n",
       "<td class=val><a href=\"http://www.openlinksw.com/schemas/virtrdf#QuadMapFormat\" target=\"_other\">http://www.openlinksw.com/schemas/virtrdf#QuadMapFormat</a></td></tr><tr class=odd><td class=val><a href=\"http://www.openlinksw.com/virtrdf-data-formats#sql-varchar-fixedlang-x-any\" target=\"_other\">http://www.openlinksw.com/virtrdf-data-formats#sql-varchar-fixedlang-x-any</a></td>\n",
       "<td class=val><a href=\"http://www.w3.org/1999/02/22-rdf-syntax-ns#type\" target=\"_other\">http://www.w3.org/1999/02/22-rdf-syntax-ns#type</a></td>\n",
       "<td class=val><a href=\"http://www.openlinksw.com/schemas/virtrdf#QuadMapFormat\" target=\"_other\">http://www.openlinksw.com/schemas/virtrdf#QuadMapFormat</a></td></tr><tr class=even><td class=val><a href=\"http://www.openlinksw.com/virtrdf-data-formats#sql-varchar-fixedlang-x-any-nullable\" target=\"_other\">http://www.openlinksw.com/virtrdf-data-formats#sql-varchar-fixedlang-x-any-nullable</a></td>\n",
       "<td class=val><a href=\"http://www.w3.org/1999/02/22-rdf-syntax-ns#type\" target=\"_other\">http://www.w3.org/1999/02/22-rdf-syntax-ns#type</a></td>\n",
       "<td class=val><a href=\"http://www.openlinksw.com/schemas/virtrdf#QuadMapFormat\" target=\"_other\">http://www.openlinksw.com/schemas/virtrdf#QuadMapFormat</a></td></tr><tr class=odd><td class=val><a href=\"http://www.openlinksw.com/virtrdf-data-formats#sql-varchar-uri\" target=\"_other\">http://www.openlinksw.com/virtrdf-data-formats#sql-varchar-uri</a></td>\n",
       "<td class=val><a href=\"http://www.w3.org/1999/02/22-rdf-syntax-ns#type\" target=\"_other\">http://www.w3.org/1999/02/22-rdf-syntax-ns#type</a></td>\n",
       "<td class=val><a href=\"http://www.openlinksw.com/schemas/virtrdf#QuadMapFormat\" target=\"_other\">http://www.openlinksw.com/schemas/virtrdf#QuadMapFormat</a></td></tr><tr class=even><td class=val><a href=\"http://www.openlinksw.com/virtrdf-data-formats#sql-varchar-uri-nullable\" target=\"_other\">http://www.openlinksw.com/virtrdf-data-formats#sql-varchar-uri-nullable</a></td>\n",
       "<td class=val><a href=\"http://www.w3.org/1999/02/22-rdf-syntax-ns#type\" target=\"_other\">http://www.w3.org/1999/02/22-rdf-syntax-ns#type</a></td>\n",
       "<td class=val><a href=\"http://www.openlinksw.com/schemas/virtrdf#QuadMapFormat\" target=\"_other\">http://www.openlinksw.com/schemas/virtrdf#QuadMapFormat</a></td></tr><tr class=odd><td class=val><a href=\"http://www.openlinksw.com/virtrdf-data-formats#sql-varchar-literal\" target=\"_other\">http://www.openlinksw.com/virtrdf-data-formats#sql-varchar-literal</a></td>\n",
       "<td class=val><a href=\"http://www.w3.org/1999/02/22-rdf-syntax-ns#type\" target=\"_other\">http://www.w3.org/1999/02/22-rdf-syntax-ns#type</a></td>\n",
       "<td class=val><a href=\"http://www.openlinksw.com/schemas/virtrdf#QuadMapFormat\" target=\"_other\">http://www.openlinksw.com/schemas/virtrdf#QuadMapFormat</a></td></tr><tr class=even><td class=val><a href=\"http://www.openlinksw.com/virtrdf-data-formats#sql-varchar-literal-nullable\" target=\"_other\">http://www.openlinksw.com/virtrdf-data-formats#sql-varchar-literal-nullable</a></td>\n",
       "<td class=val><a href=\"http://www.w3.org/1999/02/22-rdf-syntax-ns#type\" target=\"_other\">http://www.w3.org/1999/02/22-rdf-syntax-ns#type</a></td>\n",
       "<td class=val><a href=\"http://www.openlinksw.com/schemas/virtrdf#QuadMapFormat\" target=\"_other\">http://www.openlinksw.com/schemas/virtrdf#QuadMapFormat</a></td></tr><tr class=odd><td class=val><a href=\"http://www.openlinksw.com/virtrdf-data-formats#sql-longvarchar\" target=\"_other\">http://www.openlinksw.com/virtrdf-data-formats#sql-longvarchar</a></td>\n",
       "<td class=val><a href=\"http://www.w3.org/1999/02/22-rdf-syntax-ns#type\" target=\"_other\">http://www.w3.org/1999/02/22-rdf-syntax-ns#type</a></td>\n",
       "<td class=val><a href=\"http://www.openlinksw.com/schemas/virtrdf#QuadMapFormat\" target=\"_other\">http://www.openlinksw.com/schemas/virtrdf#QuadMapFormat</a></td></tr><tr class=even><td class=val><a href=\"http://www.openlinksw.com/virtrdf-data-formats#sql-longvarchar-nullable\" target=\"_other\">http://www.openlinksw.com/virtrdf-data-formats#sql-longvarchar-nullable</a></td>\n",
       "<td class=val><a href=\"http://www.w3.org/1999/02/22-rdf-syntax-ns#type\" target=\"_other\">http://www.w3.org/1999/02/22-rdf-syntax-ns#type</a></td>\n",
       "<td class=val><a href=\"http://www.openlinksw.com/schemas/virtrdf#QuadMapFormat\" target=\"_other\">http://www.openlinksw.com/schemas/virtrdf#QuadMapFormat</a></td></tr></table><div class=\"tinfo\">Total: 10000, Shown: 20</div></div>"
      ]
     },
     "metadata": {},
     "output_type": "display_data"
    }
   ],
   "source": [
    "SELECT *\n",
    "WHERE {\n",
    "    ?subject ?predicate ?object .\n",
    "}"
   ]
  },
  {
   "cell_type": "markdown",
   "metadata": {
    "slideshow": {
     "slide_type": "subslide"
    }
   },
   "source": [
    "We can see that **DBpedia limit by default to 10.000 results** (and the SPARQL kernel shows only 20 for readability)\n",
    "\n",
    "But the returned triples are not really interesting, we will need to filter our results"
   ]
  },
  {
   "cell_type": "markdown",
   "metadata": {
    "slideshow": {
     "slide_type": "slide"
    }
   },
   "source": [
    "# Get all books\n",
    "\n",
    "Get **[all the books in DBpedia 📚](https://yasgui.triply.cc/#query=PREFIX%20rdf%3A%20%3Chttp%3A%2F%2Fwww.w3.org%2F1999%2F02%2F22-rdf-syntax-ns%23%3E%0APREFIX%20dbo%3A%20%3Chttp%3A%2F%2Fdbpedia.org%2Fontology%2F%3E%0ASELECT%20*%0AWHERE%20%7B%0A%20%20%3Fbook%20rdf%3Atype%20dbo%3ABook%20.%0A%7D%0A&endpoint=https%3A%2F%2Fdbpedia.org%2Fsparql&requestMethod=POST&tabTitle=Query&headers=%7B%7D&contentTypeConstruct=text%2Fturtle%2C*%2F*%3Bq%3D0.9&contentTypeSelect=application%2Fsparql-results%2Bjson%2C*%2F*%3Bq%3D0.9&outputFormat=table)**"
   ]
  },
  {
   "cell_type": "code",
   "execution_count": 3,
   "metadata": {
    "slideshow": {
     "slide_type": "fragment"
    }
   },
   "outputs": [
    {
     "data": {
      "text/html": [
       "<div class=\"krn-spql\"><table><tr class=hdr><th>book</th></tr><tr class=odd><td class=val><a href=\"http://dbpedia.org/resource/Havana_Storm\" target=\"_other\">http://dbpedia.org/resource/Havana_Storm</a></td></tr><tr class=even><td class=val><a href=\"http://dbpedia.org/resource/The_Awful_German_Language\" target=\"_other\">http://dbpedia.org/resource/The_Awful_German_Language</a></td></tr><tr class=odd><td class=val><a href=\"http://dbpedia.org/resource/Urmonotheismus\" target=\"_other\">http://dbpedia.org/resource/Urmonotheismus</a></td></tr><tr class=even><td class=val><a href=\"http://dbpedia.org/resource/Modern_C_Design\" target=\"_other\">http://dbpedia.org/resource/Modern_C_Design</a></td></tr><tr class=odd><td class=val><a href=\"http://dbpedia.org/resource/1066_and_All_That\" target=\"_other\">http://dbpedia.org/resource/1066_and_All_That</a></td></tr><tr class=even><td class=val><a href=\"http://dbpedia.org/resource/2010:_Odyssey_Two\" target=\"_other\">http://dbpedia.org/resource/2010:_Odyssey_Two</a></td></tr><tr class=odd><td class=val><a href=\"http://dbpedia.org/resource/401(k)\" target=\"_other\">http://dbpedia.org/resource/401(k)</a></td></tr><tr class=even><td class=val><a href=\"http://dbpedia.org/resource/A_Crown_of_Swords\" target=\"_other\">http://dbpedia.org/resource/A_Crown_of_Swords</a></td></tr><tr class=odd><td class=val><a href=\"http://dbpedia.org/resource/A_Dictionary_of_the_English_Language\" target=\"_other\">http://dbpedia.org/resource/A_Dictionary_of_the_English_Language</a></td></tr><tr class=even><td class=val><a href=\"http://dbpedia.org/resource/Adultery\" target=\"_other\">http://dbpedia.org/resource/Adultery</a></td></tr><tr class=odd><td class=val><a href=\"http://dbpedia.org/resource/Alice's_Adventures_in_Wonderland\" target=\"_other\">http://dbpedia.org/resource/Alice's_Adventures_in_Wonderland</a></td></tr><tr class=even><td class=val><a href=\"http://dbpedia.org/resource/Anne_of_Green_Gables\" target=\"_other\">http://dbpedia.org/resource/Anne_of_Green_Gables</a></td></tr><tr class=odd><td class=val><a href=\"http://dbpedia.org/resource/Ante-Nicene_Fathers\" target=\"_other\">http://dbpedia.org/resource/Ante-Nicene_Fathers</a></td></tr><tr class=even><td class=val><a href=\"http://dbpedia.org/resource/Around_the_World_in_Eighty_Days\" target=\"_other\">http://dbpedia.org/resource/Around_the_World_in_Eighty_Days</a></td></tr><tr class=odd><td class=val><a href=\"http://dbpedia.org/resource/Astronomy\" target=\"_other\">http://dbpedia.org/resource/Astronomy</a></td></tr><tr class=even><td class=val><a href=\"http://dbpedia.org/resource/BBC_World_News\" target=\"_other\">http://dbpedia.org/resource/BBC_World_News</a></td></tr><tr class=odd><td class=val><a href=\"http://dbpedia.org/resource/Bacteriology\" target=\"_other\">http://dbpedia.org/resource/Bacteriology</a></td></tr><tr class=even><td class=val><a href=\"http://dbpedia.org/resource/Balthasar_Behem_Codex\" target=\"_other\">http://dbpedia.org/resource/Balthasar_Behem_Codex</a></td></tr><tr class=odd><td class=val><a href=\"http://dbpedia.org/resource/Between_Planets\" target=\"_other\">http://dbpedia.org/resource/Between_Planets</a></td></tr><tr class=even><td class=val><a href=\"http://dbpedia.org/resource/Beyond_This_Horizon\" target=\"_other\">http://dbpedia.org/resource/Beyond_This_Horizon</a></td></tr></table><div class=\"tinfo\">Total: 10000, Shown: 20</div></div>"
      ]
     },
     "metadata": {},
     "output_type": "display_data"
    }
   ],
   "source": [
    "PREFIX dbo: <http://dbpedia.org/ontology/>\n",
    "SELECT *\n",
    "WHERE {\n",
    "    ?book rdf:type dbo:Book .\n",
    "}"
   ]
  },
  {
   "cell_type": "markdown",
   "metadata": {
    "slideshow": {
     "slide_type": "subslide"
    }
   },
   "source": [
    "Here a prefix is defined for the DBpedia ontology:\n",
    "\n",
    "```sparql\n",
    "PREFIX dbo: <http://dbpedia.org/ontology/>\n",
    "```\n",
    "\n",
    "The `rdf:` prefix is defined by default, but `rdf:type` can be shortened to `a`\n",
    "\n",
    "```sparql\n",
    "SELECT * WHERE {\n",
    "  ?book a dbo:Book .\n",
    "}\n",
    "```\n",
    "\n",
    "If run on the 2 following statements it will return only the `<http://book1>`\n",
    "\n",
    "```turtle\n",
    "<http://book1> rdf:type <http://dbpedia.org/ontology/Book> .\n",
    "<http://country1> rdf:type <http://dbpedia.org/ontology/Country> .\n",
    "```"
   ]
  },
  {
   "cell_type": "markdown",
   "metadata": {
    "slideshow": {
     "slide_type": "slide"
    }
   },
   "source": [
    "# Get property of class\n",
    "\n",
    "Get [**the author of each returned book** 🖋️](http://yasgui.triply.cc/#query=PREFIX%20dbo%3A%20%3Chttp%3A%2F%2Fdbpedia.org%2Fontology%2F%3E%0ASELECT%20*%0AWHERE%20%7B%0A%20%20%20%20%3Fbook%20a%20dbo%3ABook%20.%0A%20%20%20%20%3Fbook%20dbo%3Aauthor%20%3Fauthor%20.%0A%7D&endpoint=https%3A%2F%2Fdbpedia.org%2Fsparql&requestMethod=POST&tabTitle=Query&headers=%7B%7D&contentTypeConstruct=text%2Fturtle%2C*%2F*%3Bq%3D0.9&contentTypeSelect=application%2Fsparql-results%2Bjson%2C*%2F*%3Bq%3D0.9&outputFormat=table) (when an author is defined):"
   ]
  },
  {
   "cell_type": "code",
   "execution_count": 37,
   "metadata": {
    "slideshow": {
     "slide_type": "fragment"
    }
   },
   "outputs": [
    {
     "data": {
      "text/html": [
       "<div class=\"krn-spql\"><table><tr class=hdr><th>book</th>\n",
       "<th>author</th></tr><tr class=odd><td class=val><a href=\"http://dbpedia.org/resource/1066_and_All_That\" target=\"_other\">http://dbpedia.org/resource/1066_and_All_That</a></td>\n",
       "<td class=val><a href=\"http://dbpedia.org/resource/R._J._Yeatman\" target=\"_other\">http://dbpedia.org/resource/R._J._Yeatman</a></td></tr><tr class=even><td class=val><a href=\"http://dbpedia.org/resource/1066_and_All_That\" target=\"_other\">http://dbpedia.org/resource/1066_and_All_That</a></td>\n",
       "<td class=val><a href=\"http://dbpedia.org/resource/W._C._Sellar\" target=\"_other\">http://dbpedia.org/resource/W._C._Sellar</a></td></tr><tr class=odd><td class=val><a href=\"http://dbpedia.org/resource/2010:_Odyssey_Two\" target=\"_other\">http://dbpedia.org/resource/2010:_Odyssey_Two</a></td>\n",
       "<td class=val><a href=\"http://dbpedia.org/resource/Arthur_C._Clarke\" target=\"_other\">http://dbpedia.org/resource/Arthur_C._Clarke</a></td></tr><tr class=even><td class=val><a href=\"http://dbpedia.org/resource/A_Crown_of_Swords\" target=\"_other\">http://dbpedia.org/resource/A_Crown_of_Swords</a></td>\n",
       "<td class=val><a href=\"http://dbpedia.org/resource/Robert_Jordan\" target=\"_other\">http://dbpedia.org/resource/Robert_Jordan</a></td></tr><tr class=odd><td class=val><a href=\"http://dbpedia.org/resource/A_Dictionary_of_the_English_Language\" target=\"_other\">http://dbpedia.org/resource/A_Dictionary_of_the_English_Language</a></td>\n",
       "<td class=val><a href=\"http://dbpedia.org/resource/Samuel_Johnson\" target=\"_other\">http://dbpedia.org/resource/Samuel_Johnson</a></td></tr><tr class=even><td class=val><a href=\"http://dbpedia.org/resource/Alice's_Adventures_in_Wonderland\" target=\"_other\">http://dbpedia.org/resource/Alice's_Adventures_in_Wonderland</a></td>\n",
       "<td class=val><a href=\"http://dbpedia.org/resource/Lewis_Carroll\" target=\"_other\">http://dbpedia.org/resource/Lewis_Carroll</a></td></tr><tr class=odd><td class=val><a href=\"http://dbpedia.org/resource/Anne_of_Green_Gables\" target=\"_other\">http://dbpedia.org/resource/Anne_of_Green_Gables</a></td>\n",
       "<td class=val><a href=\"http://dbpedia.org/resource/Lucy_Maud_Montgomery\" target=\"_other\">http://dbpedia.org/resource/Lucy_Maud_Montgomery</a></td></tr><tr class=even><td class=val><a href=\"http://dbpedia.org/resource/Around_the_World_in_Eighty_Days\" target=\"_other\">http://dbpedia.org/resource/Around_the_World_in_Eighty_Days</a></td>\n",
       "<td class=val><a href=\"http://dbpedia.org/resource/Jules_Verne\" target=\"_other\">http://dbpedia.org/resource/Jules_Verne</a></td></tr><tr class=odd><td class=val><a href=\"http://dbpedia.org/resource/Between_Planets\" target=\"_other\">http://dbpedia.org/resource/Between_Planets</a></td>\n",
       "<td class=val><a href=\"http://dbpedia.org/resource/Robert_A._Heinlein\" target=\"_other\">http://dbpedia.org/resource/Robert_A._Heinlein</a></td></tr><tr class=even><td class=val><a href=\"http://dbpedia.org/resource/Beyond_This_Horizon\" target=\"_other\">http://dbpedia.org/resource/Beyond_This_Horizon</a></td>\n",
       "<td class=val><a href=\"http://dbpedia.org/resource/Robert_A._Heinlein\" target=\"_other\">http://dbpedia.org/resource/Robert_A._Heinlein</a></td></tr><tr class=odd><td class=val><a href=\"http://dbpedia.org/resource/Blood_Music_(novel)\" target=\"_other\">http://dbpedia.org/resource/Blood_Music_(novel)</a></td>\n",
       "<td class=val><a href=\"http://dbpedia.org/resource/Greg_Bear\" target=\"_other\">http://dbpedia.org/resource/Greg_Bear</a></td></tr><tr class=even><td class=val><a href=\"http://dbpedia.org/resource/Brave_New_World\" target=\"_other\">http://dbpedia.org/resource/Brave_New_World</a></td>\n",
       "<td class=val><a href=\"http://dbpedia.org/resource/Aldous_Huxley\" target=\"_other\">http://dbpedia.org/resource/Aldous_Huxley</a></td></tr><tr class=odd><td class=val><a href=\"http://dbpedia.org/resource/Castle_Rackrent\" target=\"_other\">http://dbpedia.org/resource/Castle_Rackrent</a></td>\n",
       "<td class=val><a href=\"http://dbpedia.org/resource/Maria_Edgeworth\" target=\"_other\">http://dbpedia.org/resource/Maria_Edgeworth</a></td></tr><tr class=even><td class=val><a href=\"http://dbpedia.org/resource/Catch-22\" target=\"_other\">http://dbpedia.org/resource/Catch-22</a></td>\n",
       "<td class=val><a href=\"http://dbpedia.org/resource/Joseph_Heller\" target=\"_other\">http://dbpedia.org/resource/Joseph_Heller</a></td></tr><tr class=odd><td class=val><a href=\"http://dbpedia.org/resource/Charlie_and_the_Chocolate_Factory\" target=\"_other\">http://dbpedia.org/resource/Charlie_and_the_Chocolate_Factory</a></td>\n",
       "<td class=val><a href=\"http://dbpedia.org/resource/Roald_Dahl\" target=\"_other\">http://dbpedia.org/resource/Roald_Dahl</a></td></tr><tr class=even><td class=val><a href=\"http://dbpedia.org/resource/Citizen_of_the_Galaxy\" target=\"_other\">http://dbpedia.org/resource/Citizen_of_the_Galaxy</a></td>\n",
       "<td class=val><a href=\"http://dbpedia.org/resource/Robert_A._Heinlein\" target=\"_other\">http://dbpedia.org/resource/Robert_A._Heinlein</a></td></tr><tr class=odd><td class=val><a href=\"http://dbpedia.org/resource/Clash_of_Civilizations\" target=\"_other\">http://dbpedia.org/resource/Clash_of_Civilizations</a></td>\n",
       "<td class=val><a href=\"http://dbpedia.org/resource/Samuel_P._Huntington\" target=\"_other\">http://dbpedia.org/resource/Samuel_P._Huntington</a></td></tr><tr class=even><td class=val><a href=\"http://dbpedia.org/resource/Clear_and_Present_Danger\" target=\"_other\">http://dbpedia.org/resource/Clear_and_Present_Danger</a></td>\n",
       "<td class=val><a href=\"http://dbpedia.org/resource/Tom_Clancy\" target=\"_other\">http://dbpedia.org/resource/Tom_Clancy</a></td></tr><tr class=odd><td class=val><a href=\"http://dbpedia.org/resource/Commentarii_de_Bello_Gallico\" target=\"_other\">http://dbpedia.org/resource/Commentarii_de_Bello_Gallico</a></td>\n",
       "<td class=val><a href=\"http://dbpedia.org/resource/Julius_Caesar\" target=\"_other\">http://dbpedia.org/resource/Julius_Caesar</a></td></tr><tr class=even><td class=val><a href=\"http://dbpedia.org/resource/Commentarii_de_Bello_Gallico\" target=\"_other\">http://dbpedia.org/resource/Commentarii_de_Bello_Gallico</a></td>\n",
       "<td class=val><a href=\"http://dbpedia.org/resource/Aulus_Hirtius\" target=\"_other\">http://dbpedia.org/resource/Aulus_Hirtius</a></td></tr></table><div class=\"tinfo\">Total: 10000, Shown: 20</div></div>"
      ]
     },
     "metadata": {},
     "output_type": "display_data"
    }
   ],
   "source": [
    "PREFIX dbo: <http://dbpedia.org/ontology/>\n",
    "SELECT *\n",
    "WHERE {\n",
    "    ?book a dbo:Book .\n",
    "    ?book dbo:author ?author .\n",
    "}"
   ]
  },
  {
   "cell_type": "markdown",
   "metadata": {
    "slideshow": {
     "slide_type": "subslide"
    }
   },
   "source": [
    "A turtle-like syntax can also be used to make the query more readable:\n",
    "\n",
    "```sparql\n",
    "PREFIX dbo: <http://dbpedia.org/ontology/>\n",
    "SELECT *\n",
    "WHERE {\n",
    "    ?book a dbo:Book ; \n",
    "        dbo:author ?author .\n",
    "}\n",
    "```"
   ]
  },
  {
   "cell_type": "markdown",
   "metadata": {
    "slideshow": {
     "slide_type": "subslide"
    }
   },
   "source": [
    "Consider a graph with the following 4 statements:\n",
    "\n",
    "```turtle\n",
    "<http://book1> rdf:type <http://dbpedia.org/ontology/Book> .\n",
    "<http://book1> dbo:author <http://author1> .\n",
    "<http://book2> rdf:type <http://dbpedia.org/ontology/Book> .\n",
    "<http://book2> dbo:contributor <http://author2> .\n",
    "```\n",
    "\n",
    "The previous query will return only **one row of results with `<http://book1>` and `<http://author1>`**"
   ]
  },
  {
   "cell_type": "markdown",
   "metadata": {
    "slideshow": {
     "slide_type": "slide"
    }
   },
   "source": [
    "# Restriction of result set\n",
    "\n",
    "* `LIMIT`: maximal number of results (table rows) \n",
    "* `OFFSET`: position of the first delivered result SELECT \n",
    "* `DISTINCT`: removal of duplicate table rows\n",
    "\n",
    "> `LIMIT` and `OFFSET` usually make sense with `ORDER BY`!\n"
   ]
  },
  {
   "cell_type": "markdown",
   "metadata": {
    "slideshow": {
     "slide_type": "slide"
    }
   },
   "source": [
    "# Retrieve specific variables and limit\n",
    "\n",
    "You can specify the variables you want to be returned. And `LIMIT` the number of results returned.\n",
    "\n",
    "This query will return 10 authors of book, with duplicates if the author wrote multiple books 👥"
   ]
  },
  {
   "cell_type": "code",
   "execution_count": 5,
   "metadata": {
    "slideshow": {
     "slide_type": "fragment"
    }
   },
   "outputs": [
    {
     "data": {
      "text/html": [
       "<div class=\"krn-spql\"><table><tr class=hdr><th>author</th></tr><tr class=odd><td class=val><a href=\"http://dbpedia.org/resource/R._J._Yeatman\" target=\"_other\">http://dbpedia.org/resource/R._J._Yeatman</a></td></tr><tr class=even><td class=val><a href=\"http://dbpedia.org/resource/W._C._Sellar\" target=\"_other\">http://dbpedia.org/resource/W._C._Sellar</a></td></tr><tr class=odd><td class=val><a href=\"http://dbpedia.org/resource/Arthur_C._Clarke\" target=\"_other\">http://dbpedia.org/resource/Arthur_C._Clarke</a></td></tr><tr class=even><td class=val><a href=\"http://dbpedia.org/resource/Robert_Jordan\" target=\"_other\">http://dbpedia.org/resource/Robert_Jordan</a></td></tr><tr class=odd><td class=val><a href=\"http://dbpedia.org/resource/Samuel_Johnson\" target=\"_other\">http://dbpedia.org/resource/Samuel_Johnson</a></td></tr><tr class=even><td class=val><a href=\"http://dbpedia.org/resource/Lewis_Carroll\" target=\"_other\">http://dbpedia.org/resource/Lewis_Carroll</a></td></tr><tr class=odd><td class=val><a href=\"http://dbpedia.org/resource/Lucy_Maud_Montgomery\" target=\"_other\">http://dbpedia.org/resource/Lucy_Maud_Montgomery</a></td></tr><tr class=even><td class=val><a href=\"http://dbpedia.org/resource/Jules_Verne\" target=\"_other\">http://dbpedia.org/resource/Jules_Verne</a></td></tr><tr class=odd><td class=val><a href=\"http://dbpedia.org/resource/Robert_A._Heinlein\" target=\"_other\">http://dbpedia.org/resource/Robert_A._Heinlein</a></td></tr><tr class=even><td class=val><a href=\"http://dbpedia.org/resource/Robert_A._Heinlein\" target=\"_other\">http://dbpedia.org/resource/Robert_A._Heinlein</a></td></tr></table><div class=\"tinfo\">Total: 10, Shown: 10</div></div>"
      ]
     },
     "metadata": {},
     "output_type": "display_data"
    }
   ],
   "source": [
    "PREFIX dbo: <http://dbpedia.org/ontology/>\n",
    "SELECT ?author\n",
    "WHERE {\n",
    "    ?book a dbo:Book ;\n",
    "        dbo:author ?author .\n",
    "} \n",
    "LIMIT 10"
   ]
  },
  {
   "cell_type": "markdown",
   "metadata": {
    "slideshow": {
     "slide_type": "slide"
    }
   },
   "source": [
    "# Retrieve distinct results\n",
    "\n",
    "You can also require to only return `DISTINCT` results (will not return duplicate rows)\n",
    "\n",
    "> Use the `*` if you want all variables\n",
    "\n",
    "This query will return all authors of book **without duplicates**, even if they wrote multiple books 👤"
   ]
  },
  {
   "cell_type": "code",
   "execution_count": 6,
   "metadata": {
    "slideshow": {
     "slide_type": "fragment"
    }
   },
   "outputs": [
    {
     "data": {
      "text/html": [
       "<div class=\"krn-spql\"><table><tr class=hdr><th>author</th></tr><tr class=odd><td class=val><a href=\"http://dbpedia.org/resource/R._J._Yeatman\" target=\"_other\">http://dbpedia.org/resource/R._J._Yeatman</a></td></tr><tr class=even><td class=val><a href=\"http://dbpedia.org/resource/W._C._Sellar\" target=\"_other\">http://dbpedia.org/resource/W._C._Sellar</a></td></tr><tr class=odd><td class=val><a href=\"http://dbpedia.org/resource/Arthur_C._Clarke\" target=\"_other\">http://dbpedia.org/resource/Arthur_C._Clarke</a></td></tr><tr class=even><td class=val><a href=\"http://dbpedia.org/resource/Robert_Jordan\" target=\"_other\">http://dbpedia.org/resource/Robert_Jordan</a></td></tr><tr class=odd><td class=val><a href=\"http://dbpedia.org/resource/Samuel_Johnson\" target=\"_other\">http://dbpedia.org/resource/Samuel_Johnson</a></td></tr><tr class=even><td class=val><a href=\"http://dbpedia.org/resource/Lewis_Carroll\" target=\"_other\">http://dbpedia.org/resource/Lewis_Carroll</a></td></tr><tr class=odd><td class=val><a href=\"http://dbpedia.org/resource/Lucy_Maud_Montgomery\" target=\"_other\">http://dbpedia.org/resource/Lucy_Maud_Montgomery</a></td></tr><tr class=even><td class=val><a href=\"http://dbpedia.org/resource/Jules_Verne\" target=\"_other\">http://dbpedia.org/resource/Jules_Verne</a></td></tr><tr class=odd><td class=val><a href=\"http://dbpedia.org/resource/Robert_A._Heinlein\" target=\"_other\">http://dbpedia.org/resource/Robert_A._Heinlein</a></td></tr><tr class=even><td class=val><a href=\"http://dbpedia.org/resource/Greg_Bear\" target=\"_other\">http://dbpedia.org/resource/Greg_Bear</a></td></tr></table><div class=\"tinfo\">Total: 10, Shown: 10</div></div>"
      ]
     },
     "metadata": {},
     "output_type": "display_data"
    }
   ],
   "source": [
    "PREFIX dbo: <http://dbpedia.org/ontology/>\n",
    "SELECT DISTINCT ?author\n",
    "WHERE {\n",
    "    ?book a dbo:Book ;\n",
    "        dbo:author ?author .\n",
    "} LIMIT 10"
   ]
  },
  {
   "cell_type": "markdown",
   "metadata": {
    "slideshow": {
     "slide_type": "slide"
    }
   },
   "source": [
    "# FILTER the results\n",
    "\n",
    "## Comparison operators: <, =, >, <=, >=, !=\n",
    "* Comparison of data literals according to natural order\n",
    "* Support for numerical data types, xsd:dateTime, xsd:string (alphabetic ordering), xsd:Boolean (1>0)\n",
    "* For other types and other RDF-elements, only = and != are available\n",
    "* Comparison of literals of incompatible types (e.g. xsd:string and xsd:integer) is not allowed, they must be converted\n",
    "\n",
    "## Arithmetic operators: +, -, *, /\n",
    "* Support for numerical data types\n",
    "* Used to combine values in filter conditions \n",
    "* E.g. `FILTER(?weight/ (?size*?size)>=25)`\n"
   ]
  },
  {
   "cell_type": "markdown",
   "metadata": {
    "slideshow": {
     "slide_type": "slide"
    }
   },
   "source": [
    "# Filter by number of pages\n",
    "\n",
    "This query will return 10 authors who wrote a book with more than 500 pages 📖"
   ]
  },
  {
   "cell_type": "code",
   "execution_count": 34,
   "metadata": {
    "slideshow": {
     "slide_type": "fragment"
    }
   },
   "outputs": [
    {
     "data": {
      "text/html": [
       "<div class=\"krn-spql\"><table><tr class=hdr><th>author</th></tr><tr class=odd><td class=val><a href=\"http://dbpedia.org/resource/Robert_Jordan\" target=\"_other\">http://dbpedia.org/resource/Robert_Jordan</a></td></tr><tr class=even><td class=val><a href=\"http://dbpedia.org/resource/Tom_Clancy\" target=\"_other\">http://dbpedia.org/resource/Tom_Clancy</a></td></tr><tr class=odd><td class=val><a href=\"http://dbpedia.org/resource/Douglas_Hofstadter\" target=\"_other\">http://dbpedia.org/resource/Douglas_Hofstadter</a></td></tr><tr class=even><td class=val><a href=\"http://dbpedia.org/resource/Richard_Llewellyn\" target=\"_other\">http://dbpedia.org/resource/Richard_Llewellyn</a></td></tr><tr class=odd><td class=val><a href=\"http://dbpedia.org/resource/Charles_Darwin\" target=\"_other\">http://dbpedia.org/resource/Charles_Darwin</a></td></tr><tr class=even><td class=val><a href=\"http://dbpedia.org/resource/Henry_Martyn_Robert\" target=\"_other\">http://dbpedia.org/resource/Henry_Martyn_Robert</a></td></tr><tr class=odd><td class=val><a href=\"http://dbpedia.org/resource/Iain_Banks\" target=\"_other\">http://dbpedia.org/resource/Iain_Banks</a></td></tr><tr class=even><td class=val><a href=\"http://dbpedia.org/resource/Victor_Hugo\" target=\"_other\">http://dbpedia.org/resource/Victor_Hugo</a></td></tr><tr class=odd><td class=val><a href=\"http://dbpedia.org/resource/Robert_Anton_Wilson\" target=\"_other\">http://dbpedia.org/resource/Robert_Anton_Wilson</a></td></tr><tr class=even><td class=val><a href=\"http://dbpedia.org/resource/Robert_Shea\" target=\"_other\">http://dbpedia.org/resource/Robert_Shea</a></td></tr></table><div class=\"tinfo\">Total: 10, Shown: 10</div></div>"
      ]
     },
     "metadata": {},
     "output_type": "display_data"
    }
   ],
   "source": [
    "PREFIX dbo: <http://dbpedia.org/ontology/>\n",
    "SELECT DISTINCT ?author\n",
    "WHERE {\n",
    "    ?book a dbo:Book ;\n",
    "        dbo:author ?author ;\n",
    "        dbo:numberOfPages ?pages .\n",
    "    FILTER (?pages > 500)\n",
    "} LIMIT 10"
   ]
  },
  {
   "cell_type": "markdown",
   "metadata": {
    "slideshow": {
     "slide_type": "slide"
    }
   },
   "source": [
    "# Perform an arithmetic operation\n",
    "\n",
    "Calculate the GDP per capita of countries from `dbp:gdpNominal` and `dbo:populationTotal` **impossible due to different datatypes** 🚫"
   ]
  },
  {
   "cell_type": "code",
   "execution_count": 33,
   "metadata": {
    "slideshow": {
     "slide_type": "fragment"
    }
   },
   "outputs": [
    {
     "data": {
      "text/html": [
       "<div class=\"krn-spql\"><table><tr class=hdr><th>country</th>\n",
       "<th>gdpValue</th>\n",
       "<th>gdpType</th>\n",
       "<th>population</th>\n",
       "<th>populationType</th>\n",
       "<th>gdpPerCapita</th></tr><tr class=odd><td class=val><a href=\"http://dbpedia.org/resource/Arab_League\" target=\"_other\">http://dbpedia.org/resource/Arab_League</a></td>\n",
       "<td class=val>3.526E12</td>\n",
       "<td class=val><a href=\"http://dbpedia.org/datatype/usDollar\" target=\"_other\">http://dbpedia.org/datatype/usDollar</a></td>\n",
       "<td class=val>423000000</td>\n",
       "<td class=val><a href=\"http://www.w3.org/2001/XMLSchema#nonNegativeInteger\" target=\"_other\">http://www.w3.org/2001/XMLSchema#nonNegativeInteger</a></td>\n",
       "<td class=val>0</td></tr><tr class=even><td class=val><a href=\"http://dbpedia.org/resource/Syria\" target=\"_other\">http://dbpedia.org/resource/Syria</a></td>\n",
       "<td class=val>5.9957E10</td>\n",
       "<td class=val><a href=\"http://dbpedia.org/datatype/usDollar\" target=\"_other\">http://dbpedia.org/datatype/usDollar</a></td>\n",
       "<td class=val>17064854</td>\n",
       "<td class=val><a href=\"http://www.w3.org/2001/XMLSchema#nonNegativeInteger\" target=\"_other\">http://www.w3.org/2001/XMLSchema#nonNegativeInteger</a></td>\n",
       "<td class=val>0</td></tr><tr class=odd><td class=val><a href=\"http://dbpedia.org/resource/Economic_Cooperation_Organization\" target=\"_other\">http://dbpedia.org/resource/Economic_Cooperation_Organization</a></td>\n",
       "<td class=val>US $1.9 trillion</td>\n",
       "<td class=val><a href=\"http://www.w3.org/1999/02/22-rdf-syntax-ns#langString\" target=\"_other\">http://www.w3.org/1999/02/22-rdf-syntax-ns#langString</a></td>\n",
       "<td class=val>416046863</td>\n",
       "<td class=val><a href=\"http://www.w3.org/2001/XMLSchema#nonNegativeInteger\" target=\"_other\">http://www.w3.org/2001/XMLSchema#nonNegativeInteger</a></td>\n",
       "<td class=val>0</td></tr><tr class=even><td class=val><a href=\"http://dbpedia.org/resource/Egypt\" target=\"_other\">http://dbpedia.org/resource/Egypt</a></td>\n",
       "<td class=val>3.30765E11</td>\n",
       "<td class=val><a href=\"http://dbpedia.org/datatype/usDollar\" target=\"_other\">http://dbpedia.org/datatype/usDollar</a></td>\n",
       "<td class=val>85783</td>\n",
       "<td class=val><a href=\"http://www.w3.org/2001/XMLSchema#nonNegativeInteger\" target=\"_other\">http://www.w3.org/2001/XMLSchema#nonNegativeInteger</a></td>\n",
       "<td class=val>0</td></tr><tr class=odd><td class=val><a href=\"http://dbpedia.org/resource/United_States\" target=\"_other\">http://dbpedia.org/resource/United_States</a></td>\n",
       "<td class=val>1.8558E13</td>\n",
       "<td class=val><a href=\"http://dbpedia.org/datatype/usDollar\" target=\"_other\">http://dbpedia.org/datatype/usDollar</a></td>\n",
       "<td class=val>324720797</td>\n",
       "<td class=val><a href=\"http://www.w3.org/2001/XMLSchema#nonNegativeInteger\" target=\"_other\">http://www.w3.org/2001/XMLSchema#nonNegativeInteger</a></td>\n",
       "<td class=val>0</td></tr><tr class=even><td class=val><a href=\"http://dbpedia.org/resource/Afghanistan\" target=\"_other\">http://dbpedia.org/resource/Afghanistan</a></td>\n",
       "<td class=val>1.9654E10</td>\n",
       "<td class=val><a href=\"http://dbpedia.org/datatype/usDollar\" target=\"_other\">http://dbpedia.org/datatype/usDollar</a></td>\n",
       "<td class=val>32564342</td>\n",
       "<td class=val><a href=\"http://www.w3.org/2001/XMLSchema#nonNegativeInteger\" target=\"_other\">http://www.w3.org/2001/XMLSchema#nonNegativeInteger</a></td>\n",
       "<td class=val>0</td></tr><tr class=odd><td class=val><a href=\"http://dbpedia.org/resource/Albania\" target=\"_other\">http://dbpedia.org/resource/Albania</a></td>\n",
       "<td class=val>1.2204E10</td>\n",
       "<td class=val><a href=\"http://dbpedia.org/datatype/usDollar\" target=\"_other\">http://dbpedia.org/datatype/usDollar</a></td>\n",
       "<td class=val>2886026</td>\n",
       "<td class=val><a href=\"http://www.w3.org/2001/XMLSchema#nonNegativeInteger\" target=\"_other\">http://www.w3.org/2001/XMLSchema#nonNegativeInteger</a></td>\n",
       "<td class=val>0</td></tr><tr class=even><td class=val><a href=\"http://dbpedia.org/resource/Algeria\" target=\"_other\">http://dbpedia.org/resource/Algeria</a></td>\n",
       "<td class=val>1.8171E11</td>\n",
       "<td class=val><a href=\"http://dbpedia.org/datatype/usDollar\" target=\"_other\">http://dbpedia.org/datatype/usDollar</a></td>\n",
       "<td class=val>40400000</td>\n",
       "<td class=val><a href=\"http://www.w3.org/2001/XMLSchema#nonNegativeInteger\" target=\"_other\">http://www.w3.org/2001/XMLSchema#nonNegativeInteger</a></td>\n",
       "<td class=val>0</td></tr><tr class=odd><td class=val><a href=\"http://dbpedia.org/resource/Andorra\" target=\"_other\">http://dbpedia.org/resource/Andorra</a></td>\n",
       "<td class=val>4.51E9</td>\n",
       "<td class=val><a href=\"http://dbpedia.org/datatype/usDollar\" target=\"_other\">http://dbpedia.org/datatype/usDollar</a></td>\n",
       "<td class=val>85470</td>\n",
       "<td class=val><a href=\"http://www.w3.org/2001/XMLSchema#nonNegativeInteger\" target=\"_other\">http://www.w3.org/2001/XMLSchema#nonNegativeInteger</a></td>\n",
       "<td class=val>0</td></tr><tr class=even><td class=val><a href=\"http://dbpedia.org/resource/Antigua_and_Barbuda\" target=\"_other\">http://dbpedia.org/resource/Antigua_and_Barbuda</a></td>\n",
       "<td class=val>1.332E9</td>\n",
       "<td class=val><a href=\"http://dbpedia.org/datatype/usDollar\" target=\"_other\">http://dbpedia.org/datatype/usDollar</a></td>\n",
       "<td class=val>91295</td>\n",
       "<td class=val><a href=\"http://www.w3.org/2001/XMLSchema#nonNegativeInteger\" target=\"_other\">http://www.w3.org/2001/XMLSchema#nonNegativeInteger</a></td>\n",
       "<td class=val>0</td></tr></table><div class=\"tinfo\">Total: 10, Shown: 10</div></div>"
      ]
     },
     "metadata": {},
     "output_type": "display_data"
    }
   ],
   "source": [
    "PREFIX xsd: <http://www.w3.org/2001/XMLSchema#>\n",
    "PREFIX dbo: <http://dbpedia.org/ontology/>\n",
    "PREFIX dbp: <http://dbpedia.org/property/>\n",
    "PREFIX rdf: <http://www.w3.org/1999/02/22-rdf-syntax-ns#>\n",
    "SELECT ?country ?gdpValue datatype(?gdpValue) AS ?gdpType ?population datatype(?population) AS ?populationType (?gdpValue / ?population AS ?gdpPerCapita)\n",
    "WHERE {\n",
    "    ?country dbp:gdpNominal ?gdpValue ;\n",
    "             dbo:populationTotal ?population .\n",
    "} LIMIT 10"
   ]
  },
  {
   "cell_type": "markdown",
   "metadata": {
    "slideshow": {
     "slide_type": "subslide"
    }
   },
   "source": [
    "# Cast a variable to a specific datatype\n",
    "\n",
    "Especially useful when **comparing or performing an arithmetical operations on 2 variables**.\n",
    "\n",
    "Here we divide a value in `usDollar` by a `nonNegativeInteger` casting the 2 to `xsd:integer` to calculate the GDP per capita of each country 💶"
   ]
  },
  {
   "cell_type": "code",
   "execution_count": 27,
   "metadata": {
    "slideshow": {
     "slide_type": "fragment"
    }
   },
   "outputs": [
    {
     "data": {
      "text/html": [
       "<div class=\"krn-spql\"><table><tr class=hdr><th>country</th>\n",
       "<th>gdpValue</th>\n",
       "<th>population</th>\n",
       "<th>gdpPerCapita</th></tr><tr class=odd><td class=val><a href=\"http://dbpedia.org/resource/Arab_League\" target=\"_other\">http://dbpedia.org/resource/Arab_League</a></td>\n",
       "<td class=val>3.526E12</td>\n",
       "<td class=val>423000000</td>\n",
       "<td class=val>8335</td></tr><tr class=even><td class=val><a href=\"http://dbpedia.org/resource/Syria\" target=\"_other\">http://dbpedia.org/resource/Syria</a></td>\n",
       "<td class=val>5.9957E10</td>\n",
       "<td class=val>17064854</td>\n",
       "<td class=val>3513</td></tr><tr class=odd><td class=val><a href=\"http://dbpedia.org/resource/Economic_Cooperation_Organization\" target=\"_other\">http://dbpedia.org/resource/Economic_Cooperation_Organization</a></td>\n",
       "<td class=val>US $1.9 trillion</td>\n",
       "<td class=val>416046863</td>\n",
       "<td class=val></td></tr><tr class=even><td class=val><a href=\"http://dbpedia.org/resource/Egypt\" target=\"_other\">http://dbpedia.org/resource/Egypt</a></td>\n",
       "<td class=val>3.30765E11</td>\n",
       "<td class=val>85783</td>\n",
       "<td class=val>3855833</td></tr><tr class=odd><td class=val><a href=\"http://dbpedia.org/resource/United_States\" target=\"_other\">http://dbpedia.org/resource/United_States</a></td>\n",
       "<td class=val>1.8558E13</td>\n",
       "<td class=val>324720797</td>\n",
       "<td class=val>57150</td></tr><tr class=even><td class=val><a href=\"http://dbpedia.org/resource/Afghanistan\" target=\"_other\">http://dbpedia.org/resource/Afghanistan</a></td>\n",
       "<td class=val>1.9654E10</td>\n",
       "<td class=val>32564342</td>\n",
       "<td class=val>603</td></tr><tr class=odd><td class=val><a href=\"http://dbpedia.org/resource/Albania\" target=\"_other\">http://dbpedia.org/resource/Albania</a></td>\n",
       "<td class=val>1.2204E10</td>\n",
       "<td class=val>2886026</td>\n",
       "<td class=val>4228</td></tr><tr class=even><td class=val><a href=\"http://dbpedia.org/resource/Algeria\" target=\"_other\">http://dbpedia.org/resource/Algeria</a></td>\n",
       "<td class=val>1.8171E11</td>\n",
       "<td class=val>40400000</td>\n",
       "<td class=val>4497</td></tr><tr class=odd><td class=val><a href=\"http://dbpedia.org/resource/Andorra\" target=\"_other\">http://dbpedia.org/resource/Andorra</a></td>\n",
       "<td class=val>4.51E9</td>\n",
       "<td class=val>85470</td>\n",
       "<td class=val>52767</td></tr><tr class=even><td class=val><a href=\"http://dbpedia.org/resource/Antigua_and_Barbuda\" target=\"_other\">http://dbpedia.org/resource/Antigua_and_Barbuda</a></td>\n",
       "<td class=val>1.332E9</td>\n",
       "<td class=val>91295</td>\n",
       "<td class=val>14590</td></tr></table><div class=\"tinfo\">Total: 10, Shown: 10</div></div>"
      ]
     },
     "metadata": {},
     "output_type": "display_data"
    }
   ],
   "source": [
    "PREFIX xsd: <http://www.w3.org/2001/XMLSchema#>\n",
    "PREFIX dbo: <http://dbpedia.org/ontology/>\n",
    "PREFIX dbp: <http://dbpedia.org/property/>\n",
    "SELECT ?country ?gdpValue ?population (xsd:integer(?gdpValue) / xsd:integer(?population) AS ?gdpPerCapita)\n",
    "WHERE {\n",
    "    ?country dbp:gdpNominal ?gdpValue ;\n",
    "             dbo:populationTotal ?population .\n",
    "} LIMIT 10"
   ]
  },
  {
   "cell_type": "markdown",
   "metadata": {
    "slideshow": {
     "slide_type": "slide"
    }
   },
   "source": [
    "# Filter books on name content\n",
    "\n",
    "* Cast the variable `?name` using the `str()` function, to avoid datatypes incompatibility\n",
    "* Use the **function** `contains(bigger_string,smaller_string)` to only keep books with the string \"grand\" in their label 🏷️"
   ]
  },
  {
   "cell_type": "code",
   "execution_count": 8,
   "metadata": {
    "slideshow": {
     "slide_type": "fragment"
    }
   },
   "outputs": [
    {
     "data": {
      "text/html": [
       "<div class=\"krn-spql\"><table><tr class=hdr><th>name</th>\n",
       "<th>author</th></tr><tr class=odd><td class=val>Il grande divorzio</td>\n",
       "<td class=val><a href=\"http://dbpedia.org/resource/C._S._Lewis\" target=\"_other\">http://dbpedia.org/resource/C._S._Lewis</a></td></tr><tr class=even><td class=val>La grande caccia</td>\n",
       "<td class=val><a href=\"http://dbpedia.org/resource/Robert_Jordan\" target=\"_other\">http://dbpedia.org/resource/Robert_Jordan</a></td></tr><tr class=odd><td class=val>La grande fuga dell'Ottobre Rosso</td>\n",
       "<td class=val><a href=\"http://dbpedia.org/resource/Tom_Clancy\" target=\"_other\">http://dbpedia.org/resource/Tom_Clancy</a></td></tr><tr class=even><td class=val>La grande storia del tempo</td>\n",
       "<td class=val><a href=\"http://dbpedia.org/resource/Leonard_Mlodinow\" target=\"_other\">http://dbpedia.org/resource/Leonard_Mlodinow</a></td></tr><tr class=odd><td class=val>La grande storia del tempo</td>\n",
       "<td class=val><a href=\"http://dbpedia.org/resource/Stephen_Hawking\" target=\"_other\">http://dbpedia.org/resource/Stephen_Hawking</a></td></tr><tr class=even><td class=val>Il grande ritratto</td>\n",
       "<td class=val><a href=\"http://dbpedia.org/resource/Dino_Buzzati\" target=\"_other\">http://dbpedia.org/resource/Dino_Buzzati</a></td></tr><tr class=odd><td class=val>Il piccolo grande uomo (romanzo)</td>\n",
       "<td class=val><a href=\"http://dbpedia.org/resource/Thomas_Berger_(novelist)\" target=\"_other\">http://dbpedia.org/resource/Thomas_Berger_(novelist)</a></td></tr><tr class=even><td class=val>Il grande mare dei Sargassi</td>\n",
       "<td class=val><a href=\"http://dbpedia.org/resource/Jean_Rhys\" target=\"_other\">http://dbpedia.org/resource/Jean_Rhys</a></td></tr><tr class=odd><td class=val>La Conspiration au grand jour</td>\n",
       "<td class=val><a href=\"http://dbpedia.org/resource/H._G._Wells\" target=\"_other\">http://dbpedia.org/resource/H._G._Wells</a></td></tr><tr class=even><td class=val>Considérations sur les causes de la grandeur des Romains et de leur décadence</td>\n",
       "<td class=val><a href=\"http://dbpedia.org/resource/Montesquieu\" target=\"_other\">http://dbpedia.org/resource/Montesquieu</a></td></tr></table><div class=\"tinfo\">Total: 10, Shown: 10</div></div>"
      ]
     },
     "metadata": {},
     "output_type": "display_data"
    }
   ],
   "source": [
    "PREFIX dbo:<http://dbpedia.org/ontology/>\n",
    "PREFIX rdfs: <http://www.w3.org/2000/01/rdf-schema#>\n",
    "SELECT ?name ?author \n",
    "WHERE {\n",
    "    ?book a dbo:Book ;\n",
    "        dbo:author ?author ;\n",
    "        rdfs:label ?name . \n",
    "    FILTER (contains(str(?name),\"grand\"))\n",
    "} LIMIT 10"
   ]
  },
  {
   "cell_type": "markdown",
   "metadata": {
    "slideshow": {
     "slide_type": "slide"
    }
   },
   "source": [
    "# Using conditions in FILTER\n",
    "\n",
    "Filter conditions can be linked with boolean operators: `&&`, `||`, `!`\n",
    "\n",
    "> Keep when pages superior to 500 and does not contains \"grand\" in its name\n",
    "\n",
    "```sparql\n",
    "FILTER((?pages > 500) && !contains(?name,\"grand\"))\n",
    "```\n",
    "\n",
    "> Keep when pages superior to 500 or contains \"grand\" in its name\n",
    "\n",
    "```sparql\n",
    "FILTER((?pages > 500) || contains(?name,\"grand\"))\n",
    "```\n",
    "\n",
    "Expressible through graph pattern:\n",
    "* **Conjunction** corresponds to specifications of **several filters**.\n",
    "* **Disjunction** corresponds to application of filters in **alternative patterns** (use `UNION`).\n"
   ]
  },
  {
   "cell_type": "markdown",
   "metadata": {
    "slideshow": {
     "slide_type": "subslide"
    }
   },
   "source": [
    "# Return results from different patterns\n",
    "\n",
    "Use `UNION` to return the books name wherever it is defined with `rdfs:label` or `dbp:name`:"
   ]
  },
  {
   "cell_type": "code",
   "execution_count": 38,
   "metadata": {
    "slideshow": {
     "slide_type": "fragment"
    }
   },
   "outputs": [
    {
     "data": {
      "text/html": [
       "<div class=\"krn-spql\"><table><tr class=hdr><th>book</th>\n",
       "<th>name</th></tr><tr class=odd><td class=val><a href=\"http://dbpedia.org/resource/Alphabetum_grandonico-malabaricum_sive_samscrudonicum\" target=\"_other\">http://dbpedia.org/resource/Alphabetum_grandonico-malabaricum_sive_samscrudonicum</a></td>\n",
       "<td class=val>Alphabetum grandonico-malabaricum sive samscrudonicum</td></tr><tr class=even><td class=val><a href=\"http://dbpedia.org/resource/Les_grands_cimetières_sous_la_lune\" target=\"_other\">http://dbpedia.org/resource/Les_grands_cimetières_sous_la_lune</a></td>\n",
       "<td class=val>Les grands cimetières sous la lune</td></tr><tr class=odd><td class=val><a href=\"http://dbpedia.org/resource/L'Art_d'être_grand-père\" target=\"_other\">http://dbpedia.org/resource/L'Art_d'être_grand-père</a></td>\n",
       "<td class=val>L'Art d'être grand-père</td></tr><tr class=even><td class=val><a href=\"http://dbpedia.org/resource/La_Cour_des_grands\" target=\"_other\">http://dbpedia.org/resource/La_Cour_des_grands</a></td>\n",
       "<td class=val>La Cour des grands</td></tr><tr class=odd><td class=val><a href=\"http://dbpedia.org/resource/Plame_affair_grand_jury_investigation\" target=\"_other\">http://dbpedia.org/resource/Plame_affair_grand_jury_investigation</a></td>\n",
       "<td class=val>Plame affair grand jury investigation</td></tr><tr class=even><td class=val><a href=\"http://dbpedia.org/resource/Servitude_et_grandeur_militaires\" target=\"_other\">http://dbpedia.org/resource/Servitude_et_grandeur_militaires</a></td>\n",
       "<td class=val>Servitude et grandeur militaires</td></tr><tr class=odd><td class=val><a href=\"http://dbpedia.org/resource/My_Grandfather_Would_Have_Shot_Me\" target=\"_other\">http://dbpedia.org/resource/My_Grandfather_Would_Have_Shot_Me</a></td>\n",
       "<td class=val>Jennifer Teege , My grandfather would have shot me : a Black woman discovers her family's Nazi past</td></tr></table><div class=\"tinfo\">Total: 7, Shown: 7</div></div>"
      ]
     },
     "metadata": {},
     "output_type": "display_data"
    }
   ],
   "source": [
    "PREFIX dbp: <http://dbpedia.org/property/>\n",
    "PREFIX dbo:<http://dbpedia.org/ontology/>\n",
    "PREFIX rdfs: <http://www.w3.org/2000/01/rdf-schema#>\n",
    "SELECT ?book ?name\n",
    "WHERE {\n",
    "    {\n",
    "        ?book a dbo:Book ;\n",
    "            rdfs:label ?name .\n",
    "        FILTER (langMatches(lang(?name),\"en\"))\n",
    "    } UNION {\n",
    "        ?book a dbo:Book ;\n",
    "            dbp:name ?name .\n",
    "    }\n",
    "    FILTER (contains(str(?name), \"grand\"))\n",
    "}"
   ]
  },
  {
   "cell_type": "markdown",
   "metadata": {
    "slideshow": {
     "slide_type": "subslide"
    }
   },
   "source": [
    "# Without UNION\n",
    "\n",
    "For `rdfs:label` only 6 results\n",
    "\n",
    "> Check how many results for `dbp:name`"
   ]
  },
  {
   "cell_type": "code",
   "execution_count": 39,
   "metadata": {
    "slideshow": {
     "slide_type": "fragment"
    }
   },
   "outputs": [
    {
     "data": {
      "text/html": [
       "<div class=\"krn-spql\"><table><tr class=hdr><th>book</th>\n",
       "<th>name</th></tr><tr class=odd><td class=val><a href=\"http://dbpedia.org/resource/Alphabetum_grandonico-malabaricum_sive_samscrudonicum\" target=\"_other\">http://dbpedia.org/resource/Alphabetum_grandonico-malabaricum_sive_samscrudonicum</a></td>\n",
       "<td class=val>Alphabetum grandonico-malabaricum sive samscrudonicum</td></tr><tr class=even><td class=val><a href=\"http://dbpedia.org/resource/Les_grands_cimetières_sous_la_lune\" target=\"_other\">http://dbpedia.org/resource/Les_grands_cimetières_sous_la_lune</a></td>\n",
       "<td class=val>Les grands cimetières sous la lune</td></tr><tr class=odd><td class=val><a href=\"http://dbpedia.org/resource/L'Art_d'être_grand-père\" target=\"_other\">http://dbpedia.org/resource/L'Art_d'être_grand-père</a></td>\n",
       "<td class=val>L'Art d'être grand-père</td></tr><tr class=even><td class=val><a href=\"http://dbpedia.org/resource/La_Cour_des_grands\" target=\"_other\">http://dbpedia.org/resource/La_Cour_des_grands</a></td>\n",
       "<td class=val>La Cour des grands</td></tr><tr class=odd><td class=val><a href=\"http://dbpedia.org/resource/Plame_affair_grand_jury_investigation\" target=\"_other\">http://dbpedia.org/resource/Plame_affair_grand_jury_investigation</a></td>\n",
       "<td class=val>Plame affair grand jury investigation</td></tr><tr class=even><td class=val><a href=\"http://dbpedia.org/resource/Servitude_et_grandeur_militaires\" target=\"_other\">http://dbpedia.org/resource/Servitude_et_grandeur_militaires</a></td>\n",
       "<td class=val>Servitude et grandeur militaires</td></tr></table><div class=\"tinfo\">Total: 6, Shown: 6</div></div>"
      ]
     },
     "metadata": {},
     "output_type": "display_data"
    }
   ],
   "source": [
    "PREFIX dbp: <http://dbpedia.org/property/>\n",
    "PREFIX dbo:<http://dbpedia.org/ontology/>\n",
    "PREFIX rdfs: <http://www.w3.org/2000/01/rdf-schema#>\n",
    "SELECT ?book ?name\n",
    "WHERE {\n",
    "    ?book a dbo:Book ;\n",
    "        rdfs:label ?name .\n",
    "    FILTER (langMatches(lang(?name),\"en\"))\n",
    "    FILTER (contains(str(?name), \"grand\"))\n",
    "}"
   ]
  },
  {
   "cell_type": "markdown",
   "metadata": {
    "slideshow": {
     "slide_type": "slide"
    }
   },
   "source": [
    "# Get the language of a literal\n",
    "\n",
    "We can use the `lang()` function in the `SELECT` statement to return the lang of the book label 💬\n",
    "\n",
    "> Give it a name using the keyword `as`"
   ]
  },
  {
   "cell_type": "code",
   "execution_count": 9,
   "metadata": {
    "slideshow": {
     "slide_type": "fragment"
    }
   },
   "outputs": [
    {
     "data": {
      "text/html": [
       "<div class=\"krn-spql\"><table><tr class=hdr><th>name</th>\n",
       "<th>author</th>\n",
       "<th>lang</th></tr><tr class=odd><td class=val>1066 and All That</td>\n",
       "<td class=val><a href=\"http://dbpedia.org/resource/R._J._Yeatman\" target=\"_other\">http://dbpedia.org/resource/R._J._Yeatman</a></td>\n",
       "<td class=val>en</td></tr><tr class=even><td class=val>1066 and All That</td>\n",
       "<td class=val><a href=\"http://dbpedia.org/resource/R._J._Yeatman\" target=\"_other\">http://dbpedia.org/resource/R._J._Yeatman</a></td>\n",
       "<td class=val>es</td></tr><tr class=odd><td class=val>1066 and All That</td>\n",
       "<td class=val><a href=\"http://dbpedia.org/resource/R._J._Yeatman\" target=\"_other\">http://dbpedia.org/resource/R._J._Yeatman</a></td>\n",
       "<td class=val>fr</td></tr><tr class=even><td class=val>1066 and All That</td>\n",
       "<td class=val><a href=\"http://dbpedia.org/resource/W._C._Sellar\" target=\"_other\">http://dbpedia.org/resource/W._C._Sellar</a></td>\n",
       "<td class=val>en</td></tr><tr class=odd><td class=val>1066 and All That</td>\n",
       "<td class=val><a href=\"http://dbpedia.org/resource/W._C._Sellar\" target=\"_other\">http://dbpedia.org/resource/W._C._Sellar</a></td>\n",
       "<td class=val>es</td></tr><tr class=even><td class=val>1066 and All That</td>\n",
       "<td class=val><a href=\"http://dbpedia.org/resource/W._C._Sellar\" target=\"_other\">http://dbpedia.org/resource/W._C._Sellar</a></td>\n",
       "<td class=val>fr</td></tr><tr class=odd><td class=val>2010: Odyssey Two</td>\n",
       "<td class=val><a href=\"http://dbpedia.org/resource/Arthur_C._Clarke\" target=\"_other\">http://dbpedia.org/resource/Arthur_C._Clarke</a></td>\n",
       "<td class=val>en</td></tr><tr class=even><td class=val>Odyssee 2010 – Das Jahr, in dem wir Kontakt aufnehmen</td>\n",
       "<td class=val><a href=\"http://dbpedia.org/resource/Arthur_C._Clarke\" target=\"_other\">http://dbpedia.org/resource/Arthur_C._Clarke</a></td>\n",
       "<td class=val>de</td></tr><tr class=odd><td class=val>2010: Odisea dos</td>\n",
       "<td class=val><a href=\"http://dbpedia.org/resource/Arthur_C._Clarke\" target=\"_other\">http://dbpedia.org/resource/Arthur_C._Clarke</a></td>\n",
       "<td class=val>es</td></tr><tr class=even><td class=val>2010 : Odyssée deux</td>\n",
       "<td class=val><a href=\"http://dbpedia.org/resource/Arthur_C._Clarke\" target=\"_other\">http://dbpedia.org/resource/Arthur_C._Clarke</a></td>\n",
       "<td class=val>fr</td></tr></table><div class=\"tinfo\">Total: 10, Shown: 10</div></div>"
      ]
     },
     "metadata": {},
     "output_type": "display_data"
    }
   ],
   "source": [
    "PREFIX rdfs: <http://www.w3.org/2000/01/rdf-schema#>\n",
    "PREFIX dbo:<http://dbpedia.org/ontology/>\n",
    "SELECT ?name ?author lang(?name) as ?lang\n",
    "WHERE {\n",
    "    ?book a dbo:Book ;\n",
    "        dbo:author ?author ;\n",
    "        rdfs:label ?name . \n",
    "} LIMIT 10"
   ]
  },
  {
   "cell_type": "markdown",
   "metadata": {
    "slideshow": {
     "slide_type": "subslide"
    }
   },
   "source": [
    "# Return only books with title in Dutch\n",
    "\n",
    "Use the `langMatches()` function to filter books with a label in Dutch 🇳🇱"
   ]
  },
  {
   "cell_type": "code",
   "execution_count": 35,
   "metadata": {
    "slideshow": {
     "slide_type": "fragment"
    }
   },
   "outputs": [
    {
     "data": {
      "text/html": [
       "<div class=\"krn-spql\"><table><tr class=hdr><th>name</th>\n",
       "<th>author</th></tr><tr class=odd><td class=val>2010: Odyssey Two</td>\n",
       "<td class=val><a href=\"http://dbpedia.org/resource/Arthur_C._Clarke\" target=\"_other\">http://dbpedia.org/resource/Arthur_C._Clarke</a></td></tr><tr class=even><td class=val>Een Kroon van Zwaarden</td>\n",
       "<td class=val><a href=\"http://dbpedia.org/resource/Robert_Jordan\" target=\"_other\">http://dbpedia.org/resource/Robert_Jordan</a></td></tr><tr class=odd><td class=val>A Dictionary of the English Language</td>\n",
       "<td class=val><a href=\"http://dbpedia.org/resource/Samuel_Johnson\" target=\"_other\">http://dbpedia.org/resource/Samuel_Johnson</a></td></tr><tr class=even><td class=val>Alice's Adventures in Wonderland</td>\n",
       "<td class=val><a href=\"http://dbpedia.org/resource/Lewis_Carroll\" target=\"_other\">http://dbpedia.org/resource/Lewis_Carroll</a></td></tr><tr class=odd><td class=val>Anne van het Groene Huis</td>\n",
       "<td class=val><a href=\"http://dbpedia.org/resource/Lucy_Maud_Montgomery\" target=\"_other\">http://dbpedia.org/resource/Lucy_Maud_Montgomery</a></td></tr><tr class=even><td class=val>De reis om de wereld in tachtig dagen</td>\n",
       "<td class=val><a href=\"http://dbpedia.org/resource/Jules_Verne\" target=\"_other\">http://dbpedia.org/resource/Jules_Verne</a></td></tr><tr class=odd><td class=val>Tussen de planeten</td>\n",
       "<td class=val><a href=\"http://dbpedia.org/resource/Robert_A._Heinlein\" target=\"_other\">http://dbpedia.org/resource/Robert_A._Heinlein</a></td></tr><tr class=even><td class=val>Brave New World (roman)</td>\n",
       "<td class=val><a href=\"http://dbpedia.org/resource/Aldous_Huxley\" target=\"_other\">http://dbpedia.org/resource/Aldous_Huxley</a></td></tr><tr class=odd><td class=val>Catch-22 (roman)</td>\n",
       "<td class=val><a href=\"http://dbpedia.org/resource/Joseph_Heller\" target=\"_other\">http://dbpedia.org/resource/Joseph_Heller</a></td></tr><tr class=even><td class=val>Sjakie en de chocoladefabriek</td>\n",
       "<td class=val><a href=\"http://dbpedia.org/resource/Roald_Dahl\" target=\"_other\">http://dbpedia.org/resource/Roald_Dahl</a></td></tr></table><div class=\"tinfo\">Total: 10, Shown: 10</div></div>"
      ]
     },
     "metadata": {},
     "output_type": "display_data"
    }
   ],
   "source": [
    "PREFIX rdfs: <http://www.w3.org/2000/01/rdf-schema#>\n",
    "PREFIX dbo:<http://dbpedia.org/ontology/>\n",
    "SELECT ?name ?author\n",
    "WHERE {\n",
    "    ?book a dbo:Book ;\n",
    "        dbo:author ?author ;\n",
    "        rdfs:label ?name . \n",
    "    FILTER (langMatches(lang(?name),\"nl\"))\n",
    "} LIMIT 10"
   ]
  },
  {
   "cell_type": "markdown",
   "metadata": {
    "slideshow": {
     "slide_type": "slide"
    }
   },
   "source": [
    "# Sorting results\n",
    "\n",
    "We can **[`ORDER BY` the books by number of pages](https://yasgui.triply.cc/#query=PREFIX%20dbo%3A%3Chttp%3A%2F%2Fdbpedia.org%2Fontology%2F%3E%0APREFIX%20rdfs%3A%20%3Chttp%3A%2F%2Fwww.w3.org%2F2000%2F01%2Frdf-schema%23%3E%0ASELECT%20%3Fname%20%3Fauthor%20%3Fpages%20%3Fbook%0AWHERE%20%7B%0A%20%20%20%20%3Fbook%20a%20dbo%3ABook%20%3B%0A%20%20%20%20%20%20%20%20dbo%3Aauthor%20%3Fauthor%20%3B%0A%20%20%20%20%20%20%20%20rdfs%3Alabel%20%3Fname%20%3B%0A%20%20%20%20%20%20%20%20dbo%3AnumberOfPages%20%3Fpages%20.%0A%7D%20%0AORDER%20BY%20%3Fpages%0ALIMIT%2010&endpoint=https%3A%2F%2Fdbpedia.org%2Fsparql&requestMethod=POST&tabTitle=Query&headers=%7B%7D&contentTypeConstruct=text%2Fturtle%2C*%2F*%3Bq%3D0.9&contentTypeSelect=application%2Fsparql-results%2Bjson%2C*%2F*%3Bq%3D0.9&outputFormat=table)**, in ascending order by default 📤"
   ]
  },
  {
   "cell_type": "code",
   "execution_count": 16,
   "metadata": {
    "slideshow": {
     "slide_type": "fragment"
    }
   },
   "outputs": [
    {
     "data": {
      "text/html": [
       "<div class=\"krn-spql\"><table><tr class=hdr><th>name</th>\n",
       "<th>author</th>\n",
       "<th>pages</th></tr><tr class=odd><td class=val>Liberia; or, Mr. Peyton's Experiments</td>\n",
       "<td class=val><a href=\"http://dbpedia.org/resource/Sarah_Josepha_Hale\" target=\"_other\">http://dbpedia.org/resource/Sarah_Josepha_Hale</a></td>\n",
       "<td class=val>0</td></tr><tr class=even><td class=val>The Cabin and Parlor; or, Slaves and Masters</td>\n",
       "<td class=val><a href=\"http://dbpedia.org/resource/Charles_Jacobs_Peterson\" target=\"_other\">http://dbpedia.org/resource/Charles_Jacobs_Peterson</a></td>\n",
       "<td class=val>0</td></tr><tr class=odd><td class=val>The Lofty and the Lowly, or Good in All and None All Good</td>\n",
       "<td class=val><a href=\"http://dbpedia.org/resource/Maria_Jane_McIntosh\" target=\"_other\">http://dbpedia.org/resource/Maria_Jane_McIntosh</a></td>\n",
       "<td class=val>0</td></tr><tr class=even><td class=val>Geological Evidences of the Antiquity of Man</td>\n",
       "<td class=val><a href=\"http://dbpedia.org/resource/Charles_Lyell\" target=\"_other\">http://dbpedia.org/resource/Charles_Lyell</a></td>\n",
       "<td class=val>0</td></tr><tr class=odd><td class=val>Geological Evidences of the Antiquity of Man</td>\n",
       "<td class=val><a href=\"http://dbpedia.org/resource/Charles_Lyell\" target=\"_other\">http://dbpedia.org/resource/Charles_Lyell</a></td>\n",
       "<td class=val>0</td></tr><tr class=even><td class=val>The Vampyre</td>\n",
       "<td class=val><a href=\"http://dbpedia.org/resource/John_William_Polidori\" target=\"_other\">http://dbpedia.org/resource/John_William_Polidori</a></td>\n",
       "<td class=val>0</td></tr><tr class=odd><td class=val>Der Vampyr (Polidori)</td>\n",
       "<td class=val><a href=\"http://dbpedia.org/resource/John_William_Polidori\" target=\"_other\">http://dbpedia.org/resource/John_William_Polidori</a></td>\n",
       "<td class=val>0</td></tr><tr class=even><td class=val>El vampiro (1819)</td>\n",
       "<td class=val><a href=\"http://dbpedia.org/resource/John_William_Polidori\" target=\"_other\">http://dbpedia.org/resource/John_William_Polidori</a></td>\n",
       "<td class=val>0</td></tr><tr class=odd><td class=val>Le Vampire (nouvelle)</td>\n",
       "<td class=val><a href=\"http://dbpedia.org/resource/John_William_Polidori\" target=\"_other\">http://dbpedia.org/resource/John_William_Polidori</a></td>\n",
       "<td class=val>0</td></tr><tr class=even><td class=val>Il vampiro (racconto)</td>\n",
       "<td class=val><a href=\"http://dbpedia.org/resource/John_William_Polidori\" target=\"_other\">http://dbpedia.org/resource/John_William_Polidori</a></td>\n",
       "<td class=val>0</td></tr></table><div class=\"tinfo\">Total: 10, Shown: 10</div></div>"
      ]
     },
     "metadata": {},
     "output_type": "display_data"
    }
   ],
   "source": [
    "PREFIX dbo:<http://dbpedia.org/ontology/>\n",
    "PREFIX rdfs: <http://www.w3.org/2000/01/rdf-schema#>\n",
    "SELECT ?name ?author ?pages\n",
    "WHERE {\n",
    "    ?book a dbo:Book ;\n",
    "        dbo:author ?author ;\n",
    "        rdfs:label ?name ;\n",
    "        dbo:numberOfPages ?pages .\n",
    "} \n",
    "ORDER BY ?pages\n",
    "LIMIT 10"
   ]
  },
  {
   "cell_type": "markdown",
   "metadata": {
    "slideshow": {
     "slide_type": "subslide"
    }
   },
   "source": [
    "# Order by results descending \n",
    "\n",
    "Order results from books with the highest number of pages to the lowest 📥"
   ]
  },
  {
   "cell_type": "code",
   "execution_count": 12,
   "metadata": {
    "slideshow": {
     "slide_type": "fragment"
    }
   },
   "outputs": [
    {
     "data": {
      "text/html": [
       "<div class=\"krn-spql\"><table><tr class=hdr><th>name</th>\n",
       "<th>author</th>\n",
       "<th>pages</th></tr><tr class=odd><td class=val>The Tolkien Reader</td>\n",
       "<td class=val><a href=\"http://dbpedia.org/resource/J._R._R._Tolkien\" target=\"_other\">http://dbpedia.org/resource/J._R._R._Tolkien</a></td>\n",
       "<td class=val>241127964</td></tr><tr class=even><td class=val>L. Ron Hubbard, Messiah or Madman?</td>\n",
       "<td class=val><a href=\"http://dbpedia.org/resource/Ronald_DeWolf\" target=\"_other\">http://dbpedia.org/resource/Ronald_DeWolf</a></td>\n",
       "<td class=val>1992460</td></tr><tr class=odd><td class=val>L. Ron Hubbard, Messiah or Madman?</td>\n",
       "<td class=val><a href=\"http://dbpedia.org/resource/Bent_Corydon\" target=\"_other\">http://dbpedia.org/resource/Bent_Corydon</a></td>\n",
       "<td class=val>1992460</td></tr><tr class=even><td class=val>L. Ron Hubbard, Messiah or Madman?</td>\n",
       "<td class=val><a href=\"http://dbpedia.org/resource/Ronald_DeWolf\" target=\"_other\">http://dbpedia.org/resource/Ronald_DeWolf</a></td>\n",
       "<td class=val>1987402</td></tr><tr class=odd><td class=val>L. Ron Hubbard, Messiah or Madman?</td>\n",
       "<td class=val><a href=\"http://dbpedia.org/resource/Bent_Corydon\" target=\"_other\">http://dbpedia.org/resource/Bent_Corydon</a></td>\n",
       "<td class=val>1987402</td></tr><tr class=even><td class=val>The Merlin Conspiracy</td>\n",
       "<td class=val><a href=\"http://dbpedia.org/resource/Diana_Wynne_Jones\" target=\"_other\">http://dbpedia.org/resource/Diana_Wynne_Jones</a></td>\n",
       "<td class=val>473468</td></tr><tr class=odd><td class=val>Political Liberalism</td>\n",
       "<td class=val><a href=\"http://dbpedia.org/resource/John_Rawls\" target=\"_other\">http://dbpedia.org/resource/John_Rawls</a></td>\n",
       "<td class=val>435576</td></tr><tr class=even><td class=val>Halo: The Flood</td>\n",
       "<td class=val><a href=\"http://dbpedia.org/resource/William_C._Dietz\" target=\"_other\">http://dbpedia.org/resource/William_C._Dietz</a></td>\n",
       "<td class=val>352432</td></tr><tr class=odd><td class=val>Halo: The Fall of Reach</td>\n",
       "<td class=val><a href=\"http://dbpedia.org/resource/Eric_Nylund\" target=\"_other\">http://dbpedia.org/resource/Eric_Nylund</a></td>\n",
       "<td class=val>352416</td></tr><tr class=even><td class=val>Unsung: A History of Women in American Music</td>\n",
       "<td class=val><a href=\"http://dbpedia.org/resource/Christine_Ammer\" target=\"_other\">http://dbpedia.org/resource/Christine_Ammer</a></td>\n",
       "<td class=val>317382</td></tr></table><div class=\"tinfo\">Total: 10, Shown: 10</div></div>"
      ]
     },
     "metadata": {},
     "output_type": "display_data"
    }
   ],
   "source": [
    "PREFIX dbo:<http://dbpedia.org/ontology/>\n",
    "PREFIX dbp:<http://dbpedia.org/property/>\n",
    "PREFIX rdfs: <http://www.w3.org/2000/01/rdf-schema#>\n",
    "SELECT ?name ?author ?pages\n",
    "WHERE {\n",
    "    ?book a dbo:Book ;\n",
    "        dbo:author ?author ;\n",
    "        rdfs:label ?name ;\n",
    "        dbo:numberOfPages ?pages .\n",
    "    FILTER (langMatches(lang(?name),\"en\"))\n",
    "} \n",
    "ORDER BY DESC(?pages)\n",
    "LIMIT 10"
   ]
  },
  {
   "cell_type": "markdown",
   "metadata": {
    "slideshow": {
     "slide_type": "slide"
    }
   },
   "source": [
    "# Count aggregated results\n",
    "\n",
    "Count the number of books for each author 📚"
   ]
  },
  {
   "cell_type": "code",
   "execution_count": 13,
   "metadata": {
    "slideshow": {
     "slide_type": "fragment"
    }
   },
   "outputs": [
    {
     "data": {
      "text/html": [
       "<div class=\"krn-spql\"><table><tr class=hdr><th>author</th>\n",
       "<th>book_count</th></tr><tr class=odd><td class=val><a href=\"http://dbpedia.org/resource/Daniel_Carter_Beard\" target=\"_other\">http://dbpedia.org/resource/Daniel_Carter_Beard</a></td>\n",
       "<td class=val>1</td></tr><tr class=even><td class=val><a href=\"http://dbpedia.org/resource/Raymond_Smullyan\" target=\"_other\">http://dbpedia.org/resource/Raymond_Smullyan</a></td>\n",
       "<td class=val>1</td></tr><tr class=odd><td class=val><a href=\"http://dbpedia.org/resource/William_Donaldson\" target=\"_other\">http://dbpedia.org/resource/William_Donaldson</a></td>\n",
       "<td class=val>1</td></tr><tr class=even><td class=val><a href=\"http://dbpedia.org/resource/Joe_Conason\" target=\"_other\">http://dbpedia.org/resource/Joe_Conason</a></td>\n",
       "<td class=val>1</td></tr><tr class=odd><td class=val><a href=\"http://dbpedia.org/resource/John_Lennon\" target=\"_other\">http://dbpedia.org/resource/John_Lennon</a></td>\n",
       "<td class=val>3</td></tr><tr class=even><td class=val><a href=\"http://dbpedia.org/resource/Jürgen_Habermas\" target=\"_other\">http://dbpedia.org/resource/Jürgen_Habermas</a></td>\n",
       "<td class=val>8</td></tr><tr class=odd><td class=val><a href=\"http://dbpedia.org/resource/Robert_Nathan\" target=\"_other\">http://dbpedia.org/resource/Robert_Nathan</a></td>\n",
       "<td class=val>1</td></tr><tr class=even><td class=val><a href=\"http://dbpedia.org/resource/J._P._Martin\" target=\"_other\">http://dbpedia.org/resource/J._P._Martin</a></td>\n",
       "<td class=val>6</td></tr><tr class=odd><td class=val><a href=\"http://dbpedia.org/resource/Anthony_Everitt\" target=\"_other\">http://dbpedia.org/resource/Anthony_Everitt</a></td>\n",
       "<td class=val>1</td></tr><tr class=even><td class=val><a href=\"http://dbpedia.org/resource/Arthur_R.G._Solmssen\" target=\"_other\">http://dbpedia.org/resource/Arthur_R.G._Solmssen</a></td>\n",
       "<td class=val>1</td></tr></table><div class=\"tinfo\">Total: 10, Shown: 10</div></div>"
      ]
     },
     "metadata": {},
     "output_type": "display_data"
    }
   ],
   "source": [
    "PREFIX dbo:<http://dbpedia.org/ontology/>\n",
    "SELECT ?author (count(?book) as ?book_count)\n",
    "WHERE {\n",
    "    ?book a dbo:Book ;\n",
    "        dbo:author ?author .\n",
    "} LIMIT 10"
   ]
  },
  {
   "cell_type": "markdown",
   "metadata": {
    "slideshow": {
     "slide_type": "subslide"
    }
   },
   "source": [
    "# Count depend on the aggregated results of a row\n",
    "\n",
    "Here we select also the book, hence getting a count of 1 book for each row 📘"
   ]
  },
  {
   "cell_type": "code",
   "execution_count": 14,
   "metadata": {
    "slideshow": {
     "slide_type": "fragment"
    }
   },
   "outputs": [
    {
     "data": {
      "text/html": [
       "<div class=\"krn-spql\"><table><tr class=hdr><th>book</th>\n",
       "<th>author</th>\n",
       "<th>book_count</th></tr><tr class=odd><td class=val><a href=\"http://dbpedia.org/resource/The_Aunt's_Story\" target=\"_other\">http://dbpedia.org/resource/The_Aunt's_Story</a></td>\n",
       "<td class=val><a href=\"http://dbpedia.org/resource/Patrick_White\" target=\"_other\">http://dbpedia.org/resource/Patrick_White</a></td>\n",
       "<td class=val>1</td></tr><tr class=even><td class=val><a href=\"http://dbpedia.org/resource/The_Circus_of_Dr._Lao_and_Other_Improbable_Stories\" target=\"_other\">http://dbpedia.org/resource/The_Circus_of_Dr._Lao_and_Other_Improbable_Stories</a></td>\n",
       "<td class=val><a href=\"http://dbpedia.org/resource/Ray_Bradbury\" target=\"_other\">http://dbpedia.org/resource/Ray_Bradbury</a></td>\n",
       "<td class=val>1</td></tr><tr class=odd><td class=val><a href=\"http://dbpedia.org/resource/The_Four_False_Weapons\" target=\"_other\">http://dbpedia.org/resource/The_Four_False_Weapons</a></td>\n",
       "<td class=val><a href=\"http://dbpedia.org/resource/John_Dickson_Carr\" target=\"_other\">http://dbpedia.org/resource/John_Dickson_Carr</a></td>\n",
       "<td class=val>1</td></tr><tr class=even><td class=val><a href=\"http://dbpedia.org/resource/The_Smack_Man\" target=\"_other\">http://dbpedia.org/resource/The_Smack_Man</a></td>\n",
       "<td class=val><a href=\"http://dbpedia.org/resource/Nelson_DeMille\" target=\"_other\">http://dbpedia.org/resource/Nelson_DeMille</a></td>\n",
       "<td class=val>1</td></tr><tr class=odd><td class=val><a href=\"http://dbpedia.org/resource/The_Surprising_Archaea\" target=\"_other\">http://dbpedia.org/resource/The_Surprising_Archaea</a></td>\n",
       "<td class=val><a href=\"http://dbpedia.org/resource/John_L._Howland\" target=\"_other\">http://dbpedia.org/resource/John_L._Howland</a></td>\n",
       "<td class=val>1</td></tr><tr class=even><td class=val><a href=\"http://dbpedia.org/resource/Trapped_in_the_USSR\" target=\"_other\">http://dbpedia.org/resource/Trapped_in_the_USSR</a></td>\n",
       "<td class=val><a href=\"http://dbpedia.org/resource/J._J._Fortune\" target=\"_other\">http://dbpedia.org/resource/J._J._Fortune</a></td>\n",
       "<td class=val>1</td></tr><tr class=odd><td class=val><a href=\"http://dbpedia.org/resource/A_Gent_from_Bear_Creek\" target=\"_other\">http://dbpedia.org/resource/A_Gent_from_Bear_Creek</a></td>\n",
       "<td class=val><a href=\"http://dbpedia.org/resource/Robert_E._Howard\" target=\"_other\">http://dbpedia.org/resource/Robert_E._Howard</a></td>\n",
       "<td class=val>1</td></tr><tr class=even><td class=val><a href=\"http://dbpedia.org/resource/A_Golden_Anniversary_Bibliography_of_Edgar_Rice_Burroughs\" target=\"_other\">http://dbpedia.org/resource/A_Golden_Anniversary_Bibliography_of_Edgar_Rice_Burroughs</a></td>\n",
       "<td class=val><a href=\"http://dbpedia.org/resource/Henry_Hardy_Heins\" target=\"_other\">http://dbpedia.org/resource/Henry_Hardy_Heins</a></td>\n",
       "<td class=val>1</td></tr><tr class=odd><td class=val><a href=\"http://dbpedia.org/resource/Act_of_Providence\" target=\"_other\">http://dbpedia.org/resource/Act_of_Providence</a></td>\n",
       "<td class=val><a href=\"http://dbpedia.org/resource/Joseph_Payne_Brennan\" target=\"_other\">http://dbpedia.org/resource/Joseph_Payne_Brennan</a></td>\n",
       "<td class=val>1</td></tr><tr class=even><td class=val><a href=\"http://dbpedia.org/resource/Atlas_of_the_British_Flora\" target=\"_other\">http://dbpedia.org/resource/Atlas_of_the_British_Flora</a></td>\n",
       "<td class=val><a href=\"http://dbpedia.org/resource/Franklyn_Perring\" target=\"_other\">http://dbpedia.org/resource/Franklyn_Perring</a></td>\n",
       "<td class=val>1</td></tr></table><div class=\"tinfo\">Total: 10, Shown: 10</div></div>"
      ]
     },
     "metadata": {},
     "output_type": "display_data"
    }
   ],
   "source": [
    "PREFIX dbo:<http://dbpedia.org/ontology/>\n",
    "SELECT ?book ?author (count(?book) as ?book_count)\n",
    "WHERE {\n",
    "    ?book a dbo:Book ;\n",
    "        dbo:author ?author .\n",
    "} LIMIT 10"
   ]
  },
  {
   "cell_type": "markdown",
   "metadata": {
    "slideshow": {
     "slide_type": "slide"
    }
   },
   "source": [
    "# SPARQL query breakdown 🧬\n",
    "\n",
    "<img src=\"sparql_query_breakdown.png\">"
   ]
  },
  {
   "cell_type": "markdown",
   "metadata": {
    "slideshow": {
     "slide_type": "slide"
    }
   },
   "source": [
    "# Search on DBpedia 🔎\n",
    "\n",
    "Use **[https://yasgui.triply.cc](https://yasgui.triply.cc)** to write and run SPARQL query on DBpedia\n",
    "\n",
    "> Find DBpedia classes and relations: search on google, e.g.: \"**[dbpedia capital](https://www.google.com/search?&q=dbpedia+capital)**\"\n",
    "\n",
    "* The capital ([dbo:capital](http://dbpedia.org/ontology/capital)) of the country in which authors of books are born ([dbo:birthPlace](http://dbpedia.org/ontology/birthPlace)), limit to 10\n",
    "\n",
    "* All books with a name in english starting with \"http\" ignoring case\n",
    "\n",
    "* Calculate the GDP per capita using countries `dbp:gdpNominal`, `dbo:populationTotal` (GDP/population) and compare it to the existing property in DBpedia `dbp:gdpNominalPerCapita`\n",
    "\n",
    "> **Search for functions in the specifications: https://www.w3.org/TR/sparql11-query**\n"
   ]
  },
  {
   "cell_type": "markdown",
   "metadata": {
    "slideshow": {
     "slide_type": "slide"
    }
   },
   "source": [
    "# Public SPARQL endpoints 🔗\n",
    "\n",
    "* Wikidata, facts powering Wikipedia infobox: https://query.wikidata.org/sparql\n",
    "* Bio2RDF, linked data for the life sciences: https://bio2rdf.org/sparql\n",
    "* Disgenet, gene-disease association: http://rdf.disgenet.org/sparql\n",
    "* PathwayCommons, resource for biological pathways analysis: http://rdf.pathwaycommons.org/sparql\n",
    "\n",
    "# Going further\n",
    "\n",
    "* Wikidata SPARQL queries around the SARS-CoV-2 virus and pandemic: https://egonw.github.io/SARS-CoV-2-Queries\n",
    "* Use [prefix.cc](http://prefix.cc/) to resolve mysterious prefixes."
   ]
  }
 ],
 "metadata": {
  "kernelspec": {
   "display_name": "SPARQL",
   "language": "sparql",
   "name": "sparql"
  },
  "language_info": {
   "codemirror_mode": {
    "name": "sparql"
   },
   "mimetype": "application/sparql-query",
   "name": "sparql",
   "pygments_lexer": "sparql-nb"
  }
 },
 "nbformat": 4,
 "nbformat_minor": 4
}
