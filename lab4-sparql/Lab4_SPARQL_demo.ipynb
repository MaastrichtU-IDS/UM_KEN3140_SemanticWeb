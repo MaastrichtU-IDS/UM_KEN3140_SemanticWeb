{
 "cells": [
  {
   "cell_type": "markdown",
   "metadata": {
    "slideshow": {
     "slide_type": "slide"
    }
   },
   "source": [
    "# KEN 3140 Semantic Web: Lab 4\n",
    "### Writing and executing basic SPARQL queries on RDF graphs\n",
    "\n",
    "##### Learning objectives:\n",
    "1. How to compose and execute basic SPARQL SELECT queries to answer a specific question\n",
    "2. Identify and describe the function of the basic components of a SPARQL SELECT query\n",
    "3. Given a question, identify what SPARQL features would be needed in order to answer it, and how to compose these features into a syntactically valid SPARQL query"
   ]
  },
  {
   "cell_type": "markdown",
   "metadata": {
    "slideshow": {
     "slide_type": "slide"
    }
   },
   "source": [
    "#### SPARQL overview\n",
    "* SPARQL (pronounced sparkle) stands for: **SPARQL Protocol And RDF Query Language**\n",
    "* SPARQL 1.0 W3C-Recommendation since January 15th 2008\n",
    "* SPARQL 1.1 W3C-Recommendation since March 21st 2013 Query language to query instances in RDF documents\n",
    "\n",
    "**Overview of all SPARQL specifications: https://www.w3.org/TR/sparql11-overview/**\n",
    "\n",
    "**Specification for the SPARQL query language: https://www.w3.org/TR/sparql11-query/**\n",
    "\n",
    "> w3.org materials are standards and recommendations purveyed by the World Wide Web Consortium (W3C) - i.e., the body that defines Internet information standards"
   ]
  },
  {
   "cell_type": "markdown",
   "metadata": {
    "slideshow": {
     "slide_type": "slide"
    }
   },
   "source": [
    "# SPARQL endpoint 🔗\n",
    "\n",
    "* (Relational) databases are not built to be publicly available\n",
    "* Triplestores, on the other hand, can be queried through a publicly available SPARQL endpoint URL\n",
    "* Some Triplestore management systems enable user management, but SPARQL endpoints are natively built to be open and give the same access to all their users\n",
    "\n",
    "We will explore the **DBpedia SPARQL endpoint** available at this link: \n",
    "\n",
    ">**https://dbpedia.org/sparql**\n",
    "\n",
    "[DBpedia](https://wiki.dbpedia.org/) is a project to represent (parts of) Wikipedia as RDF, it has been used has a \"playground\" for the Semantic Web since 2007. The data is not centrally controlled or curated, which means you may notice that it has **inconsistent quality**. However, that is not of paramount importance to us - DBpedia data is still useful for demonstrating the concepts and functions behind SPARQL queries."
   ]
  },
  {
   "cell_type": "markdown",
   "metadata": {
    "slideshow": {
     "slide_type": "slide"
    }
   },
   "source": [
    "# YASGUI interface \n",
    "\n",
    "It is possible to query DBpedia directly from their endpoint at the URL above. However, we will instead use another SPARQL query editor called [**YASGUI**](http://yasgui.triply.cc) which has a few additional features which makes it easier to use. \n",
    "\n",
    "In addition, it is independent of the specific triplestore you want to query - whereas at the DBpedia SPARQL endpoint you can only query information from DBpedia itself. In contrast, you can **query any SPARQL endpoint with YASGUI** as long as you know its URL!\n",
    "\n",
    "The link to the YASGUI interface is located here:\n",
    "\n",
    "> **https://yasgui.triply.cc**"
   ]
  },
  {
   "cell_type": "markdown",
   "metadata": {
    "slideshow": {
     "slide_type": "slide"
    }
   },
   "source": [
    "# YASGUI interface \n",
    "\n",
    "> **https://yasgui.triply.cc**\n",
    "\n",
    "<img src=\"yasgui-interface.png\">"
   ]
  },
  {
   "cell_type": "code",
   "execution_count": 2,
   "metadata": {
    "slideshow": {
     "slide_type": "subslide"
    }
   },
   "outputs": [
    {
     "data": {
      "text/html": [
       "<div class=\"krn-spql\"><div class=\"magic\">Endpoint set to: http://dbpedia.org/sparql</div><div class=\"magic\">Logging set to DEBUG</div></div>"
      ],
      "text/plain": [
       "Endpoint set to: http://dbpedia.org/sparql\n",
       "Logging set to DEBUG\n"
      ]
     },
     "metadata": {},
     "output_type": "display_data"
    }
   ],
   "source": [
    "# Set the SPARQL Kernel parameters\n",
    "%endpoint http://dbpedia.org/sparql\n",
    "\n",
    "# This is optional, it would increase the log level\n",
    "%log debug\n",
    "\n",
    "# Uncomment the next line to return label in english and avoid duplicates\n",
    "# %lang en"
   ]
  },
  {
   "cell_type": "markdown",
   "metadata": {
    "slideshow": {
     "slide_type": "slide"
    }
   },
   "source": [
    "# SPARQL query components\n",
    "\n",
    "As we saw in Lecture 4, variables in SPARQL are defined using a `?` symbol preceding it (e.g. `?my_variable`)\n",
    "\n",
    "```sparql\n",
    "# prefix declarations: for abbreviating IRIs\n",
    "PREFIX rdfs: <http://www.w3.org/2000/01/rdf-schema#>\n",
    "# graph IRI (optional): which RDF graph(s) are being queried\n",
    "FROM\n",
    "# query type: select, construct, insert, ask, describe etc. and which variables to return\n",
    "SELECT *\n",
    "# query pattern: specifying what to query for in the underlying dataset\n",
    "WHERE {\n",
    "    ?s ?p ?o .\n",
    "}\n",
    "# query modifiers: features which help you configure the presentation of the query results e.g. slicing, ordering, and rearranging\n",
    "ORDER BY ?s\n",
    "LIMIT 10\n",
    "```"
   ]
  },
  {
   "cell_type": "markdown",
   "metadata": {
    "slideshow": {
     "slide_type": "slide"
    }
   },
   "source": [
    "# 1. Run your first SPARQL query\n",
    "\n",
    "Ask for **[all triples in DBpedia](http://yasgui.triply.cc/#query=SELECT%20*%0AWHERE%20%7B%0A%20%20%20%20%3Fsubject%20%3Fpredicate%20%3Fobject%20.%0A%7D&endpoint=https%3A%2F%2Fdbpedia.org%2Fsparql&requestMethod=POST&tabTitle=Query&headers=%7B%7D&contentTypeConstruct=text%2Fturtle%2C*%2F*%3Bq%3D0.9&contentTypeSelect=application%2Fsparql-results%2Bjson%2C*%2F*%3Bq%3D0.9&outputFormat=table)**:"
   ]
  },
  {
   "cell_type": "code",
   "execution_count": 2,
   "metadata": {
    "slideshow": {
     "slide_type": "fragment"
    }
   },
   "outputs": [
    {
     "data": {
      "text/html": [
       "<div class=\"krn-spql\"><table><tr class=hdr><th>subject</th>\n",
       "<th>predicate</th>\n",
       "<th>object</th></tr><tr class=odd><td class=val><a href=\"http://www.openlinksw.com/virtrdf-data-formats#default-iid\" target=\"_other\">http://www.openlinksw.com/virtrdf-data-formats#default-iid</a></td>\n",
       "<td class=val><a href=\"http://www.w3.org/1999/02/22-rdf-syntax-ns#type\" target=\"_other\">http://www.w3.org/1999/02/22-rdf-syntax-ns#type</a></td>\n",
       "<td class=val><a href=\"http://www.openlinksw.com/schemas/virtrdf#QuadMapFormat\" target=\"_other\">http://www.openlinksw.com/schemas/virtrdf#QuadMapFormat</a></td></tr><tr class=even><td class=val><a href=\"http://www.openlinksw.com/virtrdf-data-formats#default-iid-nullable\" target=\"_other\">http://www.openlinksw.com/virtrdf-data-formats#default-iid-nullable</a></td>\n",
       "<td class=val><a href=\"http://www.w3.org/1999/02/22-rdf-syntax-ns#type\" target=\"_other\">http://www.w3.org/1999/02/22-rdf-syntax-ns#type</a></td>\n",
       "<td class=val><a href=\"http://www.openlinksw.com/schemas/virtrdf#QuadMapFormat\" target=\"_other\">http://www.openlinksw.com/schemas/virtrdf#QuadMapFormat</a></td></tr><tr class=odd><td class=val><a href=\"http://www.openlinksw.com/virtrdf-data-formats#default-iid-nonblank\" target=\"_other\">http://www.openlinksw.com/virtrdf-data-formats#default-iid-nonblank</a></td>\n",
       "<td class=val><a href=\"http://www.w3.org/1999/02/22-rdf-syntax-ns#type\" target=\"_other\">http://www.w3.org/1999/02/22-rdf-syntax-ns#type</a></td>\n",
       "<td class=val><a href=\"http://www.openlinksw.com/schemas/virtrdf#QuadMapFormat\" target=\"_other\">http://www.openlinksw.com/schemas/virtrdf#QuadMapFormat</a></td></tr><tr class=even><td class=val><a href=\"http://www.openlinksw.com/virtrdf-data-formats#default-iid-nonblank-nullable\" target=\"_other\">http://www.openlinksw.com/virtrdf-data-formats#default-iid-nonblank-nullable</a></td>\n",
       "<td class=val><a href=\"http://www.w3.org/1999/02/22-rdf-syntax-ns#type\" target=\"_other\">http://www.w3.org/1999/02/22-rdf-syntax-ns#type</a></td>\n",
       "<td class=val><a href=\"http://www.openlinksw.com/schemas/virtrdf#QuadMapFormat\" target=\"_other\">http://www.openlinksw.com/schemas/virtrdf#QuadMapFormat</a></td></tr><tr class=odd><td class=val><a href=\"http://www.openlinksw.com/virtrdf-data-formats#default\" target=\"_other\">http://www.openlinksw.com/virtrdf-data-formats#default</a></td>\n",
       "<td class=val><a href=\"http://www.w3.org/1999/02/22-rdf-syntax-ns#type\" target=\"_other\">http://www.w3.org/1999/02/22-rdf-syntax-ns#type</a></td>\n",
       "<td class=val><a href=\"http://www.openlinksw.com/schemas/virtrdf#QuadMapFormat\" target=\"_other\">http://www.openlinksw.com/schemas/virtrdf#QuadMapFormat</a></td></tr><tr class=even><td class=val><a href=\"http://www.openlinksw.com/virtrdf-data-formats#default-nullable\" target=\"_other\">http://www.openlinksw.com/virtrdf-data-formats#default-nullable</a></td>\n",
       "<td class=val><a href=\"http://www.w3.org/1999/02/22-rdf-syntax-ns#type\" target=\"_other\">http://www.w3.org/1999/02/22-rdf-syntax-ns#type</a></td>\n",
       "<td class=val><a href=\"http://www.openlinksw.com/schemas/virtrdf#QuadMapFormat\" target=\"_other\">http://www.openlinksw.com/schemas/virtrdf#QuadMapFormat</a></td></tr><tr class=odd><td class=val><a href=\"http://www.openlinksw.com/virtrdf-data-formats#sql-varchar\" target=\"_other\">http://www.openlinksw.com/virtrdf-data-formats#sql-varchar</a></td>\n",
       "<td class=val><a href=\"http://www.w3.org/1999/02/22-rdf-syntax-ns#type\" target=\"_other\">http://www.w3.org/1999/02/22-rdf-syntax-ns#type</a></td>\n",
       "<td class=val><a href=\"http://www.openlinksw.com/schemas/virtrdf#QuadMapFormat\" target=\"_other\">http://www.openlinksw.com/schemas/virtrdf#QuadMapFormat</a></td></tr><tr class=even><td class=val><a href=\"http://www.openlinksw.com/virtrdf-data-formats#sql-varchar-nullable\" target=\"_other\">http://www.openlinksw.com/virtrdf-data-formats#sql-varchar-nullable</a></td>\n",
       "<td class=val><a href=\"http://www.w3.org/1999/02/22-rdf-syntax-ns#type\" target=\"_other\">http://www.w3.org/1999/02/22-rdf-syntax-ns#type</a></td>\n",
       "<td class=val><a href=\"http://www.openlinksw.com/schemas/virtrdf#QuadMapFormat\" target=\"_other\">http://www.openlinksw.com/schemas/virtrdf#QuadMapFormat</a></td></tr><tr class=odd><td class=val><a href=\"http://www.openlinksw.com/virtrdf-data-formats#sql-varchar-dt\" target=\"_other\">http://www.openlinksw.com/virtrdf-data-formats#sql-varchar-dt</a></td>\n",
       "<td class=val><a href=\"http://www.w3.org/1999/02/22-rdf-syntax-ns#type\" target=\"_other\">http://www.w3.org/1999/02/22-rdf-syntax-ns#type</a></td>\n",
       "<td class=val><a href=\"http://www.openlinksw.com/schemas/virtrdf#QuadMapFormat\" target=\"_other\">http://www.openlinksw.com/schemas/virtrdf#QuadMapFormat</a></td></tr><tr class=even><td class=val><a href=\"http://www.openlinksw.com/virtrdf-data-formats#sql-varchar-dt-nullable\" target=\"_other\">http://www.openlinksw.com/virtrdf-data-formats#sql-varchar-dt-nullable</a></td>\n",
       "<td class=val><a href=\"http://www.w3.org/1999/02/22-rdf-syntax-ns#type\" target=\"_other\">http://www.w3.org/1999/02/22-rdf-syntax-ns#type</a></td>\n",
       "<td class=val><a href=\"http://www.openlinksw.com/schemas/virtrdf#QuadMapFormat\" target=\"_other\">http://www.openlinksw.com/schemas/virtrdf#QuadMapFormat</a></td></tr><tr class=odd><td class=val><a href=\"http://www.openlinksw.com/virtrdf-data-formats#sql-varchar-lang\" target=\"_other\">http://www.openlinksw.com/virtrdf-data-formats#sql-varchar-lang</a></td>\n",
       "<td class=val><a href=\"http://www.w3.org/1999/02/22-rdf-syntax-ns#type\" target=\"_other\">http://www.w3.org/1999/02/22-rdf-syntax-ns#type</a></td>\n",
       "<td class=val><a href=\"http://www.openlinksw.com/schemas/virtrdf#QuadMapFormat\" target=\"_other\">http://www.openlinksw.com/schemas/virtrdf#QuadMapFormat</a></td></tr><tr class=even><td class=val><a href=\"http://www.openlinksw.com/virtrdf-data-formats#sql-varchar-lang-nullable\" target=\"_other\">http://www.openlinksw.com/virtrdf-data-formats#sql-varchar-lang-nullable</a></td>\n",
       "<td class=val><a href=\"http://www.w3.org/1999/02/22-rdf-syntax-ns#type\" target=\"_other\">http://www.w3.org/1999/02/22-rdf-syntax-ns#type</a></td>\n",
       "<td class=val><a href=\"http://www.openlinksw.com/schemas/virtrdf#QuadMapFormat\" target=\"_other\">http://www.openlinksw.com/schemas/virtrdf#QuadMapFormat</a></td></tr><tr class=odd><td class=val><a href=\"http://www.openlinksw.com/virtrdf-data-formats#sql-varchar-fixedlang-x-any\" target=\"_other\">http://www.openlinksw.com/virtrdf-data-formats#sql-varchar-fixedlang-x-any</a></td>\n",
       "<td class=val><a href=\"http://www.w3.org/1999/02/22-rdf-syntax-ns#type\" target=\"_other\">http://www.w3.org/1999/02/22-rdf-syntax-ns#type</a></td>\n",
       "<td class=val><a href=\"http://www.openlinksw.com/schemas/virtrdf#QuadMapFormat\" target=\"_other\">http://www.openlinksw.com/schemas/virtrdf#QuadMapFormat</a></td></tr><tr class=even><td class=val><a href=\"http://www.openlinksw.com/virtrdf-data-formats#sql-varchar-fixedlang-x-any-nullable\" target=\"_other\">http://www.openlinksw.com/virtrdf-data-formats#sql-varchar-fixedlang-x-any-nullable</a></td>\n",
       "<td class=val><a href=\"http://www.w3.org/1999/02/22-rdf-syntax-ns#type\" target=\"_other\">http://www.w3.org/1999/02/22-rdf-syntax-ns#type</a></td>\n",
       "<td class=val><a href=\"http://www.openlinksw.com/schemas/virtrdf#QuadMapFormat\" target=\"_other\">http://www.openlinksw.com/schemas/virtrdf#QuadMapFormat</a></td></tr><tr class=odd><td class=val><a href=\"http://www.openlinksw.com/virtrdf-data-formats#sql-varchar-uri\" target=\"_other\">http://www.openlinksw.com/virtrdf-data-formats#sql-varchar-uri</a></td>\n",
       "<td class=val><a href=\"http://www.w3.org/1999/02/22-rdf-syntax-ns#type\" target=\"_other\">http://www.w3.org/1999/02/22-rdf-syntax-ns#type</a></td>\n",
       "<td class=val><a href=\"http://www.openlinksw.com/schemas/virtrdf#QuadMapFormat\" target=\"_other\">http://www.openlinksw.com/schemas/virtrdf#QuadMapFormat</a></td></tr><tr class=even><td class=val><a href=\"http://www.openlinksw.com/virtrdf-data-formats#sql-varchar-uri-nullable\" target=\"_other\">http://www.openlinksw.com/virtrdf-data-formats#sql-varchar-uri-nullable</a></td>\n",
       "<td class=val><a href=\"http://www.w3.org/1999/02/22-rdf-syntax-ns#type\" target=\"_other\">http://www.w3.org/1999/02/22-rdf-syntax-ns#type</a></td>\n",
       "<td class=val><a href=\"http://www.openlinksw.com/schemas/virtrdf#QuadMapFormat\" target=\"_other\">http://www.openlinksw.com/schemas/virtrdf#QuadMapFormat</a></td></tr><tr class=odd><td class=val><a href=\"http://www.openlinksw.com/virtrdf-data-formats#sql-varchar-literal\" target=\"_other\">http://www.openlinksw.com/virtrdf-data-formats#sql-varchar-literal</a></td>\n",
       "<td class=val><a href=\"http://www.w3.org/1999/02/22-rdf-syntax-ns#type\" target=\"_other\">http://www.w3.org/1999/02/22-rdf-syntax-ns#type</a></td>\n",
       "<td class=val><a href=\"http://www.openlinksw.com/schemas/virtrdf#QuadMapFormat\" target=\"_other\">http://www.openlinksw.com/schemas/virtrdf#QuadMapFormat</a></td></tr><tr class=even><td class=val><a href=\"http://www.openlinksw.com/virtrdf-data-formats#sql-varchar-literal-nullable\" target=\"_other\">http://www.openlinksw.com/virtrdf-data-formats#sql-varchar-literal-nullable</a></td>\n",
       "<td class=val><a href=\"http://www.w3.org/1999/02/22-rdf-syntax-ns#type\" target=\"_other\">http://www.w3.org/1999/02/22-rdf-syntax-ns#type</a></td>\n",
       "<td class=val><a href=\"http://www.openlinksw.com/schemas/virtrdf#QuadMapFormat\" target=\"_other\">http://www.openlinksw.com/schemas/virtrdf#QuadMapFormat</a></td></tr><tr class=odd><td class=val><a href=\"http://www.openlinksw.com/virtrdf-data-formats#sql-longvarchar\" target=\"_other\">http://www.openlinksw.com/virtrdf-data-formats#sql-longvarchar</a></td>\n",
       "<td class=val><a href=\"http://www.w3.org/1999/02/22-rdf-syntax-ns#type\" target=\"_other\">http://www.w3.org/1999/02/22-rdf-syntax-ns#type</a></td>\n",
       "<td class=val><a href=\"http://www.openlinksw.com/schemas/virtrdf#QuadMapFormat\" target=\"_other\">http://www.openlinksw.com/schemas/virtrdf#QuadMapFormat</a></td></tr><tr class=even><td class=val><a href=\"http://www.openlinksw.com/virtrdf-data-formats#sql-longvarchar-nullable\" target=\"_other\">http://www.openlinksw.com/virtrdf-data-formats#sql-longvarchar-nullable</a></td>\n",
       "<td class=val><a href=\"http://www.w3.org/1999/02/22-rdf-syntax-ns#type\" target=\"_other\">http://www.w3.org/1999/02/22-rdf-syntax-ns#type</a></td>\n",
       "<td class=val><a href=\"http://www.openlinksw.com/schemas/virtrdf#QuadMapFormat\" target=\"_other\">http://www.openlinksw.com/schemas/virtrdf#QuadMapFormat</a></td></tr></table><div class=\"tinfo\">Total: 10000, Shown: 20</div></div>"
      ]
     },
     "metadata": {},
     "output_type": "display_data"
    }
   ],
   "source": [
    "SELECT *\n",
    "WHERE {\n",
    "    ?subject ?predicate ?object .\n",
    "}"
   ]
  },
  {
   "cell_type": "markdown",
   "metadata": {
    "slideshow": {
     "slide_type": "subslide"
    }
   },
   "source": [
    "Observe that **DBpedia limits to 10.000 results by default** (and the SPARQL kernel shows only 20 for readability reasons). **Note:** DBpedia contains much more than 10.000 triples.\n",
    "\n",
    "...but you may say: I don't know what these triples are about. They don't really describe anything I am interested in. You will see that many of these are triples that describe the endpoint itself and the technologies it uses. Let's filter these for more interesting information..."
   ]
  },
  {
   "cell_type": "markdown",
   "metadata": {
    "slideshow": {
     "slide_type": "slide"
    }
   },
   "source": [
    "# 2. Get the instances of a class\n",
    "\n",
    "Use the standard predicate `rdf:type` to get **[all the books in DBpedia 📚](https://yasgui.triply.cc/#query=PREFIX%20rdf%3A%20%3Chttp%3A%2F%2Fwww.w3.org%2F1999%2F02%2F22-rdf-syntax-ns%23%3E%0APREFIX%20dbo%3A%20%3Chttp%3A%2F%2Fdbpedia.org%2Fontology%2F%3E%0ASELECT%20*%0AWHERE%20%7B%0A%20%20%3Fbook%20rdf%3Atype%20dbo%3ABook%20.%0A%7D%0A&endpoint=https%3A%2F%2Fdbpedia.org%2Fsparql&requestMethod=POST&tabTitle=Query&headers=%7B%7D&contentTypeConstruct=text%2Fturtle%2C*%2F*%3Bq%3D0.9&contentTypeSelect=application%2Fsparql-results%2Bjson%2C*%2F*%3Bq%3D0.9&outputFormat=table)**\n",
    "\n",
    "Copy and paste the query below into **[yasgui.triply.cc](https://yasgui.triply.cc)** (make sure the SPARQL endpoint is specified as http://dbpedia.org/sparql)"
   ]
  },
  {
   "cell_type": "code",
   "execution_count": 3,
   "metadata": {
    "slideshow": {
     "slide_type": "fragment"
    }
   },
   "outputs": [
    {
     "data": {
      "text/html": [
       "<div class=\"krn-spql\"><table><tr class=hdr><th>book</th></tr><tr class=odd><td class=val><a href=\"http://dbpedia.org/resource/Havana_Storm\" target=\"_other\">http://dbpedia.org/resource/Havana_Storm</a></td></tr><tr class=even><td class=val><a href=\"http://dbpedia.org/resource/The_Awful_German_Language\" target=\"_other\">http://dbpedia.org/resource/The_Awful_German_Language</a></td></tr><tr class=odd><td class=val><a href=\"http://dbpedia.org/resource/Urmonotheismus\" target=\"_other\">http://dbpedia.org/resource/Urmonotheismus</a></td></tr><tr class=even><td class=val><a href=\"http://dbpedia.org/resource/1066_and_All_That\" target=\"_other\">http://dbpedia.org/resource/1066_and_All_That</a></td></tr><tr class=odd><td class=val><a href=\"http://dbpedia.org/resource/2010:_Odyssey_Two\" target=\"_other\">http://dbpedia.org/resource/2010:_Odyssey_Two</a></td></tr><tr class=even><td class=val><a href=\"http://dbpedia.org/resource/401(k)\" target=\"_other\">http://dbpedia.org/resource/401(k)</a></td></tr><tr class=odd><td class=val><a href=\"http://dbpedia.org/resource/A_Crown_of_Swords\" target=\"_other\">http://dbpedia.org/resource/A_Crown_of_Swords</a></td></tr><tr class=even><td class=val><a href=\"http://dbpedia.org/resource/A_Dictionary_of_the_English_Language\" target=\"_other\">http://dbpedia.org/resource/A_Dictionary_of_the_English_Language</a></td></tr><tr class=odd><td class=val><a href=\"http://dbpedia.org/resource/Adultery\" target=\"_other\">http://dbpedia.org/resource/Adultery</a></td></tr><tr class=even><td class=val><a href=\"http://dbpedia.org/resource/Alice's_Adventures_in_Wonderland\" target=\"_other\">http://dbpedia.org/resource/Alice's_Adventures_in_Wonderland</a></td></tr><tr class=odd><td class=val><a href=\"http://dbpedia.org/resource/Anne_of_Green_Gables\" target=\"_other\">http://dbpedia.org/resource/Anne_of_Green_Gables</a></td></tr><tr class=even><td class=val><a href=\"http://dbpedia.org/resource/Ante-Nicene_Fathers\" target=\"_other\">http://dbpedia.org/resource/Ante-Nicene_Fathers</a></td></tr><tr class=odd><td class=val><a href=\"http://dbpedia.org/resource/Around_the_World_in_Eighty_Days\" target=\"_other\">http://dbpedia.org/resource/Around_the_World_in_Eighty_Days</a></td></tr><tr class=even><td class=val><a href=\"http://dbpedia.org/resource/Astronomy\" target=\"_other\">http://dbpedia.org/resource/Astronomy</a></td></tr><tr class=odd><td class=val><a href=\"http://dbpedia.org/resource/BBC_World_News\" target=\"_other\">http://dbpedia.org/resource/BBC_World_News</a></td></tr><tr class=even><td class=val><a href=\"http://dbpedia.org/resource/Bacteriology\" target=\"_other\">http://dbpedia.org/resource/Bacteriology</a></td></tr><tr class=odd><td class=val><a href=\"http://dbpedia.org/resource/Balthasar_Behem_Codex\" target=\"_other\">http://dbpedia.org/resource/Balthasar_Behem_Codex</a></td></tr><tr class=even><td class=val><a href=\"http://dbpedia.org/resource/Between_Planets\" target=\"_other\">http://dbpedia.org/resource/Between_Planets</a></td></tr><tr class=odd><td class=val><a href=\"http://dbpedia.org/resource/Beyond_This_Horizon\" target=\"_other\">http://dbpedia.org/resource/Beyond_This_Horizon</a></td></tr><tr class=even><td class=val><a href=\"http://dbpedia.org/resource/Biosalinity\" target=\"_other\">http://dbpedia.org/resource/Biosalinity</a></td></tr></table><div class=\"tinfo\">Total: 10000, Shown: 20</div></div>"
      ]
     },
     "metadata": {},
     "output_type": "display_data"
    }
   ],
   "source": [
    "PREFIX dbo: <http://dbpedia.org/ontology/>\n",
    "SELECT *\n",
    "WHERE {\n",
    "    ?book rdf:type dbo:Book .\n",
    "}"
   ]
  },
  {
   "cell_type": "markdown",
   "metadata": {
    "slideshow": {
     "slide_type": "subslide"
    }
   },
   "source": [
    "Here a prefix is defined for the DBpedia vocabulary / ontology:\n",
    "\n",
    "```sparql\n",
    "PREFIX dbo: <http://dbpedia.org/ontology/>\n",
    "```\n",
    "\n",
    "The `rdf:` prefix is defined by default, but `rdf:type` can be shortened to `a`\n",
    "\n",
    "```sparql\n",
    "SELECT * WHERE {\n",
    "  ?book a dbo:Book .\n",
    "}\n",
    "```\n",
    "\n",
    "If we execute this query on the following two triples only, the result would contain just `<http://book1>` (the only valid binding for ```?book ```)\n",
    "\n",
    "```turtle\n",
    "<http://book1> rdf:type <http://dbpedia.org/ontology/Book> .\n",
    "<http://country1> rdf:type <http://dbpedia.org/ontology/Country> .\n",
    "```\n",
    "\n",
    "Experiment with variations of this query. I.e. modify it to return specific variables rather than ``*``. Do you notice a difference?"
   ]
  },
  {
   "cell_type": "markdown",
   "metadata": {
    "slideshow": {
     "slide_type": "slide"
    }
   },
   "source": [
    "# 3. Get property of class\n",
    "\n",
    "Get [**the author of each returned book** 🖋️](http://yasgui.triply.cc/#query=PREFIX%20dbo%3A%20%3Chttp%3A%2F%2Fdbpedia.org%2Fontology%2F%3E%0ASELECT%20*%0AWHERE%20%7B%0A%20%20%20%20%3Fbook%20a%20dbo%3ABook%20.%0A%20%20%20%20%3Fbook%20dbo%3Aauthor%20%3Fauthor%20.%0A%7D&endpoint=https%3A%2F%2Fdbpedia.org%2Fsparql&requestMethod=POST&tabTitle=Query&headers=%7B%7D&contentTypeConstruct=text%2Fturtle%2C*%2F*%3Bq%3D0.9&contentTypeSelect=application%2Fsparql-results%2Bjson%2C*%2F*%3Bq%3D0.9&outputFormat=table) (when an author is defined):"
   ]
  },
  {
   "cell_type": "code",
   "execution_count": 5,
   "metadata": {
    "slideshow": {
     "slide_type": "fragment"
    }
   },
   "outputs": [
    {
     "data": {
      "text/html": [
       "<div class=\"krn-spql\"><table><tr class=hdr><th>book</th>\n",
       "<th>author</th></tr><tr class=odd><td class=val><a href=\"http://dbpedia.org/resource/1066_and_All_That\" target=\"_other\">http://dbpedia.org/resource/1066_and_All_That</a></td>\n",
       "<td class=val><a href=\"http://dbpedia.org/resource/R._J._Yeatman\" target=\"_other\">http://dbpedia.org/resource/R._J._Yeatman</a></td></tr><tr class=even><td class=val><a href=\"http://dbpedia.org/resource/1066_and_All_That\" target=\"_other\">http://dbpedia.org/resource/1066_and_All_That</a></td>\n",
       "<td class=val><a href=\"http://dbpedia.org/resource/W._C._Sellar\" target=\"_other\">http://dbpedia.org/resource/W._C._Sellar</a></td></tr><tr class=odd><td class=val><a href=\"http://dbpedia.org/resource/2010:_Odyssey_Two\" target=\"_other\">http://dbpedia.org/resource/2010:_Odyssey_Two</a></td>\n",
       "<td class=val><a href=\"http://dbpedia.org/resource/Arthur_C._Clarke\" target=\"_other\">http://dbpedia.org/resource/Arthur_C._Clarke</a></td></tr><tr class=even><td class=val><a href=\"http://dbpedia.org/resource/A_Crown_of_Swords\" target=\"_other\">http://dbpedia.org/resource/A_Crown_of_Swords</a></td>\n",
       "<td class=val><a href=\"http://dbpedia.org/resource/Robert_Jordan\" target=\"_other\">http://dbpedia.org/resource/Robert_Jordan</a></td></tr><tr class=odd><td class=val><a href=\"http://dbpedia.org/resource/A_Dictionary_of_the_English_Language\" target=\"_other\">http://dbpedia.org/resource/A_Dictionary_of_the_English_Language</a></td>\n",
       "<td class=val><a href=\"http://dbpedia.org/resource/Samuel_Johnson\" target=\"_other\">http://dbpedia.org/resource/Samuel_Johnson</a></td></tr><tr class=even><td class=val><a href=\"http://dbpedia.org/resource/Alice's_Adventures_in_Wonderland\" target=\"_other\">http://dbpedia.org/resource/Alice's_Adventures_in_Wonderland</a></td>\n",
       "<td class=val><a href=\"http://dbpedia.org/resource/Lewis_Carroll\" target=\"_other\">http://dbpedia.org/resource/Lewis_Carroll</a></td></tr><tr class=odd><td class=val><a href=\"http://dbpedia.org/resource/Anne_of_Green_Gables\" target=\"_other\">http://dbpedia.org/resource/Anne_of_Green_Gables</a></td>\n",
       "<td class=val><a href=\"http://dbpedia.org/resource/Lucy_Maud_Montgomery\" target=\"_other\">http://dbpedia.org/resource/Lucy_Maud_Montgomery</a></td></tr><tr class=even><td class=val><a href=\"http://dbpedia.org/resource/Around_the_World_in_Eighty_Days\" target=\"_other\">http://dbpedia.org/resource/Around_the_World_in_Eighty_Days</a></td>\n",
       "<td class=val><a href=\"http://dbpedia.org/resource/Jules_Verne\" target=\"_other\">http://dbpedia.org/resource/Jules_Verne</a></td></tr><tr class=odd><td class=val><a href=\"http://dbpedia.org/resource/Between_Planets\" target=\"_other\">http://dbpedia.org/resource/Between_Planets</a></td>\n",
       "<td class=val><a href=\"http://dbpedia.org/resource/Robert_A._Heinlein\" target=\"_other\">http://dbpedia.org/resource/Robert_A._Heinlein</a></td></tr><tr class=even><td class=val><a href=\"http://dbpedia.org/resource/Beyond_This_Horizon\" target=\"_other\">http://dbpedia.org/resource/Beyond_This_Horizon</a></td>\n",
       "<td class=val><a href=\"http://dbpedia.org/resource/Robert_A._Heinlein\" target=\"_other\">http://dbpedia.org/resource/Robert_A._Heinlein</a></td></tr><tr class=odd><td class=val><a href=\"http://dbpedia.org/resource/Blood_Music_(novel)\" target=\"_other\">http://dbpedia.org/resource/Blood_Music_(novel)</a></td>\n",
       "<td class=val><a href=\"http://dbpedia.org/resource/Greg_Bear\" target=\"_other\">http://dbpedia.org/resource/Greg_Bear</a></td></tr><tr class=even><td class=val><a href=\"http://dbpedia.org/resource/Brave_New_World\" target=\"_other\">http://dbpedia.org/resource/Brave_New_World</a></td>\n",
       "<td class=val><a href=\"http://dbpedia.org/resource/Aldous_Huxley\" target=\"_other\">http://dbpedia.org/resource/Aldous_Huxley</a></td></tr><tr class=odd><td class=val><a href=\"http://dbpedia.org/resource/Castle_Rackrent\" target=\"_other\">http://dbpedia.org/resource/Castle_Rackrent</a></td>\n",
       "<td class=val><a href=\"http://dbpedia.org/resource/Maria_Edgeworth\" target=\"_other\">http://dbpedia.org/resource/Maria_Edgeworth</a></td></tr><tr class=even><td class=val><a href=\"http://dbpedia.org/resource/Catch-22\" target=\"_other\">http://dbpedia.org/resource/Catch-22</a></td>\n",
       "<td class=val><a href=\"http://dbpedia.org/resource/Joseph_Heller\" target=\"_other\">http://dbpedia.org/resource/Joseph_Heller</a></td></tr><tr class=odd><td class=val><a href=\"http://dbpedia.org/resource/Charlie_and_the_Chocolate_Factory\" target=\"_other\">http://dbpedia.org/resource/Charlie_and_the_Chocolate_Factory</a></td>\n",
       "<td class=val><a href=\"http://dbpedia.org/resource/Roald_Dahl\" target=\"_other\">http://dbpedia.org/resource/Roald_Dahl</a></td></tr><tr class=even><td class=val><a href=\"http://dbpedia.org/resource/Citizen_of_the_Galaxy\" target=\"_other\">http://dbpedia.org/resource/Citizen_of_the_Galaxy</a></td>\n",
       "<td class=val><a href=\"http://dbpedia.org/resource/Robert_A._Heinlein\" target=\"_other\">http://dbpedia.org/resource/Robert_A._Heinlein</a></td></tr><tr class=odd><td class=val><a href=\"http://dbpedia.org/resource/Clash_of_Civilizations\" target=\"_other\">http://dbpedia.org/resource/Clash_of_Civilizations</a></td>\n",
       "<td class=val><a href=\"http://dbpedia.org/resource/Samuel_P._Huntington\" target=\"_other\">http://dbpedia.org/resource/Samuel_P._Huntington</a></td></tr><tr class=even><td class=val><a href=\"http://dbpedia.org/resource/Clear_and_Present_Danger\" target=\"_other\">http://dbpedia.org/resource/Clear_and_Present_Danger</a></td>\n",
       "<td class=val><a href=\"http://dbpedia.org/resource/Tom_Clancy\" target=\"_other\">http://dbpedia.org/resource/Tom_Clancy</a></td></tr><tr class=odd><td class=val><a href=\"http://dbpedia.org/resource/Commentarii_de_Bello_Gallico\" target=\"_other\">http://dbpedia.org/resource/Commentarii_de_Bello_Gallico</a></td>\n",
       "<td class=val><a href=\"http://dbpedia.org/resource/Julius_Caesar\" target=\"_other\">http://dbpedia.org/resource/Julius_Caesar</a></td></tr><tr class=even><td class=val><a href=\"http://dbpedia.org/resource/Commentarii_de_Bello_Gallico\" target=\"_other\">http://dbpedia.org/resource/Commentarii_de_Bello_Gallico</a></td>\n",
       "<td class=val><a href=\"http://dbpedia.org/resource/Aulus_Hirtius\" target=\"_other\">http://dbpedia.org/resource/Aulus_Hirtius</a></td></tr></table><div class=\"tinfo\">Total: 10000, Shown: 20</div></div>"
      ]
     },
     "metadata": {},
     "output_type": "display_data"
    }
   ],
   "source": [
    "PREFIX dbo: <http://dbpedia.org/ontology/>\n",
    "SELECT *\n",
    "WHERE {\n",
    "    ?book a dbo:Book .\n",
    "    ?book dbo:author ?author .\n",
    "}"
   ]
  },
  {
   "cell_type": "markdown",
   "metadata": {
    "slideshow": {
     "slide_type": "subslide"
    }
   },
   "source": [
    "A Turtle-like syntax can also be used in SPARQL to make the query more readable:\n",
    "\n",
    "```sparql\n",
    "PREFIX dbo: <http://dbpedia.org/ontology/>\n",
    "SELECT *\n",
    "WHERE {\n",
    "    ?book a dbo:Book ; \n",
    "        dbo:author ?author .\n",
    "}\n",
    "```"
   ]
  },
  {
   "cell_type": "markdown",
   "metadata": {
    "slideshow": {
     "slide_type": "subslide"
    }
   },
   "source": [
    "Consider a graph with the following 4 statements:\n",
    "\n",
    "```turtle\n",
    "<http://book1> rdf:type <http://dbpedia.org/ontology/Book> .\n",
    "<http://book1> dbo:author <http://author1> .\n",
    "<http://book2> rdf:type <http://dbpedia.org/ontology/Book> .\n",
    "<http://book2> dbo:contributor <http://author2> .\n",
    "```\n",
    "\n",
    "The previous query will return only **one row of results with `<http://book1>` and `<http://author1>`**"
   ]
  },
  {
   "cell_type": "markdown",
   "metadata": {
    "slideshow": {
     "slide_type": "slide"
    }
   },
   "source": [
    "# Presentation and processing of SPARQL query results\n",
    "\n",
    "* `LIMIT`: specify the maximal number of results (table rows) \n",
    "* `OFFSET`: position of the first delivered result SELECT \n",
    "* `DISTINCT`: removal of duplicate table rows\n",
    "\n",
    "> `LIMIT` and `OFFSET` are often used in conjunction with `ORDER BY`\n"
   ]
  },
  {
   "cell_type": "markdown",
   "metadata": {
    "slideshow": {
     "slide_type": "slide"
    }
   },
   "source": [
    "# 4. Retrieve specific variables and limit\n",
    "\n",
    "You can specify the variables you want to be returned. And `LIMIT` the number of results returned.\n",
    "\n",
    "This query will return 10 authors of books in DBpedia, with duplicates if the author wrote multiple books 👥"
   ]
  },
  {
   "cell_type": "code",
   "execution_count": 5,
   "metadata": {
    "slideshow": {
     "slide_type": "fragment"
    }
   },
   "outputs": [
    {
     "data": {
      "text/html": [
       "<div class=\"krn-spql\"><table><tr class=hdr><th>author</th></tr><tr class=odd><td class=val><a href=\"http://dbpedia.org/resource/R._J._Yeatman\" target=\"_other\">http://dbpedia.org/resource/R._J._Yeatman</a></td></tr><tr class=even><td class=val><a href=\"http://dbpedia.org/resource/W._C._Sellar\" target=\"_other\">http://dbpedia.org/resource/W._C._Sellar</a></td></tr><tr class=odd><td class=val><a href=\"http://dbpedia.org/resource/Arthur_C._Clarke\" target=\"_other\">http://dbpedia.org/resource/Arthur_C._Clarke</a></td></tr><tr class=even><td class=val><a href=\"http://dbpedia.org/resource/Robert_Jordan\" target=\"_other\">http://dbpedia.org/resource/Robert_Jordan</a></td></tr><tr class=odd><td class=val><a href=\"http://dbpedia.org/resource/Samuel_Johnson\" target=\"_other\">http://dbpedia.org/resource/Samuel_Johnson</a></td></tr><tr class=even><td class=val><a href=\"http://dbpedia.org/resource/Lewis_Carroll\" target=\"_other\">http://dbpedia.org/resource/Lewis_Carroll</a></td></tr><tr class=odd><td class=val><a href=\"http://dbpedia.org/resource/Lucy_Maud_Montgomery\" target=\"_other\">http://dbpedia.org/resource/Lucy_Maud_Montgomery</a></td></tr><tr class=even><td class=val><a href=\"http://dbpedia.org/resource/Jules_Verne\" target=\"_other\">http://dbpedia.org/resource/Jules_Verne</a></td></tr><tr class=odd><td class=val><a href=\"http://dbpedia.org/resource/Robert_A._Heinlein\" target=\"_other\">http://dbpedia.org/resource/Robert_A._Heinlein</a></td></tr><tr class=even><td class=val><a href=\"http://dbpedia.org/resource/Robert_A._Heinlein\" target=\"_other\">http://dbpedia.org/resource/Robert_A._Heinlein</a></td></tr></table><div class=\"tinfo\">Total: 10, Shown: 10</div></div>"
      ]
     },
     "metadata": {},
     "output_type": "display_data"
    }
   ],
   "source": [
    "PREFIX dbo: <http://dbpedia.org/ontology/>\n",
    "SELECT ?author\n",
    "WHERE {\n",
    "    ?book a dbo:Book ;\n",
    "        dbo:author ?author .\n",
    "} \n",
    "LIMIT 10"
   ]
  },
  {
   "cell_type": "markdown",
   "metadata": {
    "slideshow": {
     "slide_type": "slide"
    }
   },
   "source": [
    "# 5. Retrieve distinct results\n",
    "\n",
    "You can also enforce that only unique `DISTINCT` results are returned\n",
    "\n",
    "> Use the `*` if you want all variables\n",
    "\n",
    "This query will return all authors of books in DBpedia **without duplicates**, even if they wrote multiple books 👤"
   ]
  },
  {
   "cell_type": "code",
   "execution_count": 6,
   "metadata": {
    "slideshow": {
     "slide_type": "fragment"
    }
   },
   "outputs": [
    {
     "data": {
      "text/html": [
       "<div class=\"krn-spql\"><table><tr class=hdr><th>author</th></tr><tr class=odd><td class=val><a href=\"http://dbpedia.org/resource/R._J._Yeatman\" target=\"_other\">http://dbpedia.org/resource/R._J._Yeatman</a></td></tr><tr class=even><td class=val><a href=\"http://dbpedia.org/resource/W._C._Sellar\" target=\"_other\">http://dbpedia.org/resource/W._C._Sellar</a></td></tr><tr class=odd><td class=val><a href=\"http://dbpedia.org/resource/Arthur_C._Clarke\" target=\"_other\">http://dbpedia.org/resource/Arthur_C._Clarke</a></td></tr><tr class=even><td class=val><a href=\"http://dbpedia.org/resource/Robert_Jordan\" target=\"_other\">http://dbpedia.org/resource/Robert_Jordan</a></td></tr><tr class=odd><td class=val><a href=\"http://dbpedia.org/resource/Samuel_Johnson\" target=\"_other\">http://dbpedia.org/resource/Samuel_Johnson</a></td></tr><tr class=even><td class=val><a href=\"http://dbpedia.org/resource/Lewis_Carroll\" target=\"_other\">http://dbpedia.org/resource/Lewis_Carroll</a></td></tr><tr class=odd><td class=val><a href=\"http://dbpedia.org/resource/Lucy_Maud_Montgomery\" target=\"_other\">http://dbpedia.org/resource/Lucy_Maud_Montgomery</a></td></tr><tr class=even><td class=val><a href=\"http://dbpedia.org/resource/Jules_Verne\" target=\"_other\">http://dbpedia.org/resource/Jules_Verne</a></td></tr><tr class=odd><td class=val><a href=\"http://dbpedia.org/resource/Robert_A._Heinlein\" target=\"_other\">http://dbpedia.org/resource/Robert_A._Heinlein</a></td></tr><tr class=even><td class=val><a href=\"http://dbpedia.org/resource/Greg_Bear\" target=\"_other\">http://dbpedia.org/resource/Greg_Bear</a></td></tr></table><div class=\"tinfo\">Total: 10, Shown: 10</div></div>"
      ]
     },
     "metadata": {},
     "output_type": "display_data"
    }
   ],
   "source": [
    "PREFIX dbo: <http://dbpedia.org/ontology/>\n",
    "SELECT DISTINCT ?author\n",
    "WHERE {\n",
    "    ?book a dbo:Book ;\n",
    "        dbo:author ?author .\n",
    "} LIMIT 10"
   ]
  },
  {
   "cell_type": "markdown",
   "metadata": {
    "slideshow": {
     "slide_type": "slide"
    }
   },
   "source": [
    "# Your turn 🎬\n",
    "\n",
    "Use **[https://yasgui.triply.cc](https://yasgui.triply.cc)** to write and run SPARQL queries on the DBpedia RDF graph to retrieve the following answers below:\n",
    "\n",
    "1. Get the list of movies (`dbo:Film`) without duplicates 🎥\n",
    "\n",
    "2. Get the list of movies (`dbo:Film`) and the actors who star in this movie (`dbo:starring`)\n",
    "\n",
    "3. Get the label of the movie (return `?movieLabel ?actor`, not the movie URI)"
   ]
  },
  {
   "cell_type": "markdown",
   "metadata": {
    "slideshow": {
     "slide_type": "subslide"
    }
   },
   "source": [
    "1. Get the list of movies (`dbo:Film`) without duplicates"
   ]
  },
  {
   "cell_type": "code",
   "execution_count": 25,
   "metadata": {
    "slideshow": {
     "slide_type": "fragment"
    }
   },
   "outputs": [
    {
     "data": {
      "text/html": [
       "<div class=\"krn-spql\"><table><tr class=hdr><th>movie</th></tr><tr class=odd><td class=val><a href=\"http://dbpedia.org/resource/4000_Miles\" target=\"_other\">http://dbpedia.org/resource/4000_Miles</a></td></tr><tr class=even><td class=val><a href=\"http://dbpedia.org/resource/The_Man_Who_Came_Back\" target=\"_other\">http://dbpedia.org/resource/The_Man_Who_Came_Back</a></td></tr><tr class=odd><td class=val><a href=\"http://dbpedia.org/resource/12_Monkeys\" target=\"_other\">http://dbpedia.org/resource/12_Monkeys</a></td></tr><tr class=even><td class=val><a href=\"http://dbpedia.org/resource/Airplane!\" target=\"_other\">http://dbpedia.org/resource/Airplane!</a></td></tr><tr class=odd><td class=val><a href=\"http://dbpedia.org/resource/American_Beauty_(1999_film)\" target=\"_other\">http://dbpedia.org/resource/American_Beauty_(1999_film)</a></td></tr><tr class=even><td class=val><a href=\"http://dbpedia.org/resource/Amélie\" target=\"_other\">http://dbpedia.org/resource/Amélie</a></td></tr><tr class=odd><td class=val><a href=\"http://dbpedia.org/resource/Andrzej_Wajda\" target=\"_other\">http://dbpedia.org/resource/Andrzej_Wajda</a></td></tr><tr class=even><td class=val><a href=\"http://dbpedia.org/resource/Animal_Crackers_(1930_film)\" target=\"_other\">http://dbpedia.org/resource/Animal_Crackers_(1930_film)</a></td></tr><tr class=odd><td class=val><a href=\"http://dbpedia.org/resource/Animated_cartoon\" target=\"_other\">http://dbpedia.org/resource/Animated_cartoon</a></td></tr><tr class=even><td class=val><a href=\"http://dbpedia.org/resource/Anne_of_the_Thousand_Days\" target=\"_other\">http://dbpedia.org/resource/Anne_of_the_Thousand_Days</a></td></tr><tr class=odd><td class=val><a href=\"http://dbpedia.org/resource/Anywhere_but_Here_(film)\" target=\"_other\">http://dbpedia.org/resource/Anywhere_but_Here_(film)</a></td></tr><tr class=even><td class=val><a href=\"http://dbpedia.org/resource/Armageddon_(1998_film)\" target=\"_other\">http://dbpedia.org/resource/Armageddon_(1998_film)</a></td></tr><tr class=odd><td class=val><a href=\"http://dbpedia.org/resource/Arms_and_the_Man\" target=\"_other\">http://dbpedia.org/resource/Arms_and_the_Man</a></td></tr><tr class=even><td class=val><a href=\"http://dbpedia.org/resource/Balducci_levitation\" target=\"_other\">http://dbpedia.org/resource/Balducci_levitation</a></td></tr><tr class=odd><td class=val><a href=\"http://dbpedia.org/resource/Beautiful_Girls_(film)\" target=\"_other\">http://dbpedia.org/resource/Beautiful_Girls_(film)</a></td></tr><tr class=even><td class=val><a href=\"http://dbpedia.org/resource/Berry\" target=\"_other\">http://dbpedia.org/resource/Berry</a></td></tr><tr class=odd><td class=val><a href=\"http://dbpedia.org/resource/Black_Narcissus\" target=\"_other\">http://dbpedia.org/resource/Black_Narcissus</a></td></tr><tr class=even><td class=val><a href=\"http://dbpedia.org/resource/Black_tie\" target=\"_other\">http://dbpedia.org/resource/Black_tie</a></td></tr><tr class=odd><td class=val><a href=\"http://dbpedia.org/resource/Breakfast_at_Tiffany's_(film)\" target=\"_other\">http://dbpedia.org/resource/Breakfast_at_Tiffany's_(film)</a></td></tr><tr class=even><td class=val><a href=\"http://dbpedia.org/resource/Carry_On_(franchise)\" target=\"_other\">http://dbpedia.org/resource/Carry_On_(franchise)</a></td></tr></table><div class=\"tinfo\">Total: 10000, Shown: 20</div></div>"
      ]
     },
     "metadata": {},
     "output_type": "display_data"
    }
   ],
   "source": [
    "PREFIX dbo: <http://dbpedia.org/ontology/>\n",
    "SELECT DISTINCT ?movie\n",
    "WHERE {\n",
    "    ?movie a dbo:Film .\n",
    "} "
   ]
  },
  {
   "cell_type": "markdown",
   "metadata": {
    "slideshow": {
     "slide_type": "subslide"
    }
   },
   "source": [
    "2. Get the list of movies (`dbo:Film`) and the actors who star in this movie (`dbo:starring`)"
   ]
  },
  {
   "cell_type": "code",
   "execution_count": 23,
   "metadata": {
    "slideshow": {
     "slide_type": "fragment"
    }
   },
   "outputs": [
    {
     "data": {
      "text/html": [
       "<div class=\"krn-spql\"><table><tr class=hdr><th>movie</th>\n",
       "<th>actor</th></tr><tr class=odd><td class=val><a href=\"http://dbpedia.org/resource/12_Monkeys\" target=\"_other\">http://dbpedia.org/resource/12_Monkeys</a></td>\n",
       "<td class=val><a href=\"http://dbpedia.org/resource/Brad_Pitt\" target=\"_other\">http://dbpedia.org/resource/Brad_Pitt</a></td></tr><tr class=even><td class=val><a href=\"http://dbpedia.org/resource/12_Monkeys\" target=\"_other\">http://dbpedia.org/resource/12_Monkeys</a></td>\n",
       "<td class=val><a href=\"http://dbpedia.org/resource/Madeleine_Stowe\" target=\"_other\">http://dbpedia.org/resource/Madeleine_Stowe</a></td></tr><tr class=odd><td class=val><a href=\"http://dbpedia.org/resource/12_Monkeys\" target=\"_other\">http://dbpedia.org/resource/12_Monkeys</a></td>\n",
       "<td class=val><a href=\"http://dbpedia.org/resource/Bruce_Willis\" target=\"_other\">http://dbpedia.org/resource/Bruce_Willis</a></td></tr><tr class=even><td class=val><a href=\"http://dbpedia.org/resource/12_Monkeys\" target=\"_other\">http://dbpedia.org/resource/12_Monkeys</a></td>\n",
       "<td class=val><a href=\"http://dbpedia.org/resource/Christopher_Plummer\" target=\"_other\">http://dbpedia.org/resource/Christopher_Plummer</a></td></tr><tr class=odd><td class=val><a href=\"http://dbpedia.org/resource/Amélie\" target=\"_other\">http://dbpedia.org/resource/Amélie</a></td>\n",
       "<td class=val><a href=\"http://dbpedia.org/resource/Audrey_Tautou\" target=\"_other\">http://dbpedia.org/resource/Audrey_Tautou</a></td></tr><tr class=even><td class=val><a href=\"http://dbpedia.org/resource/Amélie\" target=\"_other\">http://dbpedia.org/resource/Amélie</a></td>\n",
       "<td class=val><a href=\"http://dbpedia.org/resource/Mathieu_Kassovitz\" target=\"_other\">http://dbpedia.org/resource/Mathieu_Kassovitz</a></td></tr><tr class=odd><td class=val><a href=\"http://dbpedia.org/resource/Animal_Crackers_(1930_film)\" target=\"_other\">http://dbpedia.org/resource/Animal_Crackers_(1930_film)</a></td>\n",
       "<td class=val><a href=\"http://dbpedia.org/resource/Zeppo_Marx\" target=\"_other\">http://dbpedia.org/resource/Zeppo_Marx</a></td></tr><tr class=even><td class=val><a href=\"http://dbpedia.org/resource/Animal_Crackers_(1930_film)\" target=\"_other\">http://dbpedia.org/resource/Animal_Crackers_(1930_film)</a></td>\n",
       "<td class=val><a href=\"http://dbpedia.org/resource/Groucho_Marx\" target=\"_other\">http://dbpedia.org/resource/Groucho_Marx</a></td></tr><tr class=odd><td class=val><a href=\"http://dbpedia.org/resource/Animal_Crackers_(1930_film)\" target=\"_other\">http://dbpedia.org/resource/Animal_Crackers_(1930_film)</a></td>\n",
       "<td class=val><a href=\"http://dbpedia.org/resource/Chico_Marx\" target=\"_other\">http://dbpedia.org/resource/Chico_Marx</a></td></tr><tr class=even><td class=val><a href=\"http://dbpedia.org/resource/Animal_Crackers_(1930_film)\" target=\"_other\">http://dbpedia.org/resource/Animal_Crackers_(1930_film)</a></td>\n",
       "<td class=val><a href=\"http://dbpedia.org/resource/Harpo_Marx\" target=\"_other\">http://dbpedia.org/resource/Harpo_Marx</a></td></tr></table><div class=\"tinfo\">Total: 10, Shown: 10</div></div>"
      ]
     },
     "metadata": {},
     "output_type": "display_data"
    }
   ],
   "source": [
    "PREFIX dbo: <http://dbpedia.org/ontology/>\n",
    "PREFIX rdfs: <http://www.w3.org/2000/01/rdf-schema#>\n",
    "SELECT DISTINCT ?movie ?actor\n",
    "WHERE {\n",
    "    ?movie a dbo:Film ;\n",
    "        dbo:starring ?actor .\n",
    "} \n",
    "LIMIT 10"
   ]
  },
  {
   "cell_type": "markdown",
   "metadata": {
    "slideshow": {
     "slide_type": "subslide"
    }
   },
   "source": [
    "3. Get the label of the movie (return `?movieLabel ?actor`, not the movie URI)"
   ]
  },
  {
   "cell_type": "code",
   "execution_count": 24,
   "metadata": {
    "slideshow": {
     "slide_type": "subslide"
    }
   },
   "outputs": [
    {
     "data": {
      "text/html": [
       "<div class=\"krn-spql\"><table><tr class=hdr><th>movieLabel</th>\n",
       "<th>actor</th></tr><tr class=odd><td class=val>12 Monkeys</td>\n",
       "<td class=val><a href=\"http://dbpedia.org/resource/Brad_Pitt\" target=\"_other\">http://dbpedia.org/resource/Brad_Pitt</a></td></tr><tr class=even><td class=val>12 قردا</td>\n",
       "<td class=val><a href=\"http://dbpedia.org/resource/Brad_Pitt\" target=\"_other\">http://dbpedia.org/resource/Brad_Pitt</a></td></tr><tr class=odd><td class=val>12 Monkeys</td>\n",
       "<td class=val><a href=\"http://dbpedia.org/resource/Brad_Pitt\" target=\"_other\">http://dbpedia.org/resource/Brad_Pitt</a></td></tr><tr class=even><td class=val>Doce monos</td>\n",
       "<td class=val><a href=\"http://dbpedia.org/resource/Brad_Pitt\" target=\"_other\">http://dbpedia.org/resource/Brad_Pitt</a></td></tr><tr class=odd><td class=val>L'Armée des douze singes</td>\n",
       "<td class=val><a href=\"http://dbpedia.org/resource/Brad_Pitt\" target=\"_other\">http://dbpedia.org/resource/Brad_Pitt</a></td></tr><tr class=even><td class=val>L'esercito delle 12 scimmie</td>\n",
       "<td class=val><a href=\"http://dbpedia.org/resource/Brad_Pitt\" target=\"_other\">http://dbpedia.org/resource/Brad_Pitt</a></td></tr><tr class=odd><td class=val>12モンキーズ</td>\n",
       "<td class=val><a href=\"http://dbpedia.org/resource/Brad_Pitt\" target=\"_other\">http://dbpedia.org/resource/Brad_Pitt</a></td></tr><tr class=even><td class=val>12 Monkeys (film)</td>\n",
       "<td class=val><a href=\"http://dbpedia.org/resource/Brad_Pitt\" target=\"_other\">http://dbpedia.org/resource/Brad_Pitt</a></td></tr><tr class=odd><td class=val>12 małp</td>\n",
       "<td class=val><a href=\"http://dbpedia.org/resource/Brad_Pitt\" target=\"_other\">http://dbpedia.org/resource/Brad_Pitt</a></td></tr><tr class=even><td class=val>Twelve Monkeys</td>\n",
       "<td class=val><a href=\"http://dbpedia.org/resource/Brad_Pitt\" target=\"_other\">http://dbpedia.org/resource/Brad_Pitt</a></td></tr></table><div class=\"tinfo\">Total: 10, Shown: 10</div></div>"
      ]
     },
     "metadata": {},
     "output_type": "display_data"
    }
   ],
   "source": [
    "PREFIX dbo: <http://dbpedia.org/ontology/>\n",
    "PREFIX rdfs: <http://www.w3.org/2000/01/rdf-schema#>\n",
    "SELECT DISTINCT ?movieLabel ?actor\n",
    "WHERE {\n",
    "    ?movie a dbo:Film ;\n",
    "        dbo:starring ?actor ;\n",
    "        rdfs:label ?movieLabel .\n",
    "} \n",
    "LIMIT 10"
   ]
  },
  {
   "cell_type": "markdown",
   "metadata": {
    "slideshow": {
     "slide_type": "slide"
    }
   },
   "source": [
    "# FILTER the results\n",
    "\n",
    "## Comparison operators: <, =, >, <=, >=, !=\n",
    "* Comparison of data literals according to natural order\n",
    "* Support for numerical data types, xsd:dateTime, xsd:string (alphabetic ordering), xsd:Boolean (1>0)\n",
    "* For other types and other RDF-elements, only = and != are available\n",
    "* Comparison of literals of incompatible types (e.g. xsd:string and xsd:integer) is not allowed, they must be converted\n",
    "\n",
    "## Arithmetic operators: +, -, *, /\n",
    "* Support for numerical data types\n",
    "* Used to combine values in filter conditions \n",
    "* E.g. `FILTER(?weight/ (?size*?size)>=25)`\n"
   ]
  },
  {
   "cell_type": "markdown",
   "metadata": {
    "slideshow": {
     "slide_type": "slide"
    }
   },
   "source": [
    "# 6. Filter by number of pages\n",
    "\n",
    "This query will return 10 authors who wrote a book with more than 500 pages 📖"
   ]
  },
  {
   "cell_type": "code",
   "execution_count": 7,
   "metadata": {
    "slideshow": {
     "slide_type": "fragment"
    }
   },
   "outputs": [
    {
     "data": {
      "text/html": [
       "<div class=\"krn-spql\"><table><tr class=hdr><th>author</th></tr><tr class=odd><td class=val><a href=\"http://dbpedia.org/resource/Robert_Jordan\" target=\"_other\">http://dbpedia.org/resource/Robert_Jordan</a></td></tr><tr class=even><td class=val><a href=\"http://dbpedia.org/resource/Tom_Clancy\" target=\"_other\">http://dbpedia.org/resource/Tom_Clancy</a></td></tr><tr class=odd><td class=val><a href=\"http://dbpedia.org/resource/Douglas_Hofstadter\" target=\"_other\">http://dbpedia.org/resource/Douglas_Hofstadter</a></td></tr><tr class=even><td class=val><a href=\"http://dbpedia.org/resource/Richard_Llewellyn\" target=\"_other\">http://dbpedia.org/resource/Richard_Llewellyn</a></td></tr><tr class=odd><td class=val><a href=\"http://dbpedia.org/resource/Charles_Darwin\" target=\"_other\">http://dbpedia.org/resource/Charles_Darwin</a></td></tr><tr class=even><td class=val><a href=\"http://dbpedia.org/resource/Henry_Martyn_Robert\" target=\"_other\">http://dbpedia.org/resource/Henry_Martyn_Robert</a></td></tr><tr class=odd><td class=val><a href=\"http://dbpedia.org/resource/Iain_Banks\" target=\"_other\">http://dbpedia.org/resource/Iain_Banks</a></td></tr><tr class=even><td class=val><a href=\"http://dbpedia.org/resource/Victor_Hugo\" target=\"_other\">http://dbpedia.org/resource/Victor_Hugo</a></td></tr><tr class=odd><td class=val><a href=\"http://dbpedia.org/resource/Robert_Anton_Wilson\" target=\"_other\">http://dbpedia.org/resource/Robert_Anton_Wilson</a></td></tr><tr class=even><td class=val><a href=\"http://dbpedia.org/resource/Robert_Shea\" target=\"_other\">http://dbpedia.org/resource/Robert_Shea</a></td></tr></table><div class=\"tinfo\">Total: 10, Shown: 10</div></div>"
      ]
     },
     "metadata": {},
     "output_type": "display_data"
    }
   ],
   "source": [
    "PREFIX dbo: <http://dbpedia.org/ontology/>\n",
    "SELECT DISTINCT ?author\n",
    "WHERE {\n",
    "    ?book a dbo:Book ;\n",
    "        dbo:author ?author ;\n",
    "        dbo:numberOfPages ?pages .\n",
    "    FILTER (?pages > 500)\n",
    "} LIMIT 10"
   ]
  },
  {
   "cell_type": "markdown",
   "metadata": {
    "slideshow": {
     "slide_type": "slide"
    }
   },
   "source": [
    "# 7. Filter books on name content\n",
    "\n",
    "* Cast the variable `?name` using the `str()` function, to avoid datatypes incompatibility\n",
    "* Use the **function** `contains(string_to_look_in,string_to_look_for)` to only keep books with the string \"grand\" in their label 🏷️"
   ]
  },
  {
   "cell_type": "code",
   "execution_count": 10,
   "metadata": {
    "slideshow": {
     "slide_type": "fragment"
    }
   },
   "outputs": [
    {
     "data": {
      "text/html": [
       "<div class=\"krn-spql\"><table><tr class=hdr><th>name</th>\n",
       "<th>author</th></tr><tr class=odd><td class=val>Il grande divorzio</td>\n",
       "<td class=val><a href=\"http://dbpedia.org/resource/C._S._Lewis\" target=\"_other\">http://dbpedia.org/resource/C._S._Lewis</a></td></tr><tr class=even><td class=val>La grande caccia</td>\n",
       "<td class=val><a href=\"http://dbpedia.org/resource/Robert_Jordan\" target=\"_other\">http://dbpedia.org/resource/Robert_Jordan</a></td></tr><tr class=odd><td class=val>La grande fuga dell'Ottobre Rosso</td>\n",
       "<td class=val><a href=\"http://dbpedia.org/resource/Tom_Clancy\" target=\"_other\">http://dbpedia.org/resource/Tom_Clancy</a></td></tr><tr class=even><td class=val>La grande storia del tempo</td>\n",
       "<td class=val><a href=\"http://dbpedia.org/resource/Leonard_Mlodinow\" target=\"_other\">http://dbpedia.org/resource/Leonard_Mlodinow</a></td></tr><tr class=odd><td class=val>La grande storia del tempo</td>\n",
       "<td class=val><a href=\"http://dbpedia.org/resource/Stephen_Hawking\" target=\"_other\">http://dbpedia.org/resource/Stephen_Hawking</a></td></tr><tr class=even><td class=val>Il grande ritratto</td>\n",
       "<td class=val><a href=\"http://dbpedia.org/resource/Dino_Buzzati\" target=\"_other\">http://dbpedia.org/resource/Dino_Buzzati</a></td></tr><tr class=odd><td class=val>Il piccolo grande uomo (romanzo)</td>\n",
       "<td class=val><a href=\"http://dbpedia.org/resource/Thomas_Berger_(novelist)\" target=\"_other\">http://dbpedia.org/resource/Thomas_Berger_(novelist)</a></td></tr><tr class=even><td class=val>Il grande mare dei Sargassi</td>\n",
       "<td class=val><a href=\"http://dbpedia.org/resource/Jean_Rhys\" target=\"_other\">http://dbpedia.org/resource/Jean_Rhys</a></td></tr><tr class=odd><td class=val>La Conspiration au grand jour</td>\n",
       "<td class=val><a href=\"http://dbpedia.org/resource/H._G._Wells\" target=\"_other\">http://dbpedia.org/resource/H._G._Wells</a></td></tr><tr class=even><td class=val>Considérations sur les causes de la grandeur des Romains et de leur décadence</td>\n",
       "<td class=val><a href=\"http://dbpedia.org/resource/Montesquieu\" target=\"_other\">http://dbpedia.org/resource/Montesquieu</a></td></tr></table><div class=\"tinfo\">Total: 10, Shown: 10</div></div>"
      ]
     },
     "metadata": {},
     "output_type": "display_data"
    }
   ],
   "source": [
    "PREFIX dbo:<http://dbpedia.org/ontology/>\n",
    "PREFIX rdfs: <http://www.w3.org/2000/01/rdf-schema#>\n",
    "SELECT ?name ?author \n",
    "WHERE {\n",
    "    ?book a dbo:Book ;\n",
    "        dbo:author ?author ;\n",
    "        rdfs:label ?name . \n",
    "    FILTER (contains(str(?name),\"grand\"))\n",
    "} LIMIT 10"
   ]
  },
  {
   "cell_type": "markdown",
   "metadata": {
    "slideshow": {
     "slide_type": "slide"
    }
   },
   "source": [
    "# Using conditions in FILTER\n",
    "\n",
    "Filter conditions can be linked with boolean operators: `&&`, `||`, `!`\n",
    "\n",
    "> Keep when pages superior to 500 and does not contains \"grand\" in its name\n",
    "\n",
    "```sparql\n",
    "FILTER((?pages > 500) && !contains(?name,\"grand\"))\n",
    "```\n",
    "\n",
    "> Keep when pages superior to 500 or contains \"grand\" in its name\n",
    "\n",
    "```sparql\n",
    "FILTER((?pages > 500) || contains(?name,\"grand\"))\n",
    "```\n",
    "\n",
    "Expressible through graph pattern:\n",
    "* **Conjunction** corresponds to specifications of **several filters**.\n",
    "* **Disjunction** corresponds to application of filters in **alternative patterns** (use `UNION`).\n"
   ]
  },
  {
   "cell_type": "markdown",
   "metadata": {
    "slideshow": {
     "slide_type": "slide"
    }
   },
   "source": [
    "# 8. Get the language of a literal\n",
    "\n",
    "We can use the `lang()` function in the `SELECT` statement to return the language of the book label 💬\n",
    "\n",
    "> Give it a name using the keyword `as`"
   ]
  },
  {
   "cell_type": "code",
   "execution_count": 13,
   "metadata": {
    "slideshow": {
     "slide_type": "fragment"
    }
   },
   "outputs": [
    {
     "data": {
      "text/html": [
       "<div class=\"krn-spql\"><table><tr class=hdr><th>name</th>\n",
       "<th>author</th>\n",
       "<th>lang</th></tr><tr class=odd><td class=val>1066 and All That</td>\n",
       "<td class=val><a href=\"http://dbpedia.org/resource/R._J._Yeatman\" target=\"_other\">http://dbpedia.org/resource/R._J._Yeatman</a></td>\n",
       "<td class=val>en</td></tr><tr class=even><td class=val>1066 and All That</td>\n",
       "<td class=val><a href=\"http://dbpedia.org/resource/R._J._Yeatman\" target=\"_other\">http://dbpedia.org/resource/R._J._Yeatman</a></td>\n",
       "<td class=val>es</td></tr><tr class=odd><td class=val>1066 and All That</td>\n",
       "<td class=val><a href=\"http://dbpedia.org/resource/R._J._Yeatman\" target=\"_other\">http://dbpedia.org/resource/R._J._Yeatman</a></td>\n",
       "<td class=val>fr</td></tr><tr class=even><td class=val>1066 and All That</td>\n",
       "<td class=val><a href=\"http://dbpedia.org/resource/W._C._Sellar\" target=\"_other\">http://dbpedia.org/resource/W._C._Sellar</a></td>\n",
       "<td class=val>en</td></tr><tr class=odd><td class=val>1066 and All That</td>\n",
       "<td class=val><a href=\"http://dbpedia.org/resource/W._C._Sellar\" target=\"_other\">http://dbpedia.org/resource/W._C._Sellar</a></td>\n",
       "<td class=val>es</td></tr><tr class=even><td class=val>1066 and All That</td>\n",
       "<td class=val><a href=\"http://dbpedia.org/resource/W._C._Sellar\" target=\"_other\">http://dbpedia.org/resource/W._C._Sellar</a></td>\n",
       "<td class=val>fr</td></tr><tr class=odd><td class=val>2010: Odyssey Two</td>\n",
       "<td class=val><a href=\"http://dbpedia.org/resource/Arthur_C._Clarke\" target=\"_other\">http://dbpedia.org/resource/Arthur_C._Clarke</a></td>\n",
       "<td class=val>en</td></tr><tr class=even><td class=val>Odyssee 2010 – Das Jahr, in dem wir Kontakt aufnehmen</td>\n",
       "<td class=val><a href=\"http://dbpedia.org/resource/Arthur_C._Clarke\" target=\"_other\">http://dbpedia.org/resource/Arthur_C._Clarke</a></td>\n",
       "<td class=val>de</td></tr><tr class=odd><td class=val>2010: Odisea dos</td>\n",
       "<td class=val><a href=\"http://dbpedia.org/resource/Arthur_C._Clarke\" target=\"_other\">http://dbpedia.org/resource/Arthur_C._Clarke</a></td>\n",
       "<td class=val>es</td></tr><tr class=even><td class=val>2010 : Odyssée deux</td>\n",
       "<td class=val><a href=\"http://dbpedia.org/resource/Arthur_C._Clarke\" target=\"_other\">http://dbpedia.org/resource/Arthur_C._Clarke</a></td>\n",
       "<td class=val>fr</td></tr></table><div class=\"tinfo\">Total: 10, Shown: 10</div></div>"
      ]
     },
     "metadata": {},
     "output_type": "display_data"
    }
   ],
   "source": [
    "PREFIX rdfs: <http://www.w3.org/2000/01/rdf-schema#>\n",
    "PREFIX dbo:<http://dbpedia.org/ontology/>\n",
    "SELECT ?name ?author lang(?name) as ?lang\n",
    "WHERE  \n",
    "    ?book a dbo:Book ;\n",
    "        dbo:author ?author ;\n",
    "        rdfs:label ?name . \n",
    "} LIMIT 10"
   ]
  },
  {
   "cell_type": "markdown",
   "metadata": {
    "slideshow": {
     "slide_type": "subslide"
    }
   },
   "source": [
    "# Return only Dutch book titles\n",
    "\n",
    "Use the `langMatches()` function to filter books with a label value Dutch 🇳🇱"
   ]
  },
  {
   "cell_type": "code",
   "execution_count": 14,
   "metadata": {
    "slideshow": {
     "slide_type": "fragment"
    }
   },
   "outputs": [
    {
     "data": {
      "text/html": [
       "<div class=\"krn-spql\"><table><tr class=hdr><th>name</th>\n",
       "<th>author</th></tr><tr class=odd><td class=val>2010: Odyssey Two</td>\n",
       "<td class=val><a href=\"http://dbpedia.org/resource/Arthur_C._Clarke\" target=\"_other\">http://dbpedia.org/resource/Arthur_C._Clarke</a></td></tr><tr class=even><td class=val>Een Kroon van Zwaarden</td>\n",
       "<td class=val><a href=\"http://dbpedia.org/resource/Robert_Jordan\" target=\"_other\">http://dbpedia.org/resource/Robert_Jordan</a></td></tr><tr class=odd><td class=val>A Dictionary of the English Language</td>\n",
       "<td class=val><a href=\"http://dbpedia.org/resource/Samuel_Johnson\" target=\"_other\">http://dbpedia.org/resource/Samuel_Johnson</a></td></tr><tr class=even><td class=val>Alice's Adventures in Wonderland</td>\n",
       "<td class=val><a href=\"http://dbpedia.org/resource/Lewis_Carroll\" target=\"_other\">http://dbpedia.org/resource/Lewis_Carroll</a></td></tr><tr class=odd><td class=val>Anne van het Groene Huis</td>\n",
       "<td class=val><a href=\"http://dbpedia.org/resource/Lucy_Maud_Montgomery\" target=\"_other\">http://dbpedia.org/resource/Lucy_Maud_Montgomery</a></td></tr><tr class=even><td class=val>De reis om de wereld in tachtig dagen</td>\n",
       "<td class=val><a href=\"http://dbpedia.org/resource/Jules_Verne\" target=\"_other\">http://dbpedia.org/resource/Jules_Verne</a></td></tr><tr class=odd><td class=val>Tussen de planeten</td>\n",
       "<td class=val><a href=\"http://dbpedia.org/resource/Robert_A._Heinlein\" target=\"_other\">http://dbpedia.org/resource/Robert_A._Heinlein</a></td></tr><tr class=even><td class=val>Brave New World (roman)</td>\n",
       "<td class=val><a href=\"http://dbpedia.org/resource/Aldous_Huxley\" target=\"_other\">http://dbpedia.org/resource/Aldous_Huxley</a></td></tr><tr class=odd><td class=val>Catch-22 (roman)</td>\n",
       "<td class=val><a href=\"http://dbpedia.org/resource/Joseph_Heller\" target=\"_other\">http://dbpedia.org/resource/Joseph_Heller</a></td></tr><tr class=even><td class=val>Sjakie en de chocoladefabriek</td>\n",
       "<td class=val><a href=\"http://dbpedia.org/resource/Roald_Dahl\" target=\"_other\">http://dbpedia.org/resource/Roald_Dahl</a></td></tr></table><div class=\"tinfo\">Total: 10, Shown: 10</div></div>"
      ]
     },
     "metadata": {},
     "output_type": "display_data"
    }
   ],
   "source": [
    "PREFIX rdfs: <http://www.w3.org/2000/01/rdf-schema#>\n",
    "PREFIX dbo:<http://dbpedia.org/ontology/>\n",
    "SELECT ?name ?author\n",
    "WHERE {\n",
    "    ?book a dbo:Book ;\n",
    "        dbo:author ?author ;\n",
    "        rdfs:label ?name . \n",
    "    FILTER (langMatches(lang(?name),\"nl\"))\n",
    "} LIMIT 10"
   ]
  },
  {
   "cell_type": "markdown",
   "metadata": {
    "slideshow": {
     "slide_type": "slide"
    }
   },
   "source": [
    "# 9. Sorting results\n",
    "\n",
    "We can use **[`ORDER BY`](https://yasgui.triply.cc/#query=PREFIX%20dbo%3A%3Chttp%3A%2F%2Fdbpedia.org%2Fontology%2F%3E%0APREFIX%20rdfs%3A%20%3Chttp%3A%2F%2Fwww.w3.org%2F2000%2F01%2Frdf-schema%23%3E%0ASELECT%20%3Fname%20%3Fauthor%20%3Fpages%20%3Fbook%0AWHERE%20%7B%0A%20%20%20%20%3Fbook%20a%20dbo%3ABook%20%3B%0A%20%20%20%20%20%20%20%20dbo%3Aauthor%20%3Fauthor%20%3B%0A%20%20%20%20%20%20%20%20rdfs%3Alabel%20%3Fname%20%3B%0A%20%20%20%20%20%20%20%20dbo%3AnumberOfPages%20%3Fpages%20.%0A%7D%20%0AORDER%20BY%20%3Fpages%0ALIMIT%2010&endpoint=https%3A%2F%2Fdbpedia.org%2Fsparql&requestMethod=POST&tabTitle=Query&headers=%7B%7D&contentTypeConstruct=text%2Fturtle%2C*%2F*%3Bq%3D0.9&contentTypeSelect=application%2Fsparql-results%2Bjson%2C*%2F*%3Bq%3D0.9&outputFormat=table)**, to order the books by the number of pages it contains in ascending order by default 📤"
   ]
  },
  {
   "cell_type": "code",
   "execution_count": 15,
   "metadata": {
    "slideshow": {
     "slide_type": "fragment"
    }
   },
   "outputs": [
    {
     "data": {
      "text/html": [
       "<div class=\"krn-spql\"><table><tr class=hdr><th>name</th>\n",
       "<th>author</th>\n",
       "<th>pages</th></tr><tr class=odd><td class=val>Liberia; or, Mr. Peyton's Experiments</td>\n",
       "<td class=val><a href=\"http://dbpedia.org/resource/Sarah_Josepha_Hale\" target=\"_other\">http://dbpedia.org/resource/Sarah_Josepha_Hale</a></td>\n",
       "<td class=val>0</td></tr><tr class=even><td class=val>The Cabin and Parlor; or, Slaves and Masters</td>\n",
       "<td class=val><a href=\"http://dbpedia.org/resource/Charles_Jacobs_Peterson\" target=\"_other\">http://dbpedia.org/resource/Charles_Jacobs_Peterson</a></td>\n",
       "<td class=val>0</td></tr><tr class=odd><td class=val>The Lofty and the Lowly, or Good in All and None All Good</td>\n",
       "<td class=val><a href=\"http://dbpedia.org/resource/Maria_Jane_McIntosh\" target=\"_other\">http://dbpedia.org/resource/Maria_Jane_McIntosh</a></td>\n",
       "<td class=val>0</td></tr><tr class=even><td class=val>Geological Evidences of the Antiquity of Man</td>\n",
       "<td class=val><a href=\"http://dbpedia.org/resource/Charles_Lyell\" target=\"_other\">http://dbpedia.org/resource/Charles_Lyell</a></td>\n",
       "<td class=val>0</td></tr><tr class=odd><td class=val>Geological Evidences of the Antiquity of Man</td>\n",
       "<td class=val><a href=\"http://dbpedia.org/resource/Charles_Lyell\" target=\"_other\">http://dbpedia.org/resource/Charles_Lyell</a></td>\n",
       "<td class=val>0</td></tr><tr class=even><td class=val>The Vampyre</td>\n",
       "<td class=val><a href=\"http://dbpedia.org/resource/John_William_Polidori\" target=\"_other\">http://dbpedia.org/resource/John_William_Polidori</a></td>\n",
       "<td class=val>0</td></tr><tr class=odd><td class=val>Der Vampyr (Polidori)</td>\n",
       "<td class=val><a href=\"http://dbpedia.org/resource/John_William_Polidori\" target=\"_other\">http://dbpedia.org/resource/John_William_Polidori</a></td>\n",
       "<td class=val>0</td></tr><tr class=even><td class=val>El vampiro (1819)</td>\n",
       "<td class=val><a href=\"http://dbpedia.org/resource/John_William_Polidori\" target=\"_other\">http://dbpedia.org/resource/John_William_Polidori</a></td>\n",
       "<td class=val>0</td></tr><tr class=odd><td class=val>Le Vampire (nouvelle)</td>\n",
       "<td class=val><a href=\"http://dbpedia.org/resource/John_William_Polidori\" target=\"_other\">http://dbpedia.org/resource/John_William_Polidori</a></td>\n",
       "<td class=val>0</td></tr><tr class=even><td class=val>Il vampiro (racconto)</td>\n",
       "<td class=val><a href=\"http://dbpedia.org/resource/John_William_Polidori\" target=\"_other\">http://dbpedia.org/resource/John_William_Polidori</a></td>\n",
       "<td class=val>0</td></tr></table><div class=\"tinfo\">Total: 10, Shown: 10</div></div>"
      ]
     },
     "metadata": {},
     "output_type": "display_data"
    }
   ],
   "source": [
    "PREFIX dbo:<http://dbpedia.org/ontology/>\n",
    "PREFIX rdfs: <http://www.w3.org/2000/01/rdf-schema#>\n",
    "SELECT ?name ?author ?pages\n",
    "WHERE {\n",
    "    ?book a dbo:Book ;\n",
    "        dbo:author ?author ;\n",
    "        rdfs:label ?name ;\n",
    "        dbo:numberOfPages ?pages .\n",
    "} \n",
    "ORDER BY ?pages\n",
    "LIMIT 10"
   ]
  },
  {
   "cell_type": "markdown",
   "metadata": {
    "slideshow": {
     "slide_type": "subslide"
    }
   },
   "source": [
    "# Order by results descending \n",
    "\n",
    "Order results from books with the highest number of pages to the lowest 📥"
   ]
  },
  {
   "cell_type": "code",
   "execution_count": 16,
   "metadata": {
    "slideshow": {
     "slide_type": "fragment"
    }
   },
   "outputs": [
    {
     "data": {
      "text/html": [
       "<div class=\"krn-spql\"><table><tr class=hdr><th>name</th>\n",
       "<th>author</th>\n",
       "<th>pages</th></tr><tr class=odd><td class=val>The Tolkien Reader</td>\n",
       "<td class=val><a href=\"http://dbpedia.org/resource/J._R._R._Tolkien\" target=\"_other\">http://dbpedia.org/resource/J._R._R._Tolkien</a></td>\n",
       "<td class=val>241127964</td></tr><tr class=even><td class=val>L. Ron Hubbard, Messiah or Madman?</td>\n",
       "<td class=val><a href=\"http://dbpedia.org/resource/Ronald_DeWolf\" target=\"_other\">http://dbpedia.org/resource/Ronald_DeWolf</a></td>\n",
       "<td class=val>1992460</td></tr><tr class=odd><td class=val>L. Ron Hubbard, Messiah or Madman?</td>\n",
       "<td class=val><a href=\"http://dbpedia.org/resource/Bent_Corydon\" target=\"_other\">http://dbpedia.org/resource/Bent_Corydon</a></td>\n",
       "<td class=val>1992460</td></tr><tr class=even><td class=val>L. Ron Hubbard, Messiah or Madman?</td>\n",
       "<td class=val><a href=\"http://dbpedia.org/resource/Ronald_DeWolf\" target=\"_other\">http://dbpedia.org/resource/Ronald_DeWolf</a></td>\n",
       "<td class=val>1987402</td></tr><tr class=odd><td class=val>L. Ron Hubbard, Messiah or Madman?</td>\n",
       "<td class=val><a href=\"http://dbpedia.org/resource/Bent_Corydon\" target=\"_other\">http://dbpedia.org/resource/Bent_Corydon</a></td>\n",
       "<td class=val>1987402</td></tr><tr class=even><td class=val>The Merlin Conspiracy</td>\n",
       "<td class=val><a href=\"http://dbpedia.org/resource/Diana_Wynne_Jones\" target=\"_other\">http://dbpedia.org/resource/Diana_Wynne_Jones</a></td>\n",
       "<td class=val>473468</td></tr><tr class=odd><td class=val>Political Liberalism</td>\n",
       "<td class=val><a href=\"http://dbpedia.org/resource/John_Rawls\" target=\"_other\">http://dbpedia.org/resource/John_Rawls</a></td>\n",
       "<td class=val>435576</td></tr><tr class=even><td class=val>Halo: The Flood</td>\n",
       "<td class=val><a href=\"http://dbpedia.org/resource/William_C._Dietz\" target=\"_other\">http://dbpedia.org/resource/William_C._Dietz</a></td>\n",
       "<td class=val>352432</td></tr><tr class=odd><td class=val>Halo: The Fall of Reach</td>\n",
       "<td class=val><a href=\"http://dbpedia.org/resource/Eric_Nylund\" target=\"_other\">http://dbpedia.org/resource/Eric_Nylund</a></td>\n",
       "<td class=val>352416</td></tr><tr class=even><td class=val>Unsung: A History of Women in American Music</td>\n",
       "<td class=val><a href=\"http://dbpedia.org/resource/Christine_Ammer\" target=\"_other\">http://dbpedia.org/resource/Christine_Ammer</a></td>\n",
       "<td class=val>317382</td></tr></table><div class=\"tinfo\">Total: 10, Shown: 10</div></div>"
      ]
     },
     "metadata": {},
     "output_type": "display_data"
    }
   ],
   "source": [
    "PREFIX dbo:<http://dbpedia.org/ontology/>\n",
    "PREFIX dbp:<http://dbpedia.org/property/>\n",
    "PREFIX rdfs: <http://www.w3.org/2000/01/rdf-schema#>\n",
    "SELECT ?name ?author ?pages\n",
    "WHERE {\n",
    "    ?book a dbo:Book ;\n",
    "        dbo:author ?author ;\n",
    "        rdfs:label ?name ;\n",
    "        dbo:numberOfPages ?pages .\n",
    "    FILTER (langMatches(lang(?name),\"en\"))\n",
    "} \n",
    "ORDER BY DESC(?pages)\n",
    "LIMIT 10"
   ]
  },
  {
   "cell_type": "markdown",
   "metadata": {
    "slideshow": {
     "slide_type": "slide"
    }
   },
   "source": [
    "# 10. Count results\n",
    "\n",
    "Count the number of books"
   ]
  },
  {
   "cell_type": "code",
   "execution_count": 26,
   "metadata": {
    "slideshow": {
     "slide_type": "fragment"
    }
   },
   "outputs": [
    {
     "data": {
      "text/html": [
       "<div class=\"krn-spql\"><table><tr class=hdr><th>book_count</th></tr><tr class=odd><td class=val>64239</td></tr></table><div class=\"tinfo\">Total: 1, Shown: 1</div></div>"
      ]
     },
     "metadata": {},
     "output_type": "display_data"
    }
   ],
   "source": [
    "PREFIX dbo:<http://dbpedia.org/ontology/>\n",
    "SELECT (count(?book) as ?book_count)\n",
    "WHERE {\n",
    "    ?book a dbo:Book .\n",
    "}"
   ]
  },
  {
   "cell_type": "markdown",
   "metadata": {
    "slideshow": {
     "slide_type": "subslide"
    }
   },
   "source": [
    "# Count a specific pattern\n",
    "\n",
    "We can also count how many row of a pattern are returned\n",
    "\n",
    "Count the number of books for each author 📚"
   ]
  },
  {
   "cell_type": "code",
   "execution_count": 27,
   "metadata": {
    "slideshow": {
     "slide_type": "fragment"
    }
   },
   "outputs": [
    {
     "data": {
      "text/html": [
       "<div class=\"krn-spql\"><table><tr class=hdr><th>author</th>\n",
       "<th>book_count</th></tr><tr class=odd><td class=val><a href=\"http://dbpedia.org/resource/Daniel_Carter_Beard\" target=\"_other\">http://dbpedia.org/resource/Daniel_Carter_Beard</a></td>\n",
       "<td class=val>1</td></tr><tr class=even><td class=val><a href=\"http://dbpedia.org/resource/Raymond_Smullyan\" target=\"_other\">http://dbpedia.org/resource/Raymond_Smullyan</a></td>\n",
       "<td class=val>1</td></tr><tr class=odd><td class=val><a href=\"http://dbpedia.org/resource/William_Donaldson\" target=\"_other\">http://dbpedia.org/resource/William_Donaldson</a></td>\n",
       "<td class=val>1</td></tr><tr class=even><td class=val><a href=\"http://dbpedia.org/resource/Joe_Conason\" target=\"_other\">http://dbpedia.org/resource/Joe_Conason</a></td>\n",
       "<td class=val>1</td></tr><tr class=odd><td class=val><a href=\"http://dbpedia.org/resource/John_Lennon\" target=\"_other\">http://dbpedia.org/resource/John_Lennon</a></td>\n",
       "<td class=val>3</td></tr><tr class=even><td class=val><a href=\"http://dbpedia.org/resource/Jürgen_Habermas\" target=\"_other\">http://dbpedia.org/resource/Jürgen_Habermas</a></td>\n",
       "<td class=val>8</td></tr><tr class=odd><td class=val><a href=\"http://dbpedia.org/resource/Robert_Nathan\" target=\"_other\">http://dbpedia.org/resource/Robert_Nathan</a></td>\n",
       "<td class=val>1</td></tr><tr class=even><td class=val><a href=\"http://dbpedia.org/resource/J._P._Martin\" target=\"_other\">http://dbpedia.org/resource/J._P._Martin</a></td>\n",
       "<td class=val>6</td></tr><tr class=odd><td class=val><a href=\"http://dbpedia.org/resource/Anthony_Everitt\" target=\"_other\">http://dbpedia.org/resource/Anthony_Everitt</a></td>\n",
       "<td class=val>1</td></tr><tr class=even><td class=val><a href=\"http://dbpedia.org/resource/Arthur_R.G._Solmssen\" target=\"_other\">http://dbpedia.org/resource/Arthur_R.G._Solmssen</a></td>\n",
       "<td class=val>1</td></tr></table><div class=\"tinfo\">Total: 10, Shown: 10</div></div>"
      ]
     },
     "metadata": {},
     "output_type": "display_data"
    }
   ],
   "source": [
    "PREFIX dbo:<http://dbpedia.org/ontology/>\n",
    "SELECT ?author (count(?book) as ?book_count)\n",
    "WHERE {\n",
    "    ?book a dbo:Book ;\n",
    "        dbo:author ?author .\n",
    "} LIMIT 10"
   ]
  },
  {
   "cell_type": "markdown",
   "metadata": {
    "slideshow": {
     "slide_type": "slide"
    }
   },
   "source": [
    "# 11. Return results from different patterns\n",
    "\n",
    "Use `UNION` to return the books name wherever it is defined with `rdfs:label` or `dbp:name`:"
   ]
  },
  {
   "cell_type": "code",
   "execution_count": 31,
   "metadata": {
    "slideshow": {
     "slide_type": "fragment"
    }
   },
   "outputs": [
    {
     "data": {
      "text/html": [
       "<div class=\"krn-spql\"><table><tr class=hdr><th>book</th>\n",
       "<th>name</th></tr><tr class=odd><td class=val><a href=\"http://dbpedia.org/resource/Alphabetum_grandonico-malabaricum_sive_samscrudonicum\" target=\"_other\">http://dbpedia.org/resource/Alphabetum_grandonico-malabaricum_sive_samscrudonicum</a></td>\n",
       "<td class=val>Alphabetum grandonico-malabaricum sive samscrudonicum</td></tr><tr class=even><td class=val><a href=\"http://dbpedia.org/resource/Les_grands_cimetières_sous_la_lune\" target=\"_other\">http://dbpedia.org/resource/Les_grands_cimetières_sous_la_lune</a></td>\n",
       "<td class=val>Les grands cimetières sous la lune</td></tr><tr class=odd><td class=val><a href=\"http://dbpedia.org/resource/L'Art_d'être_grand-père\" target=\"_other\">http://dbpedia.org/resource/L'Art_d'être_grand-père</a></td>\n",
       "<td class=val>L'Art d'être grand-père</td></tr><tr class=even><td class=val><a href=\"http://dbpedia.org/resource/La_Cour_des_grands\" target=\"_other\">http://dbpedia.org/resource/La_Cour_des_grands</a></td>\n",
       "<td class=val>La Cour des grands</td></tr><tr class=odd><td class=val><a href=\"http://dbpedia.org/resource/Plame_affair_grand_jury_investigation\" target=\"_other\">http://dbpedia.org/resource/Plame_affair_grand_jury_investigation</a></td>\n",
       "<td class=val>Plame affair grand jury investigation</td></tr><tr class=even><td class=val><a href=\"http://dbpedia.org/resource/Servitude_et_grandeur_militaires\" target=\"_other\">http://dbpedia.org/resource/Servitude_et_grandeur_militaires</a></td>\n",
       "<td class=val>Servitude et grandeur militaires</td></tr><tr class=odd><td class=val><a href=\"http://dbpedia.org/resource/My_Grandfather_Would_Have_Shot_Me\" target=\"_other\">http://dbpedia.org/resource/My_Grandfather_Would_Have_Shot_Me</a></td>\n",
       "<td class=val>Jennifer Teege , My grandfather would have shot me : a Black woman discovers her family's Nazi past</td></tr></table><div class=\"tinfo\">Total: 7, Shown: 7</div></div>"
      ]
     },
     "metadata": {},
     "output_type": "display_data"
    }
   ],
   "source": [
    "PREFIX dbp: <http://dbpedia.org/property/>\n",
    "PREFIX dbo:<http://dbpedia.org/ontology/>\n",
    "PREFIX rdfs: <http://www.w3.org/2000/01/rdf-schema#>\n",
    "SELECT ?book ?name\n",
    "WHERE {\n",
    "    {\n",
    "        ?book a dbo:Book ;\n",
    "            rdfs:label ?name .\n",
    "        FILTER (langMatches(lang(?name),\"en\"))\n",
    "    } UNION {\n",
    "        ?book a dbo:Book ;\n",
    "            dbp:name ?name .\n",
    "    }\n",
    "    FILTER (contains(str(?name), \"grand\"))\n",
    "}"
   ]
  },
  {
   "cell_type": "markdown",
   "metadata": {
    "slideshow": {
     "slide_type": "subslide"
    }
   },
   "source": [
    "# Without UNION\n",
    "\n",
    "For `rdfs:label` only 6 results\n",
    "\n",
    "> Check how many results for `dbp:name`"
   ]
  },
  {
   "cell_type": "code",
   "execution_count": 32,
   "metadata": {
    "slideshow": {
     "slide_type": "fragment"
    }
   },
   "outputs": [
    {
     "data": {
      "text/html": [
       "<div class=\"krn-spql\"><table><tr class=hdr><th>book</th>\n",
       "<th>name</th></tr><tr class=odd><td class=val><a href=\"http://dbpedia.org/resource/Alphabetum_grandonico-malabaricum_sive_samscrudonicum\" target=\"_other\">http://dbpedia.org/resource/Alphabetum_grandonico-malabaricum_sive_samscrudonicum</a></td>\n",
       "<td class=val>Alphabetum grandonico-malabaricum sive samscrudonicum</td></tr><tr class=even><td class=val><a href=\"http://dbpedia.org/resource/Les_grands_cimetières_sous_la_lune\" target=\"_other\">http://dbpedia.org/resource/Les_grands_cimetières_sous_la_lune</a></td>\n",
       "<td class=val>Les grands cimetières sous la lune</td></tr><tr class=odd><td class=val><a href=\"http://dbpedia.org/resource/L'Art_d'être_grand-père\" target=\"_other\">http://dbpedia.org/resource/L'Art_d'être_grand-père</a></td>\n",
       "<td class=val>L'Art d'être grand-père</td></tr><tr class=even><td class=val><a href=\"http://dbpedia.org/resource/La_Cour_des_grands\" target=\"_other\">http://dbpedia.org/resource/La_Cour_des_grands</a></td>\n",
       "<td class=val>La Cour des grands</td></tr><tr class=odd><td class=val><a href=\"http://dbpedia.org/resource/Plame_affair_grand_jury_investigation\" target=\"_other\">http://dbpedia.org/resource/Plame_affair_grand_jury_investigation</a></td>\n",
       "<td class=val>Plame affair grand jury investigation</td></tr><tr class=even><td class=val><a href=\"http://dbpedia.org/resource/Servitude_et_grandeur_militaires\" target=\"_other\">http://dbpedia.org/resource/Servitude_et_grandeur_militaires</a></td>\n",
       "<td class=val>Servitude et grandeur militaires</td></tr></table><div class=\"tinfo\">Total: 6, Shown: 6</div></div>"
      ]
     },
     "metadata": {},
     "output_type": "display_data"
    }
   ],
   "source": [
    "PREFIX dbp: <http://dbpedia.org/property/>\n",
    "PREFIX dbo:<http://dbpedia.org/ontology/>\n",
    "PREFIX rdfs: <http://www.w3.org/2000/01/rdf-schema#>\n",
    "SELECT ?book ?name\n",
    "WHERE {\n",
    "    ?book a dbo:Book ;\n",
    "        rdfs:label ?name .\n",
    "    FILTER (langMatches(lang(?name),\"en\"))\n",
    "    FILTER (contains(str(?name), \"grand\"))\n",
    "}"
   ]
  },
  {
   "cell_type": "markdown",
   "metadata": {
    "slideshow": {
     "slide_type": "slide"
    }
   },
   "source": [
    "# Search on DBpedia 🔎\n",
    "\n",
    "Use **[https://yasgui.triply.cc](https://yasgui.triply.cc)** to write and run SPARQL queries on the DBpedia RDF graph to retrieve the following answers below:\n",
    "\n",
    "1. List 10 authors and the capital cities ([dbo:capital](http://dbpedia.org/ontology/capital)) of the countries in which they were born ([dbo:birthPlace](http://dbpedia.org/ontology/birthPlace))\n",
    "\n",
    "2. The number of authors for the book that has the **English** title: \"1066 and All That\"\n",
    "\n",
    "3. All books with a name in **English** starting with \"http\" (ignore the case)\n",
    "\n",
    "4. A list of all the unique book categories (dct:subject) for all short books (less than 300 pages) written by authors who were born in Amsterdam\n",
    "\n",
    "* **Search for functions in the specifications: https://www.w3.org/TR/sparql11-query**\n",
    "* How do I find vocabulary to use in my SPARQL query from DBpedia? Search in **[DBpedia ontology classes](http://mappings.dbpedia.org/server/ontology/classes/)**, or on google, e.g., search for: \"**[dbpedia capital](https://www.google.com/search?&q=dbpedia+capital)**\"\n"
   ]
  },
  {
   "cell_type": "markdown",
   "metadata": {},
   "source": []
  },
  {
   "cell_type": "markdown",
   "metadata": {
    "slideshow": {
     "slide_type": "slide"
    }
   },
   "source": [
    "# Examples of other public SPARQL endpoints 🔗\n",
    "\n",
    "* Wikidata, facts powering Wikipedia infobox: https://query.wikidata.org/sparql\n",
    "* Bio2RDF, linked data for the life sciences: https://bio2rdf.org/sparql\n",
    "* Disgenet, gene-disease association: http://rdf.disgenet.org/sparql\n",
    "* PathwayCommons, resource for biological pathways analysis: http://rdf.pathwaycommons.org/sparql\n",
    "* EU publications office, court decisions and legislative documents from the EU: http://publications.europa.eu/webapi/rdf/sparql\n",
    "* Finland legal open data, cases and legislation: https://data.finlex.fi/en/sparql \n",
    "\n",
    "# Other interesting links\n",
    "\n",
    "* Wikidata SPARQL queries around the SARS-CoV-2 virus and pandemic: https://egonw.github.io/SARS-CoV-2-Queries\n",
    "* Use [prefix.cc](http://prefix.cc/) to discover the full IRIs for unknown prefixes you may encounter"
   ]
  }
 ],
 "metadata": {
  "kernelspec": {
   "display_name": "SPARQL",
   "language": "sparql",
   "name": "sparql"
  },
  "language_info": {
   "codemirror_mode": {
    "name": "sparql"
   },
   "mimetype": "application/sparql-query",
   "name": "sparql",
   "pygments_lexer": "sparql-nb"
  }
 },
 "nbformat": 4,
 "nbformat_minor": 4
}
